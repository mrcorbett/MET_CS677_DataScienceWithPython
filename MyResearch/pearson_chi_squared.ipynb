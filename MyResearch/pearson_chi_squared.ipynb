{
 "cells": [
  {
   "cell_type": "markdown",
   "metadata": {},
   "source": [
    "# A Gentle Introduction to the Chi-Squared Test for Machine Learning\n",
    "\n",
    "https://machinelearningmastery.com/chi-squared-test-for-machine-learning/\n"
   ]
  },
  {
   "cell_type": "code",
   "execution_count": 1,
   "metadata": {},
   "outputs": [],
   "source": [
    "# chi-squared test with similar proportions\n",
    "import pandas as pd\n",
    "from scipy.stats import chi2_contingency\n",
    "from scipy.stats import chi2\n",
    "\n"
   ]
  },
  {
   "cell_type": "code",
   "execution_count": 2,
   "metadata": {},
   "outputs": [
    {
     "name": "stdout",
     "output_type": "stream",
     "text": [
      "[[10, 20, 30], [6, 9, 17]]\n",
      "degrees-of-freedom=2\n",
      "\n",
      "expected:\n",
      "[[10.43478261 18.91304348 30.65217391]\n",
      " [ 5.56521739 10.08695652 16.34782609]]\n",
      "\n",
      "probability=0.950, critical=5.991, stat=0.272\n",
      "Independent (fail to reject H0 - test:  abs(stat) >= critical - failed\n",
      "\n",
      "alpha=0.050, p=0.873\n",
      "Independent (fail to reject H0) - test: p <= alpha - failed\n",
      "\n"
     ]
    }
   ],
   "source": [
    "# contingency table\n",
    "table = [[10, 20, 30],\n",
    "         [6,  9,  17]]\n",
    "print(table)\n",
    "\n",
    "stat, p, dof, expected = chi2_contingency(table)\n",
    "print('degrees-of-freedom=%d' % dof)\n",
    "print()\n",
    "print('expected:')\n",
    "print(expected)\n",
    "print()\n",
    "\n",
    "# interpret test-statistic\n",
    "prob = 0.95\n",
    "critical = chi2.ppf(prob, dof)\n",
    "print('probability=%.3f, critical=%.3f, stat=%.3f' % (prob, critical, stat))\n",
    "if abs(stat) >= critical:\n",
    "    print('Dependent (reject H0) - test:  abs(stat) >= critical - succeeded')\n",
    "else:\n",
    "    print('Independent (fail to reject H0 - test:  abs(stat) >= critical - failed')\n",
    "print()\n",
    "\n",
    "# interpret p-value\n",
    "alpha = 1.0 - prob\n",
    "print('alpha=%.3f, p=%.3f' % (alpha, p))\n",
    "if p <= alpha:\n",
    "    print('Dependent (reject H0) - test: p <= alpha - succeeded')\n",
    "else:\n",
    "    print('Independent (fail to reject H0) - test: p <= alpha - failed')\n",
    "print()\n"
   ]
  },
  {
   "cell_type": "code",
   "execution_count": 5,
   "metadata": {},
   "outputs": [
    {
     "name": "stdout",
     "output_type": "stream",
     "text": [
      "degrees-of-freedom=2\n",
      "\n",
      "expected:\n",
      "[[10.09230769  5.90769231]\n",
      " [ 1.26153846  0.73846154]\n",
      " [29.64615385 17.35384615]]\n",
      "\n",
      "probability=0.950, critical=5.991, stat=0.161\n",
      "Independent (fail to reject H0 - test:  abs(stat) >= critical - failed\n",
      "\n",
      "alpha=0.050, p=0.923\n",
      "Independent (fail to reject H0) - test: p <= alpha - failed\n",
      "\n",
      "1-p = 0.07714878593121588\n",
      "Independent (fail to reject H0) - test: p <= alpha - failed\n",
      "\n"
     ]
    }
   ],
   "source": [
    "class PearsonChiSquared:\n",
    "    def __init__(self, df):\n",
    "        self.df = df\n",
    "\n",
    "    def getColumns(self):\n",
    "        return self.df.columns\n",
    "    \n",
    "    def chiSquared(self, column_name1, column_name2):\n",
    "        table = self.df.xs([column_name1, column_name2], axis='columns')\n",
    "        stat, p, dof, expected = chi2_contingency(table)\n",
    "        print('degrees-of-freedom=%d' % dof)\n",
    "        print()\n",
    "        print('expected:')\n",
    "        print(expected)\n",
    "        print()\n",
    "\n",
    "        # interpret test-statistic\n",
    "        prob = 0.95\n",
    "        critical = chi2.ppf(prob, dof)\n",
    "        print('probability=%.3f, critical=%.3f, stat=%.3f' % (prob, critical, stat))\n",
    "        if abs(stat) >= critical:\n",
    "            print('Dependent (reject H0) - test:  abs(stat) >= critical - succeeded')\n",
    "        else:\n",
    "            print('Independent (fail to reject H0 - test:  abs(stat) >= critical - failed')\n",
    "        print()\n",
    "\n",
    "        # interpret p-value\n",
    "        alpha = 1.0 - prob\n",
    "        print('alpha=%.3f, p=%.3f' % (alpha, p))\n",
    "        if p <= alpha:\n",
    "            print('Dependent (reject H0) - test: p <= alpha - succeeded')\n",
    "        else:\n",
    "            print('Independent (fail to reject H0) - test: p <= alpha - failed')\n",
    "        print()\n",
    "\n",
    "        print('1-p =', 1-p)\n",
    "        if 1 - p > prob:\n",
    "            print('Dependent (reject H0) - test: p <= alpha - succeeded')\n",
    "        else:\n",
    "            print('Independent (fail to reject H0) - test: p <= alpha - failed')\n",
    "        print()\n",
    "\n",
    "# contingency table\n",
    "\n",
    "#df = pd.DataFrame({'a' : [10, 20, 30], 'b' : [6,  9,  17]})\n",
    "df = pd.DataFrame({'a' : [10, 1, 30], 'b' : [6,  1,  17]})\n",
    "pcs = PearsonChiSquared(df)\n",
    "pcs.chiSquared('a', 'b')\n"
   ]
  },
  {
   "cell_type": "code",
   "execution_count": null,
   "metadata": {},
   "outputs": [],
   "source": []
  }
 ],
 "metadata": {
  "kernelspec": {
   "display_name": "Python 3",
   "language": "python",
   "name": "python3"
  },
  "language_info": {
   "codemirror_mode": {
    "name": "ipython",
    "version": 3
   },
   "file_extension": ".py",
   "mimetype": "text/x-python",
   "name": "python",
   "nbconvert_exporter": "python",
   "pygments_lexer": "ipython3",
   "version": "3.6.6"
  }
 },
 "nbformat": 4,
 "nbformat_minor": 2
}
