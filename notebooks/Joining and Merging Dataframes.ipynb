{
 "cells": [
  {
   "cell_type": "markdown",
   "metadata": {},
   "source": [
    "# Joining and Merging Dataframes - p.6 Data Analysis with Python and Pandas Tutorial\n",
    "\n",
    "https://www.youtube.com/watch?v=XMjSGGej9y8\n",
    "\n",
    "https://www.youtube.com/watch?v=h4hOPGo4UVU"
   ]
  },
  {
   "cell_type": "markdown",
   "metadata": {},
   "source": [
    "- Use merge when index does not matter\n",
    "- Use join when index does matter\n",
    "-  Use concat or append to elongate\n",
    "\n",
    "\n",
    "- Concat gives the flexibility to join based on the axis( all rows or all columns)\n",
    "- Append is the specific case(axis=0, join='outer') of concat.\n",
    "- Join is based on the indexes (set by set_index) on how variable =['left','right','inner','couter']\n"
   ]
  },
  {
   "cell_type": "markdown",
   "metadata": {},
   "source": [
    "## Functions Covered\n",
    "\n",
    "pd.merge(df1, df2, on='HPI')\n",
    "\n",
    "pd.merge(df1, df2, on=['HPI', 'Int_Rate'])\n",
    "\n",
    "---\n",
    "\n",
    "df1.set_index('HPI', inplace=True)\n",
    "\n",
    "df3.set_index('HPI', inplace=True)\n",
    "\n",
    "\"Now the dataframes share an index but no columns.  Important for join\"\n",
    "\n",
    "joined = df1.join(df3)\n",
    "\n",
    "---\n",
    "\n",
    "merged = pd.merge(df4, df5, on = 'Year', how='inner', indicator=True)\n",
    "\n",
    "merged.set_index('Year', inplace=True)\n",
    "\n",
    "---\n",
    "\n",
    "merged = pd.merge(df4, df5, on = 'Year', how='outer', indicator=True)\n",
    "\n",
    "merged.set_index('Year', inplace=True)\n",
    "\n",
    "---\n",
    "\n",
    "pd.merge(df6, df7, on='city')\n",
    "\n",
    "pd.merge(df6, df7, on='city', suffixes=['_left', '_right'])"
   ]
  },
  {
   "cell_type": "code",
   "execution_count": 7,
   "metadata": {},
   "outputs": [
    {
     "name": "stdout",
     "output_type": "stream",
     "text": [
      "      HPI  Int_Rate  US_GDP_Thousands\n",
      "2001   80         2                50\n",
      "2002   85         3                55\n",
      "2003   88         2                65\n",
      "2004   85         2                55\n",
      "      HPI  Int_Rate  US_GDP_Thousands\n",
      "2005   80         2                50\n",
      "2006   85         3                55\n",
      "2007   88         2                65\n",
      "2008   85         2                55\n",
      "      HPI  Unemployment  Low_tier_HPI\n",
      "2001   80             7            50\n",
      "2002   85             8            52\n",
      "2003   88             9            50\n",
      "2004   85             6            53\n"
     ]
    }
   ],
   "source": [
    "import pandas as pd\n",
    "\n",
    "df1 = pd.DataFrame({\n",
    "    'HPI' : [80, 85, 88, 85],\n",
    "    'Int_Rate' : [2, 3, 2, 2],\n",
    "    'US_GDP_Thousands' : [50, 55, 65, 55]},\n",
    "    index = [2001, 2002, 2003, 2004])\n",
    "print(df1)\n",
    "\n",
    "df2 = pd.DataFrame({\n",
    "    'HPI' : [80, 85, 88, 85],\n",
    "    'Int_Rate' : [2, 3, 2, 2],\n",
    "    'US_GDP_Thousands' : [50, 55, 65, 55]},\n",
    "    index = [2005, 2006, 2007, 2008])\n",
    "print(df2)\n",
    "\n",
    "df3 = pd.DataFrame({\n",
    "    'HPI' : [80, 85, 88, 85],\n",
    "    'Unemployment' : [7, 8, 9, 6],\n",
    "    'Low_tier_HPI' : [50, 52, 50, 53]},\n",
    "    index = [2001, 2002, 2003, 2004])\n",
    "print(df3)"
   ]
  },
  {
   "cell_type": "code",
   "execution_count": 10,
   "metadata": {},
   "outputs": [
    {
     "data": {
      "text/html": [
       "<div>\n",
       "<style scoped>\n",
       "    .dataframe tbody tr th:only-of-type {\n",
       "        vertical-align: middle;\n",
       "    }\n",
       "\n",
       "    .dataframe tbody tr th {\n",
       "        vertical-align: top;\n",
       "    }\n",
       "\n",
       "    .dataframe thead th {\n",
       "        text-align: right;\n",
       "    }\n",
       "</style>\n",
       "<table border=\"1\" class=\"dataframe\">\n",
       "  <thead>\n",
       "    <tr style=\"text-align: right;\">\n",
       "      <th></th>\n",
       "      <th>HPI</th>\n",
       "      <th>Int_Rate_x</th>\n",
       "      <th>US_GDP_Thousands_x</th>\n",
       "      <th>Int_Rate_y</th>\n",
       "      <th>US_GDP_Thousands_y</th>\n",
       "    </tr>\n",
       "  </thead>\n",
       "  <tbody>\n",
       "    <tr>\n",
       "      <td>0</td>\n",
       "      <td>80</td>\n",
       "      <td>2</td>\n",
       "      <td>50</td>\n",
       "      <td>2</td>\n",
       "      <td>50</td>\n",
       "    </tr>\n",
       "    <tr>\n",
       "      <td>1</td>\n",
       "      <td>85</td>\n",
       "      <td>3</td>\n",
       "      <td>55</td>\n",
       "      <td>3</td>\n",
       "      <td>55</td>\n",
       "    </tr>\n",
       "    <tr>\n",
       "      <td>2</td>\n",
       "      <td>85</td>\n",
       "      <td>3</td>\n",
       "      <td>55</td>\n",
       "      <td>2</td>\n",
       "      <td>55</td>\n",
       "    </tr>\n",
       "    <tr>\n",
       "      <td>3</td>\n",
       "      <td>85</td>\n",
       "      <td>2</td>\n",
       "      <td>55</td>\n",
       "      <td>3</td>\n",
       "      <td>55</td>\n",
       "    </tr>\n",
       "    <tr>\n",
       "      <td>4</td>\n",
       "      <td>85</td>\n",
       "      <td>2</td>\n",
       "      <td>55</td>\n",
       "      <td>2</td>\n",
       "      <td>55</td>\n",
       "    </tr>\n",
       "    <tr>\n",
       "      <td>5</td>\n",
       "      <td>88</td>\n",
       "      <td>2</td>\n",
       "      <td>65</td>\n",
       "      <td>2</td>\n",
       "      <td>65</td>\n",
       "    </tr>\n",
       "  </tbody>\n",
       "</table>\n",
       "</div>"
      ],
      "text/plain": [
       "   HPI  Int_Rate_x  US_GDP_Thousands_x  Int_Rate_y  US_GDP_Thousands_y\n",
       "0   80           2                  50           2                  50\n",
       "1   85           3                  55           3                  55\n",
       "2   85           3                  55           2                  55\n",
       "3   85           2                  55           3                  55\n",
       "4   85           2                  55           2                  55\n",
       "5   88           2                  65           2                  65"
      ]
     },
     "execution_count": 10,
     "metadata": {},
     "output_type": "execute_result"
    }
   ],
   "source": [
    "pd.merge(df1, df2, on='HPI')\n",
    "\n",
    "# If you do set the on variable, the merge will choose columns with\n",
    "# the same names and use those as the on variable.\n",
    "\n",
    "# df1[HPI] = 80  Matches 1 in df2[HPI]\n",
    "# df1[HPI] = 85  Matches 2 in df2[HPI]\n",
    "# df1[HPI] = 88  Matches 1 in df2[HPI]\n",
    "# df1[HPI] = 85  Matches 2 in df2[HPI]\n",
    "#\n",
    "# Total matches = 6"
   ]
  },
  {
   "cell_type": "code",
   "execution_count": 9,
   "metadata": {},
   "outputs": [
    {
     "data": {
      "text/html": [
       "<div>\n",
       "<style scoped>\n",
       "    .dataframe tbody tr th:only-of-type {\n",
       "        vertical-align: middle;\n",
       "    }\n",
       "\n",
       "    .dataframe tbody tr th {\n",
       "        vertical-align: top;\n",
       "    }\n",
       "\n",
       "    .dataframe thead th {\n",
       "        text-align: right;\n",
       "    }\n",
       "</style>\n",
       "<table border=\"1\" class=\"dataframe\">\n",
       "  <thead>\n",
       "    <tr style=\"text-align: right;\">\n",
       "      <th></th>\n",
       "      <th>HPI</th>\n",
       "      <th>Int_Rate</th>\n",
       "      <th>US_GDP_Thousands_x</th>\n",
       "      <th>US_GDP_Thousands_y</th>\n",
       "    </tr>\n",
       "  </thead>\n",
       "  <tbody>\n",
       "    <tr>\n",
       "      <td>0</td>\n",
       "      <td>80</td>\n",
       "      <td>2</td>\n",
       "      <td>50</td>\n",
       "      <td>50</td>\n",
       "    </tr>\n",
       "    <tr>\n",
       "      <td>1</td>\n",
       "      <td>85</td>\n",
       "      <td>3</td>\n",
       "      <td>55</td>\n",
       "      <td>55</td>\n",
       "    </tr>\n",
       "    <tr>\n",
       "      <td>2</td>\n",
       "      <td>88</td>\n",
       "      <td>2</td>\n",
       "      <td>65</td>\n",
       "      <td>65</td>\n",
       "    </tr>\n",
       "    <tr>\n",
       "      <td>3</td>\n",
       "      <td>85</td>\n",
       "      <td>2</td>\n",
       "      <td>55</td>\n",
       "      <td>55</td>\n",
       "    </tr>\n",
       "  </tbody>\n",
       "</table>\n",
       "</div>"
      ],
      "text/plain": [
       "   HPI  Int_Rate  US_GDP_Thousands_x  US_GDP_Thousands_y\n",
       "0   80         2                  50                  50\n",
       "1   85         3                  55                  55\n",
       "2   88         2                  65                  65\n",
       "3   85         2                  55                  55"
      ]
     },
     "execution_count": 9,
     "metadata": {},
     "output_type": "execute_result"
    }
   ],
   "source": [
    "pd.merge(df1, df2, on=['HPI', 'Int_Rate'])\n",
    "\n",
    "# df1[HPI, Int_Rate] = 80,2  Matches 1 in df2[HPI, Int_Rate]\n",
    "# df1[HPI, Int_Rate] = 85,3  Matches 1 in df2[HPI, Int_Rate]\n",
    "# df1[HPI, Int_Rate] = 88,2  Matches 1 in df2[HPI, Int_Rate]\n",
    "# df1[HPI, Int_Rate] = 85,2  Matches 1 in df2[HPI, Int_Rate]"
   ]
  },
  {
   "cell_type": "code",
   "execution_count": 11,
   "metadata": {},
   "outputs": [
    {
     "name": "stdout",
     "output_type": "stream",
     "text": [
      "     Int_Rate  US_GDP_Thousands  Unemployment  Low_tier_HPI\n",
      "HPI                                                        \n",
      "80          2                50             7            50\n",
      "85          3                55             8            52\n",
      "85          3                55             6            53\n",
      "85          2                55             8            52\n",
      "85          2                55             6            53\n",
      "88          2                65             9            50\n"
     ]
    }
   ],
   "source": [
    "df1.set_index('HPI', inplace=True)\n",
    "df3.set_index('HPI', inplace=True)\n",
    "\n",
    "# Now the dataframes share an index but no columns.  Important for join\n",
    "joined = df1.join(df3)\n",
    "print(joined)"
   ]
  },
  {
   "cell_type": "code",
   "execution_count": 14,
   "metadata": {},
   "outputs": [
    {
     "name": "stdout",
     "output_type": "stream",
     "text": [
      "   Year  Int_Rate  US_GDP_Thousands\n",
      "0  2001         2                50\n",
      "1  2002         3                55\n",
      "2  2003         2                65\n",
      "3  2004         2                55\n",
      "   Year  Unemployment  Low_tier_HPI\n",
      "0  2001             7            50\n",
      "1  2003             8            52\n",
      "2  2004             9            50\n",
      "3  2005             6            53\n"
     ]
    }
   ],
   "source": [
    "df4 = pd.DataFrame({\n",
    "    'Year' : [2001, 2002, 2003, 2004],\n",
    "    'Int_Rate' : [2, 3, 2, 2],\n",
    "    'US_GDP_Thousands' : [50, 55, 65, 55]})\n",
    "print(df4)\n",
    "\n",
    "\n",
    "df5 = pd.DataFrame({\n",
    "    'Year' : [2001, 2003, 2004, 2005],\n",
    "    'Unemployment' : [7, 8, 9, 6],\n",
    "    'Low_tier_HPI' : [50, 52, 50, 53]})\n",
    "print(df5)"
   ]
  },
  {
   "cell_type": "code",
   "execution_count": 19,
   "metadata": {},
   "outputs": [
    {
     "name": "stdout",
     "output_type": "stream",
     "text": [
      "      Int_Rate  US_GDP_Thousands  Unemployment  Low_tier_HPI _merge\n",
      "Year                                                               \n",
      "2001         2                50             7            50   both\n",
      "2003         2                65             8            52   both\n",
      "2004         2                55             9            50   both\n"
     ]
    }
   ],
   "source": [
    "merged = pd.merge(df4, df5, on = 'Year', how='inner', indicator=True)\n",
    "merged.set_index('Year', inplace=True)\n",
    "print(merged)"
   ]
  },
  {
   "cell_type": "code",
   "execution_count": 20,
   "metadata": {},
   "outputs": [
    {
     "name": "stdout",
     "output_type": "stream",
     "text": [
      "      Int_Rate  US_GDP_Thousands  Unemployment  Low_tier_HPI      _merge\n",
      "Year                                                                    \n",
      "2001       2.0              50.0           7.0          50.0        both\n",
      "2002       3.0              55.0           NaN           NaN   left_only\n",
      "2003       2.0              65.0           8.0          52.0        both\n",
      "2004       2.0              55.0           9.0          50.0        both\n",
      "2005       NaN               NaN           6.0          53.0  right_only\n"
     ]
    }
   ],
   "source": [
    "merged = pd.merge(df4, df5, on = 'Year', how='outer', indicator=True)\n",
    "merged.set_index('Year', inplace=True)\n",
    "print(merged)"
   ]
  },
  {
   "cell_type": "markdown",
   "metadata": {},
   "source": [
    "# Left, Right, Outer, Inner merges\n",
    "\n",
    "how = 'left' merge based on df4 keys\n",
    "\n",
    "how = 'right' merge based on df5 keys\n",
    "\n",
    "how = 'outer' merge based on union of df4 & df5 keys\n",
    "\n",
    "how = 'inner' merge based on intersection of df4 & df5 keys (default)\n"
   ]
  },
  {
   "cell_type": "code",
   "execution_count": 23,
   "metadata": {},
   "outputs": [
    {
     "name": "stdout",
     "output_type": "stream",
     "text": [
      "        city  temperature  humidity\n",
      "0   new york           21        65\n",
      "1    chicago           14        68\n",
      "2    orlando           35        71\n",
      "3  baltimore           36        75 \n",
      "\n",
      "         city  temperature  humidity\n",
      "0    chicago           21        65\n",
      "1   new york           14        68\n",
      "2  san diego           35        71\n"
     ]
    }
   ],
   "source": [
    "df6 = pd.DataFrame({\n",
    "    'city' : ['new york', 'chicago', 'orlando', 'baltimore'],\n",
    "    'temperature' : [21, 14, 35, 36],\n",
    "    'humidity' : [65, 68, 71, 75]})\n",
    "df7 = pd.DataFrame({\n",
    "    'city' : ['chicago', 'new york', 'san diego'],\n",
    "    'temperature' : [21, 14, 35],\n",
    "    'humidity' : [65, 68, 71]})\n",
    "print(df6)\n",
    "print()\n",
    "print(df7)"
   ]
  },
  {
   "cell_type": "code",
   "execution_count": 24,
   "metadata": {},
   "outputs": [
    {
     "data": {
      "text/html": [
       "<div>\n",
       "<style scoped>\n",
       "    .dataframe tbody tr th:only-of-type {\n",
       "        vertical-align: middle;\n",
       "    }\n",
       "\n",
       "    .dataframe tbody tr th {\n",
       "        vertical-align: top;\n",
       "    }\n",
       "\n",
       "    .dataframe thead th {\n",
       "        text-align: right;\n",
       "    }\n",
       "</style>\n",
       "<table border=\"1\" class=\"dataframe\">\n",
       "  <thead>\n",
       "    <tr style=\"text-align: right;\">\n",
       "      <th></th>\n",
       "      <th>city</th>\n",
       "      <th>temperature_x</th>\n",
       "      <th>humidity_x</th>\n",
       "      <th>temperature_y</th>\n",
       "      <th>humidity_y</th>\n",
       "    </tr>\n",
       "  </thead>\n",
       "  <tbody>\n",
       "    <tr>\n",
       "      <td>0</td>\n",
       "      <td>new york</td>\n",
       "      <td>21</td>\n",
       "      <td>65</td>\n",
       "      <td>14</td>\n",
       "      <td>68</td>\n",
       "    </tr>\n",
       "    <tr>\n",
       "      <td>1</td>\n",
       "      <td>chicago</td>\n",
       "      <td>14</td>\n",
       "      <td>68</td>\n",
       "      <td>21</td>\n",
       "      <td>65</td>\n",
       "    </tr>\n",
       "  </tbody>\n",
       "</table>\n",
       "</div>"
      ],
      "text/plain": [
       "       city  temperature_x  humidity_x  temperature_y  humidity_y\n",
       "0  new york             21          65             14          68\n",
       "1   chicago             14          68             21          65"
      ]
     },
     "execution_count": 24,
     "metadata": {},
     "output_type": "execute_result"
    }
   ],
   "source": [
    "pd.merge(df6, df7, on='city')"
   ]
  },
  {
   "cell_type": "code",
   "execution_count": 25,
   "metadata": {},
   "outputs": [
    {
     "data": {
      "text/html": [
       "<div>\n",
       "<style scoped>\n",
       "    .dataframe tbody tr th:only-of-type {\n",
       "        vertical-align: middle;\n",
       "    }\n",
       "\n",
       "    .dataframe tbody tr th {\n",
       "        vertical-align: top;\n",
       "    }\n",
       "\n",
       "    .dataframe thead th {\n",
       "        text-align: right;\n",
       "    }\n",
       "</style>\n",
       "<table border=\"1\" class=\"dataframe\">\n",
       "  <thead>\n",
       "    <tr style=\"text-align: right;\">\n",
       "      <th></th>\n",
       "      <th>city</th>\n",
       "      <th>temperature_left</th>\n",
       "      <th>humidity_left</th>\n",
       "      <th>temperature_right</th>\n",
       "      <th>humidity_right</th>\n",
       "    </tr>\n",
       "  </thead>\n",
       "  <tbody>\n",
       "    <tr>\n",
       "      <td>0</td>\n",
       "      <td>new york</td>\n",
       "      <td>21</td>\n",
       "      <td>65</td>\n",
       "      <td>14</td>\n",
       "      <td>68</td>\n",
       "    </tr>\n",
       "    <tr>\n",
       "      <td>1</td>\n",
       "      <td>chicago</td>\n",
       "      <td>14</td>\n",
       "      <td>68</td>\n",
       "      <td>21</td>\n",
       "      <td>65</td>\n",
       "    </tr>\n",
       "  </tbody>\n",
       "</table>\n",
       "</div>"
      ],
      "text/plain": [
       "       city  temperature_left  humidity_left  temperature_right  \\\n",
       "0  new york                21             65                 14   \n",
       "1   chicago                14             68                 21   \n",
       "\n",
       "   humidity_right  \n",
       "0              68  \n",
       "1              65  "
      ]
     },
     "execution_count": 25,
     "metadata": {},
     "output_type": "execute_result"
    }
   ],
   "source": [
    "pd.merge(df6, df7, on='city', suffixes=['_left', '_right'])"
   ]
  }
 ],
 "metadata": {
  "kernelspec": {
   "display_name": "Python 3",
   "language": "python",
   "name": "python3"
  },
  "language_info": {
   "codemirror_mode": {
    "name": "ipython",
    "version": 3
   },
   "file_extension": ".py",
   "mimetype": "text/x-python",
   "name": "python",
   "nbconvert_exporter": "python",
   "pygments_lexer": "ipython3",
   "version": "3.6.6"
  }
 },
 "nbformat": 4,
 "nbformat_minor": 2
}
