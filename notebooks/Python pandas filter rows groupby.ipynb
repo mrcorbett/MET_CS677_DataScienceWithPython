{
 "cells": [
  {
   "attachments": {},
   "cell_type": "markdown",
   "metadata": {},
   "source": [
    "# Python pandas filter rows groupby\n",
    "\n",
    "https://www.youtube.com/watch?v=EgSM6gA1Qjg\n"
   ]
  },
  {
   "cell_type": "code",
   "execution_count": 8,
   "metadata": {},
   "outputs": [
    {
     "data": {
      "text/html": [
       "<div>\n",
       "<style scoped>\n",
       "    .dataframe tbody tr th:only-of-type {\n",
       "        vertical-align: middle;\n",
       "    }\n",
       "\n",
       "    .dataframe tbody tr th {\n",
       "        vertical-align: top;\n",
       "    }\n",
       "\n",
       "    .dataframe thead th {\n",
       "        text-align: right;\n",
       "    }\n",
       "</style>\n",
       "<table border=\"1\" class=\"dataframe\">\n",
       "  <thead>\n",
       "    <tr style=\"text-align: right;\">\n",
       "      <th></th>\n",
       "      <th>Country</th>\n",
       "      <th>Apple</th>\n",
       "      <th>Banana</th>\n",
       "      <th>Beans</th>\n",
       "      <th>Broccoli</th>\n",
       "      <th>Carrots</th>\n",
       "      <th>Mango</th>\n",
       "      <th>Orange</th>\n",
       "      <th>Total</th>\n",
       "    </tr>\n",
       "  </thead>\n",
       "  <tbody>\n",
       "    <tr>\n",
       "      <td>0</td>\n",
       "      <td>Australia</td>\n",
       "      <td>20634</td>\n",
       "      <td>52721</td>\n",
       "      <td>14433</td>\n",
       "      <td>17953</td>\n",
       "      <td>8106</td>\n",
       "      <td>9186</td>\n",
       "      <td>8680</td>\n",
       "      <td>131713</td>\n",
       "    </tr>\n",
       "    <tr>\n",
       "      <td>1</td>\n",
       "      <td>Canada</td>\n",
       "      <td>24867</td>\n",
       "      <td>33775</td>\n",
       "      <td>547</td>\n",
       "      <td>12407</td>\n",
       "      <td>222</td>\n",
       "      <td>3767</td>\n",
       "      <td>19929</td>\n",
       "      <td>95514</td>\n",
       "    </tr>\n",
       "    <tr>\n",
       "      <td>2</td>\n",
       "      <td>France</td>\n",
       "      <td>80193</td>\n",
       "      <td>36094</td>\n",
       "      <td>680</td>\n",
       "      <td>5341</td>\n",
       "      <td>9104</td>\n",
       "      <td>7388</td>\n",
       "      <td>2256</td>\n",
       "      <td>141056</td>\n",
       "    </tr>\n",
       "    <tr>\n",
       "      <td>3</td>\n",
       "      <td>Germany</td>\n",
       "      <td>9082</td>\n",
       "      <td>39686</td>\n",
       "      <td>29905</td>\n",
       "      <td>37197</td>\n",
       "      <td>21636</td>\n",
       "      <td>8775</td>\n",
       "      <td>8887</td>\n",
       "      <td>155168</td>\n",
       "    </tr>\n",
       "    <tr>\n",
       "      <td>4</td>\n",
       "      <td>New Zealand</td>\n",
       "      <td>10332</td>\n",
       "      <td>40050</td>\n",
       "      <td>345</td>\n",
       "      <td>4390</td>\n",
       "      <td>23</td>\n",
       "      <td>782</td>\n",
       "      <td>12010</td>\n",
       "      <td>67932</td>\n",
       "    </tr>\n",
       "    <tr>\n",
       "      <td>5</td>\n",
       "      <td>United Kingdom</td>\n",
       "      <td>17534</td>\n",
       "      <td>42908</td>\n",
       "      <td>5100</td>\n",
       "      <td>38436</td>\n",
       "      <td>41815</td>\n",
       "      <td>5600</td>\n",
       "      <td>21744</td>\n",
       "      <td>173137</td>\n",
       "    </tr>\n",
       "    <tr>\n",
       "      <td>6</td>\n",
       "      <td>United States</td>\n",
       "      <td>28615</td>\n",
       "      <td>95061</td>\n",
       "      <td>7163</td>\n",
       "      <td>26715</td>\n",
       "      <td>56284</td>\n",
       "      <td>22363</td>\n",
       "      <td>30932</td>\n",
       "      <td>267133</td>\n",
       "    </tr>\n",
       "  </tbody>\n",
       "</table>\n",
       "</div>"
      ],
      "text/plain": [
       "          Country  Apple  Banana  Beans  Broccoli  Carrots  Mango  Orange  \\\n",
       "0       Australia  20634   52721  14433     17953     8106   9186    8680   \n",
       "1          Canada  24867   33775    547     12407      222   3767   19929   \n",
       "2          France  80193   36094    680      5341     9104   7388    2256   \n",
       "3         Germany   9082   39686  29905     37197    21636   8775    8887   \n",
       "4     New Zealand  10332   40050    345      4390       23    782   12010   \n",
       "5  United Kingdom  17534   42908   5100     38436    41815   5600   21744   \n",
       "6   United States  28615   95061   7163     26715    56284  22363   30932   \n",
       "\n",
       "    Total  \n",
       "0  131713  \n",
       "1   95514  \n",
       "2  141056  \n",
       "3  155168  \n",
       "4   67932  \n",
       "5  173137  \n",
       "6  267133  "
      ]
     },
     "execution_count": 8,
     "metadata": {},
     "output_type": "execute_result"
    }
   ],
   "source": [
    "df = pd.DataFrame({\n",
    "    'Country' : ['Australia', 'Canada', 'France', 'Germany', 'New Zealand', 'United Kingdom', 'United States'],\n",
    "    'Apple' : [20634, 24867, 80193, 9082, 10332, 17534, 28615],\n",
    "    'Banana' : [52721, 33775, 36094, 39686, 40050, 42908, 95061],\n",
    "    'Beans' : [14433, 547, 680, 29905, 345, 5100, 7163],\n",
    "    'Broccoli' : [17953, 12407, 5341, 37197, 4390, 38436, 26715],\n",
    "    'Carrots' : [8106, 222, 9104, 21636, 23, 41815, 56284],\n",
    "    'Mango' : [9186, 3767, 7388, 8775, 782, 5600, 22363],\n",
    "    'Orange' : [8680, 19929, 2256, 8887, 12010, 21744, 30932],\n",
    "    'Total' : [131713, 95514, 141056, 155168, 67932, 173137, 267133] })\n",
    "df"
   ]
  },
  {
   "cell_type": "code",
   "execution_count": 11,
   "metadata": {},
   "outputs": [
    {
     "data": {
      "text/plain": [
       "Country\n",
       "Australia         20634\n",
       "Canada            24867\n",
       "France            80193\n",
       "Germany            9082\n",
       "New Zealand       10332\n",
       "United Kingdom    17534\n",
       "United States     28615\n",
       "Name: Apple, dtype: int64"
      ]
     },
     "execution_count": 11,
     "metadata": {},
     "output_type": "execute_result"
    }
   ],
   "source": [
    "fruit = df['Apple'].groupby(df['Country'])"
   ]
  },
  {
   "cell_type": "code",
   "execution_count": 12,
   "metadata": {},
   "outputs": [
    {
     "data": {
      "text/plain": [
       "0    20634\n",
       "1    24867\n",
       "2    80193\n",
       "3     9082\n",
       "4    10332\n",
       "5    17534\n",
       "6    28615\n",
       "Name: Apple, dtype: int64"
      ]
     },
     "execution_count": 12,
     "metadata": {},
     "output_type": "execute_result"
    }
   ],
   "source": [
    "fruit.head()"
   ]
  },
  {
   "cell_type": "code",
   "execution_count": 13,
   "metadata": {},
   "outputs": [
    {
     "data": {
      "text/plain": [
       "Country\n",
       "Australia         20634\n",
       "Canada            24867\n",
       "France            80193\n",
       "Germany            9082\n",
       "New Zealand       10332\n",
       "United Kingdom    17534\n",
       "United States     28615\n",
       "Name: Apple, dtype: int64"
      ]
     },
     "execution_count": 13,
     "metadata": {},
     "output_type": "execute_result"
    }
   ],
   "source": [
    "fruit.mean()"
   ]
  }
 ],
 "metadata": {
  "kernelspec": {
   "display_name": "Python 3",
   "language": "python",
   "name": "python3"
  },
  "language_info": {
   "codemirror_mode": {
    "name": "ipython",
    "version": 3
   },
   "file_extension": ".py",
   "mimetype": "text/x-python",
   "name": "python",
   "nbconvert_exporter": "python",
   "pygments_lexer": "ipython3",
   "version": "3.6.6"
  }
 },
 "nbformat": 4,
 "nbformat_minor": 2
}
