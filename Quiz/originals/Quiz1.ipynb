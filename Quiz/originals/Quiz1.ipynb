{
 "cells": [
  {
   "cell_type": "code",
   "execution_count": 1,
   "metadata": {},
   "outputs": [],
   "source": [
    "import numpy as np\n",
    "import pandas as pd"
   ]
  },
  {
   "cell_type": "markdown",
   "metadata": {},
   "source": [
    "<pre>\n",
    "Q.1 Using np.arange, what expression generates the following array:\n",
    "    array([10., 11., 12., 13., 14., 15.]\n",
    "</pre>"
   ]
  },
  {
   "cell_type": "code",
   "execution_count": 2,
   "metadata": {},
   "outputs": [
    {
     "data": {
      "text/plain": [
       "array([10, 11, 12, 13, 14, 15])"
      ]
     },
     "execution_count": 2,
     "metadata": {},
     "output_type": "execute_result"
    }
   ],
   "source": [
    "np.arange(10, 16)"
   ]
  },
  {
   "cell_type": "markdown",
   "metadata": {},
   "source": [
    "<pre>\n",
    "Q.2 Using np.linspace, what expression generates the following array:\n",
    "    array([10., 11., 12., 13., 14., 15.]\n",
    "</pre>"
   ]
  },
  {
   "cell_type": "code",
   "execution_count": 3,
   "metadata": {},
   "outputs": [
    {
     "data": {
      "text/plain": [
       "array([10., 11., 12., 13., 14., 15.])"
      ]
     },
     "execution_count": 3,
     "metadata": {},
     "output_type": "execute_result"
    }
   ],
   "source": [
    "np.linspace(10, 15, 6)"
   ]
  },
  {
   "cell_type": "markdown",
   "metadata": {},
   "source": [
    "<pre>\n",
    "Q.3 What is the result of the following code:\n",
    "\n",
    "    a = np.array([4, 1, 2, 1, 3, 2, 1, 3, 4])\n",
    "    np.unique(a)\n",
    "</pre>"
   ]
  },
  {
   "cell_type": "code",
   "execution_count": 4,
   "metadata": {},
   "outputs": [
    {
     "data": {
      "text/plain": [
       "array([1, 2, 3, 4])"
      ]
     },
     "execution_count": 4,
     "metadata": {},
     "output_type": "execute_result"
    }
   ],
   "source": [
    "# [1, 2, 3, 4]\n",
    "a = np.array([4, 1, 2, 1, 3, 2, 1, 3, 4])\n",
    "np.unique(a)"
   ]
  },
  {
   "cell_type": "markdown",
   "metadata": {},
   "source": [
    "<pre>\n",
    "Q.4 What is the result of the following code:\n",
    "    a = np.array([1, 0, 2, 0, -1, 0, -2])\n",
    "    np.count_nonzero(a)\n",
    "</pre>"
   ]
  },
  {
   "cell_type": "code",
   "execution_count": 5,
   "metadata": {},
   "outputs": [
    {
     "data": {
      "text/plain": [
       "4"
      ]
     },
     "execution_count": 5,
     "metadata": {},
     "output_type": "execute_result"
    }
   ],
   "source": [
    "# 4\n",
    "a = np.array([1, 0, 2, 0, -1, 0, -2])\n",
    "np.count_nonzero(a)"
   ]
  },
  {
   "cell_type": "markdown",
   "metadata": {},
   "source": [
    "<pre>\n",
    "Q.5 What is the result of the following expression:\n",
    "    np.arange(0, 10).reshape(2, 5)\n",
    "</pre>"
   ]
  },
  {
   "cell_type": "code",
   "execution_count": 6,
   "metadata": {},
   "outputs": [
    {
     "data": {
      "text/plain": [
       "array([[0, 1, 2, 3, 4],\n",
       "       [5, 6, 7, 8, 9]])"
      ]
     },
     "execution_count": 6,
     "metadata": {},
     "output_type": "execute_result"
    }
   ],
   "source": [
    "# [[0, 1, 2, 3, 4], [5, 6, 7, 8, 9]]\n",
    "np.arange(0, 10).reshape(2, 5)"
   ]
  },
  {
   "cell_type": "markdown",
   "metadata": {},
   "source": [
    "<pre>\n",
    "Q.6 What is the result of the following code:\n",
    "    a = np.array([1, 2, 3, 4])\n",
    "    a*a, a.dot(a)\n",
    "</pre>"
   ]
  },
  {
   "cell_type": "code",
   "execution_count": 9,
   "metadata": {},
   "outputs": [
    {
     "data": {
      "text/plain": [
       "(array([ 1,  4,  9, 16]), 30)"
      ]
     },
     "execution_count": 9,
     "metadata": {},
     "output_type": "execute_result"
    }
   ],
   "source": [
    "# [1, 4, 9, 16], 30\n",
    "a = np.array([1, 2, 3, 4])\n",
    "a*a, a.dot(a)"
   ]
  },
  {
   "cell_type": "markdown",
   "metadata": {},
   "source": [
    "<pre>\n",
    "Q.7 The following code results in the output array([20, 50, 60, 70]).\n",
    "Show the equivalent result using the np.where function:\n",
    "    a = np.array([10, 50, 60, 20])\n",
    "    b = np.array([20, 30, 40, 70])\n",
    "    np.maximum(a, b)\n",
    "</pre>"
   ]
  },
  {
   "cell_type": "code",
   "execution_count": 11,
   "metadata": {},
   "outputs": [
    {
     "name": "stdout",
     "output_type": "stream",
     "text": [
      "[20 50 60 70]\n",
      "[20 50 60 70]\n"
     ]
    }
   ],
   "source": [
    "# np.where(a > b, a, b)\n",
    "a = np.array([10, 50, 60, 20])\n",
    "b = np.array([20, 30, 40, 70])\n",
    "print(np.maximum(a, b))\n",
    "print(np.where(a > b, a, b))"
   ]
  },
  {
   "cell_type": "markdown",
   "metadata": {},
   "source": [
    "<pre>\n",
    "Q.8 What is the result of the following code:\n",
    "    a = np.array([1, 2, 3, 4])\n",
    "    np.repeat(a, [0, 2, 0, 3])\n",
    "</pre>"
   ]
  },
  {
   "cell_type": "code",
   "execution_count": 12,
   "metadata": {},
   "outputs": [
    {
     "data": {
      "text/plain": [
       "array([2, 2, 4, 4, 4])"
      ]
     },
     "execution_count": 12,
     "metadata": {},
     "output_type": "execute_result"
    }
   ],
   "source": [
    "# [2, 2, 4, 4, 4]\n",
    "a = np.array([1, 2, 3, 4])\n",
    "np.repeat(a, [0, 2, 0, 3])"
   ]
  },
  {
   "cell_type": "markdown",
   "metadata": {},
   "source": [
    "<pre>\n",
    "Q.9 Given, a = np.array([1, 2, 3, 4]), show the expression that will result\n",
    "in the following output:\n",
    "\n",
    "    array([\n",
    "            [1],\n",
    "            [2],\n",
    "            [3],\n",
    "            [4]])\n",
    "</pre>"
   ]
  },
  {
   "cell_type": "code",
   "execution_count": 14,
   "metadata": {},
   "outputs": [
    {
     "data": {
      "text/plain": [
       "[[1], [2], [3], [4]]"
      ]
     },
     "execution_count": 14,
     "metadata": {},
     "output_type": "execute_result"
    }
   ],
   "source": [
    "[[x] for x in a]"
   ]
  },
  {
   "cell_type": "markdown",
   "metadata": {},
   "source": [
    "<pre>\n",
    "Q.10 For a given numpy array, say, a, write the index expression using array\n",
    "indexing to filter out all values that are multiples of 5.\n",
    "        Sample input:  a = np.array([3, 5, 10, 12, 20, 22])\n",
    "        Output: array([3, 12, 22])\n",
    "</pre>"
   ]
  },
  {
   "cell_type": "code",
   "execution_count": 16,
   "metadata": {},
   "outputs": [
    {
     "data": {
      "text/plain": [
       "array([ 3, 12, 22])"
      ]
     },
     "execution_count": 16,
     "metadata": {},
     "output_type": "execute_result"
    }
   ],
   "source": [
    "a = np.array([3, 5, 10, 12, 20, 22])\n",
    "\n",
    "a[a % 5 != 0]"
   ]
  },
  {
   "cell_type": "markdown",
   "metadata": {},
   "source": [
    "<pre>\n",
    "Q.11 For the two numpy arrays, a and b, shown below, what would be the resulting \n",
    "array using 1) np.hstack((a, b)) and ii) np.vstack((a, b))\n",
    "\n",
    "    a = np.array([\n",
    "        [0, 1, 2],\n",
    "        [3, 4, 5]])\n",
    "\n",
    "    b = np.array([\n",
    "        [6, 7, 8],\n",
    "        [9, 10, 11]])\n",
    "</pre>"
   ]
  },
  {
   "cell_type": "code",
   "execution_count": 20,
   "metadata": {},
   "outputs": [
    {
     "data": {
      "text/plain": [
       "array([[ 0,  1,  2],\n",
       "       [ 3,  4,  5],\n",
       "       [ 6,  7,  8],\n",
       "       [ 9, 10, 11]])"
      ]
     },
     "execution_count": 20,
     "metadata": {},
     "output_type": "execute_result"
    }
   ],
   "source": [
    "a = np.array([\n",
    "    [0, 1, 2],\n",
    "    [3, 4, 5]])\n",
    "b = np.array([\n",
    "    [6, 7, 8],\n",
    "    [9, 10, 11]])\n",
    "\n",
    "# [[0, 1, 2, 6, 7, 8], [3, 4, 5, 9, 10, 11]]\n",
    "np.hstack((a, b))\n",
    "\n",
    "# [\n",
    "#    [0, 1, 2],\n",
    "#    [3, 4, 5],\n",
    "#    [6, 7, 8],\n",
    "#    [9, 10, 11]]\n",
    "np.vstack((a, b))"
   ]
  },
  {
   "cell_type": "markdown",
   "metadata": {},
   "source": [
    "<pre>\n",
    "Q.12 For the two numpy arrays, a and b, shown below, what would be the resulting array for the \n",
    "equivalent of a + b? \n",
    "\n",
    "    a = array([0, 1, 2])\n",
    "    b = array([\n",
    "                [0],\n",
    "                [1],\n",
    "                [2]])\n",
    "</pre>"
   ]
  },
  {
   "cell_type": "code",
   "execution_count": 22,
   "metadata": {},
   "outputs": [
    {
     "data": {
      "text/plain": [
       "array([[0, 1, 2],\n",
       "       [1, 2, 3],\n",
       "       [2, 3, 4]])"
      ]
     },
     "execution_count": 22,
     "metadata": {},
     "output_type": "execute_result"
    }
   ],
   "source": [
    "a = np.array([0, 1, 2])\n",
    "b = np.array([[0], [1],[2]])\n",
    "\n",
    "# [[0, 1, 2], [1, 2, 3], [2, 3, 4]]\n",
    "a + b"
   ]
  },
  {
   "cell_type": "markdown",
   "metadata": {},
   "source": [
    "<pre>\n",
    "Q.13 For the 2-D numpy array shown below:\n",
    "    array([\n",
    "        [0, 1, 2, 3],\n",
    "        [4, 5, 6, 7]\n",
    "    ])\n",
    "\n",
    "what would be the result of\n",
    "    1) a[1, 1]\n",
    "    2) a[1:]\n",
    "    3) a[:, 1]\n",
    "</pre>"
   ]
  },
  {
   "cell_type": "code",
   "execution_count": 26,
   "metadata": {},
   "outputs": [
    {
     "name": "stdout",
     "output_type": "stream",
     "text": [
      "5\n",
      "[[4 5 6 7]]\n",
      "[1 5]\n"
     ]
    }
   ],
   "source": [
    "a = np.array([\n",
    "    [0, 1, 2, 3],\n",
    "    [4, 5, 6, 7]])\n",
    "\n",
    "# 1) 5\n",
    "# 2) [[4, 5, 6, 7]]\n",
    "# 3) [1, 5]\n",
    "print(a[1, 1])\n",
    "print(a[1:])\n",
    "print(a[:, 1])"
   ]
  },
  {
   "cell_type": "markdown",
   "metadata": {},
   "source": [
    "<pre>\n",
    "Q.14 For the 3=D numpy array shown below:\n",
    "    array([\n",
    "        [\n",
    "            [ 0,  1,  2,  3],\n",
    "            [ 4,  5,  6,  7],\n",
    "            [ 8,  9, 10, 11]\n",
    "        ],\n",
    "\n",
    "        [\n",
    "            [12, 13, 14, 15],\n",
    "            [16, 17, 18, 19],\n",
    "            [20, 21, 22, 23]\n",
    "        ]\n",
    "    ])\n",
    "\n",
    "what would be the result of\n",
    "    1) a[1,1,1]\n",
    "    2) a[1,  :, :]\n",
    "    3) a[:, :, 1]\n",
    "    4) a[:, 1, :]\n",
    "</pre>"
   ]
  },
  {
   "cell_type": "code",
   "execution_count": 32,
   "metadata": {},
   "outputs": [
    {
     "name": "stdout",
     "output_type": "stream",
     "text": [
      "17\n",
      "[[12 13 14 15]\n",
      " [16 17 18 19]\n",
      " [20 21 22 23]]\n",
      "[[ 1  5  9]\n",
      " [13 17 21]]\n",
      "[[ 4  5  6  7]\n",
      " [16 17 18 19]]\n"
     ]
    }
   ],
   "source": [
    "a = np.array([\n",
    "    [\n",
    "        [ 0,  1,  2,  3],\n",
    "        [ 4,  5,  6,  7],\n",
    "        [ 8,  9, 10, 11]\n",
    "    ],\n",
    "\n",
    "    [\n",
    "        [12, 13, 14, 15],\n",
    "        [16, 17, 18, 19],\n",
    "        [20, 21, 22, 23]\n",
    "    ]\n",
    "])\n",
    "\n",
    "# 1) 17\n",
    "# 2) [\n",
    "#        [12, 13, 14, 15],\n",
    "#        [16, 17, 18, 19],\n",
    "#        [20, 21, 22, 23]\n",
    "#    ]\n",
    "# 3) [[1, 5, 9], [13, 17, 21]]\n",
    "# 4) [[4, 5, 6, 7], [16, 17, 18, 19]]\n",
    "print(a[1, 1, 1])\n",
    "print(a[1, :, :])\n",
    "print(a[:, :, 1])\n",
    "print(a[:, 1, :])"
   ]
  }
 ],
 "metadata": {
  "kernelspec": {
   "display_name": "Python 3",
   "language": "python",
   "name": "python3"
  },
  "language_info": {
   "codemirror_mode": {
    "name": "ipython",
    "version": 3
   },
   "file_extension": ".py",
   "mimetype": "text/x-python",
   "name": "python",
   "nbconvert_exporter": "python",
   "pygments_lexer": "ipython3",
   "version": "3.6.6"
  }
 },
 "nbformat": 4,
 "nbformat_minor": 2
}
