{
 "cells": [
  {
   "cell_type": "markdown",
   "metadata": {},
   "source": [
    "## Numpy - Applications in Finance"
   ]
  },
  {
   "cell_type": "code",
   "execution_count": null,
   "metadata": {},
   "outputs": [],
   "source": [
    "import numpy as np\n",
    "\n",
    "np.set_printoptions(suppress=True)"
   ]
  },
  {
   "cell_type": "code",
   "execution_count": null,
   "metadata": {},
   "outputs": [],
   "source": [
    "datafile = 'http://people.bu.edu/kalathur/datasets/AAPL.csv'"
   ]
  },
  {
   "cell_type": "code",
   "execution_count": null,
   "metadata": {},
   "outputs": [],
   "source": [
    "# Import closing price and volume from the file (columns 5 and 6)\n",
    "# First column is column 0\n",
    "\n",
    "c, v = np.loadtxt(datafile, delimiter=',', skiprows=1, usecols=(5,6), unpack=True)\n",
    "\n",
    "c = np.round(c, 2)"
   ]
  },
  {
   "cell_type": "code",
   "execution_count": null,
   "metadata": {},
   "outputs": [],
   "source": [
    "c[:5]"
   ]
  },
  {
   "cell_type": "code",
   "execution_count": null,
   "metadata": {},
   "outputs": [],
   "source": [
    "v[:5]"
   ]
  },
  {
   "cell_type": "code",
   "execution_count": null,
   "metadata": {},
   "outputs": [],
   "source": [
    "# number of values in the dataset\n",
    "\n",
    "len(c)"
   ]
  },
  {
   "cell_type": "markdown",
   "metadata": {},
   "source": [
    "**Volume Weighted Average Price (VWAP)**"
   ]
  },
  {
   "cell_type": "code",
   "execution_count": null,
   "metadata": {},
   "outputs": [],
   "source": [
    "vwap = np.average(c, weights=v)\n",
    "print(\"VWAP =\", vwap)"
   ]
  },
  {
   "cell_type": "code",
   "execution_count": null,
   "metadata": {},
   "outputs": [],
   "source": [
    "# Arithmetic mean\n",
    "\n",
    "print(\"mean =\", np.mean(c))\n"
   ]
  },
  {
   "cell_type": "markdown",
   "metadata": {},
   "source": [
    "**Value Range**"
   ]
  },
  {
   "cell_type": "code",
   "execution_count": null,
   "metadata": {},
   "outputs": [],
   "source": [
    "# Import daily high and low price from the file (columns 2 and 3)\n",
    "\n",
    "h, l = np.loadtxt(datafile, delimiter=',', skiprows=1, usecols=(2,3), unpack=True)\n",
    "\n",
    "h = np.round(h, 2)\n",
    "l = np.round(l, 2)"
   ]
  },
  {
   "cell_type": "code",
   "execution_count": null,
   "metadata": {},
   "outputs": [],
   "source": [
    "h[:5]"
   ]
  },
  {
   "cell_type": "code",
   "execution_count": null,
   "metadata": {},
   "outputs": [],
   "source": [
    "l[:5]"
   ]
  },
  {
   "cell_type": "code",
   "execution_count": null,
   "metadata": {},
   "outputs": [],
   "source": [
    "print(\"highest daily high =\", np.max(h))\n",
    "print(\"lowest  daily low =\", np.min(l))"
   ]
  },
  {
   "cell_type": "code",
   "execution_count": null,
   "metadata": {},
   "outputs": [],
   "source": [
    "# Spread of data\n",
    "\n",
    "print(\"Spread high price\", np.ptp(h))\n",
    "print(\"Spread low price\", np.ptp(l))"
   ]
  },
  {
   "cell_type": "code",
   "execution_count": null,
   "metadata": {},
   "outputs": [],
   "source": [
    "print(\"Spread high price\", np.max(h) - np.min(h))\n",
    "print(\"Spread low price\", np.max(l) - np.min(l))"
   ]
  },
  {
   "cell_type": "markdown",
   "metadata": {},
   "source": [
    "**Statistics**"
   ]
  },
  {
   "cell_type": "code",
   "execution_count": null,
   "metadata": {},
   "outputs": [],
   "source": [
    "print(\"median =\", np.median(c))"
   ]
  },
  {
   "cell_type": "code",
   "execution_count": null,
   "metadata": {},
   "outputs": [],
   "source": [
    "print(\"variance =\", np.var(c))"
   ]
  },
  {
   "cell_type": "code",
   "execution_count": null,
   "metadata": {},
   "outputs": [],
   "source": [
    "print(\"Standard deviation =\", np.std(c))"
   ]
  },
  {
   "cell_type": "markdown",
   "metadata": {},
   "source": [
    "**Simple Returns**\n",
    " - differences between consecutive values / value of the previous day"
   ]
  },
  {
   "cell_type": "code",
   "execution_count": null,
   "metadata": {},
   "outputs": [],
   "source": [
    "returns = np.diff( c ) / c[ : -1]\n",
    "returns[:5]"
   ]
  },
  {
   "cell_type": "code",
   "execution_count": null,
   "metadata": {},
   "outputs": [],
   "source": [
    "np.max(returns), np.min(returns)"
   ]
  },
  {
   "cell_type": "code",
   "execution_count": null,
   "metadata": {},
   "outputs": [],
   "source": [
    "print(\"Standard deviation =\", np.std(returns))"
   ]
  },
  {
   "cell_type": "markdown",
   "metadata": {},
   "source": [
    "**Log Returns**\n",
    " - log of all values and calculate differences between them\n",
    " - log(a) - log(b) = log(a/b)\n",
    " - measure rate of change\n",
    " - input should not have zeros or negative numbers"
   ]
  },
  {
   "cell_type": "code",
   "execution_count": null,
   "metadata": {},
   "outputs": [],
   "source": [
    "logreturns = np.diff( np.log(c) )"
   ]
  },
  {
   "cell_type": "code",
   "execution_count": null,
   "metadata": {},
   "outputs": [],
   "source": [
    "logreturns[:5]"
   ]
  },
  {
   "cell_type": "code",
   "execution_count": null,
   "metadata": {},
   "outputs": [],
   "source": [
    "# Alternatively\n",
    "\n",
    "logreturns = np.log(c[1:]/c[:-1])\n",
    "\n",
    "logreturns[:5]"
   ]
  },
  {
   "cell_type": "markdown",
   "metadata": {},
   "source": [
    "**Positive Returns**"
   ]
  },
  {
   "cell_type": "code",
   "execution_count": null,
   "metadata": {},
   "outputs": [],
   "source": [
    "pos_ret_indices = np.where(returns > 0)\n",
    "print(\"Indices with positive returns\\n\", pos_ret_indices)"
   ]
  },
  {
   "cell_type": "code",
   "execution_count": null,
   "metadata": {},
   "outputs": [],
   "source": [
    "np.where(logreturns > 0)"
   ]
  },
  {
   "cell_type": "markdown",
   "metadata": {},
   "source": [
    "**Volatility**\n",
    " - measures price variation\n",
    " - annualized volatility is equal to the standard deviation of the log returns as a ratio of its mean, divided by one over the square root of the number of business days in a year"
   ]
  },
  {
   "cell_type": "code",
   "execution_count": null,
   "metadata": {},
   "outputs": [],
   "source": [
    "annual_volatility = np.std(logreturns)/np.mean(logreturns)\n",
    "annual_volatility = annual_volatility / np.sqrt(1./252.)\n",
    "\n",
    "print(\"Annual volatility\", annual_volatility)\n"
   ]
  },
  {
   "cell_type": "code",
   "execution_count": null,
   "metadata": {},
   "outputs": [],
   "source": [
    "print(\"Monthly volatility\", annual_volatility * np.sqrt(1./12.))"
   ]
  },
  {
   "cell_type": "markdown",
   "metadata": {},
   "source": [
    "**Dealing with Dates**"
   ]
  },
  {
   "cell_type": "code",
   "execution_count": null,
   "metadata": {},
   "outputs": [],
   "source": [
    "from datetime import datetime\n",
    "import calendar"
   ]
  },
  {
   "cell_type": "markdown",
   "metadata": {},
   "source": [
    "Monday 0, Tuesday 1, Wednesday 2, Thursday 3, Friday 4, Saturday 5, Sunday 6"
   ]
  },
  {
   "cell_type": "code",
   "execution_count": null,
   "metadata": {},
   "outputs": [],
   "source": [
    "list(calendar.day_name)"
   ]
  },
  {
   "cell_type": "code",
   "execution_count": null,
   "metadata": {},
   "outputs": [],
   "source": [
    "def datestr2num(s):\n",
    "   return datetime.strptime(s, \"%Y-%m-%d\").date().weekday()"
   ]
  },
  {
   "cell_type": "code",
   "execution_count": null,
   "metadata": {},
   "outputs": [],
   "source": [
    "datestr2num('2019-9-30')"
   ]
  },
  {
   "cell_type": "code",
   "execution_count": null,
   "metadata": {},
   "outputs": [],
   "source": [
    "datestr2num('2019-10-1')"
   ]
  },
  {
   "cell_type": "code",
   "execution_count": null,
   "metadata": {},
   "outputs": [],
   "source": [
    "# Import Date and closing price from the file (columns 0 and 5)\n",
    "\n",
    "dates, close = np.loadtxt(datafile, delimiter=',', \n",
    "                          skiprows=1, usecols=(0,5), \n",
    "                          converters={0: datestr2num},\n",
    "                          encoding='utf-8',\n",
    "                          unpack=True)\n",
    "\n",
    "close = np.round(close, 2)"
   ]
  },
  {
   "cell_type": "code",
   "execution_count": null,
   "metadata": {},
   "outputs": [],
   "source": [
    "close[:5]"
   ]
  },
  {
   "cell_type": "code",
   "execution_count": null,
   "metadata": {},
   "outputs": [],
   "source": [
    "dates[:5]"
   ]
  },
  {
   "cell_type": "code",
   "execution_count": null,
   "metadata": {},
   "outputs": [],
   "source": [
    "np.unique(dates)"
   ]
  },
  {
   "cell_type": "code",
   "execution_count": null,
   "metadata": {},
   "outputs": [],
   "source": [
    "# averages based on day of week\n",
    "\n",
    "averages = np.zeros(len(np.unique(dates)))\n",
    "\n",
    "for i in range(5):\n",
    "    indices = np.where(dates == i) \n",
    "    prices  = np.take(close, indices)\n",
    "    avg = np.mean(prices)\n",
    "    avg = np.round(avg)\n",
    "    print(\"Day\", i, \"Average\", avg)\n",
    "    averages[i] = avg"
   ]
  },
  {
   "cell_type": "code",
   "execution_count": null,
   "metadata": {},
   "outputs": [],
   "source": [
    "top = np.max(averages)\n",
    "print(\"Highest average:\", top)\n",
    "print(\"Top day of the week index:\", np.argmax(averages))\n",
    "print(\"Top day of the week is\", calendar.day_name[np.argmax(averages)])\n",
    "print()\n",
    "\n",
    "bottom = np.min(averages)\n",
    "print(\"Lowest average:\", bottom)\n",
    "print(\"Bottom day of the week index:\", np.argmin(averages))\n",
    "print(\"Bottom day of the week is\", calendar.day_name[np.argmin(averages)])"
   ]
  },
  {
   "cell_type": "code",
   "execution_count": null,
   "metadata": {},
   "outputs": [],
   "source": []
  },
  {
   "cell_type": "markdown",
   "metadata": {},
   "source": [
    "## Average True Range (ATR)\n",
    " - provides degree of price volatility\n",
    " - N-period smoothed moving average of the true range values\n",
    " - Recommended 14 period smoothing\n",
    " - Range of a day : $ (high-low) $\n",
    " - True Range TR = $ max[(high-low), abs(high-close_{prev}), abs(low-close_{prev})] $\n",
    " - $$ATR_{t} = \\frac{ ATR_{t-1} * (N-1) + TR_{t} }{N}$$\n",
    " - First ATR is the arithmetic mean of the first N TR values\n",
    " \n",
    " "
   ]
  },
  {
   "cell_type": "markdown",
   "metadata": {},
   "source": [
    "Example: https://school.stockcharts.com/doku.php?id=technical_indicators:average_true_range_atr\n",
    "\n",
    "<img src=\"https://school.stockcharts.com/lib/exe/fetch.php?media=technical_indicators:average_true_range_atr:atr-2-qqqqsh.png\"/>"
   ]
  },
  {
   "cell_type": "code",
   "execution_count": null,
   "metadata": {},
   "outputs": [],
   "source": [
    "dates, open , high, low, close = np.loadtxt(datafile, delimiter=',',\n",
    "                                     skiprows=1, usecols=(0,1,2,3,4), \n",
    "                                            converters={0: datestr2num},\n",
    "                                            encoding='utf-8',\n",
    "                                            unpack=True)\n",
    "\n",
    "open  = np.round(open, 2)\n",
    "high  = np.round(high, 2)\n",
    "low   = np.round(low, 2)\n",
    "close = np.round(close, 2)"
   ]
  },
  {
   "cell_type": "code",
   "execution_count": null,
   "metadata": {},
   "outputs": [],
   "source": [
    "num_days = len(high)\n",
    "num_days"
   ]
  },
  {
   "cell_type": "code",
   "execution_count": null,
   "metadata": {},
   "outputs": [],
   "source": [
    "# ATR Window\n",
    "\n",
    "N = 14"
   ]
  },
  {
   "cell_type": "code",
   "execution_count": null,
   "metadata": {},
   "outputs": [],
   "source": [
    "previous_close = close[: -1]"
   ]
  },
  {
   "cell_type": "code",
   "execution_count": null,
   "metadata": {},
   "outputs": [],
   "source": [
    "# TR except for first day\n",
    "\n",
    "truerange = np.maximum(high[1:] - low[1:], \n",
    "                       np.abs(high[1:] - previous_close), \n",
    "                       np.abs(previous_close - low[1:]) )\n",
    "\n",
    "# first day true range = (high[0] - low[0])\n",
    "truerange = np.insert(truerange, 0, (high[0] - low[0]))\n",
    "\n",
    "truerange\n"
   ]
  },
  {
   "cell_type": "code",
   "execution_count": null,
   "metadata": {},
   "outputs": [],
   "source": [
    "len(truerange)"
   ]
  },
  {
   "cell_type": "code",
   "execution_count": null,
   "metadata": {},
   "outputs": [],
   "source": []
  },
  {
   "cell_type": "code",
   "execution_count": null,
   "metadata": {},
   "outputs": [],
   "source": [
    "atr = np.zeros(num_days - N + 1)\n",
    "len(atr)"
   ]
  },
  {
   "cell_type": "code",
   "execution_count": null,
   "metadata": {},
   "outputs": [],
   "source": [
    "atr[0] = np.mean(truerange[:N])\n",
    "atr[0]"
   ]
  },
  {
   "cell_type": "code",
   "execution_count": null,
   "metadata": {},
   "outputs": [],
   "source": [
    "for i in range(1, len(atr)):\n",
    "   atr[i] = (N - 1) * atr[i - 1] + truerange[N + i - 1]\n",
    "   atr[i] /= N\n",
    "\n",
    "print(\"ATR\", atr)"
   ]
  },
  {
   "cell_type": "markdown",
   "metadata": {},
   "source": [
    "**Interpreting ATR and stock prices**\n",
    "\n",
    "https://www.tradingview.com/wiki/Average_True_Range_(ATR)\n"
   ]
  },
  {
   "cell_type": "code",
   "execution_count": null,
   "metadata": {},
   "outputs": [],
   "source": [
    "import matplotlib.pyplot as plt\n",
    "from mpl_finance import candlestick_ohlc"
   ]
  },
  {
   "cell_type": "code",
   "execution_count": null,
   "metadata": {},
   "outputs": [],
   "source": [
    "# Plot last 50 values\n",
    "\n",
    "fig, ax = plt.subplots(2, figsize=(12,6))\n",
    "\n",
    "\n",
    "t = np.arange(N - 1, num_days)\n",
    "ax[0].plot(t[-50:], atr[-50:], '--', lw=2.0, label='ATR')\n",
    "candlestick_ohlc(ax[1], zip(np.arange(len(high[-50:])),\n",
    "                         open[-50:], high[-50:],\n",
    "                         low[-50:], close[-50:]))\n",
    "\n",
    "plt.xlabel('Days')\n",
    "plt.show()"
   ]
  },
  {
   "cell_type": "markdown",
   "metadata": {},
   "source": [
    "**Interpreting Moving Averages**\n",
    "\n",
    "https://www.tradingview.com/wiki/Moving_Average"
   ]
  },
  {
   "cell_type": "markdown",
   "metadata": {},
   "source": [
    "## Simple Moving Average (SMA)\n",
    " - For analyzing time-series data\n",
    " - Moving window of N periods\n",
    " - Mean of values inside the window\n",
    " - an unweighted moving average"
   ]
  },
  {
   "cell_type": "code",
   "execution_count": null,
   "metadata": {},
   "outputs": [],
   "source": [
    "x = np.array([11,12,13,14,15,16,17,18])\n",
    "x"
   ]
  },
  {
   "cell_type": "code",
   "execution_count": null,
   "metadata": {},
   "outputs": [],
   "source": [
    "# 5-Day Moving Average\n",
    "N = 5"
   ]
  },
  {
   "cell_type": "code",
   "execution_count": null,
   "metadata": {},
   "outputs": [],
   "source": [
    "# First day of 5-day SMA\n",
    "np.sum(x[0:N])/N"
   ]
  },
  {
   "cell_type": "code",
   "execution_count": null,
   "metadata": {},
   "outputs": [],
   "source": [
    "# Second day of 5-day SMA\n",
    "np.sum(x[1:N+1])/N"
   ]
  },
  {
   "cell_type": "code",
   "execution_count": null,
   "metadata": {},
   "outputs": [],
   "source": [
    "# Third day of 5-day SMA\n",
    "np.sum(x[2:N+2])/N"
   ]
  },
  {
   "cell_type": "code",
   "execution_count": null,
   "metadata": {},
   "outputs": [],
   "source": [
    "# Fourth day of 5-day SMA\n",
    "np.sum(x[3:N+3])/N"
   ]
  },
  {
   "cell_type": "code",
   "execution_count": null,
   "metadata": {},
   "outputs": [],
   "source": [
    "# Using np.convolve"
   ]
  },
  {
   "cell_type": "code",
   "execution_count": null,
   "metadata": {},
   "outputs": [],
   "source": [
    "N = 5\n",
    "weights = np.ones(N)/N\n",
    "print(\"Weights\", weights)"
   ]
  },
  {
   "cell_type": "code",
   "execution_count": null,
   "metadata": {},
   "outputs": [],
   "source": [
    "np.convolve(x, weights)"
   ]
  },
  {
   "cell_type": "code",
   "execution_count": null,
   "metadata": {},
   "outputs": [],
   "source": [
    "np.convolve(x, weights)[N-1:-(N-1)]"
   ]
  },
  {
   "cell_type": "code",
   "execution_count": null,
   "metadata": {},
   "outputs": [],
   "source": []
  },
  {
   "cell_type": "code",
   "execution_count": null,
   "metadata": {},
   "outputs": [],
   "source": []
  },
  {
   "cell_type": "code",
   "execution_count": null,
   "metadata": {},
   "outputs": [],
   "source": [
    "# Using the dataset\n",
    "\n",
    "# Import Date and closing price from the file (columns 0 and 5)\n",
    "\n",
    "dates, close = np.loadtxt(datafile, delimiter=',', \n",
    "                          skiprows=1, usecols=(0,5), \n",
    "                          converters={0: datestr2num},\n",
    "                          encoding='utf-8',\n",
    "                          unpack=True)\n",
    "\n",
    "close = np.round(close, 2)"
   ]
  },
  {
   "cell_type": "code",
   "execution_count": null,
   "metadata": {},
   "outputs": [],
   "source": [
    "len(close)"
   ]
  },
  {
   "cell_type": "code",
   "execution_count": null,
   "metadata": {},
   "outputs": [],
   "source": [
    "# 20-day moving window\n",
    "\n",
    "N = 20"
   ]
  },
  {
   "cell_type": "code",
   "execution_count": null,
   "metadata": {},
   "outputs": [],
   "source": [
    "weights = np.ones(N)/N"
   ]
  },
  {
   "cell_type": "code",
   "execution_count": null,
   "metadata": {},
   "outputs": [],
   "source": [
    "sma = np.convolve(c, weights)[N-1:-(N-1)]\n",
    "len(sma)"
   ]
  },
  {
   "cell_type": "code",
   "execution_count": null,
   "metadata": {},
   "outputs": [],
   "source": [
    "len(close[N-1:])"
   ]
  },
  {
   "cell_type": "code",
   "execution_count": null,
   "metadata": {},
   "outputs": [],
   "source": [
    "t = np.arange(N - 1, len(close))\n",
    "\n",
    "plt.plot(t, close[N-1:], lw=1.0, label=\"Data\")\n",
    "\n",
    "plt.plot(t, sma, '--', lw=2.0, label=\"SMA\")\n",
    "\n",
    "plt.title(\"20 Day Moving Average\")\n",
    "plt.xlabel(\"Days\")\n",
    "plt.ylabel(\"Price ($)\")\n",
    "plt.grid()\n",
    "plt.legend()\n",
    "plt.show()"
   ]
  },
  {
   "cell_type": "code",
   "execution_count": null,
   "metadata": {},
   "outputs": [],
   "source": [
    "fig, ax = plt.subplots(1, figsize=(12,8))\n",
    "\n",
    "candlestick_ohlc(ax, zip(np.arange(len(high[N-1:])),\n",
    "                         open[N-1:], high[N-1:],\n",
    "                         low[N-1:], close[N-1:]))\n",
    "\n",
    "t1 = np.arange(0, len(close) - N + 1)\n",
    "\n",
    "plt.plot(t1, close[N-1:], lw=2.0, label=\"Data\")\n",
    "\n",
    "plt.plot(t1, sma, '--', lw=2.0, label=\"SMA\")\n",
    "\n",
    "\n",
    "plt.xlabel('Days')\n",
    "\n",
    "plt.grid()\n",
    "plt.legend()\n",
    "plt.show()\n"
   ]
  },
  {
   "cell_type": "markdown",
   "metadata": {},
   "source": [
    "## Weighted Moving Average (WMA)"
   ]
  },
  {
   "cell_type": "code",
   "execution_count": null,
   "metadata": {},
   "outputs": [],
   "source": [
    "x = np.array([5,6,7,8,9])\n",
    "weights = np.array([5,4,3,2,1])\n",
    "np.convolve(x, weights)/np.sum(weights)"
   ]
  },
  {
   "cell_type": "code",
   "execution_count": null,
   "metadata": {},
   "outputs": [],
   "source": [
    "x = np.array([11,12,13,14,15,16,17,18])\n",
    "x"
   ]
  },
  {
   "cell_type": "code",
   "execution_count": null,
   "metadata": {},
   "outputs": [],
   "source": [
    "# 5-Day Moving Average\n",
    "N = 5"
   ]
  },
  {
   "cell_type": "code",
   "execution_count": null,
   "metadata": {},
   "outputs": [],
   "source": [
    "weights = np.arange(1, N+1)\n",
    "weights"
   ]
  },
  {
   "cell_type": "code",
   "execution_count": null,
   "metadata": {},
   "outputs": [],
   "source": [
    "# First day of 5-day WMA\n",
    "np.sum(x[0:N] * weights)/sum(weights)"
   ]
  },
  {
   "cell_type": "code",
   "execution_count": null,
   "metadata": {},
   "outputs": [],
   "source": [
    "# Second day of 5-day WMA\n",
    "np.sum(x[1:N+1] * weights)/sum(weights)"
   ]
  },
  {
   "cell_type": "code",
   "execution_count": null,
   "metadata": {},
   "outputs": [],
   "source": [
    "# Third day of 5-day WMA\n",
    "np.sum(x[2:N+2] * weights)/sum(weights)"
   ]
  },
  {
   "cell_type": "code",
   "execution_count": null,
   "metadata": {},
   "outputs": [],
   "source": [
    "# Fourth day of 5-day WMA\n",
    "np.sum(x[3:N+3] * weights)/sum(weights)"
   ]
  },
  {
   "cell_type": "code",
   "execution_count": null,
   "metadata": {},
   "outputs": [],
   "source": [
    "# Same as\n",
    "\n",
    "(np.convolve(x, weights[::-1])[N-1:-(N-1)])/sum(weights)"
   ]
  },
  {
   "cell_type": "code",
   "execution_count": null,
   "metadata": {},
   "outputs": [],
   "source": [
    "# Using the dataset\n",
    "\n",
    "dates, close = np.loadtxt(datafile, delimiter=',', \n",
    "                          skiprows=1, usecols=(0,5), \n",
    "                          converters={0: datestr2num},\n",
    "                          encoding='utf-8',\n",
    "                          unpack=True)\n",
    "\n",
    "close = np.round(close, 2)"
   ]
  },
  {
   "cell_type": "code",
   "execution_count": null,
   "metadata": {},
   "outputs": [],
   "source": [
    "# 20-day moving window\n",
    "\n",
    "N = 20"
   ]
  },
  {
   "cell_type": "code",
   "execution_count": null,
   "metadata": {},
   "outputs": [],
   "source": [
    "weights = np.arange(1, N+1)\n",
    "weights"
   ]
  },
  {
   "cell_type": "code",
   "execution_count": null,
   "metadata": {},
   "outputs": [],
   "source": [
    "wma = (np.convolve(c, weights[::-1])[N-1:-(N-1)])/sum(weights)\n",
    "wma[:5]"
   ]
  },
  {
   "cell_type": "code",
   "execution_count": null,
   "metadata": {},
   "outputs": [],
   "source": [
    "fig, ax = plt.subplots(1, figsize=(12,8))\n",
    "\n",
    "candlestick_ohlc(ax, zip(np.arange(len(high[N-1:])),\n",
    "                         open[N-1:], high[N-1:],\n",
    "                         low[N-1:], close[N-1:]))\n",
    "\n",
    "t1 = np.arange(0, len(close) - N + 1)\n",
    "\n",
    "plt.plot(t1, close[N-1:], lw=2.0, label=\"Data\")\n",
    "\n",
    "plt.plot(t1, sma, '--', lw=2.0, label=\"SMA\")\n",
    "\n",
    "plt.plot(t1, wma, '-.', lw=2.0, label=\"WMA\")\n",
    "\n",
    "\n",
    "plt.xlabel('Days')\n",
    "\n",
    "plt.grid()\n",
    "plt.legend()\n",
    "plt.show()\n"
   ]
  },
  {
   "cell_type": "code",
   "execution_count": null,
   "metadata": {},
   "outputs": [],
   "source": []
  },
  {
   "cell_type": "markdown",
   "metadata": {},
   "source": [
    "## Exponential Moving Average (EMA)\n",
    " - For analyzing time-series data\n",
    " - Alternative to SMA\n",
    " - Moving window of N periods\n",
    " - Uses exponentially decreasing weights\n",
    " - Gives higher weights to recent prices\n",
    " "
   ]
  },
  {
   "cell_type": "code",
   "execution_count": null,
   "metadata": {},
   "outputs": [],
   "source": [
    "x = np.array([11,12,13,14,15,16,17,18])\n",
    "x"
   ]
  },
  {
   "cell_type": "code",
   "execution_count": null,
   "metadata": {},
   "outputs": [],
   "source": [
    "N = 5\n",
    "weights = np.exp(np.linspace(0, 1, N))\n",
    "weights"
   ]
  },
  {
   "cell_type": "code",
   "execution_count": null,
   "metadata": {},
   "outputs": [],
   "source": [
    "# Normalize weights\n",
    "weights /= weights.sum()\n",
    "print(\"Weights\", weights)"
   ]
  },
  {
   "cell_type": "code",
   "execution_count": null,
   "metadata": {},
   "outputs": [],
   "source": [
    "np.convolve(x, weights[::-1])[N-1:-(N-1)]"
   ]
  },
  {
   "cell_type": "code",
   "execution_count": null,
   "metadata": {},
   "outputs": [],
   "source": []
  },
  {
   "cell_type": "code",
   "execution_count": null,
   "metadata": {},
   "outputs": [],
   "source": [
    "# Using the dataset\n",
    "\n",
    "# Import Date and closing price from the file (columns 0 and 5)\n",
    "\n",
    "dates, close = np.loadtxt(datafile, delimiter=',', \n",
    "                          skiprows=1, usecols=(0,5), \n",
    "                          converters={0: datestr2num},\n",
    "                          encoding='utf-8',\n",
    "                          unpack=True)\n",
    "\n",
    "close = np.round(close, 2)"
   ]
  },
  {
   "cell_type": "code",
   "execution_count": null,
   "metadata": {},
   "outputs": [],
   "source": [
    "# 20-day moving window\n",
    "\n",
    "N = 20"
   ]
  },
  {
   "cell_type": "code",
   "execution_count": null,
   "metadata": {},
   "outputs": [],
   "source": [
    "weights = np.exp(np.linspace(0, 1, N))\n",
    "\n",
    "# Normalize weights\n",
    "weights /= weights.sum()"
   ]
  },
  {
   "cell_type": "code",
   "execution_count": null,
   "metadata": {},
   "outputs": [],
   "source": [
    "ema = np.convolve(c, weights[::-1])[N-1:-(N-1)]\n",
    "len(ema)"
   ]
  },
  {
   "cell_type": "code",
   "execution_count": null,
   "metadata": {},
   "outputs": [],
   "source": []
  },
  {
   "cell_type": "code",
   "execution_count": null,
   "metadata": {},
   "outputs": [],
   "source": [
    "fig, ax = plt.subplots(1, figsize=(12,8))\n",
    "\n",
    "candlestick_ohlc(ax, zip(np.arange(len(high[N-1:])),\n",
    "                         open[N-1:], high[N-1:],\n",
    "                         low[N-1:], close[N-1:]))\n",
    "\n",
    "t1 = np.arange(0, len(close) - N + 1)\n",
    "\n",
    "plt.plot(t1, close[N-1:], lw=2.0, label=\"Data\")\n",
    "\n",
    "plt.plot(t1, sma, '--', lw=2.0, label=\"SMA\")\n",
    "\n",
    "plt.plot(t1, wma, '-.', lw=2.0, label=\"WMA\")\n",
    "\n",
    "plt.plot(t1, ema, ':', lw=2.0, label=\"eMA\")\n",
    "\n",
    "\n",
    "plt.xlabel('Days')\n",
    "\n",
    "plt.grid()\n",
    "plt.legend()\n",
    "plt.show()"
   ]
  },
  {
   "cell_type": "code",
   "execution_count": null,
   "metadata": {},
   "outputs": [],
   "source": []
  }
 ],
 "metadata": {
  "kernelspec": {
   "display_name": "Python 3",
   "language": "python",
   "name": "python3"
  },
  "language_info": {
   "codemirror_mode": {
    "name": "ipython",
    "version": 3
   },
   "file_extension": ".py",
   "mimetype": "text/x-python",
   "name": "python",
   "nbconvert_exporter": "python",
   "pygments_lexer": "ipython3",
   "version": "3.7.1"
  }
 },
 "nbformat": 4,
 "nbformat_minor": 2
}
