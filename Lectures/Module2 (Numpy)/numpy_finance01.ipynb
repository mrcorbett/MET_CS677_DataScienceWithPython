{
 "cells": [
  {
   "cell_type": "markdown",
   "metadata": {},
   "source": [
    "## Numpy - Applications in Finance"
   ]
  },
  {
   "cell_type": "code",
   "execution_count": 7,
   "metadata": {},
   "outputs": [],
   "source": [
    "import numpy as np\n",
    "\n",
    "np.set_printoptions(suppress=True)"
   ]
  },
  {
   "cell_type": "code",
   "execution_count": 8,
   "metadata": {},
   "outputs": [],
   "source": [
    "datafile = 'http://people.bu.edu/kalathur/datasets/AAPL.csv'"
   ]
  },
  {
   "cell_type": "code",
   "execution_count": 9,
   "metadata": {},
   "outputs": [],
   "source": [
    "# Import closing price and volume from the file (columns 5 and 6)\n",
    "# First column is column 0\n",
    "\n",
    "c, v = np.loadtxt(datafile, delimiter=',', skiprows=1, usecols=(5,6), unpack=True)\n",
    "\n",
    "c = np.round(c, 2) # Round all values to 2 decimal points"
   ]
  },
  {
   "cell_type": "code",
   "execution_count": 10,
   "metadata": {},
   "outputs": [
    {
     "data": {
      "text/plain": [
       "array([156.05, 140.51, 146.5 , 146.18, 148.96])"
      ]
     },
     "execution_count": 10,
     "metadata": {},
     "output_type": "execute_result"
    }
   ],
   "source": [
    "c[:5]"
   ]
  },
  {
   "cell_type": "code",
   "execution_count": 11,
   "metadata": {},
   "outputs": [
    {
     "data": {
      "text/plain": [
       "array([37039700., 91312200., 58607100., 54777800., 41025300.])"
      ]
     },
     "execution_count": 11,
     "metadata": {},
     "output_type": "execute_result"
    }
   ],
   "source": [
    "v[:5]"
   ]
  },
  {
   "cell_type": "code",
   "execution_count": 13,
   "metadata": {},
   "outputs": [
    {
     "data": {
      "text/plain": [
       "178"
      ]
     },
     "execution_count": 13,
     "metadata": {},
     "output_type": "execute_result"
    }
   ],
   "source": [
    "# number of values in the dataset\n",
    "\n",
    "len(c)"
   ]
  },
  {
   "cell_type": "code",
   "execution_count": 15,
   "metadata": {},
   "outputs": [
    {
     "data": {
      "text/plain": [
       "178"
      ]
     },
     "execution_count": 15,
     "metadata": {},
     "output_type": "execute_result"
    }
   ],
   "source": [
    "len(v)"
   ]
  },
  {
   "cell_type": "markdown",
   "metadata": {},
   "source": [
    "**Volume Weighted Average Price (VWAP)**"
   ]
  },
  {
   "cell_type": "code",
   "execution_count": 14,
   "metadata": {},
   "outputs": [
    {
     "name": "stdout",
     "output_type": "stream",
     "text": [
      "VWAP = 187.04154812148687\n",
      "VWAP = 187.04154812148687\n"
     ]
    }
   ],
   "source": [
    "vwap = np.average(c, weights=v)  # Weighted average with respect to volume\n",
    "print(\"VWAP =\", vwap)\n",
    "print(\"VWAP =\", np.sum(c*v/v.sum()))"
   ]
  },
  {
   "cell_type": "code",
   "execution_count": 15,
   "metadata": {},
   "outputs": [
    {
     "name": "stdout",
     "output_type": "stream",
     "text": [
      "mean = 188.89511235955058\n"
     ]
    }
   ],
   "source": [
    "# Arithmetic mean\n",
    "\n",
    "print(\"mean =\", np.mean(c)) # average closing value price\n"
   ]
  },
  {
   "cell_type": "markdown",
   "metadata": {},
   "source": [
    "**Value Range**"
   ]
  },
  {
   "cell_type": "code",
   "execution_count": 16,
   "metadata": {},
   "outputs": [],
   "source": [
    "# Import daily high and low price from the file (columns 2 and 3)\n",
    "# Unpack=true return tuple instead of list\n",
    "h, l = np.loadtxt(datafile, delimiter=',', skiprows=1, usecols=(2,3), unpack=True)\n",
    "\n",
    "h = np.round(h, 2)\n",
    "l = np.round(l, 2)"
   ]
  },
  {
   "cell_type": "code",
   "execution_count": 17,
   "metadata": {},
   "outputs": [
    {
     "data": {
      "text/plain": [
       "array([158.85, 145.72, 148.55, 148.83, 151.82])"
      ]
     },
     "execution_count": 17,
     "metadata": {},
     "output_type": "execute_result"
    }
   ],
   "source": [
    "h[:5]"
   ]
  },
  {
   "cell_type": "code",
   "execution_count": 18,
   "metadata": {},
   "outputs": [
    {
     "data": {
      "text/plain": [
       "array([154.23, 142.  , 143.8 , 145.9 , 148.52])"
      ]
     },
     "execution_count": 18,
     "metadata": {},
     "output_type": "execute_result"
    }
   ],
   "source": [
    "l[:5]"
   ]
  },
  {
   "cell_type": "code",
   "execution_count": 19,
   "metadata": {},
   "outputs": [
    {
     "name": "stdout",
     "output_type": "stream",
     "text": [
      "highest daily high = 226.42\n",
      "lowest  daily low = 142.0\n"
     ]
    }
   ],
   "source": [
    "print(\"highest daily high =\", np.max(h))\n",
    "print(\"lowest  daily low =\", np.min(l))"
   ]
  },
  {
   "cell_type": "code",
   "execution_count": 20,
   "metadata": {},
   "outputs": [
    {
     "name": "stdout",
     "output_type": "stream",
     "text": [
      "Spread high price 80.69999999999999\n",
      "Spread low price 80.86000000000001\n"
     ]
    }
   ],
   "source": [
    "# Spread of data ptp = peak-to-peak (max(h) - min(h))\n",
    "\n",
    "print(\"Spread high price\", np.ptp(h))\n",
    "print(\"Spread low price\", np.ptp(l))"
   ]
  },
  {
   "cell_type": "code",
   "execution_count": 21,
   "metadata": {},
   "outputs": [
    {
     "name": "stdout",
     "output_type": "stream",
     "text": [
      "Spread high price 80.69999999999999\n",
      "Spread low price 80.86000000000001\n"
     ]
    }
   ],
   "source": [
    "print(\"Spread high price\", np.max(h) - np.min(h))\n",
    "print(\"Spread low price\", np.max(l) - np.min(l))"
   ]
  },
  {
   "cell_type": "markdown",
   "metadata": {},
   "source": [
    "**Statistics**"
   ]
  },
  {
   "cell_type": "code",
   "execution_count": 23,
   "metadata": {},
   "outputs": [
    {
     "name": "stdout",
     "output_type": "stream",
     "text": [
      "median = 193.965\n"
     ]
    }
   ],
   "source": [
    "# Median: Average\n",
    "print(\"median =\", np.median(c))"
   ]
  },
  {
   "cell_type": "code",
   "execution_count": 24,
   "metadata": {},
   "outputs": [
    {
     "name": "stdout",
     "output_type": "stream",
     "text": [
      "variance = 354.60887891995964\n"
     ]
    }
   ],
   "source": [
    "# Variance: measures how far a set of (random) numbers are spread out from their average value.\n",
    "print(\"variance =\", np.var(c))"
   ]
  },
  {
   "cell_type": "code",
   "execution_count": 25,
   "metadata": {},
   "outputs": [
    {
     "name": "stdout",
     "output_type": "stream",
     "text": [
      "Standard deviation = 18.831061545222553\n"
     ]
    }
   ],
   "source": [
    "# Standard deviation: the extent of deviation for a group as a whole.\n",
    "print(\"Standard deviation =\", np.std(c))"
   ]
  },
  {
   "cell_type": "markdown",
   "metadata": {},
   "source": [
    "**Simple Returns**\n",
    " - differences between consecutive values / value of the previous day\n",
    " \n",
    " (v[1] - v[0])/v[0]"
   ]
  },
  {
   "cell_type": "code",
   "execution_count": 26,
   "metadata": {},
   "outputs": [
    {
     "data": {
      "text/plain": [
       "array([-0.09958347,  0.04263042, -0.0021843 ,  0.01901765,  0.01698443])"
      ]
     },
     "execution_count": 26,
     "metadata": {},
     "output_type": "execute_result"
    }
   ],
   "source": [
    "returns = np.diff( c ) / c[ : -1]\n",
    "returns[:5]"
   ]
  },
  {
   "cell_type": "code",
   "execution_count": 27,
   "metadata": {},
   "outputs": [
    {
     "data": {
      "text/plain": [
       "(0.06830225711481844, -0.09958346683755219)"
      ]
     },
     "execution_count": 27,
     "metadata": {},
     "output_type": "execute_result"
    }
   ],
   "source": [
    "np.max(returns), np.min(returns)"
   ]
  },
  {
   "cell_type": "code",
   "execution_count": 28,
   "metadata": {},
   "outputs": [
    {
     "name": "stdout",
     "output_type": "stream",
     "text": [
      "Standard deviation = 0.018182188529057272\n"
     ]
    }
   ],
   "source": [
    "print(\"Standard deviation =\", np.std(returns))"
   ]
  },
  {
   "cell_type": "markdown",
   "metadata": {},
   "source": [
    "**Log Returns**\n",
    " - log of all values and calculate differences between them\n",
    " - log(a) - log(b) = log(a/b)\n",
    " - measure rate of change\n",
    " - input should not have zeros or negative numbers"
   ]
  },
  {
   "cell_type": "code",
   "execution_count": 29,
   "metadata": {},
   "outputs": [],
   "source": [
    "logreturns = np.diff( np.log(c) )"
   ]
  },
  {
   "cell_type": "code",
   "execution_count": 30,
   "metadata": {},
   "outputs": [
    {
     "data": {
      "text/plain": [
       "array([-0.10489781,  0.04174677, -0.00218669,  0.01883907,  0.0168418 ])"
      ]
     },
     "execution_count": 30,
     "metadata": {},
     "output_type": "execute_result"
    }
   ],
   "source": [
    "logreturns[:5]"
   ]
  },
  {
   "cell_type": "code",
   "execution_count": 31,
   "metadata": {},
   "outputs": [
    {
     "data": {
      "text/plain": [
       "array([-0.10489781,  0.04174677, -0.00218669,  0.01883907,  0.0168418 ])"
      ]
     },
     "execution_count": 31,
     "metadata": {},
     "output_type": "execute_result"
    }
   ],
   "source": [
    "# Alternatively\n",
    "\n",
    "logreturns = np.log(c[1:]/c[:-1])\n",
    "\n",
    "logreturns[:5]"
   ]
  },
  {
   "cell_type": "markdown",
   "metadata": {},
   "source": [
    "**Positive Returns**"
   ]
  },
  {
   "cell_type": "code",
   "execution_count": 32,
   "metadata": {},
   "outputs": [
    {
     "name": "stdout",
     "output_type": "stream",
     "text": [
      "Indices with positive returns\n",
      " (array([  1,   3,   4,   5,   8,   9,  10,  11,  13,  15,  18,  19,  20,\n",
      "        21,  22,  23,  25,  27,  29,  31,  32,  34,  35,  36,  37,  39,\n",
      "        40,  44,  45,  46,  47,  48,  49,  50,  52,  53,  57,  58,  59,\n",
      "        60,  61,  62,  63,  64,  65,  67,  70,  71,  72,  73,  74,  75,\n",
      "        79,  81,  83,  86,  90,  91,  95, 101, 104, 105, 106, 107, 108,\n",
      "       109, 113, 114, 116, 120, 123, 124, 125, 128, 129, 131, 132, 135,\n",
      "       137, 138, 141, 142, 144, 148, 149, 150, 153, 156, 157, 158, 159,\n",
      "       162, 164, 165, 168, 169, 171, 172, 173, 176]),)\n"
     ]
    }
   ],
   "source": [
    "pos_ret_indices = np.where(returns > 0)\n",
    "print(\"Indices with positive returns\\n\", pos_ret_indices)"
   ]
  },
  {
   "cell_type": "code",
   "execution_count": 33,
   "metadata": {},
   "outputs": [
    {
     "data": {
      "text/plain": [
       "(array([  1,   3,   4,   5,   8,   9,  10,  11,  13,  15,  18,  19,  20,\n",
       "         21,  22,  23,  25,  27,  29,  31,  32,  34,  35,  36,  37,  39,\n",
       "         40,  44,  45,  46,  47,  48,  49,  50,  52,  53,  57,  58,  59,\n",
       "         60,  61,  62,  63,  64,  65,  67,  70,  71,  72,  73,  74,  75,\n",
       "         79,  81,  83,  86,  90,  91,  95, 101, 104, 105, 106, 107, 108,\n",
       "        109, 113, 114, 116, 120, 123, 124, 125, 128, 129, 131, 132, 135,\n",
       "        137, 138, 141, 142, 144, 148, 149, 150, 153, 156, 157, 158, 159,\n",
       "        162, 164, 165, 168, 169, 171, 172, 173, 176]),)"
      ]
     },
     "execution_count": 33,
     "metadata": {},
     "output_type": "execute_result"
    }
   ],
   "source": [
    "np.where(logreturns > 0)"
   ]
  },
  {
   "cell_type": "markdown",
   "metadata": {},
   "source": [
    "**Volatility**\n",
    " - measures price variation\n",
    " - annualized volatility is equal to the standard deviation of the log returns as a ratio of its mean, divided by one over the square root of the number of business days in a year"
   ]
  },
  {
   "cell_type": "code",
   "execution_count": 34,
   "metadata": {},
   "outputs": [
    {
     "name": "stdout",
     "output_type": "stream",
     "text": [
      "Annual volatility 150.0488985319145\n"
     ]
    }
   ],
   "source": [
    "annual_volatility = np.std(logreturns)/np.mean(logreturns)\n",
    "annual_volatility = annual_volatility / np.sqrt(1./252.) # ~ num biz days in year\n",
    "\n",
    "print(\"Annual volatility\", annual_volatility)\n"
   ]
  },
  {
   "cell_type": "code",
   "execution_count": 36,
   "metadata": {},
   "outputs": [
    {
     "name": "stdout",
     "output_type": "stream",
     "text": [
      "Monthly volatility 43.31538597950384\n"
     ]
    }
   ],
   "source": [
    "print(\"Monthly volatility\", annual_volatility * np.sqrt(1./12.))"
   ]
  },
  {
   "cell_type": "markdown",
   "metadata": {},
   "source": [
    "**Dealing with Dates**"
   ]
  },
  {
   "cell_type": "code",
   "execution_count": 37,
   "metadata": {},
   "outputs": [],
   "source": [
    "from datetime import datetime\n",
    "import calendar"
   ]
  },
  {
   "cell_type": "markdown",
   "metadata": {},
   "source": [
    "Monday 0, Tuesday 1, Wednesday 2, Thursday 3, Friday 4, Saturday 5, Sunday 6"
   ]
  },
  {
   "cell_type": "code",
   "execution_count": 38,
   "metadata": {},
   "outputs": [
    {
     "data": {
      "text/plain": [
       "['Monday', 'Tuesday', 'Wednesday', 'Thursday', 'Friday', 'Saturday', 'Sunday']"
      ]
     },
     "execution_count": 38,
     "metadata": {},
     "output_type": "execute_result"
    }
   ],
   "source": [
    "list(calendar.day_name)"
   ]
  },
  {
   "cell_type": "code",
   "execution_count": 39,
   "metadata": {},
   "outputs": [],
   "source": [
    "def datestr2num(s):\n",
    "   return datetime.strptime(s, \"%Y-%m-%d\").date().weekday()"
   ]
  },
  {
   "cell_type": "code",
   "execution_count": 40,
   "metadata": {},
   "outputs": [
    {
     "data": {
      "text/plain": [
       "'Monday'"
      ]
     },
     "execution_count": 40,
     "metadata": {},
     "output_type": "execute_result"
    }
   ],
   "source": [
    "calendar.day_name[datestr2num('2019-9-30')]"
   ]
  },
  {
   "cell_type": "code",
   "execution_count": 41,
   "metadata": {},
   "outputs": [
    {
     "data": {
      "text/plain": [
       "'Tuesday'"
      ]
     },
     "execution_count": 41,
     "metadata": {},
     "output_type": "execute_result"
    }
   ],
   "source": [
    "calendar.day_name[datestr2num('2019-10-1')]"
   ]
  },
  {
   "cell_type": "code",
   "execution_count": 42,
   "metadata": {},
   "outputs": [],
   "source": [
    "# Import Date and closing price from the file (columns 0 and 5)\n",
    "\n",
    "dates, close = np.loadtxt(datafile, delimiter=',', \n",
    "                          skiprows=1, usecols=(0,5), \n",
    "                          converters={0: datestr2num},\n",
    "                          encoding='utf-8',\n",
    "                          unpack=True)\n",
    "\n",
    "close = np.round(close, 2)"
   ]
  },
  {
   "cell_type": "code",
   "execution_count": 43,
   "metadata": {},
   "outputs": [
    {
     "data": {
      "text/plain": [
       "array([156.05, 140.51, 146.5 , 146.18, 148.96])"
      ]
     },
     "execution_count": 43,
     "metadata": {},
     "output_type": "execute_result"
    }
   ],
   "source": [
    "close[:5]"
   ]
  },
  {
   "cell_type": "code",
   "execution_count": 44,
   "metadata": {},
   "outputs": [
    {
     "data": {
      "text/plain": [
       "array([2., 3., 4., 0., 1.])"
      ]
     },
     "execution_count": 44,
     "metadata": {},
     "output_type": "execute_result"
    }
   ],
   "source": [
    "dates[:5]"
   ]
  },
  {
   "cell_type": "code",
   "execution_count": 45,
   "metadata": {},
   "outputs": [
    {
     "data": {
      "text/plain": [
       "array([0., 1., 2., 3., 4.])"
      ]
     },
     "execution_count": 45,
     "metadata": {},
     "output_type": "execute_result"
    }
   ],
   "source": [
    "np.unique(dates)"
   ]
  },
  {
   "cell_type": "code",
   "execution_count": 46,
   "metadata": {},
   "outputs": [
    {
     "name": "stdout",
     "output_type": "stream",
     "text": [
      "Day 0 Average 190.0\n",
      "Day 1 Average 189.0\n",
      "Day 2 Average 189.0\n",
      "Day 3 Average 188.0\n",
      "Day 4 Average 188.0\n"
     ]
    }
   ],
   "source": [
    "# averages based on day of week\n",
    "\n",
    "averages = np.zeros(len(np.unique(dates)))\n",
    "\n",
    "for i in range(5):\n",
    "    indices = np.where(dates == i) \n",
    "    prices  = np.take(close, indices)\n",
    "    avg = np.mean(prices)\n",
    "    avg = np.round(avg)\n",
    "    print(\"Day\", i, \"Average\", avg)\n",
    "    averages[i] = avg"
   ]
  },
  {
   "cell_type": "code",
   "execution_count": 47,
   "metadata": {},
   "outputs": [
    {
     "name": "stdout",
     "output_type": "stream",
     "text": [
      "Highest average: 190.0\n",
      "Top day of the week index: 0\n",
      "Top day of the week is Monday\n",
      "\n",
      "Lowest average: 188.0\n",
      "Bottom day of the week index: 3\n",
      "Bottom day of the week is Thursday\n"
     ]
    }
   ],
   "source": [
    "top = np.max(averages)\n",
    "print(\"Highest average:\", top)\n",
    "print(\"Top day of the week index:\", np.argmax(averages))\n",
    "print(\"Top day of the week is\", calendar.day_name[np.argmax(averages)])\n",
    "print()\n",
    "\n",
    "bottom = np.min(averages)\n",
    "print(\"Lowest average:\", bottom)\n",
    "print(\"Bottom day of the week index:\", np.argmin(averages))\n",
    "print(\"Bottom day of the week is\", calendar.day_name[np.argmin(averages)])"
   ]
  },
  {
   "cell_type": "code",
   "execution_count": null,
   "metadata": {},
   "outputs": [],
   "source": []
  },
  {
   "cell_type": "markdown",
   "metadata": {},
   "source": [
    "## Average True Range (ATR)\n",
    " - provides degree of price volatility\n",
    " - N-period smoothed moving average of the true range values\n",
    " - Recommended 14 period smoothing\n",
    " - Range of a day : $ (high-low) $\n",
    " - True Range TR = $ max[(high-low), abs(high-close_{prev}), abs(low-close_{prev})] $\n",
    " - $$ATR_{t} = \\frac{ ATR_{t-1} * (N-1) + TR_{t} }{N}$$\n",
    " - First ATR is the arithmetic mean of the first N TR values\n",
    " \n",
    " "
   ]
  },
  {
   "cell_type": "markdown",
   "metadata": {},
   "source": [
    "Example: https://school.stockcharts.com/doku.php?id=technical_indicators:average_true_range_atr\n",
    "\n",
    "<img src=\"https://school.stockcharts.com/lib/exe/fetch.php?media=technical_indicators:average_true_range_atr:atr-2-qqqqsh.png\"/>"
   ]
  },
  {
   "cell_type": "code",
   "execution_count": 48,
   "metadata": {},
   "outputs": [],
   "source": [
    "dates, open , high, low, close = np.loadtxt(datafile, delimiter=',',\n",
    "                                     skiprows=1, usecols=(0,1,2,3,4), \n",
    "                                            converters={0: datestr2num},\n",
    "                                            encoding='utf-8',\n",
    "                                            unpack=True)\n",
    "\n",
    "open  = np.round(open, 2)\n",
    "high  = np.round(high, 2)\n",
    "low   = np.round(low, 2)\n",
    "close = np.round(close, 2)"
   ]
  },
  {
   "cell_type": "code",
   "execution_count": 49,
   "metadata": {},
   "outputs": [
    {
     "data": {
      "text/plain": [
       "178"
      ]
     },
     "execution_count": 49,
     "metadata": {},
     "output_type": "execute_result"
    }
   ],
   "source": [
    "num_days = len(high)\n",
    "num_days"
   ]
  },
  {
   "cell_type": "code",
   "execution_count": 52,
   "metadata": {},
   "outputs": [],
   "source": [
    "# ATR Window\n",
    "\n",
    "N = 14"
   ]
  },
  {
   "cell_type": "code",
   "execution_count": 53,
   "metadata": {},
   "outputs": [],
   "source": [
    "previous_close = close[: -1]"
   ]
  },
  {
   "cell_type": "code",
   "execution_count": 54,
   "metadata": {},
   "outputs": [
    {
     "data": {
      "text/plain": [
       "array([ 4.62, 12.2 ,  6.36,  2.93,  3.89,  4.9 ,  3.11,  2.19,  2.05,\n",
       "        3.39,  2.88,  4.4 ,  2.02,  4.11,  3.44,  2.74,  5.43,  2.67,\n",
       "        4.02, 11.47,  4.44,  3.05,  5.14,  3.83,  2.72,  3.6 ,  2.24,\n",
       "        1.96,  1.57,  2.56,  1.88,  1.95,  1.95,  2.39,  2.07,  1.94,\n",
       "        2.9 ,  2.13,  2.27,  1.99,  2.26,  3.78,  1.46,  1.55,  2.42,\n",
       "        3.57,  6.21,  3.77,  2.39,  2.39,  3.6 ,  2.6 ,  3.07,  4.76,\n",
       "        8.17,  6.91,  5.38,  8.3 ,  3.21,  2.03,  1.54,  3.3 ,  3.41,\n",
       "        3.35,  3.23,  1.41,  3.89,  3.62,  2.56,  2.56,  3.93,  1.84,\n",
       "        2.81,  4.77,  1.63,  2.6 ,  3.85,  1.43,  2.64,  2.88,  2.11,\n",
       "        4.29, 14.64,  4.52,  2.69,  5.34,  6.59,  3.59,  5.02,  6.08,\n",
       "        7.7 ,  4.29,  5.73,  3.63,  4.14,  4.65,  4.91,  3.16,  2.73,\n",
       "        3.52,  2.68,  3.35,  2.56,  3.  ,  7.65,  6.53,  5.35,  3.32,\n",
       "        6.7 ,  5.22,  3.42,  2.58,  3.19,  3.29,  2.79,  6.4 ,  2.57,\n",
       "        2.74,  2.7 ,  1.99,  3.97,  5.42,  2.  ,  2.45,  6.57,  1.77,\n",
       "        1.75,  2.18,  2.99,  2.7 ,  2.49,  2.68,  2.25,  2.57,  2.61,\n",
       "        1.82,  2.53,  4.14,  4.64,  1.69,  1.98,  2.51,  2.71,  2.9 ,\n",
       "        2.85, 12.59, 11.29,  4.8 ,  6.07,  4.73,  5.74,  4.49,  3.47,\n",
       "        2.9 , 11.66,  3.85,  5.47,  5.42,  6.23,  3.03,  3.29,  3.69,\n",
       "       11.05,  4.55,  5.02,  2.4 ,  3.79,  3.25,  2.76,  3.78,  4.78,\n",
       "        1.91,  5.37,  5.07,  7.01,  3.56,  3.77,  2.57])"
      ]
     },
     "execution_count": 54,
     "metadata": {},
     "output_type": "execute_result"
    }
   ],
   "source": [
    "# TR except for first day\n",
    "\n",
    "truerange = np.maximum(high[1:] - low[1:], \n",
    "                       np.abs(high[1:] - previous_close), \n",
    "                       np.abs(previous_close - low[1:]) )\n",
    "\n",
    "# first day true range = (high[0] - low[0])\n",
    "truerange = np.insert(truerange, 0, (high[0] - low[0]))\n",
    "\n",
    "truerange\n"
   ]
  },
  {
   "cell_type": "code",
   "execution_count": 55,
   "metadata": {},
   "outputs": [
    {
     "data": {
      "text/plain": [
       "178"
      ]
     },
     "execution_count": 55,
     "metadata": {},
     "output_type": "execute_result"
    }
   ],
   "source": [
    "len(truerange)"
   ]
  },
  {
   "cell_type": "code",
   "execution_count": null,
   "metadata": {},
   "outputs": [],
   "source": []
  },
  {
   "cell_type": "code",
   "execution_count": 56,
   "metadata": {},
   "outputs": [
    {
     "data": {
      "text/plain": [
       "165"
      ]
     },
     "execution_count": 56,
     "metadata": {},
     "output_type": "execute_result"
    }
   ],
   "source": [
    "atr = np.zeros(num_days - N + 1)\n",
    "len(atr)"
   ]
  },
  {
   "cell_type": "code",
   "execution_count": 57,
   "metadata": {},
   "outputs": [
    {
     "data": {
      "text/plain": [
       "4.21785714285714"
      ]
     },
     "execution_count": 57,
     "metadata": {},
     "output_type": "execute_result"
    }
   ],
   "source": [
    "atr[0] = np.mean(truerange[:N])\n",
    "atr[0]"
   ]
  },
  {
   "cell_type": "code",
   "execution_count": 58,
   "metadata": {},
   "outputs": [
    {
     "name": "stdout",
     "output_type": "stream",
     "text": [
      "ATR [4.21785714 4.16229592 4.06070335 4.15851026 4.05218809 4.04988895\n",
      " 4.57989688 4.56990424 4.46133965 4.50981539 4.46125715 4.33688164\n",
      " 4.28424724 4.13822958 3.98264175 3.8103102  3.72100233 3.58950216\n",
      " 3.47239486 3.36365237 3.29410577 3.20666965 3.11619324 3.10075087\n",
      " 3.03141152 2.97702498 2.9065232  2.86034297 2.92603276 2.82131613\n",
      " 2.73050784 2.70832871 2.76987666 3.01559975 3.06948548 3.02095081\n",
      " 2.97588289 3.02046269 2.99042964 2.99611323 3.12210515 3.48266906\n",
      " 3.72747842 3.84551567 4.16369312 4.09557219 3.94803132 3.77602908\n",
      " 3.742027   3.71831079 3.69200287 3.65900267 3.49835962 3.52633393\n",
      " 3.53302437 3.46352263 3.3989853  3.43691492 3.32284957 3.28621745\n",
      " 3.39220192 3.26633036 3.21873533 3.26382566 3.13283812 3.09763539\n",
      " 3.08209001 3.01265501 3.10389394 3.92790151 3.97019426 3.87875181\n",
      " 3.98312668 4.16933192 4.12795107 4.19166885 4.32654965 4.56751039\n",
      " 4.54768822 4.63213906 4.5605577  4.53051786 4.5390523  4.56554856\n",
      " 4.46515224 4.34121279 4.28255474 4.16808654 4.10965179 3.99896237\n",
      " 3.92760792 4.19349307 4.36038642 4.4310731  4.35171074 4.51944569\n",
      " 4.56948528 4.48737919 4.35113782 4.2681994  4.19832802 4.09773316\n",
      " 4.26218079 4.14131073 4.04121711 3.94541589 3.80574332 3.81747594\n",
      " 3.93194195 3.79394609 3.69794994 3.90309638 3.75073235 3.6078229\n",
      " 3.50583555 3.46899015 3.41406228 3.34805783 3.30033942 3.22531517\n",
      " 3.17850695 3.13789931 3.04376364 3.00706624 3.08799008 3.19884793\n",
      " 3.09107308 3.01171072 2.97587424 2.95688322 2.95282013 2.94547584\n",
      " 3.63437042 4.1812011  4.22540103 4.3571581  4.38378966 4.48066183\n",
      " 4.48132884 4.40909107 4.30129885 4.82692036 4.75714033 4.80805888\n",
      " 4.85176896 4.95021403 4.81305589 4.70426618 4.6318186  5.09026013\n",
      " 5.05167012 5.04940797 4.86016454 4.78372422 4.67417249 4.53744588\n",
      " 4.4833426  4.50453242 4.31920867 4.3942652  4.44253197 4.62592254\n",
      " 4.54978522 4.49408627 4.35665154]\n"
     ]
    }
   ],
   "source": [
    "for i in range(1, len(atr)):\n",
    "   atr[i] = (N - 1) * atr[i - 1] + truerange[N + i - 1]\n",
    "   atr[i] /= N\n",
    "\n",
    "print(\"ATR\", atr)"
   ]
  },
  {
   "cell_type": "markdown",
   "metadata": {},
   "source": [
    "**Interpreting ATR and stock prices**\n",
    "\n",
    "https://www.tradingview.com/wiki/Average_True_Range_(ATR)\n"
   ]
  },
  {
   "cell_type": "code",
   "execution_count": 59,
   "metadata": {},
   "outputs": [],
   "source": [
    "import matplotlib.pyplot as plt\n",
    "import numpy as np\n",
    "from mpl_finance import candlestick_ohlc"
   ]
  },
  {
   "cell_type": "code",
   "execution_count": 61,
   "metadata": {},
   "outputs": [
    {
     "data": {
      "image/png": "[encoded data removed]",
      "text/plain": [
       "<Figure size 864x432 with 2 Axes>"
      ]
     },
     "metadata": {
      "needs_background": "light"
     },
     "output_type": "display_data"
    }
   ],
   "source": [
    "# Plot last 50 values\n",
    "\n",
    "fig, ax = plt.subplots(2, figsize=(12,6))\n",
    "\n",
    "\n",
    "t = np.arange(N - 1, num_days)\n",
    "ax[0].plot(t[-50:], atr[-50:], '--', lw=2.0, label='ATR')\n",
    "candlestick_ohlc(ax[1], zip(np.arange(len(high[-50:])),\n",
    "                         open[-50:], high[-50:],\n",
    "                         low[-50:], close[-50:]))\n",
    "\n",
    "plt.xlabel('Days')\n",
    "plt.show()"
   ]
  },
  {
   "cell_type": "markdown",
   "metadata": {},
   "source": [
    "**Interpreting Moving Averages**\n",
    "\n",
    "https://www.tradingview.com/wiki/Moving_Average"
   ]
  },
  {
   "cell_type": "markdown",
   "metadata": {},
   "source": [
    "## Simple Moving Average (SMA)\n",
    " - For analyzing time-series data\n",
    " - Moving window of N periods\n",
    " - Mean of values inside the window\n",
    " - an unweighted moving average"
   ]
  },
  {
   "cell_type": "code",
   "execution_count": 62,
   "metadata": {},
   "outputs": [
    {
     "data": {
      "text/plain": [
       "array([11, 12, 13, 14, 15, 16, 17, 18])"
      ]
     },
     "execution_count": 62,
     "metadata": {},
     "output_type": "execute_result"
    }
   ],
   "source": [
    "x = np.array([11,12,13,14,15,16,17,18])\n",
    "x"
   ]
  },
  {
   "cell_type": "code",
   "execution_count": 63,
   "metadata": {},
   "outputs": [],
   "source": [
    "# 5-Day Moving Average\n",
    "N = 5"
   ]
  },
  {
   "cell_type": "code",
   "execution_count": 64,
   "metadata": {},
   "outputs": [
    {
     "data": {
      "text/plain": [
       "13.0"
      ]
     },
     "execution_count": 64,
     "metadata": {},
     "output_type": "execute_result"
    }
   ],
   "source": [
    "# First day of 5-day SMA\n",
    "np.sum(x[0:N])/N"
   ]
  },
  {
   "cell_type": "code",
   "execution_count": 65,
   "metadata": {},
   "outputs": [
    {
     "data": {
      "text/plain": [
       "14.0"
      ]
     },
     "execution_count": 65,
     "metadata": {},
     "output_type": "execute_result"
    }
   ],
   "source": [
    "# Second day of 5-day SMA\n",
    "np.sum(x[1:N+1])/N"
   ]
  },
  {
   "cell_type": "code",
   "execution_count": 66,
   "metadata": {},
   "outputs": [
    {
     "data": {
      "text/plain": [
       "15.0"
      ]
     },
     "execution_count": 66,
     "metadata": {},
     "output_type": "execute_result"
    }
   ],
   "source": [
    "# Third day of 5-day SMA\n",
    "np.sum(x[2:N+2])/N"
   ]
  },
  {
   "cell_type": "code",
   "execution_count": 67,
   "metadata": {},
   "outputs": [
    {
     "data": {
      "text/plain": [
       "16.0"
      ]
     },
     "execution_count": 67,
     "metadata": {},
     "output_type": "execute_result"
    }
   ],
   "source": [
    "# Fourth day of 5-day SMA\n",
    "np.sum(x[3:N+3])/N"
   ]
  },
  {
   "cell_type": "code",
   "execution_count": null,
   "metadata": {},
   "outputs": [],
   "source": [
    "# Using np.convolve"
   ]
  },
  {
   "cell_type": "code",
   "execution_count": 68,
   "metadata": {},
   "outputs": [
    {
     "name": "stdout",
     "output_type": "stream",
     "text": [
      "Weights [0.2 0.2 0.2 0.2 0.2]\n"
     ]
    }
   ],
   "source": [
    "N = 5\n",
    "weights = np.ones(N)/N  # each weight is 1/5\n",
    "print(\"Weights\", weights)"
   ]
  },
  {
   "cell_type": "code",
   "execution_count": 69,
   "metadata": {},
   "outputs": [
    {
     "data": {
      "text/plain": [
       "array([ 2.2,  4.6,  7.2, 10. , 13. , 14. , 15. , 16. , 13.2, 10.2,  7. ,\n",
       "        3.6])"
      ]
     },
     "execution_count": 69,
     "metadata": {},
     "output_type": "execute_result"
    }
   ],
   "source": [
    "np.convolve(x, weights)"
   ]
  },
  {
   "cell_type": "code",
   "execution_count": 70,
   "metadata": {},
   "outputs": [
    {
     "data": {
      "text/plain": [
       "array([13., 14., 15., 16.])"
      ]
     },
     "execution_count": 70,
     "metadata": {},
     "output_type": "execute_result"
    }
   ],
   "source": [
    "np.convolve(x, weights)[N-1:-(N-1)] # Remove N-1 entries at the beginning and the end"
   ]
  },
  {
   "cell_type": "code",
   "execution_count": null,
   "metadata": {},
   "outputs": [],
   "source": []
  },
  {
   "cell_type": "code",
   "execution_count": null,
   "metadata": {},
   "outputs": [],
   "source": []
  },
  {
   "cell_type": "code",
   "execution_count": 71,
   "metadata": {},
   "outputs": [],
   "source": [
    "# Using the dataset\n",
    "\n",
    "# Import Date and closing price from the file (columns 0 and 5)\n",
    "\n",
    "dates, close = np.loadtxt(datafile, delimiter=',', \n",
    "                          skiprows=1, usecols=(0,5), \n",
    "                          converters={0: datestr2num},\n",
    "                          encoding='utf-8',\n",
    "                          unpack=True)\n",
    "\n",
    "close = np.round(close, 2)"
   ]
  },
  {
   "cell_type": "code",
   "execution_count": 72,
   "metadata": {},
   "outputs": [
    {
     "data": {
      "text/plain": [
       "178"
      ]
     },
     "execution_count": 72,
     "metadata": {},
     "output_type": "execute_result"
    }
   ],
   "source": [
    "len(close)"
   ]
  },
  {
   "cell_type": "code",
   "execution_count": 73,
   "metadata": {},
   "outputs": [],
   "source": [
    "# 20-day moving window\n",
    "\n",
    "N = 20"
   ]
  },
  {
   "cell_type": "code",
   "execution_count": 74,
   "metadata": {},
   "outputs": [],
   "source": [
    "weights = np.ones(N)/N"
   ]
  },
  {
   "cell_type": "code",
   "execution_count": 75,
   "metadata": {},
   "outputs": [
    {
     "data": {
      "text/plain": [
       "159"
      ]
     },
     "execution_count": 75,
     "metadata": {},
     "output_type": "execute_result"
    }
   ],
   "source": [
    "sma = np.convolve(c, weights)[N-1:-(N-1)]\n",
    "len(sma)"
   ]
  },
  {
   "cell_type": "code",
   "execution_count": 76,
   "metadata": {},
   "outputs": [
    {
     "data": {
      "text/plain": [
       "159"
      ]
     },
     "execution_count": 76,
     "metadata": {},
     "output_type": "execute_result"
    }
   ],
   "source": [
    "len(close[N-1:])"
   ]
  },
  {
   "cell_type": "code",
   "execution_count": 77,
   "metadata": {},
   "outputs": [
    {
     "data": {
      "image/png": "[encoded data removed]",
      "text/plain": [
       "<Figure size 432x288 with 1 Axes>"
      ]
     },
     "metadata": {
      "needs_background": "light"
     },
     "output_type": "display_data"
    }
   ],
   "source": [
    "t = np.arange(N - 1, len(close))\n",
    "\n",
    "plt.plot(t, close[N-1:], lw=1.0, label=\"Data\")\n",
    "\n",
    "plt.plot(t, sma, '--', lw=2.0, label=\"SMA\")\n",
    "\n",
    "plt.title(\"20 Day Moving Average\")\n",
    "plt.xlabel(\"Days\")\n",
    "plt.ylabel(\"Price ($)\")\n",
    "plt.grid()\n",
    "plt.legend()\n",
    "plt.show()"
   ]
  },
  {
   "cell_type": "code",
   "execution_count": 78,
   "metadata": {},
   "outputs": [
    {
     "data": {
      "image/png": "[encoded data removed]",
      "text/plain": [
       "<Figure size 864x576 with 1 Axes>"
      ]
     },
     "metadata": {
      "needs_background": "light"
     },
     "output_type": "display_data"
    }
   ],
   "source": [
    "fig, ax = plt.subplots(1, figsize=(12,8))\n",
    "\n",
    "candlestick_ohlc(ax, zip(np.arange(len(high[N-1:])),\n",
    "                         open[N-1:], high[N-1:],\n",
    "                         low[N-1:], close[N-1:]))\n",
    "\n",
    "t1 = np.arange(0, len(close) - N + 1)\n",
    "\n",
    "plt.plot(t1, close[N-1:], lw=2.0, label=\"Data\")\n",
    "\n",
    "plt.plot(t1, sma, '--', lw=2.0, label=\"SMA\")\n",
    "\n",
    "\n",
    "plt.xlabel('Days')\n",
    "\n",
    "plt.grid()\n",
    "plt.legend()\n",
    "plt.show()\n"
   ]
  },
  {
   "cell_type": "markdown",
   "metadata": {},
   "source": [
    "## Weighted Moving Average (WMA)"
   ]
  },
  {
   "cell_type": "code",
   "execution_count": 79,
   "metadata": {},
   "outputs": [
    {
     "data": {
      "text/plain": [
       "array([1.66666667, 3.33333333, 4.93333333, 6.4       , 7.66666667,\n",
       "       5.33333333, 3.33333333, 1.73333333, 0.6       ])"
      ]
     },
     "execution_count": 79,
     "metadata": {},
     "output_type": "execute_result"
    }
   ],
   "source": [
    "x = np.array([5,6,7,8,9])\n",
    "weights = np.array([5,4,3,2,1]) # older dates get lower weights\n",
    "np.convolve(x, weights)/np.sum(weights)"
   ]
  },
  {
   "cell_type": "code",
   "execution_count": 80,
   "metadata": {},
   "outputs": [
    {
     "data": {
      "text/plain": [
       "array([11, 12, 13, 14, 15, 16, 17, 18])"
      ]
     },
     "execution_count": 80,
     "metadata": {},
     "output_type": "execute_result"
    }
   ],
   "source": [
    "x = np.array([11,12,13,14,15,16,17,18])\n",
    "x"
   ]
  },
  {
   "cell_type": "code",
   "execution_count": 81,
   "metadata": {},
   "outputs": [],
   "source": [
    "# 5-Day Moving Average\n",
    "N = 5"
   ]
  },
  {
   "cell_type": "code",
   "execution_count": 82,
   "metadata": {},
   "outputs": [
    {
     "data": {
      "text/plain": [
       "array([1, 2, 3, 4, 5])"
      ]
     },
     "execution_count": 82,
     "metadata": {},
     "output_type": "execute_result"
    }
   ],
   "source": [
    "weights = np.arange(1, N+1)\n",
    "weights"
   ]
  },
  {
   "cell_type": "code",
   "execution_count": 83,
   "metadata": {},
   "outputs": [
    {
     "data": {
      "text/plain": [
       "13.666666666666666"
      ]
     },
     "execution_count": 83,
     "metadata": {},
     "output_type": "execute_result"
    }
   ],
   "source": [
    "# First day of 5-day WMA\n",
    "np.sum(x[0:N] * weights)/sum(weights)"
   ]
  },
  {
   "cell_type": "code",
   "execution_count": 84,
   "metadata": {},
   "outputs": [
    {
     "data": {
      "text/plain": [
       "14.666666666666666"
      ]
     },
     "execution_count": 84,
     "metadata": {},
     "output_type": "execute_result"
    }
   ],
   "source": [
    "# Second day of 5-day WMA\n",
    "np.sum(x[1:N+1] * weights)/sum(weights)"
   ]
  },
  {
   "cell_type": "code",
   "execution_count": 85,
   "metadata": {},
   "outputs": [
    {
     "data": {
      "text/plain": [
       "15.666666666666666"
      ]
     },
     "execution_count": 85,
     "metadata": {},
     "output_type": "execute_result"
    }
   ],
   "source": [
    "# Third day of 5-day WMA\n",
    "np.sum(x[2:N+2] * weights)/sum(weights)"
   ]
  },
  {
   "cell_type": "code",
   "execution_count": 86,
   "metadata": {},
   "outputs": [
    {
     "data": {
      "text/plain": [
       "16.666666666666668"
      ]
     },
     "execution_count": 86,
     "metadata": {},
     "output_type": "execute_result"
    }
   ],
   "source": [
    "# Fourth day of 5-day WMA\n",
    "np.sum(x[3:N+3] * weights)/sum(weights)"
   ]
  },
  {
   "cell_type": "code",
   "execution_count": 87,
   "metadata": {},
   "outputs": [
    {
     "data": {
      "text/plain": [
       "array([13.66666667, 14.66666667, 15.66666667, 16.66666667])"
      ]
     },
     "execution_count": 87,
     "metadata": {},
     "output_type": "execute_result"
    }
   ],
   "source": [
    "# Same as\n",
    "\n",
    "(np.convolve(x, weights[::-1])[N-1:-(N-1)])/sum(weights) # convolution requires weights reversed"
   ]
  },
  {
   "cell_type": "code",
   "execution_count": 88,
   "metadata": {},
   "outputs": [],
   "source": [
    "# Using the dataset\n",
    "\n",
    "dates, close = np.loadtxt(datafile, delimiter=',', \n",
    "                          skiprows=1, usecols=(0,5), \n",
    "                          converters={0: datestr2num},\n",
    "                          encoding='utf-8',\n",
    "                          unpack=True)\n",
    "\n",
    "close = np.round(close, 2)"
   ]
  },
  {
   "cell_type": "code",
   "execution_count": 89,
   "metadata": {},
   "outputs": [],
   "source": [
    "# 20-day moving window\n",
    "\n",
    "N = 20"
   ]
  },
  {
   "cell_type": "code",
   "execution_count": 90,
   "metadata": {},
   "outputs": [
    {
     "data": {
      "text/plain": [
       "array([ 1,  2,  3,  4,  5,  6,  7,  8,  9, 10, 11, 12, 13, 14, 15, 16, 17,\n",
       "       18, 19, 20])"
      ]
     },
     "execution_count": 90,
     "metadata": {},
     "output_type": "execute_result"
    }
   ],
   "source": [
    "weights = np.arange(1, N+1)\n",
    "weights"
   ]
  },
  {
   "cell_type": "code",
   "execution_count": 91,
   "metadata": {},
   "outputs": [
    {
     "data": {
      "text/plain": [
       "array([153.29871429, 154.5117619 , 155.69233333, 157.20319048,\n",
       "       158.88204762])"
      ]
     },
     "execution_count": 91,
     "metadata": {},
     "output_type": "execute_result"
    }
   ],
   "source": [
    "wma = (np.convolve(c, weights[::-1])[N-1:-(N-1)])/sum(weights)\n",
    "wma[:5]"
   ]
  },
  {
   "cell_type": "code",
   "execution_count": 92,
   "metadata": {},
   "outputs": [
    {
     "data": {
      "image/png": "[encoded data removed]",
      "text/plain": [
       "<Figure size 864x576 with 1 Axes>"
      ]
     },
     "metadata": {
      "needs_background": "light"
     },
     "output_type": "display_data"
    }
   ],
   "source": [
    "fig, ax = plt.subplots(1, figsize=(12,8))\n",
    "\n",
    "candlestick_ohlc(ax, zip(np.arange(len(high[N-1:])),\n",
    "                         open[N-1:], high[N-1:],\n",
    "                         low[N-1:], close[N-1:]))\n",
    "\n",
    "t1 = np.arange(0, len(close) - N + 1)\n",
    "\n",
    "plt.plot(t1, close[N-1:], lw=2.0, label=\"Data\")\n",
    "\n",
    "plt.plot(t1, sma, '--', lw=2.0, label=\"SMA\")\n",
    "\n",
    "plt.plot(t1, wma, '-.', lw=2.0, label=\"WMA\")\n",
    "\n",
    "\n",
    "plt.xlabel('Days')\n",
    "\n",
    "plt.grid()\n",
    "plt.legend()\n",
    "plt.show()\n"
   ]
  },
  {
   "cell_type": "code",
   "execution_count": null,
   "metadata": {},
   "outputs": [],
   "source": []
  },
  {
   "cell_type": "markdown",
   "metadata": {},
   "source": [
    "## Exponential Moving Average (EMA)\n",
    " - For analyzing time-series data\n",
    " - Alternative to SMA\n",
    " - Moving window of N periods\n",
    " - Uses exponentially decreasing weights\n",
    " - Gives higher weights to recent prices\n",
    " "
   ]
  },
  {
   "cell_type": "code",
   "execution_count": 93,
   "metadata": {},
   "outputs": [
    {
     "data": {
      "text/plain": [
       "array([11, 12, 13, 14, 15, 16, 17, 18])"
      ]
     },
     "execution_count": 93,
     "metadata": {},
     "output_type": "execute_result"
    }
   ],
   "source": [
    "x = np.array([11,12,13,14,15,16,17,18])\n",
    "x"
   ]
  },
  {
   "cell_type": "code",
   "execution_count": 102,
   "metadata": {},
   "outputs": [
    {
     "name": "stdout",
     "output_type": "stream",
     "text": [
      "v = [0.   0.25 0.5  0.75 1.  ]\n",
      "weights = [1.         1.28402542 1.64872127 2.11700002 2.71828183]\n"
     ]
    }
   ],
   "source": [
    "N = 5\n",
    "v = np.linspace(0, 1, N)\n",
    "print(\"v =\", v)\n",
    "weights = np.exp(v)  # e^value\n",
    "print(\"weights =\", weights)"
   ]
  },
  {
   "cell_type": "code",
   "execution_count": 95,
   "metadata": {},
   "outputs": [
    {
     "name": "stdout",
     "output_type": "stream",
     "text": [
      "Weights [0.11405072 0.14644403 0.18803785 0.24144538 0.31002201]\n"
     ]
    }
   ],
   "source": [
    "# Normalize weights\n",
    "weights /= weights.sum()\n",
    "print(\"Weights\", weights)"
   ]
  },
  {
   "cell_type": "code",
   "execution_count": 96,
   "metadata": {},
   "outputs": [
    {
     "data": {
      "text/plain": [
       "array([13.48694393, 14.48694393, 15.48694393, 16.48694393])"
      ]
     },
     "execution_count": 96,
     "metadata": {},
     "output_type": "execute_result"
    }
   ],
   "source": [
    "np.convolve(x, weights[::-1])[N-1:-(N-1)]"
   ]
  },
  {
   "cell_type": "code",
   "execution_count": null,
   "metadata": {},
   "outputs": [],
   "source": []
  },
  {
   "cell_type": "code",
   "execution_count": 97,
   "metadata": {},
   "outputs": [],
   "source": [
    "# Using the dataset\n",
    "\n",
    "# Import Date and closing price from the file (columns 0 and 5)\n",
    "\n",
    "dates, close = np.loadtxt(datafile, delimiter=',', \n",
    "                          skiprows=1, usecols=(0,5), \n",
    "                          converters={0: datestr2num},\n",
    "                          encoding='utf-8',\n",
    "                          unpack=True)\n",
    "\n",
    "close = np.round(close, 2)"
   ]
  },
  {
   "cell_type": "code",
   "execution_count": 98,
   "metadata": {},
   "outputs": [],
   "source": [
    "# 20-day moving window\n",
    "\n",
    "N = 20"
   ]
  },
  {
   "cell_type": "code",
   "execution_count": 99,
   "metadata": {},
   "outputs": [],
   "source": [
    "weights = np.exp(np.linspace(0, 1, N))\n",
    "\n",
    "# Normalize weights\n",
    "weights /= weights.sum()"
   ]
  },
  {
   "cell_type": "code",
   "execution_count": 100,
   "metadata": {},
   "outputs": [
    {
     "data": {
      "text/plain": [
       "159"
      ]
     },
     "execution_count": 100,
     "metadata": {},
     "output_type": "execute_result"
    }
   ],
   "source": [
    "ema = np.convolve(c, weights[::-1])[N-1:-(N-1)]\n",
    "len(ema)"
   ]
  },
  {
   "cell_type": "code",
   "execution_count": null,
   "metadata": {},
   "outputs": [],
   "source": []
  },
  {
   "cell_type": "code",
   "execution_count": 101,
   "metadata": {},
   "outputs": [
    {
     "data": {
      "image/png": "[encoded data removed]",
      "text/plain": [
       "<Figure size 864x576 with 1 Axes>"
      ]
     },
     "metadata": {
      "needs_background": "light"
     },
     "output_type": "display_data"
    }
   ],
   "source": [
    "fig, ax = plt.subplots(1, figsize=(12,8))\n",
    "\n",
    "candlestick_ohlc(ax, zip(np.arange(len(high[N-1:])),\n",
    "                         open[N-1:], high[N-1:],\n",
    "                         low[N-1:], close[N-1:]))\n",
    "\n",
    "t1 = np.arange(0, len(close) - N + 1)\n",
    "\n",
    "plt.plot(t1, close[N-1:], lw=2.0, label=\"Data\")\n",
    "\n",
    "plt.plot(t1, sma, '--', lw=2.0, label=\"SMA\")\n",
    "\n",
    "plt.plot(t1, wma, '-.', lw=2.0, label=\"WMA\")\n",
    "\n",
    "plt.plot(t1, ema, ':', lw=2.0, label=\"eMA\")\n",
    "\n",
    "\n",
    "plt.xlabel('Days')\n",
    "\n",
    "plt.grid()\n",
    "plt.legend()\n",
    "plt.show()"
   ]
  },
  {
   "cell_type": "code",
   "execution_count": null,
   "metadata": {},
   "outputs": [],
   "source": []
  }
 ],
 "metadata": {
  "kernelspec": {
   "display_name": "Python 3",
   "language": "python",
   "name": "python3"
  },
  "language_info": {
   "codemirror_mode": {
    "name": "ipython",
    "version": 3
   },
   "file_extension": ".py",
   "mimetype": "text/x-python",
   "name": "python",
   "nbconvert_exporter": "python",
   "pygments_lexer": "ipython3",
   "version": "3.6.6"
  }
 },
 "nbformat": 4,
 "nbformat_minor": 2
}
