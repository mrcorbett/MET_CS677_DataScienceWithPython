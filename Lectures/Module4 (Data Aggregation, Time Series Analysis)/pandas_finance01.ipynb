{
 "cells": [
  {
   "cell_type": "markdown",
   "metadata": {},
   "source": [
    "## Pandas - Applications in Finance"
   ]
  },
  {
   "cell_type": "code",
   "execution_count": 1,
   "metadata": {},
   "outputs": [
    {
     "ename": "ModuleNotFoundError",
     "evalue": "No module named 'mpl_finance'",
     "output_type": "error",
     "traceback": [
      "\u001b[0;31m---------------------------------------------------------------------------\u001b[0m",
      "\u001b[0;31mModuleNotFoundError\u001b[0m                       Traceback (most recent call last)",
      "\u001b[0;32m<ipython-input-1-59afa3504834>\u001b[0m in \u001b[0;36m<module>\u001b[0;34m\u001b[0m\n\u001b[1;32m      4\u001b[0m \u001b[0;34m\u001b[0m\u001b[0m\n\u001b[1;32m      5\u001b[0m \u001b[0;32mimport\u001b[0m \u001b[0mmatplotlib\u001b[0m\u001b[0;34m.\u001b[0m\u001b[0mpyplot\u001b[0m \u001b[0;32mas\u001b[0m \u001b[0mplt\u001b[0m\u001b[0;34m\u001b[0m\u001b[0m\n\u001b[0;32m----> 6\u001b[0;31m \u001b[0;32mfrom\u001b[0m \u001b[0mmpl_finance\u001b[0m \u001b[0;32mimport\u001b[0m \u001b[0mcandlestick_ohlc\u001b[0m\u001b[0;34m\u001b[0m\u001b[0m\n\u001b[0m\u001b[1;32m      7\u001b[0m \u001b[0;34m\u001b[0m\u001b[0m\n\u001b[1;32m      8\u001b[0m \u001b[0;32mimport\u001b[0m \u001b[0mmatplotlib\u001b[0m\u001b[0;34m.\u001b[0m\u001b[0mdates\u001b[0m \u001b[0;32mas\u001b[0m \u001b[0mmdates\u001b[0m\u001b[0;34m\u001b[0m\u001b[0m\n",
      "\u001b[0;31mModuleNotFoundError\u001b[0m: No module named 'mpl_finance'"
     ]
    }
   ],
   "source": [
    "import numpy as np\n",
    "import pandas as pd\n",
    "import datetime, calendar\n",
    "\n",
    "import matplotlib.pyplot as plt\n",
    "from mpl_finance import candlestick_ohlc\n",
    "\n",
    "import matplotlib.dates as mdates\n",
    "\n",
    "np.set_printoptions(suppress=True)"
   ]
  },
  {
   "cell_type": "code",
   "execution_count": null,
   "metadata": {},
   "outputs": [],
   "source": [
    "datafile = 'http://people.bu.edu/kalathur/datasets/AAPL.csv'\n",
    "\n",
    "df = pd.read_csv(datafile, index_col='Date', parse_dates=True)\n",
    "df = df.round(2)\n",
    "df"
   ]
  },
  {
   "cell_type": "code",
   "execution_count": null,
   "metadata": {},
   "outputs": [],
   "source": [
    "df.mean().round(2)"
   ]
  },
  {
   "cell_type": "markdown",
   "metadata": {},
   "source": [
    "**Volume Weighted Average Price (VWAP)**"
   ]
  },
  {
   "cell_type": "code",
   "execution_count": null,
   "metadata": {},
   "outputs": [],
   "source": [
    "vwap = np.average(df['Adj Close'], weights=df['Volume'])\n",
    "print(\"VWAP =\", vwap)"
   ]
  },
  {
   "cell_type": "markdown",
   "metadata": {},
   "source": [
    "### Averages by Day of Week"
   ]
  },
  {
   "cell_type": "code",
   "execution_count": null,
   "metadata": {},
   "outputs": [],
   "source": [
    "for freq in ['W-MON', 'W-TUE', 'W-WED', 'W-THU', 'W-FRI']:\n",
    "    print(freq, \"Average\", df.resample(freq).asfreq().dropna()['Adj Close'].mean().round(2))"
   ]
  },
  {
   "cell_type": "code",
   "execution_count": null,
   "metadata": {},
   "outputs": [],
   "source": [
    "result = df.groupby(df.index.dayofweek)['Adj Close'].mean().round(2)\n",
    "result"
   ]
  },
  {
   "cell_type": "code",
   "execution_count": null,
   "metadata": {},
   "outputs": [],
   "source": [
    "result.index = [calendar.day_name[index] for index in result.index]\n",
    "result"
   ]
  },
  {
   "cell_type": "code",
   "execution_count": null,
   "metadata": {},
   "outputs": [],
   "source": []
  },
  {
   "cell_type": "markdown",
   "metadata": {},
   "source": [
    "**Interpreting Moving Averages**\n",
    "\n",
    "https://www.tradingview.com/wiki/Moving_Average"
   ]
  },
  {
   "cell_type": "markdown",
   "metadata": {},
   "source": [
    "## Simple Moving Average (SMA)\n",
    " - For analyzing time-series data\n",
    " - Moving window of N periods\n",
    " - Mean of values inside the window\n",
    " - an unweighted moving average"
   ]
  },
  {
   "cell_type": "code",
   "execution_count": null,
   "metadata": {},
   "outputs": [],
   "source": [
    "# 20-day moving window\n",
    "\n",
    "N = 20"
   ]
  },
  {
   "cell_type": "code",
   "execution_count": null,
   "metadata": {},
   "outputs": [],
   "source": [
    "newDF = df.copy()"
   ]
  },
  {
   "cell_type": "code",
   "execution_count": null,
   "metadata": {},
   "outputs": [],
   "source": [
    "newDF['SMA'] = df['Adj Close'].rolling(window=N).mean().round(2)\n",
    "newDF"
   ]
  },
  {
   "cell_type": "code",
   "execution_count": null,
   "metadata": {},
   "outputs": [],
   "source": [
    "newDF['mDate'] = mdates.date2num(df.index)\n",
    "newDF\n",
    "    "
   ]
  },
  {
   "cell_type": "code",
   "execution_count": null,
   "metadata": {},
   "outputs": [],
   "source": [
    "olhc = newDF[['mDate', 'Open', 'High', 'Low', 'Adj Close']].copy().values\n",
    "olhc[:5]"
   ]
  },
  {
   "cell_type": "code",
   "execution_count": null,
   "metadata": {},
   "outputs": [],
   "source": [
    "fig, ax = plt.subplots(1, figsize=(12,8))\n",
    "\n",
    "candlestick_ohlc(ax, olhc)\n",
    "\n",
    "plt.plot(newDF['mDate'], newDF['Adj Close'], label='Data')\n",
    "plt.plot(newDF['mDate'], newDF['SMA'], '--', lw=2.0, label='SMA')\n",
    "\n",
    "ax.xaxis.set_major_formatter(mdates.DateFormatter('%Y-%m'))\n",
    "\n",
    "plt.title(\"20 Day Moving Average\")\n",
    "plt.xlabel(\"Days\")\n",
    "plt.ylabel(\"Price ($)\")\n",
    "plt.grid()\n",
    "plt.legend()\n",
    "plt.show()\n",
    "\n"
   ]
  },
  {
   "cell_type": "code",
   "execution_count": null,
   "metadata": {},
   "outputs": [],
   "source": [
    "# Show plot for lastN values only\n",
    "\n",
    "lastN = 50\n",
    "\n",
    "fig, ax = plt.subplots(1, figsize=(12,8))\n",
    "\n",
    "candlestick_ohlc(ax, olhc[-lastN:])\n",
    "\n",
    "plt.plot(newDF['mDate'][-lastN:], newDF['Adj Close'][-lastN:], label='Data')\n",
    "plt.plot(newDF['mDate'][-lastN:], newDF['SMA'][-lastN:], '--', lw=2.0, label='SMA')\n",
    "\n",
    "ax.xaxis.set_major_formatter(mdates.DateFormatter('%Y-%m'))\n",
    "\n",
    "plt.title(\"20 Day Moving Average\")\n",
    "plt.xlabel(\"Days\")\n",
    "plt.ylabel(\"Price ($)\")\n",
    "plt.grid()\n",
    "plt.legend()\n",
    "plt.show()"
   ]
  },
  {
   "cell_type": "markdown",
   "metadata": {},
   "source": [
    "## Weighted Moving Average (WMA)"
   ]
  },
  {
   "cell_type": "code",
   "execution_count": null,
   "metadata": {},
   "outputs": [],
   "source": [
    "# 20-day moving window\n",
    "\n",
    "N = 20"
   ]
  },
  {
   "cell_type": "code",
   "execution_count": null,
   "metadata": {},
   "outputs": [],
   "source": [
    "weights = np.arange(1, N+1)\n",
    "print(weights)"
   ]
  },
  {
   "cell_type": "code",
   "execution_count": null,
   "metadata": {},
   "outputs": [],
   "source": [
    "# Return closure function to be applied on each group\n",
    "\n",
    "def f(w):\n",
    "    def g(x):\n",
    "        return np.sum(x*w)/sum(w)\n",
    "    return g"
   ]
  },
  {
   "cell_type": "code",
   "execution_count": null,
   "metadata": {},
   "outputs": [],
   "source": []
  },
  {
   "cell_type": "code",
   "execution_count": null,
   "metadata": {},
   "outputs": [],
   "source": [
    "newDF['WMA'] = df[['Adj Close']].rolling(window=N).apply(f(weights))\n",
    "newDF"
   ]
  },
  {
   "cell_type": "code",
   "execution_count": null,
   "metadata": {},
   "outputs": [],
   "source": [
    "fig, ax = plt.subplots(1, figsize=(12,8))\n",
    "\n",
    "plt.plot(newDF.index, newDF['Adj Close'], label='Data')\n",
    "plt.plot(newDF.index, newDF['SMA'], '--', lw=2.0, label='SMA')\n",
    "plt.plot(newDF.index, newDF['WMA'], '-.', lw=2.0, label='WMA')\n",
    "\n",
    "plt.title(\"20 Day Moving Average\")\n",
    "plt.xlabel(\"Days\")\n",
    "plt.ylabel(\"Price ($)\")\n",
    "plt.grid()\n",
    "plt.legend()\n",
    "plt.show()\n"
   ]
  },
  {
   "cell_type": "code",
   "execution_count": null,
   "metadata": {},
   "outputs": [],
   "source": []
  },
  {
   "cell_type": "markdown",
   "metadata": {},
   "source": [
    "## Exponential Moving Average (EMA)\n",
    " - For analyzing time-series data\n",
    " - Alternative to SMA\n",
    " - Moving window of N periods\n",
    " - Uses exponentially decreasing weights\n",
    " - Gives higher weights to recent prices\n",
    " - weighted averages are calculated using weights $(1-alpha)**(n-1), (1-alpha)**(n-2), …, 1-alpha, 1$\n",
    " "
   ]
  },
  {
   "cell_type": "code",
   "execution_count": null,
   "metadata": {},
   "outputs": [],
   "source": [
    "newDF['EMA'] = df[['Adj Close']].ewm(alpha=0.5, min_periods=N).mean()\n",
    "newDF"
   ]
  },
  {
   "cell_type": "code",
   "execution_count": null,
   "metadata": {},
   "outputs": [],
   "source": [
    "fig, ax = plt.subplots(1, figsize=(12,8))\n",
    "\n",
    "plt.plot(newDF.index, newDF['Adj Close'], label='Data')\n",
    "plt.plot(newDF.index, newDF['SMA'], '--', lw=2.0, label='SMA')\n",
    "plt.plot(newDF.index, newDF['WMA'], '-.', lw=2.0, label='WMA')\n",
    "plt.plot(newDF.index, newDF['EMA'], ':',  lw=2.0, label=\"EMA\")\n",
    "\n",
    "\n",
    "plt.title(\"20 Day Moving Average\")\n",
    "plt.xlabel(\"Days\")\n",
    "plt.ylabel(\"Price ($)\")\n",
    "plt.grid()\n",
    "plt.legend()\n",
    "plt.show()"
   ]
  },
  {
   "cell_type": "code",
   "execution_count": null,
   "metadata": {},
   "outputs": [],
   "source": []
  }
 ],
 "metadata": {
  "kernelspec": {
   "display_name": "Python 3",
   "language": "python",
   "name": "python3"
  },
  "language_info": {
   "codemirror_mode": {
    "name": "ipython",
    "version": 3
   },
   "file_extension": ".py",
   "mimetype": "text/x-python",
   "name": "python",
   "nbconvert_exporter": "python",
   "pygments_lexer": "ipython3",
   "version": "3.6.6"
  }
 },
 "nbformat": 4,
 "nbformat_minor": 2
}
