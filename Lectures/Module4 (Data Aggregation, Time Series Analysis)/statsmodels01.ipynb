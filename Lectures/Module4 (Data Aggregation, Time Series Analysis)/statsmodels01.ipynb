{
 "cells": [
  {
   "cell_type": "markdown",
   "metadata": {},
   "source": [
    "### Case Studies - Seasonal Decomposition"
   ]
  },
  {
   "cell_type": "code",
   "execution_count": null,
   "metadata": {},
   "outputs": [],
   "source": [
    "import pandas as pd\n",
    "import numpy as  np\n",
    "\n",
    "import seaborn as sns\n",
    "import matplotlib.pyplot as plt\n",
    "\n",
    "sns.set(style=\"ticks\")\n",
    "\n",
    "pd.options.display.max_rows = 12"
   ]
  },
  {
   "cell_type": "code",
   "execution_count": null,
   "metadata": {},
   "outputs": [],
   "source": [
    "from statsmodels.tsa.seasonal import seasonal_decompose"
   ]
  },
  {
   "cell_type": "markdown",
   "metadata": {},
   "source": [
    "#### https://www.ons.gov.uk/peoplepopulationandcommunity/leisureandtourism/timeseries/gmaa/ott\n"
   ]
  },
  {
   "cell_type": "code",
   "execution_count": null,
   "metadata": {},
   "outputs": [],
   "source": [
    "df = pd.read_csv(\"http://people.bu.edu/kalathur/datasets/GMAA-071119.csv\",\n",
    "                header=None, skiprows=6, parse_dates=[0], names=['period','value'])\n",
    "df"
   ]
  },
  {
   "cell_type": "code",
   "execution_count": null,
   "metadata": {},
   "outputs": [],
   "source": [
    "df.set_index('period', inplace=True)\n",
    "df"
   ]
  },
  {
   "cell_type": "code",
   "execution_count": null,
   "metadata": {},
   "outputs": [],
   "source": [
    "df.value.describe()"
   ]
  },
  {
   "cell_type": "code",
   "execution_count": null,
   "metadata": {},
   "outputs": [],
   "source": [
    "max_date = df.index.max()\n",
    "min_date = df.index.min()\n",
    "\n",
    "num_of_actual_points = df.index.shape[0]\n",
    "num_of_expected_points = (max_date.year - min_date.year) * 12 + max_date.month - min_date.month + 1\n",
    "\n",
    "print(\"Date range: {} - {}\".format(min_date.strftime(\"%d.%m.%Y\"), max_date.strftime(\"%d.%m.%Y\")))\n",
    "print(\"Number of data points: {} of expected {}\".format(num_of_actual_points, num_of_expected_points))"
   ]
  },
  {
   "cell_type": "code",
   "execution_count": null,
   "metadata": {},
   "outputs": [],
   "source": [
    "fig, ax = plt.subplots(figsize=(18,6))\n",
    "\n",
    "df.plot(ax=ax)\n",
    "\n",
    "plt.legend(loc='upper left');"
   ]
  },
  {
   "cell_type": "code",
   "execution_count": null,
   "metadata": {},
   "outputs": [],
   "source": [
    "zoom_range = df['2017':'2018']\n",
    "zoom_range"
   ]
  },
  {
   "cell_type": "code",
   "execution_count": null,
   "metadata": {},
   "outputs": [],
   "source": [
    "fig, ax = plt.subplots(figsize=(18,6))\n",
    "zoom_range.plot(ax=ax)\n",
    "plt.legend(loc='upper left');"
   ]
  },
  {
   "cell_type": "markdown",
   "metadata": {},
   "source": [
    "- The data has periodic fluctuations each year and overall tendency to grow up.\n",
    "- Thus, the time series has the trend and yearly seasonality components, and we can try to decompose them using statsmodels package.\n",
    "- From the data view, the additive model better fits for data representation.\n"
   ]
  },
  {
   "cell_type": "code",
   "execution_count": null,
   "metadata": {},
   "outputs": [],
   "source": [
    "from statsmodels.tsa import stattools as stt\n",
    "from statsmodels.tsa.seasonal import seasonal_decompose"
   ]
  },
  {
   "cell_type": "code",
   "execution_count": null,
   "metadata": {},
   "outputs": [],
   "source": [
    "decompfreq = 12  # 12 months seasonality\n",
    "model = 'additive'\n",
    "\n",
    "decomposition = seasonal_decompose(df.value.interpolate(\"linear\"), \n",
    "                                   freq=decompfreq, model=model)"
   ]
  },
  {
   "cell_type": "code",
   "execution_count": null,
   "metadata": {},
   "outputs": [],
   "source": [
    "df_decomposed = pd.DataFrame({'trend': decomposition.trend,\n",
    "                              'seasonal' : decomposition.seasonal,\n",
    "                              'residual' : decomposition.resid})\n",
    "\n",
    "df_decomposed"
   ]
  },
  {
   "cell_type": "code",
   "execution_count": null,
   "metadata": {},
   "outputs": [],
   "source": [
    "df_decomposed.dropna()"
   ]
  },
  {
   "cell_type": "code",
   "execution_count": null,
   "metadata": {},
   "outputs": [],
   "source": [
    "fig, ax = plt.subplots(figsize=(18,6))\n",
    "\n",
    "df.plot(ax=ax, label=\"observed\", c='lightgrey')\n",
    "\n",
    "df_decomposed.plot(ax=ax)\n",
    "\n",
    "plt.legend(loc='upper left');"
   ]
  },
  {
   "cell_type": "markdown",
   "metadata": {},
   "source": [
    "#### https://fred.stlouisfed.org/series/TOTALSA\n",
    " - in millions of units"
   ]
  },
  {
   "cell_type": "code",
   "execution_count": null,
   "metadata": {},
   "outputs": [],
   "source": [
    "vehicle_sales = pd.read_csv('http://people.bu.edu/kalathur/datasets/total_vehiclesales.csv',\n",
    "                           parse_dates=['DATE'],\n",
    "                           index_col='DATE') \n",
    "  \n",
    "vehicle_sales"
   ]
  },
  {
   "cell_type": "code",
   "execution_count": null,
   "metadata": {},
   "outputs": [],
   "source": [
    "fig, ax = plt.subplots(figsize=(18,6))\n",
    "plt.ylabel('Sales')\n",
    "\n",
    "vehicle_sales.plot(ax=ax);\n",
    "\n",
    "plt.title('Monthly Vehicle Sales');"
   ]
  },
  {
   "cell_type": "code",
   "execution_count": null,
   "metadata": {},
   "outputs": [],
   "source": [
    "vehicle_sales_decomp = seasonal_decompose(vehicle_sales, freq=12)"
   ]
  },
  {
   "cell_type": "code",
   "execution_count": null,
   "metadata": {},
   "outputs": [],
   "source": [
    "trend    = vehicle_sales_decomp.trend\n",
    "seasonal = vehicle_sales_decomp.seasonal \n",
    "residual = vehicle_sales_decomp.resid"
   ]
  },
  {
   "cell_type": "code",
   "execution_count": null,
   "metadata": {},
   "outputs": [],
   "source": [
    "seasonal"
   ]
  },
  {
   "cell_type": "code",
   "execution_count": null,
   "metadata": {},
   "outputs": [],
   "source": [
    "df_decomposed = pd.DataFrame({'trend': vehicle_sales_decomp.trend.TOTALSA,\n",
    "                              'seasonal' : vehicle_sales_decomp.seasonal.TOTALSA,\n",
    "                              'residual' : vehicle_sales_decomp.resid.TOTALSA})\n",
    "df_decomposed"
   ]
  },
  {
   "cell_type": "code",
   "execution_count": null,
   "metadata": {},
   "outputs": [],
   "source": [
    "df_decomposed.dropna()"
   ]
  },
  {
   "cell_type": "code",
   "execution_count": null,
   "metadata": {},
   "outputs": [],
   "source": [
    "fig, ax = plt.subplots(figsize=(18,12))\n",
    "vehicle_sales.plot(ax=ax, label=\"observed\", c='lightgrey')\n",
    "\n",
    "df_decomposed.plot(ax=ax, label=\"trend\")\n",
    "plt.legend(loc='upper left');"
   ]
  },
  {
   "cell_type": "code",
   "execution_count": null,
   "metadata": {},
   "outputs": [],
   "source": [
    "fig, ax = plt.subplots(figsize=(18,12))\n",
    "\n",
    "ax.plot(vehicle_sales - trend, \n",
    "         color='Green', label='Detrended data')\n",
    "\n",
    "ax.plot(seasonal, \n",
    "         color='Coral', label='Seasonal component')\n",
    "\n",
    "plt.legend(loc='upper left');"
   ]
  },
  {
   "cell_type": "code",
   "execution_count": null,
   "metadata": {},
   "outputs": [],
   "source": []
  }
 ],
 "metadata": {
  "kernelspec": {
   "display_name": "Python 3",
   "language": "python",
   "name": "python3"
  },
  "language_info": {
   "codemirror_mode": {
    "name": "ipython",
    "version": 3
   },
   "file_extension": ".py",
   "mimetype": "text/x-python",
   "name": "python",
   "nbconvert_exporter": "python",
   "pygments_lexer": "ipython3",
   "version": "3.7.1"
  }
 },
 "nbformat": 4,
 "nbformat_minor": 2
}
