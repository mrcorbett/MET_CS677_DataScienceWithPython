{
 "cells": [
  {
   "cell_type": "markdown",
   "metadata": {},
   "source": [
    "# Time Series - Lesson 1"
   ]
  },
  {
   "cell_type": "markdown",
   "metadata": {},
   "source": [
    "## Functions Covered\n",
    "\n",
    "from datetime import datetime, date\n",
    "\n",
    "from datetime import timedelta\n",
    "\n",
    "from dateutil.parser import parse\n",
    "\n",
    "\n",
    "now = datetime.now()\n",
    "\n",
    "date.today()\n",
    "\n",
    "datetime(2019, 1, 31, 8, 30)\n",
    "\n",
    "timedelta(12, 30, 10)\n",
    "\n",
    "\n",
    "print(stamp.strftime('%Y-%m-%d'))\n",
    "\n",
    "print(stamp.strftime('%y-%m-%d'))\n",
    "\n",
    "print(stamp.strftime('%A, %B %d, %Y'))\n",
    "\n",
    "print(stamp.strftime('%a, %b %d, %Y'))\n",
    "\n",
    "\n",
    "datetime.strptime(value, '%Y-%m-%d')\n",
    "\n",
    "parse('31/1/2019', dayfirst=True)\n",
    "\n",
    "datestrs = ['2019-01-06 12:00:00', '2019-02-06 00:00:00']\n",
    "\n",
    "pd.to_datetime(datestrs)\n",
    "\n",
    "longer_ts['2019-08' : '2019-09']\n",
    "\n",
    "ts[datetime(2019, 1, 3):]\n",
    "\n",
    "ts.truncate(after='1/3/2019')\n",
    "\n",
    "\n",
    "https://pandas.pydata.org/pandas-docs/stable/user_guide/timeseries.html#offset-aliases\n",
    "\n",
    "dates = pd.date_range('1/1/2019', periods=100, freq='W-Tue') \n",
    "\n",
    "dates = pd.date_range('1/1/2019', periods=100, freq='W')\n",
    "\n",
    "resampler = ts.resample('D')\n",
    "\n",
    "resampler = ts.resample('3D')\n",
    "\n",
    "index = pd.date_range('2019-11-01', '2019-12-01')\n",
    "\n",
    "pd.date_range('2019-11-01', '2019-12-01', freq='B')\n",
    "\n",
    "- Normalize start/end dates to midnight before generating date range\n",
    "\n",
    "pd.date_range('2019-11-01 12:56:31', periods=5, normalize=True)\n",
    "\n",
    "ts2.shift(3)\n",
    "\n",
    "\n",
    "offset = MonthEnd()\n",
    "\n",
    "offset.rollforward(now), offset.rollback(now)\n",
    "\n",
    "rng = pd.date_range('2019-01-01', periods=12, freq='T')\n",
    "\n",
    "ts4 = pd.Series(np.random.randint(10, 50, 12), index=rng)\n",
    "\n",
    "- o=start, h=high value, l=low value, c=close value\n",
    "\n",
    "ts4.resample('5min').ohlc() \n",
    "\n",
    "frame.resample('D').ffill(limit=2)\n",
    "\n"
   ]
  },
  {
   "cell_type": "code",
   "execution_count": 1,
   "metadata": {},
   "outputs": [],
   "source": [
    "import numpy as np\n",
    "import pandas as pd"
   ]
  },
  {
   "cell_type": "code",
   "execution_count": 2,
   "metadata": {},
   "outputs": [],
   "source": [
    "np.random.seed(12345)\n",
    "np.set_printoptions(precision=4, suppress=True)"
   ]
  },
  {
   "cell_type": "markdown",
   "metadata": {},
   "source": [
    "## Date and Time Data Types and Tools"
   ]
  },
  {
   "cell_type": "code",
   "execution_count": 3,
   "metadata": {},
   "outputs": [
    {
     "name": "stdout",
     "output_type": "stream",
     "text": [
      "2019-11-11 17:33:52.125507\n",
      "2019 11 11\n",
      "2019-11-11\n"
     ]
    }
   ],
   "source": [
    "from datetime import datetime, date\n",
    "\n",
    "now = datetime.now()\n",
    "print(now)\n",
    "\n",
    "print(now.year, now.month, now.day)\n",
    "\n",
    "print(date.today())"
   ]
  },
  {
   "cell_type": "markdown",
   "metadata": {},
   "source": [
    "- datetime(year, month, day, hour=0, minute=0, second=0, microsecond=0)"
   ]
  },
  {
   "cell_type": "code",
   "execution_count": 4,
   "metadata": {},
   "outputs": [
    {
     "data": {
      "text/plain": [
       "datetime.datetime(2019, 1, 31, 8, 30)"
      ]
     },
     "execution_count": 4,
     "metadata": {},
     "output_type": "execute_result"
    }
   ],
   "source": [
    "datetime(2019, 1, 31, 8, 30)"
   ]
  },
  {
   "cell_type": "code",
   "execution_count": 5,
   "metadata": {},
   "outputs": [
    {
     "name": "stdout",
     "output_type": "stream",
     "text": [
      "30 600\n"
     ]
    },
    {
     "data": {
      "text/plain": [
       "datetime.timedelta(30, 600)"
      ]
     },
     "execution_count": 5,
     "metadata": {},
     "output_type": "execute_result"
    }
   ],
   "source": [
    "delta = datetime(2019, 1, 31, 8, 30) - datetime(2019, 1, 1, 8, 20)\n",
    "print(delta.days, delta.seconds)\n",
    "delta"
   ]
  },
  {
   "cell_type": "markdown",
   "metadata": {},
   "source": [
    "- timedelta(days=0, seconds=0, microseconds=0, milliseconds=0, minutes=0, hours=0, weeks=0)"
   ]
  },
  {
   "cell_type": "code",
   "execution_count": 6,
   "metadata": {},
   "outputs": [],
   "source": [
    "from datetime import timedelta"
   ]
  },
  {
   "cell_type": "code",
   "execution_count": 7,
   "metadata": {},
   "outputs": [
    {
     "data": {
      "text/plain": [
       "datetime.timedelta(12, 30, 10)"
      ]
     },
     "execution_count": 7,
     "metadata": {},
     "output_type": "execute_result"
    }
   ],
   "source": [
    "timedelta(12, 30, 10)"
   ]
  },
  {
   "cell_type": "code",
   "execution_count": 8,
   "metadata": {},
   "outputs": [
    {
     "data": {
      "text/plain": [
       "(datetime.datetime(2019, 1, 13, 0, 0, 30),\n",
       " datetime.datetime(2019, 1, 25, 0, 0))"
      ]
     },
     "execution_count": 8,
     "metadata": {},
     "output_type": "execute_result"
    }
   ],
   "source": [
    "start = datetime(2019, 1, 1)\n",
    "start + timedelta(12, 30),  start + 2 * timedelta(12)"
   ]
  },
  {
   "cell_type": "markdown",
   "metadata": {},
   "source": [
    "### Converting Between String and Datetime"
   ]
  },
  {
   "cell_type": "code",
   "execution_count": 9,
   "metadata": {},
   "outputs": [
    {
     "name": "stdout",
     "output_type": "stream",
     "text": [
      "2019-01-15 00:00:00\n",
      "2019-01-15\n",
      "19-01-15\n",
      "Tuesday, January 15, 2019\n",
      "Tue, Jan 15, 2019\n"
     ]
    }
   ],
   "source": [
    "# format\n",
    "\n",
    "stamp = datetime(2019, 1, 15)\n",
    "\n",
    "print(str(stamp))\n",
    "print(stamp.strftime('%Y-%m-%d'))\n",
    "print(stamp.strftime('%y-%m-%d'))\n",
    "print(stamp.strftime('%A, %B %d, %Y'))\n",
    "print(stamp.strftime('%a, %b %d, %Y'))"
   ]
  },
  {
   "cell_type": "code",
   "execution_count": 10,
   "metadata": {},
   "outputs": [
    {
     "data": {
      "text/plain": [
       "datetime.datetime(2019, 1, 15, 0, 0)"
      ]
     },
     "execution_count": 10,
     "metadata": {},
     "output_type": "execute_result"
    }
   ],
   "source": [
    "# parse\n",
    "\n",
    "value = '2019-01-15'\n",
    "datetime.strptime(value, '%Y-%m-%d')"
   ]
  },
  {
   "cell_type": "code",
   "execution_count": 11,
   "metadata": {},
   "outputs": [
    {
     "data": {
      "text/plain": [
       "[datetime.datetime(2019, 1, 15, 0, 0), datetime.datetime(2019, 1, 30, 0, 0)]"
      ]
     },
     "execution_count": 11,
     "metadata": {},
     "output_type": "execute_result"
    }
   ],
   "source": [
    "datestrs = ['1/15/2019', '1/30/2019']\n",
    "[datetime.strptime(x, '%m/%d/%Y') for x in datestrs]"
   ]
  },
  {
   "cell_type": "code",
   "execution_count": 12,
   "metadata": {},
   "outputs": [
    {
     "data": {
      "text/plain": [
       "datetime.datetime(2019, 1, 15, 0, 0)"
      ]
     },
     "execution_count": 12,
     "metadata": {},
     "output_type": "execute_result"
    }
   ],
   "source": [
    "value = 'Tuesday, January 15, 2019'\n",
    "datetime.strptime(value, '%A, %B %d, %Y')"
   ]
  },
  {
   "cell_type": "markdown",
   "metadata": {},
   "source": [
    "- dateutil.parser module offers a generic date/time string parser which is able to parse most known formats to represent a date and/or time"
   ]
  },
  {
   "cell_type": "code",
   "execution_count": 13,
   "metadata": {},
   "outputs": [
    {
     "data": {
      "text/plain": [
       "datetime.datetime(2019, 1, 31, 0, 0)"
      ]
     },
     "execution_count": 13,
     "metadata": {},
     "output_type": "execute_result"
    }
   ],
   "source": [
    "from dateutil.parser import parse\n",
    "parse('2019-01-31')"
   ]
  },
  {
   "cell_type": "code",
   "execution_count": 14,
   "metadata": {},
   "outputs": [
    {
     "data": {
      "text/plain": [
       "datetime.datetime(2019, 1, 31, 10, 45)"
      ]
     },
     "execution_count": 14,
     "metadata": {},
     "output_type": "execute_result"
    }
   ],
   "source": [
    "parse('Jan 31, 2019 10:45 AM')"
   ]
  },
  {
   "cell_type": "code",
   "execution_count": 15,
   "metadata": {},
   "outputs": [
    {
     "data": {
      "text/plain": [
       "datetime.datetime(2019, 1, 31, 0, 0)"
      ]
     },
     "execution_count": 15,
     "metadata": {},
     "output_type": "execute_result"
    }
   ],
   "source": [
    "parse('31/1/2019', dayfirst=True)"
   ]
  },
  {
   "cell_type": "markdown",
   "metadata": {},
   "source": [
    "### pandas to_datetime method"
   ]
  },
  {
   "cell_type": "code",
   "execution_count": 16,
   "metadata": {},
   "outputs": [
    {
     "data": {
      "text/plain": [
       "DatetimeIndex(['2019-01-06 12:00:00', '2019-02-06 00:00:00'], dtype='datetime64[ns]', freq=None)"
      ]
     },
     "execution_count": 16,
     "metadata": {},
     "output_type": "execute_result"
    }
   ],
   "source": [
    "datestrs = ['2019-01-06 12:00:00', '2019-02-06 00:00:00']\n",
    "pd.to_datetime(datestrs)"
   ]
  },
  {
   "cell_type": "code",
   "execution_count": null,
   "metadata": {},
   "outputs": [],
   "source": []
  },
  {
   "cell_type": "markdown",
   "metadata": {},
   "source": [
    "## Time Series Operations"
   ]
  },
  {
   "cell_type": "code",
   "execution_count": 17,
   "metadata": {},
   "outputs": [
    {
     "data": {
      "text/plain": [
       "2018-12-31    99\n",
       "2019-01-01    30\n",
       "2019-01-02     2\n",
       "2019-01-03    37\n",
       "2019-01-04    42\n",
       "2019-01-07    35\n",
       "2019-01-08    30\n",
       "dtype: int64"
      ]
     },
     "execution_count": 17,
     "metadata": {},
     "output_type": "execute_result"
    }
   ],
   "source": [
    "np.random.seed(12345)\n",
    "\n",
    "dates = [datetime(2018, 12, 31),\n",
    "         datetime(2019, 1, 1), datetime(2019, 1, 2),\n",
    "         datetime(2019, 1, 3), datetime(2019, 1, 4),\n",
    "         datetime(2019, 1, 7), datetime(2019, 1, 8)]\n",
    "\n",
    "ts = pd.Series(np.random.randint(1, 100, 7), index=dates)\n",
    "ts"
   ]
  },
  {
   "cell_type": "code",
   "execution_count": 18,
   "metadata": {},
   "outputs": [
    {
     "data": {
      "text/plain": [
       "DatetimeIndex(['2018-12-31', '2019-01-01', '2019-01-02', '2019-01-03',\n",
       "               '2019-01-04', '2019-01-07', '2019-01-08'],\n",
       "              dtype='datetime64[ns]', freq=None)"
      ]
     },
     "execution_count": 18,
     "metadata": {},
     "output_type": "execute_result"
    }
   ],
   "source": [
    "ts.index"
   ]
  },
  {
   "cell_type": "code",
   "execution_count": 19,
   "metadata": {},
   "outputs": [
    {
     "data": {
      "text/plain": [
       "2018-12-31    99\n",
       "2019-01-02     2\n",
       "2019-01-04    42\n",
       "2019-01-08    30\n",
       "dtype: int64"
      ]
     },
     "execution_count": 19,
     "metadata": {},
     "output_type": "execute_result"
    }
   ],
   "source": [
    "ts[::2]"
   ]
  },
  {
   "cell_type": "code",
   "execution_count": 20,
   "metadata": {},
   "outputs": [
    {
     "data": {
      "text/plain": [
       "2018-12-31    198.0\n",
       "2019-01-01      NaN\n",
       "2019-01-02      4.0\n",
       "2019-01-03      NaN\n",
       "2019-01-04     84.0\n",
       "2019-01-07      NaN\n",
       "2019-01-08     60.0\n",
       "dtype: float64"
      ]
     },
     "execution_count": 20,
     "metadata": {},
     "output_type": "execute_result"
    }
   ],
   "source": [
    "ts + ts[::2]"
   ]
  },
  {
   "cell_type": "code",
   "execution_count": null,
   "metadata": {},
   "outputs": [],
   "source": []
  },
  {
   "cell_type": "code",
   "execution_count": 21,
   "metadata": {},
   "outputs": [
    {
     "data": {
      "text/plain": [
       "Timestamp('2018-12-31 00:00:00')"
      ]
     },
     "execution_count": 21,
     "metadata": {},
     "output_type": "execute_result"
    }
   ],
   "source": [
    "stamp = ts.index[0]\n",
    "stamp"
   ]
  },
  {
   "cell_type": "markdown",
   "metadata": {},
   "source": [
    "### Indexing, Selection, Subsetting"
   ]
  },
  {
   "cell_type": "code",
   "execution_count": 22,
   "metadata": {},
   "outputs": [
    {
     "data": {
      "text/plain": [
       "2018-12-31    99\n",
       "2019-01-01    30\n",
       "2019-01-02     2\n",
       "2019-01-03    37\n",
       "2019-01-04    42\n",
       "2019-01-07    35\n",
       "2019-01-08    30\n",
       "dtype: int64"
      ]
     },
     "execution_count": 22,
     "metadata": {},
     "output_type": "execute_result"
    }
   ],
   "source": [
    "ts"
   ]
  },
  {
   "cell_type": "code",
   "execution_count": 23,
   "metadata": {},
   "outputs": [
    {
     "data": {
      "text/plain": [
       "30"
      ]
     },
     "execution_count": 23,
     "metadata": {},
     "output_type": "execute_result"
    }
   ],
   "source": [
    "stamp = ts.index[1]\n",
    "ts[stamp]"
   ]
  },
  {
   "cell_type": "code",
   "execution_count": 24,
   "metadata": {},
   "outputs": [
    {
     "data": {
      "text/plain": [
       "(35, 35)"
      ]
     },
     "execution_count": 24,
     "metadata": {},
     "output_type": "execute_result"
    }
   ],
   "source": [
    "ts['1/7/2019'], ts['20190107']"
   ]
  },
  {
   "cell_type": "code",
   "execution_count": 25,
   "metadata": {},
   "outputs": [
    {
     "data": {
      "text/plain": [
       "2018-12-31    99\n",
       "dtype: int64"
      ]
     },
     "execution_count": 25,
     "metadata": {},
     "output_type": "execute_result"
    }
   ],
   "source": [
    "ts['2018']"
   ]
  },
  {
   "cell_type": "code",
   "execution_count": 26,
   "metadata": {},
   "outputs": [
    {
     "data": {
      "text/plain": [
       "2019-01-01    30\n",
       "2019-01-02     2\n",
       "2019-01-03    37\n",
       "2019-01-04    42\n",
       "2019-01-07    35\n",
       "2019-01-08    30\n",
       "dtype: int64"
      ]
     },
     "execution_count": 26,
     "metadata": {},
     "output_type": "execute_result"
    }
   ],
   "source": [
    "ts['2019']"
   ]
  },
  {
   "cell_type": "code",
   "execution_count": 27,
   "metadata": {},
   "outputs": [
    {
     "data": {
      "text/plain": [
       "2018-01-01    99\n",
       "2018-01-02    30\n",
       "2018-01-03     2\n",
       "2018-01-04    37\n",
       "2018-01-05    42\n",
       "Freq: D, dtype: int64"
      ]
     },
     "execution_count": 27,
     "metadata": {},
     "output_type": "execute_result"
    }
   ],
   "source": [
    "np.random.seed(12345)\n",
    "\n",
    "longer_ts = pd.Series(np.random.randint(1, 100, 1000),\n",
    "                      index=pd.date_range('1/1/2018', periods=1000))\n",
    "longer_ts.head()"
   ]
  },
  {
   "cell_type": "code",
   "execution_count": 28,
   "metadata": {},
   "outputs": [
    {
     "data": {
      "text/plain": [
       "2020-09-22    37\n",
       "2020-09-23    24\n",
       "2020-09-24    89\n",
       "2020-09-25    78\n",
       "2020-09-26    44\n",
       "Freq: D, dtype: int64"
      ]
     },
     "execution_count": 28,
     "metadata": {},
     "output_type": "execute_result"
    }
   ],
   "source": [
    "longer_ts.tail()"
   ]
  },
  {
   "cell_type": "code",
   "execution_count": 29,
   "metadata": {},
   "outputs": [
    {
     "data": {
      "text/plain": [
       "2019-01-01    64\n",
       "2019-01-02    96\n",
       "2019-01-03    55\n",
       "2019-01-04    90\n",
       "2019-01-05    51\n",
       "              ..\n",
       "2019-12-27    38\n",
       "2019-12-28    37\n",
       "2019-12-29    96\n",
       "2019-12-30    36\n",
       "2019-12-31     7\n",
       "Freq: D, Length: 365, dtype: int64"
      ]
     },
     "execution_count": 29,
     "metadata": {},
     "output_type": "execute_result"
    }
   ],
   "source": [
    "longer_ts['2019']"
   ]
  },
  {
   "cell_type": "code",
   "execution_count": 30,
   "metadata": {},
   "outputs": [
    {
     "data": {
      "text/plain": [
       "2019-09-01    22\n",
       "2019-09-02    78\n",
       "2019-09-03    49\n",
       "2019-09-04     4\n",
       "2019-09-05    60\n",
       "2019-09-06    77\n",
       "2019-09-07    86\n",
       "2019-09-08    21\n",
       "2019-09-09    56\n",
       "2019-09-10    23\n",
       "2019-09-11    86\n",
       "2019-09-12     7\n",
       "2019-09-13    12\n",
       "2019-09-14    87\n",
       "2019-09-15    63\n",
       "2019-09-16    79\n",
       "2019-09-17    49\n",
       "2019-09-18    63\n",
       "2019-09-19    45\n",
       "2019-09-20    34\n",
       "2019-09-21    86\n",
       "2019-09-22     2\n",
       "2019-09-23    23\n",
       "2019-09-24    21\n",
       "2019-09-25    87\n",
       "2019-09-26    61\n",
       "2019-09-27    91\n",
       "2019-09-28    26\n",
       "2019-09-29    14\n",
       "2019-09-30    32\n",
       "Freq: D, dtype: int64"
      ]
     },
     "execution_count": 30,
     "metadata": {},
     "output_type": "execute_result"
    }
   ],
   "source": [
    "longer_ts['2019-09']"
   ]
  },
  {
   "cell_type": "code",
   "execution_count": 31,
   "metadata": {},
   "outputs": [
    {
     "data": {
      "text/plain": [
       "2019-08-01    67\n",
       "2019-08-02    30\n",
       "2019-08-03    41\n",
       "2019-08-04    16\n",
       "2019-08-05     1\n",
       "              ..\n",
       "2019-09-26    61\n",
       "2019-09-27    91\n",
       "2019-09-28    26\n",
       "2019-09-29    14\n",
       "2019-09-30    32\n",
       "Freq: D, Length: 61, dtype: int64"
      ]
     },
     "execution_count": 31,
     "metadata": {},
     "output_type": "execute_result"
    }
   ],
   "source": [
    "longer_ts['2019-08' : '2019-09']"
   ]
  },
  {
   "cell_type": "code",
   "execution_count": 32,
   "metadata": {},
   "outputs": [
    {
     "data": {
      "text/plain": [
       "2018-12-31    99\n",
       "2019-01-01    30\n",
       "2019-01-02     2\n",
       "2019-01-03    37\n",
       "2019-01-04    42\n",
       "2019-01-07    35\n",
       "2019-01-08    30\n",
       "dtype: int64"
      ]
     },
     "execution_count": 32,
     "metadata": {},
     "output_type": "execute_result"
    }
   ],
   "source": [
    "ts"
   ]
  },
  {
   "cell_type": "code",
   "execution_count": 33,
   "metadata": {},
   "outputs": [
    {
     "data": {
      "text/plain": [
       "2019-01-03    37\n",
       "2019-01-04    42\n",
       "2019-01-07    35\n",
       "2019-01-08    30\n",
       "dtype: int64"
      ]
     },
     "execution_count": 33,
     "metadata": {},
     "output_type": "execute_result"
    }
   ],
   "source": [
    "ts[datetime(2019, 1, 3):]"
   ]
  },
  {
   "cell_type": "code",
   "execution_count": 34,
   "metadata": {},
   "outputs": [
    {
     "data": {
      "text/plain": [
       "2019-01-03    37\n",
       "2019-01-04    42\n",
       "2019-01-07    35\n",
       "2019-01-08    30\n",
       "dtype: int64"
      ]
     },
     "execution_count": 34,
     "metadata": {},
     "output_type": "execute_result"
    }
   ],
   "source": [
    "ts['1/3/2019':'1/10/2019']"
   ]
  },
  {
   "cell_type": "code",
   "execution_count": 35,
   "metadata": {},
   "outputs": [
    {
     "data": {
      "text/plain": [
       "2019-01-03    37\n",
       "2019-01-04    42\n",
       "2019-01-07    35\n",
       "dtype: int64"
      ]
     },
     "execution_count": 35,
     "metadata": {},
     "output_type": "execute_result"
    }
   ],
   "source": [
    "ts['1/3/2019':'1/7/2019']"
   ]
  },
  {
   "cell_type": "code",
   "execution_count": 36,
   "metadata": {},
   "outputs": [
    {
     "data": {
      "text/plain": [
       "2018-12-31    99\n",
       "2019-01-01    30\n",
       "2019-01-02     2\n",
       "2019-01-03    37\n",
       "dtype: int64"
      ]
     },
     "execution_count": 36,
     "metadata": {},
     "output_type": "execute_result"
    }
   ],
   "source": [
    "ts.truncate(after='1/3/2019')"
   ]
  },
  {
   "cell_type": "code",
   "execution_count": 37,
   "metadata": {},
   "outputs": [
    {
     "data": {
      "text/plain": [
       "2018-12-31    99\n",
       "2019-01-01    30\n",
       "2019-01-02     2\n",
       "2019-01-03    37\n",
       "2019-01-04    42\n",
       "2019-01-07    35\n",
       "2019-01-08    30\n",
       "dtype: int64"
      ]
     },
     "execution_count": 37,
     "metadata": {},
     "output_type": "execute_result"
    }
   ],
   "source": [
    "ts"
   ]
  },
  {
   "cell_type": "markdown",
   "metadata": {},
   "source": [
    "#### Frequency offsets\n",
    "https://pandas.pydata.org/pandas-docs/stable/user_guide/timeseries.html#offset-aliases"
   ]
  },
  {
   "cell_type": "code",
   "execution_count": 38,
   "metadata": {},
   "outputs": [
    {
     "data": {
      "text/plain": [
       "DatetimeIndex(['2019-01-01', '2019-01-08', '2019-01-15', '2019-01-22',\n",
       "               '2019-01-29', '2019-02-05', '2019-02-12', '2019-02-19',\n",
       "               '2019-02-26', '2019-03-05', '2019-03-12', '2019-03-19',\n",
       "               '2019-03-26', '2019-04-02', '2019-04-09', '2019-04-16',\n",
       "               '2019-04-23', '2019-04-30', '2019-05-07', '2019-05-14'],\n",
       "              dtype='datetime64[ns]', freq='W-TUE')"
      ]
     },
     "execution_count": 38,
     "metadata": {},
     "output_type": "execute_result"
    }
   ],
   "source": [
    "# Dataframe\n",
    "\n",
    "dates = pd.date_range('1/1/2019', periods=100, freq='W-Tue')  # look at weblink above for freq conversions\n",
    "dates[:20]"
   ]
  },
  {
   "cell_type": "code",
   "execution_count": 39,
   "metadata": {},
   "outputs": [
    {
     "data": {
      "text/html": [
       "<div>\n",
       "<style scoped>\n",
       "    .dataframe tbody tr th:only-of-type {\n",
       "        vertical-align: middle;\n",
       "    }\n",
       "\n",
       "    .dataframe tbody tr th {\n",
       "        vertical-align: top;\n",
       "    }\n",
       "\n",
       "    .dataframe thead th {\n",
       "        text-align: right;\n",
       "    }\n",
       "</style>\n",
       "<table border=\"1\" class=\"dataframe\">\n",
       "  <thead>\n",
       "    <tr style=\"text-align: right;\">\n",
       "      <th></th>\n",
       "      <th>Colorado</th>\n",
       "      <th>Texas</th>\n",
       "      <th>New York</th>\n",
       "      <th>Ohio</th>\n",
       "    </tr>\n",
       "  </thead>\n",
       "  <tbody>\n",
       "    <tr>\n",
       "      <td>2019-01-01</td>\n",
       "      <td>99</td>\n",
       "      <td>30</td>\n",
       "      <td>2</td>\n",
       "      <td>37</td>\n",
       "    </tr>\n",
       "    <tr>\n",
       "      <td>2019-01-08</td>\n",
       "      <td>42</td>\n",
       "      <td>35</td>\n",
       "      <td>30</td>\n",
       "      <td>2</td>\n",
       "    </tr>\n",
       "    <tr>\n",
       "      <td>2019-01-15</td>\n",
       "      <td>60</td>\n",
       "      <td>15</td>\n",
       "      <td>92</td>\n",
       "      <td>81</td>\n",
       "    </tr>\n",
       "    <tr>\n",
       "      <td>2019-01-22</td>\n",
       "      <td>74</td>\n",
       "      <td>12</td>\n",
       "      <td>78</td>\n",
       "      <td>11</td>\n",
       "    </tr>\n",
       "    <tr>\n",
       "      <td>2019-01-29</td>\n",
       "      <td>82</td>\n",
       "      <td>83</td>\n",
       "      <td>39</td>\n",
       "      <td>8</td>\n",
       "    </tr>\n",
       "  </tbody>\n",
       "</table>\n",
       "</div>"
      ],
      "text/plain": [
       "            Colorado  Texas  New York  Ohio\n",
       "2019-01-01        99     30         2    37\n",
       "2019-01-08        42     35        30     2\n",
       "2019-01-15        60     15        92    81\n",
       "2019-01-22        74     12        78    11\n",
       "2019-01-29        82     83        39     8"
      ]
     },
     "execution_count": 39,
     "metadata": {},
     "output_type": "execute_result"
    }
   ],
   "source": [
    "np.random.seed(12345)\n",
    "\n",
    "long_df = pd.DataFrame(np.random.randint(1, 100, (100, 4)),\n",
    "                       index=dates,\n",
    "                       columns=['Colorado', 'Texas',\n",
    "                                'New York', 'Ohio'])\n",
    "long_df.head()"
   ]
  },
  {
   "cell_type": "code",
   "execution_count": 40,
   "metadata": {},
   "outputs": [
    {
     "data": {
      "text/html": [
       "<div>\n",
       "<style scoped>\n",
       "    .dataframe tbody tr th:only-of-type {\n",
       "        vertical-align: middle;\n",
       "    }\n",
       "\n",
       "    .dataframe tbody tr th {\n",
       "        vertical-align: top;\n",
       "    }\n",
       "\n",
       "    .dataframe thead th {\n",
       "        text-align: right;\n",
       "    }\n",
       "</style>\n",
       "<table border=\"1\" class=\"dataframe\">\n",
       "  <thead>\n",
       "    <tr style=\"text-align: right;\">\n",
       "      <th></th>\n",
       "      <th>Colorado</th>\n",
       "      <th>Texas</th>\n",
       "      <th>New York</th>\n",
       "      <th>Ohio</th>\n",
       "    </tr>\n",
       "  </thead>\n",
       "  <tbody>\n",
       "    <tr>\n",
       "      <td>2019-03-05</td>\n",
       "      <td>15</td>\n",
       "      <td>82</td>\n",
       "      <td>6</td>\n",
       "      <td>35</td>\n",
       "    </tr>\n",
       "    <tr>\n",
       "      <td>2019-03-12</td>\n",
       "      <td>54</td>\n",
       "      <td>73</td>\n",
       "      <td>6</td>\n",
       "      <td>99</td>\n",
       "    </tr>\n",
       "    <tr>\n",
       "      <td>2019-03-19</td>\n",
       "      <td>6</td>\n",
       "      <td>60</td>\n",
       "      <td>84</td>\n",
       "      <td>13</td>\n",
       "    </tr>\n",
       "    <tr>\n",
       "      <td>2019-03-26</td>\n",
       "      <td>15</td>\n",
       "      <td>81</td>\n",
       "      <td>28</td>\n",
       "      <td>39</td>\n",
       "    </tr>\n",
       "  </tbody>\n",
       "</table>\n",
       "</div>"
      ],
      "text/plain": [
       "            Colorado  Texas  New York  Ohio\n",
       "2019-03-05        15     82         6    35\n",
       "2019-03-12        54     73         6    99\n",
       "2019-03-19         6     60        84    13\n",
       "2019-03-26        15     81        28    39"
      ]
     },
     "execution_count": 40,
     "metadata": {},
     "output_type": "execute_result"
    }
   ],
   "source": [
    "long_df.loc['3-2019']"
   ]
  },
  {
   "cell_type": "code",
   "execution_count": 41,
   "metadata": {},
   "outputs": [
    {
     "data": {
      "text/html": [
       "<div>\n",
       "<style scoped>\n",
       "    .dataframe tbody tr th:only-of-type {\n",
       "        vertical-align: middle;\n",
       "    }\n",
       "\n",
       "    .dataframe tbody tr th {\n",
       "        vertical-align: top;\n",
       "    }\n",
       "\n",
       "    .dataframe thead th {\n",
       "        text-align: right;\n",
       "    }\n",
       "</style>\n",
       "<table border=\"1\" class=\"dataframe\">\n",
       "  <thead>\n",
       "    <tr style=\"text-align: right;\">\n",
       "      <th></th>\n",
       "      <th>Colorado</th>\n",
       "      <th>Texas</th>\n",
       "      <th>New York</th>\n",
       "      <th>Ohio</th>\n",
       "    </tr>\n",
       "  </thead>\n",
       "  <tbody>\n",
       "    <tr>\n",
       "      <td>2019-03-05</td>\n",
       "      <td>15</td>\n",
       "      <td>82</td>\n",
       "      <td>6</td>\n",
       "      <td>35</td>\n",
       "    </tr>\n",
       "    <tr>\n",
       "      <td>2019-03-12</td>\n",
       "      <td>54</td>\n",
       "      <td>73</td>\n",
       "      <td>6</td>\n",
       "      <td>99</td>\n",
       "    </tr>\n",
       "    <tr>\n",
       "      <td>2019-03-19</td>\n",
       "      <td>6</td>\n",
       "      <td>60</td>\n",
       "      <td>84</td>\n",
       "      <td>13</td>\n",
       "    </tr>\n",
       "    <tr>\n",
       "      <td>2019-03-26</td>\n",
       "      <td>15</td>\n",
       "      <td>81</td>\n",
       "      <td>28</td>\n",
       "      <td>39</td>\n",
       "    </tr>\n",
       "    <tr>\n",
       "      <td>2019-04-02</td>\n",
       "      <td>89</td>\n",
       "      <td>97</td>\n",
       "      <td>6</td>\n",
       "      <td>75</td>\n",
       "    </tr>\n",
       "    <tr>\n",
       "      <td>2019-04-09</td>\n",
       "      <td>77</td>\n",
       "      <td>23</td>\n",
       "      <td>13</td>\n",
       "      <td>63</td>\n",
       "    </tr>\n",
       "    <tr>\n",
       "      <td>2019-04-16</td>\n",
       "      <td>42</td>\n",
       "      <td>19</td>\n",
       "      <td>51</td>\n",
       "      <td>83</td>\n",
       "    </tr>\n",
       "    <tr>\n",
       "      <td>2019-04-23</td>\n",
       "      <td>58</td>\n",
       "      <td>47</td>\n",
       "      <td>59</td>\n",
       "      <td>24</td>\n",
       "    </tr>\n",
       "    <tr>\n",
       "      <td>2019-04-30</td>\n",
       "      <td>22</td>\n",
       "      <td>8</td>\n",
       "      <td>82</td>\n",
       "      <td>64</td>\n",
       "    </tr>\n",
       "    <tr>\n",
       "      <td>2019-05-07</td>\n",
       "      <td>1</td>\n",
       "      <td>91</td>\n",
       "      <td>45</td>\n",
       "      <td>58</td>\n",
       "    </tr>\n",
       "    <tr>\n",
       "      <td>2019-05-14</td>\n",
       "      <td>15</td>\n",
       "      <td>27</td>\n",
       "      <td>44</td>\n",
       "      <td>31</td>\n",
       "    </tr>\n",
       "    <tr>\n",
       "      <td>2019-05-21</td>\n",
       "      <td>33</td>\n",
       "      <td>4</td>\n",
       "      <td>65</td>\n",
       "      <td>7</td>\n",
       "    </tr>\n",
       "    <tr>\n",
       "      <td>2019-05-28</td>\n",
       "      <td>67</td>\n",
       "      <td>50</td>\n",
       "      <td>38</td>\n",
       "      <td>73</td>\n",
       "    </tr>\n",
       "  </tbody>\n",
       "</table>\n",
       "</div>"
      ],
      "text/plain": [
       "            Colorado  Texas  New York  Ohio\n",
       "2019-03-05        15     82         6    35\n",
       "2019-03-12        54     73         6    99\n",
       "2019-03-19         6     60        84    13\n",
       "2019-03-26        15     81        28    39\n",
       "2019-04-02        89     97         6    75\n",
       "2019-04-09        77     23        13    63\n",
       "2019-04-16        42     19        51    83\n",
       "2019-04-23        58     47        59    24\n",
       "2019-04-30        22      8        82    64\n",
       "2019-05-07         1     91        45    58\n",
       "2019-05-14        15     27        44    31\n",
       "2019-05-21        33      4        65     7\n",
       "2019-05-28        67     50        38    73"
      ]
     },
     "execution_count": 41,
     "metadata": {},
     "output_type": "execute_result"
    }
   ],
   "source": [
    "long_df.loc['3-2019':'5-2019']"
   ]
  },
  {
   "cell_type": "code",
   "execution_count": null,
   "metadata": {},
   "outputs": [],
   "source": []
  },
  {
   "cell_type": "code",
   "execution_count": 42,
   "metadata": {},
   "outputs": [
    {
     "data": {
      "text/html": [
       "<div>\n",
       "<style scoped>\n",
       "    .dataframe tbody tr th:only-of-type {\n",
       "        vertical-align: middle;\n",
       "    }\n",
       "\n",
       "    .dataframe tbody tr th {\n",
       "        vertical-align: top;\n",
       "    }\n",
       "\n",
       "    .dataframe thead th {\n",
       "        text-align: right;\n",
       "    }\n",
       "</style>\n",
       "<table border=\"1\" class=\"dataframe\">\n",
       "  <thead>\n",
       "    <tr style=\"text-align: right;\">\n",
       "      <th></th>\n",
       "      <th>Colorado</th>\n",
       "      <th>Texas</th>\n",
       "      <th>New York</th>\n",
       "      <th>Ohio</th>\n",
       "    </tr>\n",
       "  </thead>\n",
       "  <tbody>\n",
       "    <tr>\n",
       "      <td>2019-11-03</td>\n",
       "      <td>94</td>\n",
       "      <td>2</td>\n",
       "      <td>26</td>\n",
       "      <td>65</td>\n",
       "    </tr>\n",
       "    <tr>\n",
       "      <td>2019-11-10</td>\n",
       "      <td>60</td>\n",
       "      <td>27</td>\n",
       "      <td>57</td>\n",
       "      <td>13</td>\n",
       "    </tr>\n",
       "    <tr>\n",
       "      <td>2019-11-17</td>\n",
       "      <td>91</td>\n",
       "      <td>24</td>\n",
       "      <td>61</td>\n",
       "      <td>96</td>\n",
       "    </tr>\n",
       "    <tr>\n",
       "      <td>2019-11-24</td>\n",
       "      <td>78</td>\n",
       "      <td>70</td>\n",
       "      <td>49</td>\n",
       "      <td>65</td>\n",
       "    </tr>\n",
       "  </tbody>\n",
       "</table>\n",
       "</div>"
      ],
      "text/plain": [
       "            Colorado  Texas  New York  Ohio\n",
       "2019-11-03        94      2        26    65\n",
       "2019-11-10        60     27        57    13\n",
       "2019-11-17        91     24        61    96\n",
       "2019-11-24        78     70        49    65"
      ]
     },
     "execution_count": 42,
     "metadata": {},
     "output_type": "execute_result"
    }
   ],
   "source": [
    "# Weekly default to Sundays\n",
    "\n",
    "np.random.seed(12345)\n",
    "\n",
    "dates = pd.date_range('1/1/2019', periods=100, freq='W')\n",
    "long_df = pd.DataFrame(np.random.randint(1, 100, (100, 4)),\n",
    "                       index=dates,\n",
    "                       columns=['Colorado', 'Texas',\n",
    "                                'New York', 'Ohio'])\n",
    "\n",
    "long_df.loc['11-2019']"
   ]
  },
  {
   "cell_type": "markdown",
   "metadata": {},
   "source": [
    "## Date Ranges, Frequencies, and Shifting"
   ]
  },
  {
   "cell_type": "code",
   "execution_count": 43,
   "metadata": {},
   "outputs": [
    {
     "data": {
      "text/plain": [
       "2018-12-31    99\n",
       "2019-01-01    30\n",
       "2019-01-02     2\n",
       "2019-01-03    37\n",
       "2019-01-04    42\n",
       "2019-01-07    35\n",
       "2019-01-08    30\n",
       "dtype: int64"
      ]
     },
     "execution_count": 43,
     "metadata": {},
     "output_type": "execute_result"
    }
   ],
   "source": [
    "ts"
   ]
  },
  {
   "cell_type": "code",
   "execution_count": 44,
   "metadata": {},
   "outputs": [
    {
     "data": {
      "text/plain": [
       "<pandas.core.resample.DatetimeIndexResampler object at 0x114a23198>"
      ]
     },
     "execution_count": 44,
     "metadata": {},
     "output_type": "execute_result"
    }
   ],
   "source": [
    "# Resample at higher or lower frequencies\n",
    "\n",
    "resampler = ts.resample('D')\n",
    "resampler"
   ]
  },
  {
   "cell_type": "code",
   "execution_count": 45,
   "metadata": {},
   "outputs": [
    {
     "data": {
      "text/plain": [
       "2018-12-31    99\n",
       "2019-01-01    30\n",
       "2019-01-02     2\n",
       "2019-01-03    37\n",
       "2019-01-04    42\n",
       "2019-01-05     0\n",
       "2019-01-06     0\n",
       "2019-01-07    35\n",
       "2019-01-08    30\n",
       "Freq: D, dtype: int64"
      ]
     },
     "execution_count": 45,
     "metadata": {},
     "output_type": "execute_result"
    }
   ],
   "source": [
    "resampler.sum()"
   ]
  },
  {
   "cell_type": "code",
   "execution_count": 46,
   "metadata": {},
   "outputs": [
    {
     "data": {
      "text/plain": [
       "2018-12-31    99\n",
       "2019-01-01    30\n",
       "2019-01-02     2\n",
       "2019-01-03    37\n",
       "2019-01-04    42\n",
       "2019-01-05     0\n",
       "2019-01-06     0\n",
       "2019-01-07    35\n",
       "2019-01-08    30\n",
       "Freq: D, dtype: int64"
      ]
     },
     "execution_count": 46,
     "metadata": {},
     "output_type": "execute_result"
    }
   ],
   "source": [
    "resampler.sum()"
   ]
  },
  {
   "cell_type": "code",
   "execution_count": 47,
   "metadata": {},
   "outputs": [
    {
     "data": {
      "text/plain": [
       "2018-12-31     99\n",
       "2019-01-31    176\n",
       "Freq: M, dtype: int64"
      ]
     },
     "execution_count": 47,
     "metadata": {},
     "output_type": "execute_result"
    }
   ],
   "source": [
    "resampler = ts.resample('M')  # M=end of month, MS=start of month\n",
    "resampler.sum()"
   ]
  },
  {
   "cell_type": "code",
   "execution_count": 48,
   "metadata": {},
   "outputs": [
    {
     "data": {
      "text/plain": [
       "2018-12-01     99\n",
       "2019-01-01    176\n",
       "Freq: MS, dtype: int64"
      ]
     },
     "execution_count": 48,
     "metadata": {},
     "output_type": "execute_result"
    }
   ],
   "source": [
    "resampler = ts.resample('MS')  # M=end of month, MS=start of month\n",
    "resampler.sum()"
   ]
  },
  {
   "cell_type": "markdown",
   "metadata": {},
   "source": [
    "### Generating Date Ranges\n",
    " - pandas.date_range(start=None, end=None, periods=None, freq='D', tz=None, normalize=False, name=None, closed=None)"
   ]
  },
  {
   "cell_type": "code",
   "execution_count": 49,
   "metadata": {},
   "outputs": [
    {
     "data": {
      "text/plain": [
       "DatetimeIndex(['2019-11-01', '2019-11-02', '2019-11-03', '2019-11-04',\n",
       "               '2019-11-05', '2019-11-06', '2019-11-07', '2019-11-08',\n",
       "               '2019-11-09', '2019-11-10', '2019-11-11', '2019-11-12',\n",
       "               '2019-11-13', '2019-11-14', '2019-11-15', '2019-11-16',\n",
       "               '2019-11-17', '2019-11-18', '2019-11-19', '2019-11-20',\n",
       "               '2019-11-21', '2019-11-22', '2019-11-23', '2019-11-24',\n",
       "               '2019-11-25', '2019-11-26', '2019-11-27', '2019-11-28',\n",
       "               '2019-11-29', '2019-11-30', '2019-12-01'],\n",
       "              dtype='datetime64[ns]', freq='D')"
      ]
     },
     "execution_count": 49,
     "metadata": {},
     "output_type": "execute_result"
    }
   ],
   "source": [
    "# default frequency - Daily\n",
    "\n",
    "index = pd.date_range('2019-11-01', '2019-12-01')\n",
    "index"
   ]
  },
  {
   "cell_type": "code",
   "execution_count": 50,
   "metadata": {},
   "outputs": [
    {
     "data": {
      "text/plain": [
       "DatetimeIndex(['2019-11-01', '2019-11-04', '2019-11-05', '2019-11-06',\n",
       "               '2019-11-07', '2019-11-08', '2019-11-11', '2019-11-12',\n",
       "               '2019-11-13', '2019-11-14', '2019-11-15', '2019-11-18',\n",
       "               '2019-11-19', '2019-11-20', '2019-11-21', '2019-11-22',\n",
       "               '2019-11-25', '2019-11-26', '2019-11-27', '2019-11-28',\n",
       "               '2019-11-29'],\n",
       "              dtype='datetime64[ns]', freq='B')"
      ]
     },
     "execution_count": 50,
     "metadata": {},
     "output_type": "execute_result"
    }
   ],
   "source": [
    "# Business days only\n",
    "\n",
    "pd.date_range('2019-11-01', '2019-12-01', freq='B')"
   ]
  },
  {
   "cell_type": "code",
   "execution_count": 51,
   "metadata": {},
   "outputs": [
    {
     "data": {
      "text/plain": [
       "DatetimeIndex(['2019-11-01', '2019-11-02', '2019-11-03', '2019-11-04',\n",
       "               '2019-11-05', '2019-11-06', '2019-11-07', '2019-11-08',\n",
       "               '2019-11-09', '2019-11-10', '2019-11-11', '2019-11-12',\n",
       "               '2019-11-13', '2019-11-14', '2019-11-15', '2019-11-16',\n",
       "               '2019-11-17', '2019-11-18', '2019-11-19', '2019-11-20'],\n",
       "              dtype='datetime64[ns]', freq='D')"
      ]
     },
     "execution_count": 51,
     "metadata": {},
     "output_type": "execute_result"
    }
   ],
   "source": [
    "pd.date_range(start='2019-11-01', periods=20)"
   ]
  },
  {
   "cell_type": "code",
   "execution_count": 52,
   "metadata": {},
   "outputs": [
    {
     "data": {
      "text/plain": [
       "DatetimeIndex(['2019-11-01', '2019-11-04', '2019-11-05', '2019-11-06',\n",
       "               '2019-11-07', '2019-11-08', '2019-11-11', '2019-11-12',\n",
       "               '2019-11-13', '2019-11-14', '2019-11-15', '2019-11-18',\n",
       "               '2019-11-19', '2019-11-20', '2019-11-21', '2019-11-22',\n",
       "               '2019-11-25', '2019-11-26', '2019-11-27', '2019-11-28'],\n",
       "              dtype='datetime64[ns]', freq='B')"
      ]
     },
     "execution_count": 52,
     "metadata": {},
     "output_type": "execute_result"
    }
   ],
   "source": [
    "pd.date_range(start='2019-11-01', periods=20, freq='B')"
   ]
  },
  {
   "cell_type": "code",
   "execution_count": 53,
   "metadata": {},
   "outputs": [
    {
     "data": {
      "text/plain": [
       "DatetimeIndex(['2019-10-13', '2019-10-14', '2019-10-15', '2019-10-16',\n",
       "               '2019-10-17', '2019-10-18', '2019-10-19', '2019-10-20',\n",
       "               '2019-10-21', '2019-10-22', '2019-10-23', '2019-10-24',\n",
       "               '2019-10-25', '2019-10-26', '2019-10-27', '2019-10-28',\n",
       "               '2019-10-29', '2019-10-30', '2019-10-31', '2019-11-01'],\n",
       "              dtype='datetime64[ns]', freq='D')"
      ]
     },
     "execution_count": 53,
     "metadata": {},
     "output_type": "execute_result"
    }
   ],
   "source": [
    "pd.date_range(end='2019-11-01', periods=20)"
   ]
  },
  {
   "cell_type": "code",
   "execution_count": 54,
   "metadata": {},
   "outputs": [
    {
     "data": {
      "text/plain": [
       "DatetimeIndex(['2019-01-31', '2019-02-28', '2019-03-31', '2019-04-30',\n",
       "               '2019-05-31', '2019-06-30', '2019-07-31', '2019-08-31',\n",
       "               '2019-09-30', '2019-10-31', '2019-11-30', '2019-12-31'],\n",
       "              dtype='datetime64[ns]', freq='M')"
      ]
     },
     "execution_count": 54,
     "metadata": {},
     "output_type": "execute_result"
    }
   ],
   "source": [
    "# Month end frequency\n",
    "\n",
    "pd.date_range('2019-01-01', freq='M', periods=12)"
   ]
  },
  {
   "cell_type": "code",
   "execution_count": 55,
   "metadata": {},
   "outputs": [
    {
     "data": {
      "text/plain": [
       "DatetimeIndex(['2019-01-01', '2019-02-01', '2019-03-01', '2019-04-01',\n",
       "               '2019-05-01', '2019-06-01', '2019-07-01', '2019-08-01',\n",
       "               '2019-09-01', '2019-10-01', '2019-11-01', '2019-12-01'],\n",
       "              dtype='datetime64[ns]', freq='MS')"
      ]
     },
     "execution_count": 55,
     "metadata": {},
     "output_type": "execute_result"
    }
   ],
   "source": [
    "# Month Start frequency\n",
    "\n",
    "pd.date_range('2019-01-01', freq='MS', periods=12)"
   ]
  },
  {
   "cell_type": "code",
   "execution_count": 56,
   "metadata": {},
   "outputs": [
    {
     "data": {
      "text/plain": [
       "DatetimeIndex(['2019-01-15', '2019-01-31', '2019-02-15', '2019-02-28',\n",
       "               '2019-03-15', '2019-03-31', '2019-04-15', '2019-04-30',\n",
       "               '2019-05-15', '2019-05-31', '2019-06-15', '2019-06-30'],\n",
       "              dtype='datetime64[ns]', freq='SM-15')"
      ]
     },
     "execution_count": 56,
     "metadata": {},
     "output_type": "execute_result"
    }
   ],
   "source": [
    "# Semi-Month frequency (15th and end of Month)\n",
    "\n",
    "pd.date_range('2019-01-01', freq='SM', periods=12)"
   ]
  },
  {
   "cell_type": "code",
   "execution_count": 57,
   "metadata": {},
   "outputs": [
    {
     "data": {
      "text/plain": [
       "DatetimeIndex(['2019-01-01 00:00:00', '2019-01-01 01:00:00',\n",
       "               '2019-01-01 02:00:00', '2019-01-01 03:00:00',\n",
       "               '2019-01-01 04:00:00', '2019-01-01 05:00:00',\n",
       "               '2019-01-01 06:00:00', '2019-01-01 07:00:00',\n",
       "               '2019-01-01 08:00:00', '2019-01-01 09:00:00',\n",
       "               '2019-01-01 10:00:00', '2019-01-01 11:00:00',\n",
       "               '2019-01-01 12:00:00', '2019-01-01 13:00:00'],\n",
       "              dtype='datetime64[ns]', freq='H')"
      ]
     },
     "execution_count": 57,
     "metadata": {},
     "output_type": "execute_result"
    }
   ],
   "source": [
    "# Hourly frequency\n",
    "\n",
    "pd.date_range('2019-01-01', freq='H', periods=14)"
   ]
  },
  {
   "cell_type": "code",
   "execution_count": 58,
   "metadata": {},
   "outputs": [
    {
     "data": {
      "text/plain": [
       "DatetimeIndex(['2019-11-01 12:56:31', '2019-11-02 12:56:31',\n",
       "               '2019-11-03 12:56:31', '2019-11-04 12:56:31',\n",
       "               '2019-11-05 12:56:31'],\n",
       "              dtype='datetime64[ns]', freq='D')"
      ]
     },
     "execution_count": 58,
     "metadata": {},
     "output_type": "execute_result"
    }
   ],
   "source": [
    "pd.date_range('2019-11-01 12:56:31', periods=5)"
   ]
  },
  {
   "cell_type": "code",
   "execution_count": 59,
   "metadata": {},
   "outputs": [
    {
     "data": {
      "text/plain": [
       "DatetimeIndex(['2019-11-01 12:56:31', '2019-11-01 13:56:31',\n",
       "               '2019-11-01 14:56:31', '2019-11-01 15:56:31',\n",
       "               '2019-11-01 16:56:31'],\n",
       "              dtype='datetime64[ns]', freq='H')"
      ]
     },
     "execution_count": 59,
     "metadata": {},
     "output_type": "execute_result"
    }
   ],
   "source": [
    "pd.date_range('2019-11-01 12:56:31', freq='H', periods=5)"
   ]
  },
  {
   "cell_type": "code",
   "execution_count": 60,
   "metadata": {},
   "outputs": [
    {
     "data": {
      "text/plain": [
       "DatetimeIndex(['2019-11-01', '2019-11-02', '2019-11-03', '2019-11-04',\n",
       "               '2019-11-05'],\n",
       "              dtype='datetime64[ns]', freq='D')"
      ]
     },
     "execution_count": 60,
     "metadata": {},
     "output_type": "execute_result"
    }
   ],
   "source": [
    "# Normalize start/end dates to midnight before generating date range\n",
    "\n",
    "pd.date_range('2019-11-01 12:56:31', periods=5, normalize=True)"
   ]
  },
  {
   "cell_type": "code",
   "execution_count": 61,
   "metadata": {},
   "outputs": [
    {
     "data": {
      "text/plain": [
       "DatetimeIndex(['2019-11-01 00:00:00', '2019-11-01 01:00:00',\n",
       "               '2019-11-01 02:00:00', '2019-11-01 03:00:00',\n",
       "               '2019-11-01 04:00:00'],\n",
       "              dtype='datetime64[ns]', freq='H')"
      ]
     },
     "execution_count": 61,
     "metadata": {},
     "output_type": "execute_result"
    }
   ],
   "source": [
    "pd.date_range('2019-11-01 12:56:31', periods=5, freq='H', normalize=True)"
   ]
  },
  {
   "cell_type": "code",
   "execution_count": 62,
   "metadata": {},
   "outputs": [
    {
     "data": {
      "text/plain": [
       "DatetimeIndex(['2019-01-01 00:00:00', '2019-01-01 04:00:00',\n",
       "               '2019-01-01 08:00:00', '2019-01-01 12:00:00',\n",
       "               '2019-01-01 16:00:00', '2019-01-01 20:00:00',\n",
       "               '2019-01-02 00:00:00', '2019-01-02 04:00:00',\n",
       "               '2019-01-02 08:00:00', '2019-01-02 12:00:00',\n",
       "               '2019-01-02 16:00:00', '2019-01-02 20:00:00'],\n",
       "              dtype='datetime64[ns]', freq='4H')"
      ]
     },
     "execution_count": 62,
     "metadata": {},
     "output_type": "execute_result"
    }
   ],
   "source": [
    "pd.date_range('2019-01-01', '2019-01-02 23:59', freq='4h')"
   ]
  },
  {
   "cell_type": "code",
   "execution_count": 63,
   "metadata": {},
   "outputs": [
    {
     "data": {
      "text/plain": [
       "DatetimeIndex(['2019-01-01 00:00:00', '2019-01-01 02:30:00',\n",
       "               '2019-01-01 05:00:00', '2019-01-01 07:30:00',\n",
       "               '2019-01-01 10:00:00', '2019-01-01 12:30:00',\n",
       "               '2019-01-01 15:00:00', '2019-01-01 17:30:00',\n",
       "               '2019-01-01 20:00:00', '2019-01-01 22:30:00'],\n",
       "              dtype='datetime64[ns]', freq='150T')"
      ]
     },
     "execution_count": 63,
     "metadata": {},
     "output_type": "execute_result"
    }
   ],
   "source": [
    "pd.date_range('2019-01-01', periods=10, freq='2h30min')"
   ]
  },
  {
   "cell_type": "markdown",
   "metadata": {},
   "source": [
    "#### Week of month dates"
   ]
  },
  {
   "cell_type": "code",
   "execution_count": 64,
   "metadata": {},
   "outputs": [
    {
     "data": {
      "text/plain": [
       "DatetimeIndex(['2019-01-15', '2019-02-19', '2019-03-19', '2019-04-16',\n",
       "               '2019-05-21', '2019-06-18', '2019-07-16', '2019-08-20',\n",
       "               '2019-09-17', '2019-10-15', '2019-11-19', '2019-12-17'],\n",
       "              dtype='datetime64[ns]', freq='WOM-3TUE')"
      ]
     },
     "execution_count": 64,
     "metadata": {},
     "output_type": "execute_result"
    }
   ],
   "source": [
    "# 3rd Tuesday\n",
    "\n",
    "pd.date_range('2019-01-01', '2020-01-01', freq='WOM-3TUE')"
   ]
  },
  {
   "cell_type": "markdown",
   "metadata": {},
   "source": [
    "### Shifting (Leading and Lagging) Data"
   ]
  },
  {
   "cell_type": "code",
   "execution_count": 65,
   "metadata": {},
   "outputs": [
    {
     "data": {
      "text/plain": [
       "2019-01-01    99\n",
       "2019-02-01    30\n",
       "2019-03-01     2\n",
       "2019-04-01    37\n",
       "2019-05-01    42\n",
       "2019-06-01    35\n",
       "Freq: MS, dtype: int64"
      ]
     },
     "execution_count": 65,
     "metadata": {},
     "output_type": "execute_result"
    }
   ],
   "source": [
    "np.random.seed(12345)\n",
    "\n",
    "ts2 = pd.Series(np.random.randint(1, 100, 6),\n",
    "               index=pd.date_range('1/1/2019', periods=6, freq='MS'))\n",
    "ts2"
   ]
  },
  {
   "cell_type": "code",
   "execution_count": 66,
   "metadata": {},
   "outputs": [
    {
     "data": {
      "text/plain": [
       "2019-01-01     NaN\n",
       "2019-02-01     NaN\n",
       "2019-03-01     NaN\n",
       "2019-04-01    99.0\n",
       "2019-05-01    30.0\n",
       "2019-06-01     2.0\n",
       "Freq: MS, dtype: float64"
      ]
     },
     "execution_count": 66,
     "metadata": {},
     "output_type": "execute_result"
    }
   ],
   "source": [
    "ts2.shift(3)"
   ]
  },
  {
   "cell_type": "code",
   "execution_count": 67,
   "metadata": {},
   "outputs": [
    {
     "data": {
      "text/plain": [
       "2019-01-01    37.0\n",
       "2019-02-01    42.0\n",
       "2019-03-01    35.0\n",
       "2019-04-01     NaN\n",
       "2019-05-01     NaN\n",
       "2019-06-01     NaN\n",
       "Freq: MS, dtype: float64"
      ]
     },
     "execution_count": 67,
     "metadata": {},
     "output_type": "execute_result"
    }
   ],
   "source": [
    "ts2.shift(-3)"
   ]
  },
  {
   "cell_type": "code",
   "execution_count": 68,
   "metadata": {},
   "outputs": [
    {
     "data": {
      "text/plain": [
       "2019-01-01    99\n",
       "2019-02-01    30\n",
       "2019-03-01     2\n",
       "2019-04-01    37\n",
       "2019-05-01    42\n",
       "2019-06-01    35\n",
       "Freq: MS, dtype: int64"
      ]
     },
     "execution_count": 68,
     "metadata": {},
     "output_type": "execute_result"
    }
   ],
   "source": [
    "ts2"
   ]
  },
  {
   "cell_type": "code",
   "execution_count": 69,
   "metadata": {},
   "outputs": [
    {
     "data": {
      "text/plain": [
       "2019-04-01    99\n",
       "2019-05-01    30\n",
       "2019-06-01     2\n",
       "2019-07-01    37\n",
       "2019-08-01    42\n",
       "2019-09-01    35\n",
       "Freq: MS, dtype: int64"
      ]
     },
     "execution_count": 69,
     "metadata": {},
     "output_type": "execute_result"
    }
   ],
   "source": [
    "ts2.shift(3, freq='MS')"
   ]
  },
  {
   "cell_type": "code",
   "execution_count": 70,
   "metadata": {},
   "outputs": [
    {
     "data": {
      "text/plain": [
       "2018-10-01    99\n",
       "2018-11-01    30\n",
       "2018-12-01     2\n",
       "2019-01-01    37\n",
       "2019-02-01    42\n",
       "2019-03-01    35\n",
       "Freq: MS, dtype: int64"
      ]
     },
     "execution_count": 70,
     "metadata": {},
     "output_type": "execute_result"
    }
   ],
   "source": [
    "ts2.shift(-3, freq='MS')"
   ]
  },
  {
   "cell_type": "code",
   "execution_count": 71,
   "metadata": {},
   "outputs": [
    {
     "data": {
      "text/plain": [
       "2019-01-01    99\n",
       "2019-02-01    30\n",
       "2019-03-01     2\n",
       "2019-04-01    37\n",
       "2019-05-01    42\n",
       "2019-06-01    35\n",
       "Freq: MS, dtype: int64"
      ]
     },
     "execution_count": 71,
     "metadata": {},
     "output_type": "execute_result"
    }
   ],
   "source": [
    "ts2"
   ]
  },
  {
   "cell_type": "code",
   "execution_count": 72,
   "metadata": {},
   "outputs": [
    {
     "data": {
      "text/plain": [
       "2019-01-04    99\n",
       "2019-02-04    30\n",
       "2019-03-04     2\n",
       "2019-04-04    37\n",
       "2019-05-04    42\n",
       "2019-06-04    35\n",
       "dtype: int64"
      ]
     },
     "execution_count": 72,
     "metadata": {},
     "output_type": "execute_result"
    }
   ],
   "source": [
    "ts2.shift(3, freq='D')"
   ]
  },
  {
   "cell_type": "code",
   "execution_count": 73,
   "metadata": {},
   "outputs": [
    {
     "data": {
      "text/plain": [
       "2018-12-29    99\n",
       "2019-01-29    30\n",
       "2019-02-26     2\n",
       "2019-03-29    37\n",
       "2019-04-28    42\n",
       "2019-05-29    35\n",
       "dtype: int64"
      ]
     },
     "execution_count": 73,
     "metadata": {},
     "output_type": "execute_result"
    }
   ],
   "source": [
    "ts2.shift(-3, freq='D')"
   ]
  },
  {
   "cell_type": "code",
   "execution_count": 74,
   "metadata": {},
   "outputs": [
    {
     "data": {
      "text/plain": [
       "2019-01-01    99\n",
       "2019-02-01    30\n",
       "2019-03-01     2\n",
       "2019-04-01    37\n",
       "2019-05-01    42\n",
       "2019-06-01    35\n",
       "Freq: MS, dtype: int64"
      ]
     },
     "execution_count": 74,
     "metadata": {},
     "output_type": "execute_result"
    }
   ],
   "source": [
    "ts2"
   ]
  },
  {
   "cell_type": "code",
   "execution_count": 75,
   "metadata": {},
   "outputs": [
    {
     "data": {
      "text/plain": [
       "2019-01-01 01:30:00    99\n",
       "2019-02-01 01:30:00    30\n",
       "2019-03-01 01:30:00     2\n",
       "2019-04-01 01:30:00    37\n",
       "2019-05-01 01:30:00    42\n",
       "2019-06-01 01:30:00    35\n",
       "Freq: MS, dtype: int64"
      ]
     },
     "execution_count": 75,
     "metadata": {},
     "output_type": "execute_result"
    }
   ],
   "source": [
    "# 90 minutes\n",
    "\n",
    "ts2.shift(1, freq='90T')"
   ]
  },
  {
   "cell_type": "code",
   "execution_count": 76,
   "metadata": {},
   "outputs": [
    {
     "data": {
      "text/plain": [
       "2019-01-01 03:00:00    99\n",
       "2019-02-01 03:00:00    30\n",
       "2019-03-01 03:00:00     2\n",
       "2019-04-01 03:00:00    37\n",
       "2019-05-01 03:00:00    42\n",
       "2019-06-01 03:00:00    35\n",
       "Freq: MS, dtype: int64"
      ]
     },
     "execution_count": 76,
     "metadata": {},
     "output_type": "execute_result"
    }
   ],
   "source": [
    "ts2.shift(2, freq='90T')"
   ]
  },
  {
   "cell_type": "markdown",
   "metadata": {},
   "source": [
    "#### Shifting dates with offsets"
   ]
  },
  {
   "cell_type": "code",
   "execution_count": 77,
   "metadata": {},
   "outputs": [],
   "source": [
    "from pandas.tseries.offsets import Day, MonthEnd"
   ]
  },
  {
   "cell_type": "code",
   "execution_count": 78,
   "metadata": {},
   "outputs": [
    {
     "data": {
      "text/plain": [
       "Timestamp('2019-01-18 00:00:00')"
      ]
     },
     "execution_count": 78,
     "metadata": {},
     "output_type": "execute_result"
    }
   ],
   "source": [
    "now = datetime(2019, 1, 15)\n",
    "now + 3 * Day()"
   ]
  },
  {
   "cell_type": "code",
   "execution_count": 79,
   "metadata": {},
   "outputs": [
    {
     "data": {
      "text/plain": [
       "(Timestamp('2019-01-31 00:00:00'), Timestamp('2019-02-28 00:00:00'))"
      ]
     },
     "execution_count": 79,
     "metadata": {},
     "output_type": "execute_result"
    }
   ],
   "source": [
    "now + MonthEnd(), now + MonthEnd(2)"
   ]
  },
  {
   "cell_type": "code",
   "execution_count": 80,
   "metadata": {},
   "outputs": [
    {
     "data": {
      "text/plain": [
       "(Timestamp('2019-01-31 00:00:00'), Timestamp('2018-12-31 00:00:00'))"
      ]
     },
     "execution_count": 80,
     "metadata": {},
     "output_type": "execute_result"
    }
   ],
   "source": [
    "offset = MonthEnd()\n",
    "offset.rollforward(now), offset.rollback(now)"
   ]
  },
  {
   "cell_type": "code",
   "execution_count": 81,
   "metadata": {},
   "outputs": [
    {
     "data": {
      "text/plain": [
       "2019-01-15    99\n",
       "2019-01-19    30\n",
       "2019-01-23     2\n",
       "2019-01-27    37\n",
       "2019-01-31    42\n",
       "2019-02-04    35\n",
       "2019-02-08    30\n",
       "2019-02-12     2\n",
       "2019-02-16    60\n",
       "2019-02-20    15\n",
       "2019-02-24    92\n",
       "2019-02-28    81\n",
       "2019-03-04    74\n",
       "2019-03-08    12\n",
       "2019-03-12    78\n",
       "2019-03-16    11\n",
       "2019-03-20    82\n",
       "2019-03-24    83\n",
       "2019-03-28    39\n",
       "2019-04-01     8\n",
       "Freq: 4D, dtype: int64"
      ]
     },
     "execution_count": 81,
     "metadata": {},
     "output_type": "execute_result"
    }
   ],
   "source": [
    "np.random.seed(12345)\n",
    "\n",
    "ts3 = pd.Series(np.random.randint(1, 100, 20),\n",
    "               index=pd.date_range('1/15/2019', periods=20, freq='4d'))\n",
    "ts3"
   ]
  },
  {
   "cell_type": "code",
   "execution_count": 82,
   "metadata": {},
   "outputs": [
    {
     "name": "stdout",
     "output_type": "stream",
     "text": [
      "\n",
      "Key:  2019-01-31 00:00:00\n",
      "2019-01-15    99\n",
      "2019-01-19    30\n",
      "2019-01-23     2\n",
      "2019-01-27    37\n",
      "2019-01-31    42\n",
      "Freq: 4D, dtype: int64\n",
      "\n",
      "Key:  2019-02-28 00:00:00\n",
      "2019-02-04    35\n",
      "2019-02-08    30\n",
      "2019-02-12     2\n",
      "2019-02-16    60\n",
      "2019-02-20    15\n",
      "2019-02-24    92\n",
      "2019-02-28    81\n",
      "Freq: 4D, dtype: int64\n",
      "\n",
      "Key:  2019-03-31 00:00:00\n",
      "2019-03-04    74\n",
      "2019-03-08    12\n",
      "2019-03-12    78\n",
      "2019-03-16    11\n",
      "2019-03-20    82\n",
      "2019-03-24    83\n",
      "2019-03-28    39\n",
      "Freq: 4D, dtype: int64\n",
      "\n",
      "Key:  2019-04-30 00:00:00\n",
      "2019-04-01    8\n",
      "Freq: 4D, dtype: int64\n"
     ]
    }
   ],
   "source": [
    "for (key, group) in ts3.groupby(offset.rollforward):\n",
    "    print(\"\\nKey: \", key)\n",
    "    print(group)\n"
   ]
  },
  {
   "cell_type": "code",
   "execution_count": 83,
   "metadata": {},
   "outputs": [
    {
     "data": {
      "text/plain": [
       "2019-01-31    210\n",
       "2019-02-28    315\n",
       "2019-03-31    379\n",
       "2019-04-30      8\n",
       "dtype: int64"
      ]
     },
     "execution_count": 83,
     "metadata": {},
     "output_type": "execute_result"
    }
   ],
   "source": [
    "ts3.groupby(offset.rollforward).sum()"
   ]
  },
  {
   "cell_type": "code",
   "execution_count": 84,
   "metadata": {},
   "outputs": [
    {
     "data": {
      "text/plain": [
       "2019-01-31    210\n",
       "2019-02-28    315\n",
       "2019-03-31    379\n",
       "2019-04-30      8\n",
       "Freq: M, dtype: int64"
      ]
     },
     "execution_count": 84,
     "metadata": {},
     "output_type": "execute_result"
    }
   ],
   "source": [
    "ts3.resample('M').sum()"
   ]
  },
  {
   "cell_type": "markdown",
   "metadata": {},
   "source": [
    "### Open-High-Low-Close (OHLC) resampling"
   ]
  },
  {
   "cell_type": "code",
   "execution_count": 85,
   "metadata": {},
   "outputs": [
    {
     "data": {
      "text/plain": [
       "DatetimeIndex(['2019-01-01 00:00:00', '2019-01-01 00:01:00',\n",
       "               '2019-01-01 00:02:00', '2019-01-01 00:03:00',\n",
       "               '2019-01-01 00:04:00', '2019-01-01 00:05:00',\n",
       "               '2019-01-01 00:06:00', '2019-01-01 00:07:00',\n",
       "               '2019-01-01 00:08:00', '2019-01-01 00:09:00',\n",
       "               '2019-01-01 00:10:00', '2019-01-01 00:11:00'],\n",
       "              dtype='datetime64[ns]', freq='T')"
      ]
     },
     "execution_count": 85,
     "metadata": {},
     "output_type": "execute_result"
    }
   ],
   "source": [
    "pd.date_range('2019-01-01', periods=12, freq='T')"
   ]
  },
  {
   "cell_type": "code",
   "execution_count": 86,
   "metadata": {},
   "outputs": [
    {
     "data": {
      "text/plain": [
       "2019-01-01 00:00:00    44\n",
       "2019-01-01 00:01:00    47\n",
       "2019-01-01 00:02:00    39\n",
       "2019-01-01 00:03:00    11\n",
       "2019-01-01 00:04:00    46\n",
       "2019-01-01 00:05:00    47\n",
       "2019-01-01 00:06:00    44\n",
       "2019-01-01 00:07:00    39\n",
       "2019-01-01 00:08:00    11\n",
       "2019-01-01 00:09:00    24\n",
       "2019-01-01 00:10:00    37\n",
       "2019-01-01 00:11:00    26\n",
       "Freq: T, dtype: int64"
      ]
     },
     "execution_count": 86,
     "metadata": {},
     "output_type": "execute_result"
    }
   ],
   "source": [
    "np.random.seed(12345)\n",
    "\n",
    "rng = pd.date_range('2019-01-01', periods=12, freq='T')\n",
    "ts4 = pd.Series(np.random.randint(10, 50, 12), index=rng)\n",
    "ts4"
   ]
  },
  {
   "cell_type": "code",
   "execution_count": 87,
   "metadata": {},
   "outputs": [
    {
     "data": {
      "text/plain": [
       "2019-01-01 00:00:00    187\n",
       "2019-01-01 00:05:00    165\n",
       "2019-01-01 00:10:00     63\n",
       "Freq: 5T, dtype: int64"
      ]
     },
     "execution_count": 87,
     "metadata": {},
     "output_type": "execute_result"
    }
   ],
   "source": [
    "ts4.resample('5min').sum()"
   ]
  },
  {
   "cell_type": "code",
   "execution_count": 88,
   "metadata": {},
   "outputs": [
    {
     "data": {
      "text/html": [
       "<div>\n",
       "<style scoped>\n",
       "    .dataframe tbody tr th:only-of-type {\n",
       "        vertical-align: middle;\n",
       "    }\n",
       "\n",
       "    .dataframe tbody tr th {\n",
       "        vertical-align: top;\n",
       "    }\n",
       "\n",
       "    .dataframe thead th {\n",
       "        text-align: right;\n",
       "    }\n",
       "</style>\n",
       "<table border=\"1\" class=\"dataframe\">\n",
       "  <thead>\n",
       "    <tr style=\"text-align: right;\">\n",
       "      <th></th>\n",
       "      <th>open</th>\n",
       "      <th>high</th>\n",
       "      <th>low</th>\n",
       "      <th>close</th>\n",
       "    </tr>\n",
       "  </thead>\n",
       "  <tbody>\n",
       "    <tr>\n",
       "      <td>2019-01-01 00:00:00</td>\n",
       "      <td>44</td>\n",
       "      <td>47</td>\n",
       "      <td>11</td>\n",
       "      <td>46</td>\n",
       "    </tr>\n",
       "    <tr>\n",
       "      <td>2019-01-01 00:05:00</td>\n",
       "      <td>47</td>\n",
       "      <td>47</td>\n",
       "      <td>11</td>\n",
       "      <td>24</td>\n",
       "    </tr>\n",
       "    <tr>\n",
       "      <td>2019-01-01 00:10:00</td>\n",
       "      <td>37</td>\n",
       "      <td>37</td>\n",
       "      <td>26</td>\n",
       "      <td>26</td>\n",
       "    </tr>\n",
       "  </tbody>\n",
       "</table>\n",
       "</div>"
      ],
      "text/plain": [
       "                     open  high  low  close\n",
       "2019-01-01 00:00:00    44    47   11     46\n",
       "2019-01-01 00:05:00    47    47   11     24\n",
       "2019-01-01 00:10:00    37    37   26     26"
      ]
     },
     "execution_count": 88,
     "metadata": {},
     "output_type": "execute_result"
    }
   ],
   "source": [
    "ts4.resample('5min').ohlc() # o=start, h=high value, l=low value, c=close value"
   ]
  },
  {
   "cell_type": "markdown",
   "metadata": {},
   "source": [
    "### Upsampling and Interpolation"
   ]
  },
  {
   "cell_type": "code",
   "execution_count": 89,
   "metadata": {},
   "outputs": [
    {
     "data": {
      "text/html": [
       "<div>\n",
       "<style scoped>\n",
       "    .dataframe tbody tr th:only-of-type {\n",
       "        vertical-align: middle;\n",
       "    }\n",
       "\n",
       "    .dataframe tbody tr th {\n",
       "        vertical-align: top;\n",
       "    }\n",
       "\n",
       "    .dataframe thead th {\n",
       "        text-align: right;\n",
       "    }\n",
       "</style>\n",
       "<table border=\"1\" class=\"dataframe\">\n",
       "  <thead>\n",
       "    <tr style=\"text-align: right;\">\n",
       "      <th></th>\n",
       "      <th>Colorado</th>\n",
       "      <th>Texas</th>\n",
       "      <th>New York</th>\n",
       "      <th>Ohio</th>\n",
       "    </tr>\n",
       "  </thead>\n",
       "  <tbody>\n",
       "    <tr>\n",
       "      <td>2019-01-07</td>\n",
       "      <td>22</td>\n",
       "      <td>25</td>\n",
       "      <td>49</td>\n",
       "      <td>21</td>\n",
       "    </tr>\n",
       "    <tr>\n",
       "      <td>2019-01-14</td>\n",
       "      <td>24</td>\n",
       "      <td>29</td>\n",
       "      <td>25</td>\n",
       "      <td>22</td>\n",
       "    </tr>\n",
       "  </tbody>\n",
       "</table>\n",
       "</div>"
      ],
      "text/plain": [
       "            Colorado  Texas  New York  Ohio\n",
       "2019-01-07        22     25        49    21\n",
       "2019-01-14        24     29        25    22"
      ]
     },
     "execution_count": 89,
     "metadata": {},
     "output_type": "execute_result"
    }
   ],
   "source": [
    "np.random.seed(12345)\n",
    "\n",
    "frame = pd.DataFrame(np.random.randint(20, 50, (2,4)),\n",
    "                     index=pd.date_range('1/1/2019', periods=2,\n",
    "                                         freq='W-MON'),\n",
    "                     columns=['Colorado', 'Texas', 'New York', 'Ohio'])\n",
    "frame"
   ]
  },
  {
   "cell_type": "code",
   "execution_count": 90,
   "metadata": {},
   "outputs": [
    {
     "data": {
      "text/html": [
       "<div>\n",
       "<style scoped>\n",
       "    .dataframe tbody tr th:only-of-type {\n",
       "        vertical-align: middle;\n",
       "    }\n",
       "\n",
       "    .dataframe tbody tr th {\n",
       "        vertical-align: top;\n",
       "    }\n",
       "\n",
       "    .dataframe thead th {\n",
       "        text-align: right;\n",
       "    }\n",
       "</style>\n",
       "<table border=\"1\" class=\"dataframe\">\n",
       "  <thead>\n",
       "    <tr style=\"text-align: right;\">\n",
       "      <th></th>\n",
       "      <th>Colorado</th>\n",
       "      <th>Texas</th>\n",
       "      <th>New York</th>\n",
       "      <th>Ohio</th>\n",
       "    </tr>\n",
       "  </thead>\n",
       "  <tbody>\n",
       "    <tr>\n",
       "      <td>2019-01-07</td>\n",
       "      <td>22.0</td>\n",
       "      <td>25.0</td>\n",
       "      <td>49.0</td>\n",
       "      <td>21.0</td>\n",
       "    </tr>\n",
       "    <tr>\n",
       "      <td>2019-01-08</td>\n",
       "      <td>NaN</td>\n",
       "      <td>NaN</td>\n",
       "      <td>NaN</td>\n",
       "      <td>NaN</td>\n",
       "    </tr>\n",
       "    <tr>\n",
       "      <td>2019-01-09</td>\n",
       "      <td>NaN</td>\n",
       "      <td>NaN</td>\n",
       "      <td>NaN</td>\n",
       "      <td>NaN</td>\n",
       "    </tr>\n",
       "    <tr>\n",
       "      <td>2019-01-10</td>\n",
       "      <td>NaN</td>\n",
       "      <td>NaN</td>\n",
       "      <td>NaN</td>\n",
       "      <td>NaN</td>\n",
       "    </tr>\n",
       "    <tr>\n",
       "      <td>2019-01-11</td>\n",
       "      <td>NaN</td>\n",
       "      <td>NaN</td>\n",
       "      <td>NaN</td>\n",
       "      <td>NaN</td>\n",
       "    </tr>\n",
       "    <tr>\n",
       "      <td>2019-01-12</td>\n",
       "      <td>NaN</td>\n",
       "      <td>NaN</td>\n",
       "      <td>NaN</td>\n",
       "      <td>NaN</td>\n",
       "    </tr>\n",
       "    <tr>\n",
       "      <td>2019-01-13</td>\n",
       "      <td>NaN</td>\n",
       "      <td>NaN</td>\n",
       "      <td>NaN</td>\n",
       "      <td>NaN</td>\n",
       "    </tr>\n",
       "    <tr>\n",
       "      <td>2019-01-14</td>\n",
       "      <td>24.0</td>\n",
       "      <td>29.0</td>\n",
       "      <td>25.0</td>\n",
       "      <td>22.0</td>\n",
       "    </tr>\n",
       "  </tbody>\n",
       "</table>\n",
       "</div>"
      ],
      "text/plain": [
       "            Colorado  Texas  New York  Ohio\n",
       "2019-01-07      22.0   25.0      49.0  21.0\n",
       "2019-01-08       NaN    NaN       NaN   NaN\n",
       "2019-01-09       NaN    NaN       NaN   NaN\n",
       "2019-01-10       NaN    NaN       NaN   NaN\n",
       "2019-01-11       NaN    NaN       NaN   NaN\n",
       "2019-01-12       NaN    NaN       NaN   NaN\n",
       "2019-01-13       NaN    NaN       NaN   NaN\n",
       "2019-01-14      24.0   29.0      25.0  22.0"
      ]
     },
     "execution_count": 90,
     "metadata": {},
     "output_type": "execute_result"
    }
   ],
   "source": [
    "df_daily = frame.resample('D').asfreq()\n",
    "df_daily"
   ]
  },
  {
   "cell_type": "code",
   "execution_count": 91,
   "metadata": {},
   "outputs": [
    {
     "data": {
      "text/html": [
       "<div>\n",
       "<style scoped>\n",
       "    .dataframe tbody tr th:only-of-type {\n",
       "        vertical-align: middle;\n",
       "    }\n",
       "\n",
       "    .dataframe tbody tr th {\n",
       "        vertical-align: top;\n",
       "    }\n",
       "\n",
       "    .dataframe thead th {\n",
       "        text-align: right;\n",
       "    }\n",
       "</style>\n",
       "<table border=\"1\" class=\"dataframe\">\n",
       "  <thead>\n",
       "    <tr style=\"text-align: right;\">\n",
       "      <th></th>\n",
       "      <th>Colorado</th>\n",
       "      <th>Texas</th>\n",
       "      <th>New York</th>\n",
       "      <th>Ohio</th>\n",
       "    </tr>\n",
       "  </thead>\n",
       "  <tbody>\n",
       "    <tr>\n",
       "      <td>2019-01-07</td>\n",
       "      <td>22</td>\n",
       "      <td>25</td>\n",
       "      <td>49</td>\n",
       "      <td>21</td>\n",
       "    </tr>\n",
       "    <tr>\n",
       "      <td>2019-01-08</td>\n",
       "      <td>22</td>\n",
       "      <td>25</td>\n",
       "      <td>49</td>\n",
       "      <td>21</td>\n",
       "    </tr>\n",
       "    <tr>\n",
       "      <td>2019-01-09</td>\n",
       "      <td>22</td>\n",
       "      <td>25</td>\n",
       "      <td>49</td>\n",
       "      <td>21</td>\n",
       "    </tr>\n",
       "    <tr>\n",
       "      <td>2019-01-10</td>\n",
       "      <td>22</td>\n",
       "      <td>25</td>\n",
       "      <td>49</td>\n",
       "      <td>21</td>\n",
       "    </tr>\n",
       "    <tr>\n",
       "      <td>2019-01-11</td>\n",
       "      <td>22</td>\n",
       "      <td>25</td>\n",
       "      <td>49</td>\n",
       "      <td>21</td>\n",
       "    </tr>\n",
       "    <tr>\n",
       "      <td>2019-01-12</td>\n",
       "      <td>22</td>\n",
       "      <td>25</td>\n",
       "      <td>49</td>\n",
       "      <td>21</td>\n",
       "    </tr>\n",
       "    <tr>\n",
       "      <td>2019-01-13</td>\n",
       "      <td>22</td>\n",
       "      <td>25</td>\n",
       "      <td>49</td>\n",
       "      <td>21</td>\n",
       "    </tr>\n",
       "    <tr>\n",
       "      <td>2019-01-14</td>\n",
       "      <td>24</td>\n",
       "      <td>29</td>\n",
       "      <td>25</td>\n",
       "      <td>22</td>\n",
       "    </tr>\n",
       "  </tbody>\n",
       "</table>\n",
       "</div>"
      ],
      "text/plain": [
       "            Colorado  Texas  New York  Ohio\n",
       "2019-01-07        22     25        49    21\n",
       "2019-01-08        22     25        49    21\n",
       "2019-01-09        22     25        49    21\n",
       "2019-01-10        22     25        49    21\n",
       "2019-01-11        22     25        49    21\n",
       "2019-01-12        22     25        49    21\n",
       "2019-01-13        22     25        49    21\n",
       "2019-01-14        24     29        25    22"
      ]
     },
     "execution_count": 91,
     "metadata": {},
     "output_type": "execute_result"
    }
   ],
   "source": [
    "frame.resample('D').ffill()"
   ]
  },
  {
   "cell_type": "code",
   "execution_count": 92,
   "metadata": {},
   "outputs": [
    {
     "data": {
      "text/html": [
       "<div>\n",
       "<style scoped>\n",
       "    .dataframe tbody tr th:only-of-type {\n",
       "        vertical-align: middle;\n",
       "    }\n",
       "\n",
       "    .dataframe tbody tr th {\n",
       "        vertical-align: top;\n",
       "    }\n",
       "\n",
       "    .dataframe thead th {\n",
       "        text-align: right;\n",
       "    }\n",
       "</style>\n",
       "<table border=\"1\" class=\"dataframe\">\n",
       "  <thead>\n",
       "    <tr style=\"text-align: right;\">\n",
       "      <th></th>\n",
       "      <th>Colorado</th>\n",
       "      <th>Texas</th>\n",
       "      <th>New York</th>\n",
       "      <th>Ohio</th>\n",
       "    </tr>\n",
       "  </thead>\n",
       "  <tbody>\n",
       "    <tr>\n",
       "      <td>2019-01-07</td>\n",
       "      <td>22.0</td>\n",
       "      <td>25.0</td>\n",
       "      <td>49.0</td>\n",
       "      <td>21.0</td>\n",
       "    </tr>\n",
       "    <tr>\n",
       "      <td>2019-01-08</td>\n",
       "      <td>22.0</td>\n",
       "      <td>25.0</td>\n",
       "      <td>49.0</td>\n",
       "      <td>21.0</td>\n",
       "    </tr>\n",
       "    <tr>\n",
       "      <td>2019-01-09</td>\n",
       "      <td>22.0</td>\n",
       "      <td>25.0</td>\n",
       "      <td>49.0</td>\n",
       "      <td>21.0</td>\n",
       "    </tr>\n",
       "    <tr>\n",
       "      <td>2019-01-10</td>\n",
       "      <td>NaN</td>\n",
       "      <td>NaN</td>\n",
       "      <td>NaN</td>\n",
       "      <td>NaN</td>\n",
       "    </tr>\n",
       "    <tr>\n",
       "      <td>2019-01-11</td>\n",
       "      <td>NaN</td>\n",
       "      <td>NaN</td>\n",
       "      <td>NaN</td>\n",
       "      <td>NaN</td>\n",
       "    </tr>\n",
       "    <tr>\n",
       "      <td>2019-01-12</td>\n",
       "      <td>NaN</td>\n",
       "      <td>NaN</td>\n",
       "      <td>NaN</td>\n",
       "      <td>NaN</td>\n",
       "    </tr>\n",
       "    <tr>\n",
       "      <td>2019-01-13</td>\n",
       "      <td>NaN</td>\n",
       "      <td>NaN</td>\n",
       "      <td>NaN</td>\n",
       "      <td>NaN</td>\n",
       "    </tr>\n",
       "    <tr>\n",
       "      <td>2019-01-14</td>\n",
       "      <td>24.0</td>\n",
       "      <td>29.0</td>\n",
       "      <td>25.0</td>\n",
       "      <td>22.0</td>\n",
       "    </tr>\n",
       "  </tbody>\n",
       "</table>\n",
       "</div>"
      ],
      "text/plain": [
       "            Colorado  Texas  New York  Ohio\n",
       "2019-01-07      22.0   25.0      49.0  21.0\n",
       "2019-01-08      22.0   25.0      49.0  21.0\n",
       "2019-01-09      22.0   25.0      49.0  21.0\n",
       "2019-01-10       NaN    NaN       NaN   NaN\n",
       "2019-01-11       NaN    NaN       NaN   NaN\n",
       "2019-01-12       NaN    NaN       NaN   NaN\n",
       "2019-01-13       NaN    NaN       NaN   NaN\n",
       "2019-01-14      24.0   29.0      25.0  22.0"
      ]
     },
     "execution_count": 92,
     "metadata": {},
     "output_type": "execute_result"
    }
   ],
   "source": [
    "frame.resample('D').ffill(limit=2)"
   ]
  },
  {
   "cell_type": "code",
   "execution_count": 93,
   "metadata": {},
   "outputs": [
    {
     "data": {
      "text/html": [
       "<div>\n",
       "<style scoped>\n",
       "    .dataframe tbody tr th:only-of-type {\n",
       "        vertical-align: middle;\n",
       "    }\n",
       "\n",
       "    .dataframe tbody tr th {\n",
       "        vertical-align: top;\n",
       "    }\n",
       "\n",
       "    .dataframe thead th {\n",
       "        text-align: right;\n",
       "    }\n",
       "</style>\n",
       "<table border=\"1\" class=\"dataframe\">\n",
       "  <thead>\n",
       "    <tr style=\"text-align: right;\">\n",
       "      <th></th>\n",
       "      <th>Colorado</th>\n",
       "      <th>Texas</th>\n",
       "      <th>New York</th>\n",
       "      <th>Ohio</th>\n",
       "    </tr>\n",
       "  </thead>\n",
       "  <tbody>\n",
       "    <tr>\n",
       "      <td>2019-01-07</td>\n",
       "      <td>22</td>\n",
       "      <td>25</td>\n",
       "      <td>49</td>\n",
       "      <td>21</td>\n",
       "    </tr>\n",
       "    <tr>\n",
       "      <td>2019-01-14</td>\n",
       "      <td>24</td>\n",
       "      <td>29</td>\n",
       "      <td>25</td>\n",
       "      <td>22</td>\n",
       "    </tr>\n",
       "  </tbody>\n",
       "</table>\n",
       "</div>"
      ],
      "text/plain": [
       "            Colorado  Texas  New York  Ohio\n",
       "2019-01-07        22     25        49    21\n",
       "2019-01-14        24     29        25    22"
      ]
     },
     "execution_count": 93,
     "metadata": {},
     "output_type": "execute_result"
    }
   ],
   "source": [
    "frame"
   ]
  },
  {
   "cell_type": "code",
   "execution_count": 94,
   "metadata": {},
   "outputs": [
    {
     "data": {
      "text/html": [
       "<div>\n",
       "<style scoped>\n",
       "    .dataframe tbody tr th:only-of-type {\n",
       "        vertical-align: middle;\n",
       "    }\n",
       "\n",
       "    .dataframe tbody tr th {\n",
       "        vertical-align: top;\n",
       "    }\n",
       "\n",
       "    .dataframe thead th {\n",
       "        text-align: right;\n",
       "    }\n",
       "</style>\n",
       "<table border=\"1\" class=\"dataframe\">\n",
       "  <thead>\n",
       "    <tr style=\"text-align: right;\">\n",
       "      <th></th>\n",
       "      <th>Colorado</th>\n",
       "      <th>Texas</th>\n",
       "      <th>New York</th>\n",
       "      <th>Ohio</th>\n",
       "    </tr>\n",
       "  </thead>\n",
       "  <tbody>\n",
       "    <tr>\n",
       "      <td>2019-01-10</td>\n",
       "      <td>NaN</td>\n",
       "      <td>NaN</td>\n",
       "      <td>NaN</td>\n",
       "      <td>NaN</td>\n",
       "    </tr>\n",
       "    <tr>\n",
       "      <td>2019-01-17</td>\n",
       "      <td>NaN</td>\n",
       "      <td>NaN</td>\n",
       "      <td>NaN</td>\n",
       "      <td>NaN</td>\n",
       "    </tr>\n",
       "  </tbody>\n",
       "</table>\n",
       "</div>"
      ],
      "text/plain": [
       "            Colorado  Texas  New York  Ohio\n",
       "2019-01-10       NaN    NaN       NaN   NaN\n",
       "2019-01-17       NaN    NaN       NaN   NaN"
      ]
     },
     "execution_count": 94,
     "metadata": {},
     "output_type": "execute_result"
    }
   ],
   "source": [
    "frame.resample('W-THU').asfreq()"
   ]
  },
  {
   "cell_type": "code",
   "execution_count": 95,
   "metadata": {},
   "outputs": [
    {
     "data": {
      "text/html": [
       "<div>\n",
       "<style scoped>\n",
       "    .dataframe tbody tr th:only-of-type {\n",
       "        vertical-align: middle;\n",
       "    }\n",
       "\n",
       "    .dataframe tbody tr th {\n",
       "        vertical-align: top;\n",
       "    }\n",
       "\n",
       "    .dataframe thead th {\n",
       "        text-align: right;\n",
       "    }\n",
       "</style>\n",
       "<table border=\"1\" class=\"dataframe\">\n",
       "  <thead>\n",
       "    <tr style=\"text-align: right;\">\n",
       "      <th></th>\n",
       "      <th>Colorado</th>\n",
       "      <th>Texas</th>\n",
       "      <th>New York</th>\n",
       "      <th>Ohio</th>\n",
       "    </tr>\n",
       "  </thead>\n",
       "  <tbody>\n",
       "    <tr>\n",
       "      <td>2019-01-10</td>\n",
       "      <td>22</td>\n",
       "      <td>25</td>\n",
       "      <td>49</td>\n",
       "      <td>21</td>\n",
       "    </tr>\n",
       "    <tr>\n",
       "      <td>2019-01-17</td>\n",
       "      <td>24</td>\n",
       "      <td>29</td>\n",
       "      <td>25</td>\n",
       "      <td>22</td>\n",
       "    </tr>\n",
       "  </tbody>\n",
       "</table>\n",
       "</div>"
      ],
      "text/plain": [
       "            Colorado  Texas  New York  Ohio\n",
       "2019-01-10        22     25        49    21\n",
       "2019-01-17        24     29        25    22"
      ]
     },
     "execution_count": 95,
     "metadata": {},
     "output_type": "execute_result"
    }
   ],
   "source": [
    "frame.resample('W-THU').ffill()"
   ]
  },
  {
   "cell_type": "code",
   "execution_count": null,
   "metadata": {},
   "outputs": [],
   "source": []
  }
 ],
 "metadata": {
  "kernelspec": {
   "display_name": "Python 3",
   "language": "python",
   "name": "python3"
  },
  "language_info": {
   "codemirror_mode": {
    "name": "ipython",
    "version": 3
   },
   "file_extension": ".py",
   "mimetype": "text/x-python",
   "name": "python",
   "nbconvert_exporter": "python",
   "pygments_lexer": "ipython3",
   "version": "3.6.6"
  }
 },
 "nbformat": 4,
 "nbformat_minor": 1
}
