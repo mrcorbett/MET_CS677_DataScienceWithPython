{
 "cells": [
  {
   "cell_type": "markdown",
   "metadata": {},
   "source": [
    "# CS677 Lab1"
   ]
  },
  {
   "cell_type": "markdown",
   "metadata": {},
   "source": [
    "Given a string of even length, print if the first half and the second half of the string are the same or not.\n",
    "\n",
    "Sample Input:\n",
    "s='abcdabcd'\n",
    "\n",
    "Output:\n",
    "first and second half same\n",
    "\n",
    "Sample Input\n",
    "s='ababcd'\n",
    "\n",
    "Output:\n"
   ]
  },
  {
   "cell_type": "code",
   "execution_count": 14,
   "metadata": {},
   "outputs": [
    {
     "name": "stdout",
     "output_type": "stream",
     "text": [
      "Match\n",
      "No Match\n",
      "No Match\n"
     ]
    }
   ],
   "source": [
    "# BU ID Last 4 digits = 7286\n",
    "\n",
    "def checkAndPrintMatch(s):\n",
    "    fullLen = len(s)\n",
    "    halfLen = fullLen >> 1  # Professor uses a // b to do integer division\n",
    "    if s[0:halfLen] == s[halfLen : fullLen]:\n",
    "        print(\"Match\")\n",
    "    else:\n",
    "        print(\"No Match\")    \n",
    "\n",
    "checkAndPrintMatch('abcdabcd')\n",
    "checkAndPrintMatch('ababcd')\n",
    "checkAndPrintMatch('abcdxabcd')"
   ]
  },
  {
   "cell_type": "markdown",
   "metadata": {},
   "source": [
    "Write the function, charCount, that returns a dictionary with the \n",
    "frequency counts of all the distinct characters in the given string.\n",
    "\n",
    "Sample Input:\n",
    "  charCount(\"abracadabara\")\n",
    "Output:\n",
    "  {\"a\": 6, \"b\": 2, \"r\": 2, \"c\": 1, \"d\": 1}\n",
    "  "
   ]
  },
  {
   "cell_type": "code",
   "execution_count": 16,
   "metadata": {},
   "outputs": [
    {
     "name": "stdout",
     "output_type": "stream",
     "text": [
      "dict= {'a': 6, 'b': 2, 'r': 2, 'c': 1, 'd': 1}\n"
     ]
    }
   ],
   "source": [
    "def charCount(s):\n",
    "    dictOfChars = {}\n",
    "    for ch in s:\n",
    "        if ch in dictOfChars.keys():\n",
    "            dictOfChars[ch] += 1\n",
    "        else:\n",
    "            dictOfChars[ch] = 1\n",
    "    return dictOfChars\n",
    "\n",
    "print(\"dict=\", charCount(\"abracadabara\"))"
   ]
  },
  {
   "cell_type": "markdown",
   "metadata": {},
   "source": [
    "odify the charCount solution so that the output is printed by the function \n",
    "in a sorted form as shown below:\n",
    "\n",
    "Sample Input:\n",
    "  charCount(\"the quick brown fox jumped over the lazy dogs\")\n",
    "Output:\n",
    " Letter   - Count  8\n",
    " Letter a - Count  1\n",
    " Letter b - Count  1\n",
    " Letter c - Count  1\n",
    " Letter d - Count  2\n",
    " Letter e - Count  4\n",
    " Letter f - Count  1\n",
    " Letter g - Count  1\n",
    " Letter h - Count  2\n",
    " Letter i - Count  1\n",
    " Letter j - Count  1\n",
    " Letter k - Count  1\n",
    " Letter l - Count  1\n",
    " Letter m - Count  1\n",
    " Letter n - Count  1\n",
    " Letter o - Count  4\n",
    " Letter p - Count  1\n",
    " Letter q - Count  1\n",
    " Letter r - Count  2\n",
    " Letter s - Count  1\n",
    " Letter t - Count  2\n",
    " Letter u - Count  2\n",
    " Letter v - Count  1\n",
    " Letter w - Count  1\n",
    " Letter x - Count  1\n",
    " Letter y - Count  1\n",
    " Letter z - Count  1\n"
   ]
  },
  {
   "cell_type": "code",
   "execution_count": 33,
   "metadata": {},
   "outputs": [
    {
     "name": "stdout",
     "output_type": "stream",
     "text": [
      "Letter   - Count 8\n",
      "Letter a - Count 1\n",
      "Letter b - Count 1\n",
      "Letter c - Count 1\n",
      "Letter d - Count 2\n",
      "Letter e - Count 4\n",
      "Letter f - Count 1\n",
      "Letter g - Count 1\n",
      "Letter h - Count 2\n",
      "Letter i - Count 1\n",
      "Letter j - Count 1\n",
      "Letter k - Count 1\n",
      "Letter l - Count 1\n",
      "Letter m - Count 1\n",
      "Letter n - Count 1\n",
      "Letter o - Count 4\n",
      "Letter p - Count 1\n",
      "Letter q - Count 1\n",
      "Letter r - Count 2\n",
      "Letter s - Count 1\n",
      "Letter t - Count 2\n",
      "Letter u - Count 2\n",
      "Letter v - Count 1\n",
      "Letter w - Count 1\n",
      "Letter x - Count 1\n",
      "Letter y - Count 1\n",
      "Letter z - Count 1\n"
     ]
    }
   ],
   "source": [
    "def charCount(s):\n",
    "    dictOfChars = {}\n",
    "    for ch in s:\n",
    "        if ch in dictOfChars.keys():\n",
    "            dictOfChars[ch] += 1\n",
    "        else:\n",
    "            dictOfChars[ch] = 1\n",
    "        \n",
    "\n",
    "    keys = list(dictOfChars.keys())\n",
    "    keys.sort()\n",
    "\n",
    "    for key in keys:\n",
    "        print(\"Letter {} - Count {}\".format(key, dictOfChars[key]))\n",
    "\n",
    "charCount(\"the quick brown fox jumped over the lazy dogs\") \n"
   ]
  },
  {
   "cell_type": "code",
   "execution_count": 34,
   "metadata": {},
   "outputs": [
    {
     "name": "stdout",
     "output_type": "stream",
     "text": [
      "Letter   - Count 8\n",
      "Letter a - Count 1\n",
      "Letter b - Count 1\n",
      "Letter c - Count 1\n",
      "Letter d - Count 2\n",
      "Letter e - Count 4\n",
      "Letter f - Count 1\n",
      "Letter g - Count 1\n",
      "Letter h - Count 2\n",
      "Letter i - Count 1\n",
      "Letter j - Count 1\n",
      "Letter k - Count 1\n",
      "Letter l - Count 1\n",
      "Letter m - Count 1\n",
      "Letter n - Count 1\n",
      "Letter o - Count 4\n",
      "Letter p - Count 1\n",
      "Letter q - Count 1\n",
      "Letter r - Count 2\n",
      "Letter s - Count 1\n",
      "Letter t - Count 2\n",
      "Letter u - Count 2\n",
      "Letter v - Count 1\n",
      "Letter w - Count 1\n",
      "Letter x - Count 1\n",
      "Letter y - Count 1\n",
      "Letter z - Count 1\n"
     ]
    }
   ],
   "source": [
    "def charCount(s):  # Teacher's solution\n",
    "    dictOfChars = {}\n",
    "    for ch in s:\n",
    "        if ch in dictOfChars.keys():\n",
    "            dictOfChars[ch] += 1\n",
    "        else:\n",
    "            dictOfChars[ch] = 1\n",
    "\n",
    "    for key in sorted(dictOfChars.keys()):\n",
    "        print(\"Letter {} - Count {}\".format(key, dictOfChars[key]))\n",
    "\n",
    "charCount(\"the quick brown fox jumped over the lazy dogs\") \n"
   ]
  },
  {
   "cell_type": "markdown",
   "metadata": {},
   "source": [
    "Given a list of integers, write the function areTwice(x), that\n",
    "returns True if all odd index values are twice their preceding values.\n",
    "Use the for loop with range.\n",
    "\n",
    "Sample Input:\n",
    "areTwice([5, 10, 6, 12, 10, 20, 21, 22])\n",
    "Output:\n",
    "True\n",
    "\n",
    "Sample Input:\n",
    "areTwice([5, 10, 6, 12, 10, 40, 21, 22])\n",
    "Output:\n",
    "False\n"
   ]
  },
  {
   "cell_type": "code",
   "execution_count": 54,
   "metadata": {},
   "outputs": [
    {
     "name": "stdout",
     "output_type": "stream",
     "text": [
      "Test1:   True\n",
      "Test2:   False\n"
     ]
    }
   ],
   "source": [
    "def areTwice(values):\n",
    "    result = True\n",
    "    prevValue = 0\n",
    "\n",
    "    for index, value in enumerate(values):\n",
    "        if index & 1:\n",
    "            # index is odd\n",
    "            if value != 2 * prevValue:\n",
    "                result = False\n",
    "                break\n",
    "        else:\n",
    "            # index is even\n",
    "            prevValue = value\n",
    "    return result\n",
    "\n",
    "print(\"Test1:  \", areTwice([5, 10, 6, 12, 10, 20, 11, 22]))\n",
    "print(\"Test2:  \", areTwice([5, 10, 6, 12, 10, 40, 21, 22]))\n"
   ]
  },
  {
   "cell_type": "code",
   "execution_count": 57,
   "metadata": {},
   "outputs": [
    {
     "name": "stdout",
     "output_type": "stream",
     "text": [
      "True\n",
      "False\n"
     ]
    }
   ],
   "source": [
    "def areTwice(x):  # Teacher's answer\n",
    "    for i in range(0, len(x), 2):\n",
    "        if (x[i+1] != 2*x[i]):\n",
    "            return False;\n",
    "    return True\n",
    "\n",
    "print(areTwice([5, 10, 6, 12, 10, 20, 11, 22]))\n",
    "print(areTwice([5, 10, 6, 12, 10, 40, 21, 22]))\n"
   ]
  },
  {
   "cell_type": "markdown",
   "metadata": {},
   "source": [
    "Given a list of integers, say, \n",
    "   x = [5, 10, 6, 12, 10, 20, 21, 22]\n",
    "write a single expression that returns True if all odd index values \n",
    "are twice their preceding values.\n",
    "Hint: Use skip slicing, zip, all, and list comprehension"
   ]
  },
  {
   "cell_type": "code",
   "execution_count": 69,
   "metadata": {},
   "outputs": [
    {
     "data": {
      "text/plain": [
       "True"
      ]
     },
     "execution_count": 69,
     "metadata": {},
     "output_type": "execute_result"
    }
   ],
   "source": [
    "x = [5, 10, 6, 12, 10, 20, 11, 22]\n",
    "all([True if (x[i+1] == 2* x[i]) else False for i in range(0, len(x), 2)])"
   ]
  },
  {
   "cell_type": "code",
   "execution_count": null,
   "metadata": {},
   "outputs": [],
   "source": []
  },
  {
   "cell_type": "code",
   "execution_count": 68,
   "metadata": {},
   "outputs": [
    {
     "data": {
      "text/plain": [
       "True"
      ]
     },
     "execution_count": 68,
     "metadata": {},
     "output_type": "execute_result"
    }
   ],
   "source": [
    "x = [5, 10, 6, 12, 10, 20, 11, 22]\n",
    "all([x[i+1] == 2* x[i] for i in range(0, len(x), 2)])"
   ]
  },
  {
   "cell_type": "markdown",
   "metadata": {},
   "source": [
    "Write the function, countTransitions(values), that counts the number of times \n",
    "the values in a list transition from negative to positive.\n",
    "Use a for loop with range to compare successive values.\n",
    "\n",
    "Input:\n",
    "x = [10, 20, -5, 6, -10, -20, -30, 40, -30]\n",
    "countTransitions(x)\n",
    "Output:\n",
    "2\n",
    "\n",
    "Input:\n",
    "x = [10, 20, -5, -6, -10, -20, -30, -40, -30]\n",
    "countTransitions(x)\n",
    "Output:\n",
    "0\n"
   ]
  },
  {
   "cell_type": "code",
   "execution_count": 94,
   "metadata": {},
   "outputs": [],
   "source": [
    "def countTransitions(values):\n",
    "    count = 0\n",
    "    for index in range(len(values) - 1):\n",
    "        if (values[index+0] < 0) and (values[index+1] >= 0):\n",
    "            count += 1\n",
    "    return count\n"
   ]
  },
  {
   "cell_type": "code",
   "execution_count": 92,
   "metadata": {},
   "outputs": [
    {
     "data": {
      "text/plain": [
       "2"
      ]
     },
     "execution_count": 92,
     "metadata": {},
     "output_type": "execute_result"
    }
   ],
   "source": [
    "x = [10, 20, -5, 6, -10, -20, -30, 40, -30] \n",
    "countTransitions(x)\n"
   ]
  },
  {
   "cell_type": "code",
   "execution_count": 93,
   "metadata": {},
   "outputs": [
    {
     "data": {
      "text/plain": [
       "0"
      ]
     },
     "execution_count": 93,
     "metadata": {},
     "output_type": "execute_result"
    }
   ],
   "source": [
    "x = [10, 20, -5, -6, -10, -20, -30, -40, -30]\n",
    "countTransitions(x) "
   ]
  },
  {
   "cell_type": "markdown",
   "metadata": {},
   "source": [
    "Write the function, countTransitions(values), that counts the number of times \n",
    "the values in a list transition from negative to positive.\n",
    "Use a for loop with zip to compare successive values.\n",
    "\n",
    "Input:\n",
    "x = [10, 20, -5, 6, -10, -20, -30, 40, -30]\n",
    "countTransitions(x)\n",
    "Output:\n",
    "2\n",
    "\n",
    "Input:\n",
    "x = [10, 20, -5, -6, -10, -20, -30, -40, -30]\n",
    "countTransitions(x)\n",
    "Output:\n",
    "0\n",
    "\t"
   ]
  },
  {
   "cell_type": "code",
   "execution_count": 95,
   "metadata": {},
   "outputs": [
    {
     "data": {
      "text/plain": [
       "[10, 20, -5, -6, -10, -20, -30, -40]"
      ]
     },
     "execution_count": 95,
     "metadata": {},
     "output_type": "execute_result"
    }
   ],
   "source": [
    "x[:-1]"
   ]
  },
  {
   "cell_type": "code",
   "execution_count": 97,
   "metadata": {},
   "outputs": [
    {
     "data": {
      "text/plain": [
       "[20, -5, -6, -10, -20, -30, -40, -30]"
      ]
     },
     "execution_count": 97,
     "metadata": {},
     "output_type": "execute_result"
    }
   ],
   "source": [
    "x[1:]"
   ]
  },
  {
   "cell_type": "code",
   "execution_count": 105,
   "metadata": {},
   "outputs": [],
   "source": [
    "def countTransitions(x):\n",
    "    return sum([(a < 0) and (b >= 0) for(a,b) in zip(x[:-1], x[1:])])\n"
   ]
  },
  {
   "cell_type": "code",
   "execution_count": 106,
   "metadata": {},
   "outputs": [
    {
     "data": {
      "text/plain": [
       "2"
      ]
     },
     "execution_count": 106,
     "metadata": {},
     "output_type": "execute_result"
    }
   ],
   "source": [
    "countTransitions([10, 20, -5, 6, -10, -20, -30, 40, -30] ) "
   ]
  },
  {
   "cell_type": "code",
   "execution_count": 107,
   "metadata": {},
   "outputs": [
    {
     "data": {
      "text/plain": [
       "0"
      ]
     },
     "execution_count": 107,
     "metadata": {},
     "output_type": "execute_result"
    }
   ],
   "source": [
    "countTransitions([10, 20, -5, -6, -10, -20, -30, -40, -30] )"
   ]
  },
  {
   "cell_type": "markdown",
   "metadata": {},
   "source": [
    "Given a list of integers, say, \n",
    "   x = [10, 20, -5, 6, -10, -20, -30, 40, -30]\n",
    "write a single expression that returns the number of times the values transition from negative to positive.\n",
    "Hint: Use sum, zip,  and list comprehension"
   ]
  },
  {
   "cell_type": "code",
   "execution_count": 108,
   "metadata": {},
   "outputs": [
    {
     "data": {
      "text/plain": [
       "2"
      ]
     },
     "execution_count": 108,
     "metadata": {},
     "output_type": "execute_result"
    }
   ],
   "source": [
    "x = [10, 20, -5, 6, -10, -20, -30, 40, -30]\n",
    "sum([(a < 0) and (b >= 0) for(a,b) in zip(x[:-1], x[1:])])"
   ]
  }
 ],
 "metadata": {
  "kernelspec": {
   "display_name": "Python 3",
   "language": "python",
   "name": "python3"
  },
  "language_info": {
   "codemirror_mode": {
    "name": "ipython",
    "version": 3
   },
   "file_extension": ".py",
   "mimetype": "text/x-python",
   "name": "python",
   "nbconvert_exporter": "python",
   "pygments_lexer": "ipython3",
   "version": "3.6.6"
  }
 },
 "nbformat": 4,
 "nbformat_minor": 2
}
