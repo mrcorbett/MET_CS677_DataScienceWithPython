{
 "cells": [
  {
   "cell_type": "markdown",
   "metadata": {
    "slideshow": {
     "slide_type": "slide"
    }
   },
   "source": [
    "## CS677 - Data Science with Python\n"
   ]
  },
  {
   "cell_type": "markdown",
   "metadata": {
    "slideshow": {
     "slide_type": "subslide"
    }
   },
   "source": [
    "## Python Essentials - Review"
   ]
  },
  {
   "cell_type": "markdown",
   "metadata": {
    "slideshow": {
     "slide_type": "subslide"
    }
   },
   "source": [
    "### Functions"
   ]
  },
  {
   "cell_type": "code",
   "execution_count": 2,
   "metadata": {
    "slideshow": {
     "slide_type": "subslide"
    }
   },
   "outputs": [],
   "source": [
    "def greet(name, className):\n",
    "    print(\"Hello \" + name + \", Welcome to \" + className)"
   ]
  },
  {
   "cell_type": "code",
   "execution_count": 3,
   "metadata": {
    "slideshow": {
     "slide_type": "fragment"
    }
   },
   "outputs": [
    {
     "name": "stdout",
     "output_type": "stream",
     "text": [
      "Hello John, Welcome to CS677\n"
     ]
    }
   ],
   "source": [
    "greet('John', 'CS677')"
   ]
  },
  {
   "cell_type": "code",
   "execution_count": 4,
   "metadata": {
    "slideshow": {
     "slide_type": "fragment"
    }
   },
   "outputs": [
    {
     "name": "stdout",
     "output_type": "stream",
     "text": [
      "Hello Jane, Welcome to CS521\n"
     ]
    }
   ],
   "source": [
    "greet('Jane', 'CS521')"
   ]
  },
  {
   "cell_type": "code",
   "execution_count": 5,
   "metadata": {
    "slideshow": {
     "slide_type": "fragment"
    }
   },
   "outputs": [
    {
     "name": "stdout",
     "output_type": "stream",
     "text": [
      "Hello Jane, Welcome to CS521\n",
      "None\n"
     ]
    }
   ],
   "source": [
    "print(greet('Jane', 'CS521'))"
   ]
  },
  {
   "cell_type": "code",
   "execution_count": 6,
   "metadata": {
    "slideshow": {
     "slide_type": "fragment"
    }
   },
   "outputs": [],
   "source": [
    "def greet(name, className):\n",
    "    return (\"Hello \" + name + \", Welcome to \" + className)"
   ]
  },
  {
   "cell_type": "code",
   "execution_count": 7,
   "metadata": {
    "slideshow": {
     "slide_type": "fragment"
    }
   },
   "outputs": [
    {
     "name": "stdout",
     "output_type": "stream",
     "text": [
      "Hello Jane, Welcome to CS521\n"
     ]
    }
   ],
   "source": [
    "print(greet('Jane', 'CS521'))"
   ]
  },
  {
   "cell_type": "markdown",
   "metadata": {
    "slideshow": {
     "slide_type": "subslide"
    }
   },
   "source": [
    "### Strings"
   ]
  },
  {
   "cell_type": "code",
   "execution_count": 8,
   "metadata": {
    "slideshow": {
     "slide_type": "fragment"
    }
   },
   "outputs": [
    {
     "name": "stdout",
     "output_type": "stream",
     "text": [
      "programming\n",
      "programming\n",
      "program\n",
      "    ming\n"
     ]
    }
   ],
   "source": [
    "s1 = 'programming'\n",
    "s2 = \"programming\"\n",
    "s3 = '''program\n",
    "    ming'''\n",
    "print(s1)\n",
    "print(s2)\n",
    "print(s3)"
   ]
  },
  {
   "cell_type": "code",
   "execution_count": 10,
   "metadata": {
    "slideshow": {
     "slide_type": "fragment"
    }
   },
   "outputs": [
    {
     "name": "stdout",
     "output_type": "stream",
     "text": [
      "11\n",
      "11\n",
      "16\n"
     ]
    }
   ],
   "source": [
    "print(len(s1))\n",
    "print(len(s2))\n",
    "print(len(s3)) # 5 extra includes 4 spaces and carriage return"
   ]
  },
  {
   "cell_type": "markdown",
   "metadata": {
    "slideshow": {
     "slide_type": "subslide"
    }
   },
   "source": [
    "#### Strings - Indexing and slicing"
   ]
  },
  {
   "cell_type": "code",
   "execution_count": 11,
   "metadata": {
    "slideshow": {
     "slide_type": "subslide"
    }
   },
   "outputs": [
    {
     "name": "stdout",
     "output_type": "stream",
     "text": [
      "programming\n",
      "p\n",
      "p\n",
      "g\n",
      "program\n",
      "program\n",
      "program\n",
      "gram\n",
      "gram\n",
      "gramming\n"
     ]
    }
   ],
   "source": [
    "s1 = 'programming'\n",
    "print(s1)\n",
    "\n",
    "print(s1[0])\n",
    "print(s1[0:1])\n",
    "\n",
    "print(s1[-1])\n",
    "\n",
    "print(s1[0:7])\n",
    "print(s1[0:-4])\n",
    "print(s1[:7])\n",
    "\n",
    "print(s1[3:-4])\n",
    "print(s1[3:7])\n",
    "\n",
    "print(s1[3:])"
   ]
  },
  {
   "cell_type": "markdown",
   "metadata": {
    "slideshow": {
     "slide_type": "subslide"
    }
   },
   "source": [
    "#### Strings - Skip slicing"
   ]
  },
  {
   "cell_type": "code",
   "execution_count": 13,
   "metadata": {
    "slideshow": {
     "slide_type": "subslide"
    }
   },
   "outputs": [
    {
     "name": "stdout",
     "output_type": "stream",
     "text": [
      "abcdefghijk\n",
      "acegik\n",
      "aceg\n",
      "egik\n",
      "kjihgfedcba\n",
      "kigeca\n"
     ]
    }
   ],
   "source": [
    "s1 = 'abcdefghijk'\n",
    "print(s1)\n",
    "\n",
    "print(s1[::2]) # the parameter after the last : is the amount to skip by\n",
    "\n",
    "print(s1[:7:2])\n",
    "print(s1[4::2])\n",
    "\n",
    "print(s1[::-1])\n",
    "print(s1[::-2])"
   ]
  },
  {
   "cell_type": "markdown",
   "metadata": {
    "slideshow": {
     "slide_type": "subslide"
    }
   },
   "source": [
    "#### Strings are Immutable"
   ]
  },
  {
   "cell_type": "code",
   "execution_count": 14,
   "metadata": {
    "slideshow": {
     "slide_type": "subslide"
    }
   },
   "outputs": [
    {
     "name": "stdout",
     "output_type": "stream",
     "text": [
      "abcdefghijk\n"
     ]
    },
    {
     "ename": "TypeError",
     "evalue": "'str' object does not support item assignment",
     "output_type": "error",
     "traceback": [
      "\u001b[0;31m---------------------------------------------------------------------------\u001b[0m",
      "\u001b[0;31mTypeError\u001b[0m                                 Traceback (most recent call last)",
      "\u001b[0;32m<ipython-input-14-9177bd4911ec>\u001b[0m in \u001b[0;36m<module>\u001b[0;34m\u001b[0m\n\u001b[1;32m      1\u001b[0m \u001b[0mprint\u001b[0m\u001b[0;34m(\u001b[0m\u001b[0ms1\u001b[0m\u001b[0;34m)\u001b[0m\u001b[0;34m\u001b[0m\u001b[0;34m\u001b[0m\u001b[0m\n\u001b[0;32m----> 2\u001b[0;31m \u001b[0ms1\u001b[0m\u001b[0;34m[\u001b[0m\u001b[0;36m0\u001b[0m\u001b[0;34m]\u001b[0m \u001b[0;34m=\u001b[0m \u001b[0;34m'A'\u001b[0m\u001b[0;34m\u001b[0m\u001b[0;34m\u001b[0m\u001b[0m\n\u001b[0m",
      "\u001b[0;31mTypeError\u001b[0m: 'str' object does not support item assignment"
     ]
    }
   ],
   "source": [
    "print(s1)\n",
    "s1[0] = 'A'"
   ]
  },
  {
   "cell_type": "markdown",
   "metadata": {
    "slideshow": {
     "slide_type": "subslide"
    }
   },
   "source": [
    "#### Strings - Concatenation Operators + and *"
   ]
  },
  {
   "cell_type": "code",
   "execution_count": 16,
   "metadata": {
    "slideshow": {
     "slide_type": "subslide"
    }
   },
   "outputs": [
    {
     "name": "stdout",
     "output_type": "stream",
     "text": [
      "DataScience\n",
      "Data Science\n",
      "DataData\n",
      "ScienceScienceScience\n",
      "DataScienceDataScience\n"
     ]
    }
   ],
   "source": [
    "s1 = 'Data'\n",
    "s2 = 'Science'\n",
    "print(s1 + s2)\n",
    "print(s1 + ' ' + s2)\n",
    "\n",
    "print(2 * s1) # Repeat s1 twice\n",
    "print(s2 * 3) # Repeat s2 three times\n",
    "\n",
    "print(2 * (s1 + s2)) # Concatentate s1 and s2, repeated twice"
   ]
  },
  {
   "cell_type": "markdown",
   "metadata": {
    "slideshow": {
     "slide_type": "subslide"
    }
   },
   "source": [
    "#### Strings - membership"
   ]
  },
  {
   "cell_type": "code",
   "execution_count": 17,
   "metadata": {
    "slideshow": {
     "slide_type": "subslide"
    }
   },
   "outputs": [
    {
     "name": "stdout",
     "output_type": "stream",
     "text": [
      "False\n",
      "True\n",
      "True\n"
     ]
    }
   ],
   "source": [
    "vowels = 'aeiou'\n",
    "\n",
    "print('p' in vowels)\n",
    "print('e' in vowels)\n",
    "print('t' not in vowels)"
   ]
  },
  {
   "cell_type": "code",
   "execution_count": 18,
   "metadata": {},
   "outputs": [
    {
     "name": "stdout",
     "output_type": "stream",
     "text": [
      "True\n",
      "False\n"
     ]
    }
   ],
   "source": [
    "print('log' in 'hologram')\n",
    "print('hal' in 'hologram')"
   ]
  },
  {
   "cell_type": "markdown",
   "metadata": {
    "slideshow": {
     "slide_type": "subslide"
    }
   },
   "source": [
    "#### Strings - Iterating"
   ]
  },
  {
   "cell_type": "code",
   "execution_count": 20,
   "metadata": {
    "slideshow": {
     "slide_type": "subslide"
    }
   },
   "outputs": [
    {
     "name": "stdout",
     "output_type": "stream",
     "text": [
      "P 80\n",
      "y 121\n",
      "t 116\n",
      "h 104\n",
      "o 111\n",
      "n 110\n"
     ]
    }
   ],
   "source": [
    "s = 'Python'\n",
    "\n",
    "# The ord() function returns the number representing the unicode code of a specified character.\n",
    "for letter in s:\n",
    "    print(letter, ord(letter))"
   ]
  },
  {
   "cell_type": "markdown",
   "metadata": {
    "slideshow": {
     "slide_type": "subslide"
    }
   },
   "source": [
    "#### Strings - other  methods"
   ]
  },
  {
   "cell_type": "code",
   "execution_count": 23,
   "metadata": {
    "slideshow": {
     "slide_type": "subslide"
    }
   },
   "outputs": [
    {
     "name": "stdout",
     "output_type": "stream",
     "text": [
      "PyThon is Fun\n",
      "capitalize: Python is fun\n",
      "lower: python is fun\n",
      "upper: PYTHON IS FUN\n",
      "title: Python Is Fun\n",
      "swapcase: pYtHON IS fUN\n",
      "split: ['PyThon', 'is', 'Fun']\n",
      "list: ['P', 'y', 'T', 'h', 'o', 'n', ' ', 'i', 's', ' ', 'F', 'u', 'n']\n",
      "find: 7\n",
      "find: 5\n",
      "find: 12\n",
      "find: 12\n",
      "find: -1\n"
     ]
    }
   ],
   "source": [
    "s = 'PyThon is Fun'\n",
    "print(s)\n",
    "print(\"capitalize:\", s.capitalize()) # Convert the first character of a string to uppercase.\n",
    "print(\"lower:\", s.lower()) # convert the entire string to lowercase letters\n",
    "print(\"upper:\", s.upper()) # convert the entire string to lowercase letters\n",
    "print(\"title:\", s.title()) # convert the 1st character of the word to uppercase and rest to lowercase\n",
    "print(\"swapcase:\", s.swapcase()) # make all uppercase letters lowercase and vice-versa\n",
    "print(\"split:\", s.split()) # create a list containing each of the words in the string\n",
    "print(\"list:\", list(s)) # create a list containing each character of the words in the string\n",
    "print(\"find:\", s.find('is')) # find the string 'is' and return the position\n",
    "print(\"find:\", s.find('n')) # find the character 'n' and return the position\n",
    "print(\"find:\", s.find('n', 6)) # find the character 'n' starting at index 6 and return the position\n",
    "print(\"find:\", s.find('n', -1)) # find the character 'n' starting at index -1 and return the position\n",
    "                                # Note: -1 refers to the last character in the string\n",
    "print(\"find:\", s.find('a')) # find the character 'a' in the string, returns -1 indicating 'not found'"
   ]
  },
  {
   "cell_type": "markdown",
   "metadata": {
    "slideshow": {
     "slide_type": "subslide"
    }
   },
   "source": [
    "#### Strings - formatting"
   ]
  },
  {
   "cell_type": "code",
   "execution_count": 25,
   "metadata": {
    "slideshow": {
     "slide_type": "subslide"
    }
   },
   "outputs": [
    {
     "name": "stdout",
     "output_type": "stream",
     "text": [
      "Hello John, your grade is 85.\n",
      "Hello John      , your grade is      85.00.\n",
      "Hello       John, your grade is 85.00     .\n",
      "Hello    John   , your grade is   85.00   .\n"
     ]
    }
   ],
   "source": [
    "s = \"Hello {}, your grade is {}.\".format(\"John\", 85)\n",
    "print(s)\n",
    "\n",
    "# :10s is a 10 character string, by default left aligned\n",
    "# :10.2f is a floating point number with a 2 digit fraction, by default right aligned\n",
    "s = \"Hello {:10s}, your grade is {:10.2f}.\".format(\"John\", 85)\n",
    "print(s)\n",
    "\n",
    "# :>10s is a 10 character string, right aligned\n",
    "# :<10.2f is a floating point number with a 2 digit fraction, left aligned\n",
    "s = \"Hello {:>10s}, your grade is {:<10.2f}.\".format(\"John\", 85)\n",
    "print(s)\n",
    "\n",
    "# :^10s is a 10 character string, center aligned\n",
    "# :^10.2f is a floating point number with a 2 digit fraction, center aligned\n",
    "s = \"Hello {:^10s}, your grade is {:^10.2f}.\".format(\"John\", 85)\n",
    "print(s)"
   ]
  },
  {
   "cell_type": "markdown",
   "metadata": {},
   "source": [
    "**Out of range index**"
   ]
  },
  {
   "cell_type": "code",
   "execution_count": 27,
   "metadata": {},
   "outputs": [
    {
     "ename": "IndexError",
     "evalue": "string index out of range",
     "output_type": "error",
     "traceback": [
      "\u001b[0;31m---------------------------------------------------------------------------\u001b[0m",
      "\u001b[0;31mIndexError\u001b[0m                                Traceback (most recent call last)",
      "\u001b[0;32m<ipython-input-27-696329009223>\u001b[0m in \u001b[0;36m<module>\u001b[0;34m\u001b[0m\n\u001b[1;32m      1\u001b[0m \u001b[0ms\u001b[0m \u001b[0;34m=\u001b[0m \u001b[0;34m'Hello'\u001b[0m\u001b[0;34m\u001b[0m\u001b[0;34m\u001b[0m\u001b[0m\n\u001b[0;32m----> 2\u001b[0;31m \u001b[0ms\u001b[0m\u001b[0;34m[\u001b[0m\u001b[0;36m6\u001b[0m\u001b[0;34m]\u001b[0m \u001b[0;31m# The string contains characters from index 0 to index 5\u001b[0m\u001b[0;34m\u001b[0m\u001b[0;34m\u001b[0m\u001b[0m\n\u001b[0m",
      "\u001b[0;31mIndexError\u001b[0m: string index out of range"
     ]
    }
   ],
   "source": [
    "s = 'Hello'\n",
    "s[6] # The string contains characters from index 0 to index 5"
   ]
  },
  {
   "cell_type": "markdown",
   "metadata": {
    "slideshow": {
     "slide_type": "subslide"
    }
   },
   "source": [
    "### Lists\n",
    " - like arrays in other languages\n",
    " - access to elements is O(1)"
   ]
  },
  {
   "cell_type": "code",
   "execution_count": 32,
   "metadata": {
    "slideshow": {
     "slide_type": "fragment"
    }
   },
   "outputs": [
    {
     "name": "stdout",
     "output_type": "stream",
     "text": [
      "l1= []\n",
      "l2= [10, 20, 30]\n",
      "l3= ['Python', 75, 'Java', 60]\n",
      "l4= [[10, 20], [30, 40, 50]]\n",
      "len(l1) 0\n",
      "len(l2) 3\n",
      "len(l3) 4\n",
      "len(l4) 2\n",
      "l4[0]= [10, 20]\n",
      "l4[1]= [30, 40, 50]\n"
     ]
    }
   ],
   "source": [
    "l1 = [] # empty list\n",
    "l2 = [10, 20, 30] # ;list of numbers\n",
    "l3 = ['Python', 75, 'Java', 60] # list of objects of differing types\n",
    "l4 = [[10, 20], [30, 40, 50]] # list of two lists containing numbers\n",
    "\n",
    "print(\"l1=\", l1)\n",
    "print(\"l2=\", l2)\n",
    "print(\"l3=\", l3)\n",
    "print(\"l4=\", l4)\n",
    "\n",
    "print(\"len(l1)\", len(l1))\n",
    "print(\"len(l2)\", len(l2))\n",
    "print(\"len(l3)\", len(l3))\n",
    "print(\"len(l4)\", len(l4))\n",
    "\n",
    "print(\"l4[0]=\", l4[0])\n",
    "print(\"l4[1]=\", l4[1])"
   ]
  },
  {
   "cell_type": "markdown",
   "metadata": {
    "slideshow": {
     "slide_type": "subslide"
    }
   },
   "source": [
    "#### Lists - Indexing"
   ]
  },
  {
   "cell_type": "code",
   "execution_count": 33,
   "metadata": {
    "slideshow": {
     "slide_type": "subslide"
    }
   },
   "outputs": [
    {
     "name": "stdout",
     "output_type": "stream",
     "text": [
      "Python\n",
      "60\n",
      "60\n",
      "Python\n"
     ]
    }
   ],
   "source": [
    "data = ['Python', 75, 'Java', 60]\n",
    "\n",
    "print(data[0])\n",
    "print(data[3])\n",
    "\n",
    "print(data[-1])\n",
    "print(data[-4])"
   ]
  },
  {
   "cell_type": "markdown",
   "metadata": {
    "slideshow": {
     "slide_type": "subslide"
    }
   },
   "source": [
    "#### Lists -  Slicing"
   ]
  },
  {
   "cell_type": "code",
   "execution_count": 34,
   "metadata": {
    "slideshow": {
     "slide_type": "fragment"
    }
   },
   "outputs": [
    {
     "name": "stdout",
     "output_type": "stream",
     "text": [
      "['Python', 75, 'Java', 60, 'R', 90]\n",
      "['Python', 75, 'Java', 60]\n",
      "['Java', 60, 'R', 90]\n",
      "['Python', 75, 'Java', 60]\n",
      "['R', 90]\n",
      "['Java', 60]\n"
     ]
    }
   ],
   "source": [
    "data = ['Python', 75, 'Java', 60, 'R', 90]\n",
    "\n",
    "print(data)\n",
    "print(data[0:4]) # Left # is inclusive, right # is exclusive\n",
    "print(data[2:])\n",
    "print(data[:4])\n",
    "print(data[-2:])\n",
    "print(data[-4:-2])"
   ]
  },
  {
   "cell_type": "markdown",
   "metadata": {
    "slideshow": {
     "slide_type": "subslide"
    }
   },
   "source": [
    "#### Lists -  Skip slicing"
   ]
  },
  {
   "cell_type": "code",
   "execution_count": 35,
   "metadata": {
    "slideshow": {
     "slide_type": "fragment"
    }
   },
   "outputs": [
    {
     "name": "stdout",
     "output_type": "stream",
     "text": [
      "['Python', 75, 'Java', 60, 'R', 90]\n",
      "['Python', 'Java', 'R']\n",
      "[75, 60, 90]\n",
      "['Python', 'Java']\n",
      "[90, 'R', 60, 'Java', 75, 'Python']\n",
      "[90, 60, 75]\n"
     ]
    }
   ],
   "source": [
    "data = ['Python', 75, 'Java', 60, 'R', 90]\n",
    "\n",
    "print(data)\n",
    "print(data[::2])  # The digit after the second : is the skip amount\n",
    "print(data[1::2])\n",
    "print(data[:4:2])\n",
    "\n",
    "print(data[::-1])\n",
    "print(data[::-2])"
   ]
  },
  {
   "cell_type": "markdown",
   "metadata": {
    "slideshow": {
     "slide_type": "subslide"
    }
   },
   "source": [
    "#### Modifying a list"
   ]
  },
  {
   "cell_type": "code",
   "execution_count": 37,
   "metadata": {
    "slideshow": {
     "slide_type": "subslide"
    }
   },
   "outputs": [
    {
     "name": "stdout",
     "output_type": "stream",
     "text": [
      "['Python', 75, 'Java', 60, 'R', 90]\n",
      "['Python', 99, 'Java', 60, 'R', 90]\n",
      "['Python', 66, 'Java', 77, 'R', 88]\n",
      "['Python', 66, 'Java', 77, 'R', 88, 'NumPy', 55]\n",
      "['Python', 66, 'Java', 77, 'R', 88, 'NumPy', 55, 'Pandas']\n",
      "['Python', 66, 'Java', 77, 'R', 88, 'NumPy', 55, 'TensorFlow', 'Pandas']\n",
      "['Python', 66, 'Java', 77, 'R', 88, 'NumPy', 55, 'Keras', 'TensorFlow', 'Pandas']\n"
     ]
    }
   ],
   "source": [
    "data = ['Python', 75, 'Java', 60, 'R', 90]\n",
    "print(data)\n",
    "\n",
    "data[1] = 99\n",
    "print(data)\n",
    "\n",
    "data[1::2] = [66,77,88]  # Replace entries starting at index 1 and skipping by 2.  I.E. the #s\n",
    "print(data)\n",
    "\n",
    "data.extend(['NumPy', 55])  # Concatente 'Numpy', 55 to the list\n",
    "print(data)\n",
    "\n",
    "data.append('Pandas') # Add 'Pandas to the end of the list'\n",
    "print(data)\n",
    "\n",
    "data.insert(-1, 'TensorFlow') # Insert 'TensorFlow' before the last entry in the list\n",
    "print(data)\n",
    "\n",
    "data.insert(-2, 'Keras') # Insert 'Keras' before the last 2 entries in the list\n",
    "print(data)"
   ]
  },
  {
   "cell_type": "code",
   "execution_count": 40,
   "metadata": {},
   "outputs": [
    {
     "name": "stdout",
     "output_type": "stream",
     "text": [
      "['Python', 75, 'Java']\n",
      "['Python', 75, 'Java', 60]\n"
     ]
    }
   ],
   "source": [
    "data = ['Python', 75]\n",
    "\n",
    "data.append('Java')\n",
    "print(data)\n",
    "\n",
    "data[len(data):] = [60] # The equivalent of data.extend([60])\n",
    "#data.extend([60])\n",
    "print(data)"
   ]
  },
  {
   "cell_type": "markdown",
   "metadata": {
    "slideshow": {
     "slide_type": "subslide"
    }
   },
   "source": [
    "#### Concatenation of Lists with operators + and *"
   ]
  },
  {
   "cell_type": "code",
   "execution_count": 41,
   "metadata": {
    "slideshow": {
     "slide_type": "subslide"
    }
   },
   "outputs": [
    {
     "name": "stdout",
     "output_type": "stream",
     "text": [
      "['Python', 'Java', 'R', 75, 85, 60]\n",
      "[75, 85, 60, 'Python', 'Java', 'R']\n",
      "['Python', 'Java', 'R', 'Numpy']\n",
      "['Python', 'Java', 'R', 'Python', 'Java', 'R']\n",
      "[75, 85, 60, 75, 85, 60]\n",
      "[75, 85, 60, 75, 85, 60, 75, 85, 60]\n"
     ]
    }
   ],
   "source": [
    "skills = ['Python', 'Java', 'R']\n",
    "levels  = [75, 85, 60]\n",
    "\n",
    "result = skills + levels\n",
    "print(result)\n",
    "\n",
    "print(levels + skills)\n",
    "\n",
    "print(skills + ['Numpy'])\n",
    "\n",
    "print(2 * skills)\n",
    "\n",
    "print(2 * levels)\n",
    "\n",
    "print(3 * levels)"
   ]
  },
  {
   "cell_type": "markdown",
   "metadata": {
    "slideshow": {
     "slide_type": "subslide"
    }
   },
   "source": [
    "#### Removing items from list"
   ]
  },
  {
   "cell_type": "code",
   "execution_count": 42,
   "metadata": {
    "slideshow": {
     "slide_type": "subslide"
    }
   },
   "outputs": [
    {
     "name": "stdout",
     "output_type": "stream",
     "text": [
      "['Python', 75, 'Java', 60, 'R', 90]\n",
      "['Python', 60, 'R', 90]\n"
     ]
    }
   ],
   "source": [
    "data = ['Python', 75, 'Java', 60, 'R', 90]\n",
    "print(data)\n",
    "\n",
    "del data[1:3] # Delete items at indices 1 and 2\n",
    "print(data)"
   ]
  },
  {
   "cell_type": "code",
   "execution_count": 44,
   "metadata": {
    "slideshow": {
     "slide_type": "fragment"
    }
   },
   "outputs": [
    {
     "name": "stdout",
     "output_type": "stream",
     "text": [
      "['Python', 75, 'Java', 60, 'R', 90]\n",
      "['Python', 75, 60, 'R', 90]\n",
      "90\n",
      "['Python', 75, 60, 'R']\n",
      "60\n",
      "['Python', 75, 'R']\n",
      "[]\n"
     ]
    }
   ],
   "source": [
    "data = ['Python', 75, 'Java', 60, 'R', 90]\n",
    "print(data)\n",
    "\n",
    "data.remove('Java')\n",
    "print(data)\n",
    "\n",
    "print(data.pop()) # remove an entry from the end of the list and print it\n",
    "print(data)\n",
    "\n",
    "print(data.pop(2)) # remove at specified index\n",
    "print(data)\n",
    "\n",
    "data.clear() # make the list an empty list\n",
    "print(data)"
   ]
  },
  {
   "cell_type": "markdown",
   "metadata": {
    "slideshow": {
     "slide_type": "subslide"
    }
   },
   "source": [
    "#### Other List methods"
   ]
  },
  {
   "cell_type": "code",
   "execution_count": 46,
   "metadata": {
    "slideshow": {
     "slide_type": "subslide"
    }
   },
   "outputs": [
    {
     "name": "stdout",
     "output_type": "stream",
     "text": [
      "[10, 15, 20, 15, 7, 15, 40, 15]\n",
      "4\n",
      "1\n",
      "3\n"
     ]
    }
   ],
   "source": [
    "data = [10, 15, 20, 15, 7, 15, 40, 15]\n",
    "print(data)\n",
    "\n",
    "print(data.count(15)) # Count the number of times 15 occurs in the list\n",
    "print(data.index(15)) # Retrieve the index of the first 15 in the list\n",
    "print(data.index(15, 2)) # Starting at index 2, retrieve the index of the next 15 in the list\n"
   ]
  },
  {
   "cell_type": "code",
   "execution_count": 48,
   "metadata": {
    "slideshow": {
     "slide_type": "subslide"
    }
   },
   "outputs": [
    {
     "name": "stdout",
     "output_type": "stream",
     "text": [
      "[10, 20, 15, 7, 40, 15]\n",
      "[7, 10, 15, 15, 20, 40]\n",
      "[40, 20, 15, 15, 10, 7]\n",
      "[100, 50, 20, 10]\n"
     ]
    }
   ],
   "source": [
    "data = [10, 20, 15, 7, 40, 15]\n",
    "print(data)\n",
    "\n",
    "data.sort()  # Inplace sorting of the data\n",
    "print(data)\n",
    "\n",
    "data.reverse() # Inplace reversing of the data\n",
    "print(data)\n",
    "\n",
    "data = [10, 20, 50, 100]\n",
    "data.sort(reverse = True) # Inplace sorting of the data, in reverse\n",
    "print(data)"
   ]
  },
  {
   "cell_type": "code",
   "execution_count": 50,
   "metadata": {
    "slideshow": {
     "slide_type": "skip"
    }
   },
   "outputs": [
    {
     "name": "stdout",
     "output_type": "stream",
     "text": [
      "[7, 10, 15, 15, 20, 40]\n",
      "[10, 20, 15, 7, 40, 15]\n",
      "None\n",
      "[7, 10, 15, 15, 20, 40]\n"
     ]
    }
   ],
   "source": [
    "data = [10, 20, 15, 7, 40, 15]\n",
    "print(sorted(data))  # Sort that returns a list (does not modify original list)\n",
    "\n",
    "print(data)\n",
    "\n",
    "print(data.sort()) # Sort that modifies the original list (returns none)\n",
    "\n",
    "print(data)"
   ]
  },
  {
   "cell_type": "code",
   "execution_count": 52,
   "metadata": {
    "slideshow": {
     "slide_type": "skip"
    }
   },
   "outputs": [
    {
     "name": "stdout",
     "output_type": "stream",
     "text": [
      "[100, 20, 30]\n",
      "[100, 20, 30]\n"
     ]
    }
   ],
   "source": [
    "data1 = [10, 20, 30]\n",
    "data2 = data1  # Copies a reference to the list (not the actual list)\n",
    "data2[0] = 100\n",
    "\n",
    "print(data1)\n",
    "print(data2)"
   ]
  },
  {
   "cell_type": "code",
   "execution_count": 53,
   "metadata": {
    "slideshow": {
     "slide_type": "skip"
    }
   },
   "outputs": [
    {
     "name": "stdout",
     "output_type": "stream",
     "text": [
      "[10, 20, 30]\n",
      "[100, 20, 30]\n"
     ]
    }
   ],
   "source": [
    "data1 = [10, 20, 30]\n",
    "data2 = data1.copy()  # Shallow copy\n",
    "data2[0] = 100\n",
    "\n",
    "print(data1)\n",
    "print(data2)\n"
   ]
  },
  {
   "cell_type": "code",
   "execution_count": 55,
   "metadata": {
    "slideshow": {
     "slide_type": "skip"
    }
   },
   "outputs": [
    {
     "name": "stdout",
     "output_type": "stream",
     "text": [
      "[10, 20, 30]\n",
      "[100, 20, 30]\n"
     ]
    }
   ],
   "source": [
    "data1 = [10, 20, 30]\n",
    "data2 = data1[:]      # Shallow copy  same as:  data2 = data1.copy()\n",
    "data2[0] = 100\n",
    "\n",
    "print(data1)\n",
    "print(data2)"
   ]
  },
  {
   "cell_type": "markdown",
   "metadata": {
    "slideshow": {
     "slide_type": "subslide"
    }
   },
   "source": [
    "#### membership in a list"
   ]
  },
  {
   "cell_type": "code",
   "execution_count": 56,
   "metadata": {
    "slideshow": {
     "slide_type": "fragment"
    }
   },
   "outputs": [
    {
     "name": "stdout",
     "output_type": "stream",
     "text": [
      "['Python', 75, 'Java', 60, 'R', 90]\n",
      "True\n",
      "False\n",
      "True\n",
      "True\n"
     ]
    }
   ],
   "source": [
    "data = ['Python', 75, 'Java', 60, 'R', 90]\n",
    "print(data)\n",
    "\n",
    "print('Python' in data)\n",
    "print('NumPy' in data)\n",
    "print(60 in data)\n",
    "print(70 not in data)\n"
   ]
  },
  {
   "cell_type": "markdown",
   "metadata": {
    "slideshow": {
     "slide_type": "subslide"
    }
   },
   "source": [
    "### range \n",
    " - return an immutable sequence of numbers"
   ]
  },
  {
   "cell_type": "markdown",
   "metadata": {
    "slideshow": {
     "slide_type": "fragment"
    }
   },
   "source": [
    "*range(stop)  - range of numbers from 0 to $stop-1$*"
   ]
  },
  {
   "cell_type": "code",
   "execution_count": 57,
   "metadata": {
    "slideshow": {
     "slide_type": "fragment"
    }
   },
   "outputs": [
    {
     "name": "stdout",
     "output_type": "stream",
     "text": [
      "range(0, 10)\n"
     ]
    }
   ],
   "source": [
    "print(range(10))  # range(10) returns and iterable object"
   ]
  },
  {
   "cell_type": "code",
   "execution_count": 59,
   "metadata": {
    "slideshow": {
     "slide_type": "fragment"
    }
   },
   "outputs": [
    {
     "name": "stdout",
     "output_type": "stream",
     "text": [
      "[0, 1, 2, 3, 4, 5, 6, 7, 8, 9]\n"
     ]
    }
   ],
   "source": [
    "print(list(range(10)))  # Convert the iterable object to a list"
   ]
  },
  {
   "cell_type": "markdown",
   "metadata": {
    "slideshow": {
     "slide_type": "subslide"
    }
   },
   "source": [
    "*range(start, stop) - range of numbers from start to $stop-1$*"
   ]
  },
  {
   "cell_type": "code",
   "execution_count": 60,
   "metadata": {
    "slideshow": {
     "slide_type": "fragment"
    }
   },
   "outputs": [
    {
     "name": "stdout",
     "output_type": "stream",
     "text": [
      "[0, 1, 2, 3, 4, 5, 6, 7, 8, 9]\n"
     ]
    }
   ],
   "source": [
    "print(list(range(0, 10)))"
   ]
  },
  {
   "cell_type": "code",
   "execution_count": 61,
   "metadata": {
    "slideshow": {
     "slide_type": "fragment"
    }
   },
   "outputs": [
    {
     "name": "stdout",
     "output_type": "stream",
     "text": [
      "[10, 11, 12, 13, 14, 15, 16, 17, 18, 19]\n"
     ]
    }
   ],
   "source": [
    "print(list(range(10, 20)))"
   ]
  },
  {
   "cell_type": "code",
   "execution_count": 65,
   "metadata": {
    "slideshow": {
     "slide_type": "fragment"
    }
   },
   "outputs": [
    {
     "name": "stdout",
     "output_type": "stream",
     "text": [
      "[]\n"
     ]
    }
   ],
   "source": [
    "print(list(range(20, 10)))  # Creates an empty list when stop <= start"
   ]
  },
  {
   "cell_type": "markdown",
   "metadata": {
    "slideshow": {
     "slide_type": "subslide"
    }
   },
   "source": [
    "*range(start, stop, step)*"
   ]
  },
  {
   "cell_type": "code",
   "execution_count": 66,
   "metadata": {
    "slideshow": {
     "slide_type": "fragment"
    }
   },
   "outputs": [
    {
     "name": "stdout",
     "output_type": "stream",
     "text": [
      "[10, 12, 14, 16, 18]\n"
     ]
    }
   ],
   "source": [
    "print(list(range(10, 20, 2)))"
   ]
  },
  {
   "cell_type": "code",
   "execution_count": 67,
   "metadata": {
    "slideshow": {
     "slide_type": "fragment"
    }
   },
   "outputs": [
    {
     "name": "stdout",
     "output_type": "stream",
     "text": [
      "[]\n"
     ]
    }
   ],
   "source": [
    "print(list(range(10, 20, -2)))"
   ]
  },
  {
   "cell_type": "code",
   "execution_count": 68,
   "metadata": {
    "slideshow": {
     "slide_type": "fragment"
    }
   },
   "outputs": [
    {
     "name": "stdout",
     "output_type": "stream",
     "text": [
      "[20, 18, 16, 14, 12]\n"
     ]
    }
   ],
   "source": [
    "print(list(range(20, 10, -2)))"
   ]
  },
  {
   "cell_type": "code",
   "execution_count": 69,
   "metadata": {
    "slideshow": {
     "slide_type": "fragment"
    }
   },
   "outputs": [
    {
     "name": "stdout",
     "output_type": "stream",
     "text": [
      "[20, 19, 18, 17, 16, 15, 14, 13, 12, 11]\n"
     ]
    }
   ],
   "source": [
    "print(list(range(20, 10, -1)))"
   ]
  },
  {
   "cell_type": "markdown",
   "metadata": {
    "slideshow": {
     "slide_type": "subslide"
    }
   },
   "source": [
    "**Iterating using range**"
   ]
  },
  {
   "cell_type": "code",
   "execution_count": 70,
   "metadata": {
    "slideshow": {
     "slide_type": "fragment"
    }
   },
   "outputs": [
    {
     "name": "stdout",
     "output_type": "stream",
     "text": [
      "Square of 10 is 100\n",
      "Square of 11 is 121\n",
      "Square of 12 is 144\n",
      "Square of 13 is 169\n",
      "Square of 14 is 196\n",
      "Square of 15 is 225\n",
      "Square of 16 is 256\n",
      "Square of 17 is 289\n",
      "Square of 18 is 324\n",
      "Square of 19 is 361\n"
     ]
    }
   ],
   "source": [
    "for i in range(10, 20):\n",
    "    print('Square of', i, 'is', i*i)"
   ]
  },
  {
   "cell_type": "code",
   "execution_count": 71,
   "metadata": {
    "slideshow": {
     "slide_type": "fragment"
    }
   },
   "outputs": [
    {
     "name": "stdout",
     "output_type": "stream",
     "text": [
      "Skill#1 is Python\n",
      "Skill#2 is Java\n",
      "Skill#3 is R\n"
     ]
    }
   ],
   "source": [
    "skills = ['Python', 'Java', 'R']\n",
    "\n",
    "for i in range(len(skills)):\n",
    "    print('Skill#{} is {}'.format(i+1, skills[i]))"
   ]
  },
  {
   "cell_type": "markdown",
   "metadata": {
    "slideshow": {
     "slide_type": "subslide"
    }
   },
   "source": [
    "#### Iterating over lists"
   ]
  },
  {
   "cell_type": "code",
   "execution_count": 72,
   "metadata": {
    "slideshow": {
     "slide_type": "fragment"
    }
   },
   "outputs": [
    {
     "name": "stdout",
     "output_type": "stream",
     "text": [
      "Python\n",
      "Java\n",
      "R\n"
     ]
    }
   ],
   "source": [
    "skills = ['Python', 'Java', 'R']\n",
    "levels  = [75, 85, 60]\n",
    "\n",
    "for skill in skills:\n",
    "    print(skill)"
   ]
  },
  {
   "cell_type": "code",
   "execution_count": 74,
   "metadata": {
    "slideshow": {
     "slide_type": "fragment"
    }
   },
   "outputs": [
    {
     "name": "stdout",
     "output_type": "stream",
     "text": [
      "Python --> 75\n",
      "Java --> 85\n",
      "R --> 60\n"
     ]
    }
   ],
   "source": [
    "for index, skill in enumerate(skills):   # neat\n",
    "    print(skill, '-->', levels[index])"
   ]
  },
  {
   "cell_type": "markdown",
   "metadata": {
    "slideshow": {
     "slide_type": "subslide"
    }
   },
   "source": [
    " **zip - returns an iterator of tuples**"
   ]
  },
  {
   "cell_type": "code",
   "execution_count": 75,
   "metadata": {
    "slideshow": {
     "slide_type": "subslide"
    }
   },
   "outputs": [
    {
     "name": "stdout",
     "output_type": "stream",
     "text": [
      "[('Python', 75), ('Java', 85), ('R', 60)]\n"
     ]
    }
   ],
   "source": [
    "# takes two lists and creates an interator which produces a list of tuples with \n",
    "# one element from each list\n",
    "print(list(zip(skills, levels)))"
   ]
  },
  {
   "cell_type": "code",
   "execution_count": 76,
   "metadata": {
    "slideshow": {
     "slide_type": "fragment"
    }
   },
   "outputs": [
    {
     "name": "stdout",
     "output_type": "stream",
     "text": [
      "Python --> 75\n",
      "Java --> 85\n",
      "R --> 60\n"
     ]
    }
   ],
   "source": [
    "for skill, level in zip(skills, levels):\n",
    "    print(skill, '-->', level)"
   ]
  },
  {
   "cell_type": "markdown",
   "metadata": {
    "slideshow": {
     "slide_type": "subslide"
    }
   },
   "source": [
    "*unzip*"
   ]
  },
  {
   "cell_type": "code",
   "execution_count": 79,
   "metadata": {
    "slideshow": {
     "slide_type": "fragment"
    }
   },
   "outputs": [
    {
     "name": "stdout",
     "output_type": "stream",
     "text": [
      "*data= ('Python', 75) ('Java', 85) ('R', 60)\n",
      "('Python', 'Java', 'R')\n",
      "(75, 85, 60)\n"
     ]
    }
   ],
   "source": [
    "data = [('Python', 75), ('Java', 85), ('R', 60)]\n",
    "\n",
    "# zip wants a bunch of arguments to zip together, but what we have is a single \n",
    "# argument (a list, whose elements are tuples). The * in front of the parameter\n",
    "# \"unpacks\" the list (or other iterable), making each of its elements a separate\n",
    "# argument.\n",
    "#\n",
    "# *data = ('Python', 75) ('Java', 85) ('R', 60)\n",
    "# The resulting call is therefore: zip( ('Python', 75) ('Java', 85) ('R', 60) )\n",
    "\n",
    "print(\"*data=\", *data)\n",
    "skills, levels = zip(*data)\n",
    "print(skills)\n",
    "print(levels)"
   ]
  },
  {
   "cell_type": "markdown",
   "metadata": {},
   "source": [
    "**out of range index**"
   ]
  },
  {
   "cell_type": "code",
   "execution_count": 81,
   "metadata": {},
   "outputs": [
    {
     "ename": "IndexError",
     "evalue": "list index out of range",
     "output_type": "error",
     "traceback": [
      "\u001b[0;31m---------------------------------------------------------------------------\u001b[0m",
      "\u001b[0;31mIndexError\u001b[0m                                Traceback (most recent call last)",
      "\u001b[0;32m<ipython-input-81-e8b38ac0654a>\u001b[0m in \u001b[0;36m<module>\u001b[0;34m\u001b[0m\n\u001b[1;32m      2\u001b[0m \u001b[0;34m\u001b[0m\u001b[0m\n\u001b[1;32m      3\u001b[0m \u001b[0;31m# The out of range index produces an exception\u001b[0m\u001b[0;34m\u001b[0m\u001b[0;34m\u001b[0m\u001b[0;34m\u001b[0m\u001b[0m\n\u001b[0;32m----> 4\u001b[0;31m \u001b[0mskills\u001b[0m\u001b[0;34m[\u001b[0m\u001b[0;36m3\u001b[0m\u001b[0;34m]\u001b[0m\u001b[0;34m\u001b[0m\u001b[0;34m\u001b[0m\u001b[0m\n\u001b[0m",
      "\u001b[0;31mIndexError\u001b[0m: list index out of range"
     ]
    }
   ],
   "source": [
    "skills = ['Python', 'Java', 'R']\n",
    "\n",
    "# The out of range index produces an exception\n",
    "skills[3]"
   ]
  },
  {
   "cell_type": "markdown",
   "metadata": {
    "slideshow": {
     "slide_type": "subslide"
    }
   },
   "source": [
    "### Tuples\n",
    " - a sequence of values separated by a comma"
   ]
  },
  {
   "cell_type": "code",
   "execution_count": 90,
   "metadata": {
    "slideshow": {
     "slide_type": "fragment"
    }
   },
   "outputs": [
    {
     "name": "stdout",
     "output_type": "stream",
     "text": [
      "(10, 20, 30)\n",
      "len(x) = 3\n",
      "type(x) = <class 'tuple'>\n",
      "('Alice', (10, 20), [30, 40], (50, 60))\n",
      "4\n",
      "(100, 'Python', 80, 'R')\n"
     ]
    }
   ],
   "source": [
    "# Or, a sequences of values inside of () separated by a comma\n",
    "x = (10, 20, 30)\n",
    "\n",
    "print(x)\n",
    "print(\"len(x) =\", len(x))\n",
    "print(\"type(x) =\", type(x))\n",
    "\n",
    "\n",
    "y = ('Alice', (10, 20), [30, 40], (50, 60))\n",
    "print(y)\n",
    "print(len(y))\n",
    "\n",
    "z = 100, 'Python', 80, 'R'\n",
    "print(z)"
   ]
  },
  {
   "cell_type": "markdown",
   "metadata": {
    "slideshow": {
     "slide_type": "fragment"
    }
   },
   "source": [
    "#### Tuple Indexing and Slicing - similar to list"
   ]
  },
  {
   "cell_type": "code",
   "execution_count": 93,
   "metadata": {
    "slideshow": {
     "slide_type": "fragment"
    }
   },
   "outputs": [
    {
     "name": "stdout",
     "output_type": "stream",
     "text": [
      "(10, 20, 30)\n",
      "10 30\n",
      "('Alice', (10, 20), [30, 40], (50, 60))\n",
      "((10, 20), [30, 40])\n",
      "((50, 60), [30, 40], (10, 20), 'Alice')\n",
      "('Alice', (10, 20), [30, 40], (50, 60))\n"
     ]
    }
   ],
   "source": [
    "print(x)\n",
    "print(x[0], x[-1])\n",
    "\n",
    "print(y)\n",
    "print(y[1:3])\n",
    "print(y[::-1]) # ***** Neat way to reverse all of the elements in a list (not inplace)\n",
    "print(y)"
   ]
  },
  {
   "cell_type": "markdown",
   "metadata": {
    "slideshow": {
     "slide_type": "fragment"
    }
   },
   "source": [
    "#### Concatenation and repetition"
   ]
  },
  {
   "cell_type": "code",
   "execution_count": 94,
   "metadata": {
    "slideshow": {
     "slide_type": "fragment"
    }
   },
   "outputs": [
    {
     "name": "stdout",
     "output_type": "stream",
     "text": [
      "(10, 20, 30, 'Alice', (10, 20), [30, 40], (50, 60))\n"
     ]
    }
   ],
   "source": [
    "print(x + y)"
   ]
  },
  {
   "cell_type": "code",
   "execution_count": 95,
   "metadata": {
    "slideshow": {
     "slide_type": "fragment"
    }
   },
   "outputs": [
    {
     "name": "stdout",
     "output_type": "stream",
     "text": [
      "(10, 20, 30, 10, 20, 30, 10, 20, 30)\n",
      "('Alice', (10, 20), [30, 40], (50, 60), 'Alice', (10, 20), [30, 40], (50, 60))\n"
     ]
    }
   ],
   "source": [
    "print(x * 3)\n",
    "print(2 * y)"
   ]
  },
  {
   "cell_type": "markdown",
   "metadata": {
    "slideshow": {
     "slide_type": "subslide"
    }
   },
   "source": [
    "#### count and index"
   ]
  },
  {
   "cell_type": "code",
   "execution_count": 96,
   "metadata": {
    "slideshow": {
     "slide_type": "subslide"
    }
   },
   "outputs": [
    {
     "name": "stdout",
     "output_type": "stream",
     "text": [
      "(10, 20, 30, 10, 20, 30, 10, 20, 30)\n"
     ]
    }
   ],
   "source": [
    "z = x * 3\n",
    "print(z)"
   ]
  },
  {
   "cell_type": "code",
   "execution_count": 97,
   "metadata": {
    "slideshow": {
     "slide_type": "fragment"
    }
   },
   "outputs": [
    {
     "data": {
      "text/plain": [
       "3"
      ]
     },
     "execution_count": 97,
     "metadata": {},
     "output_type": "execute_result"
    }
   ],
   "source": [
    "z.count(30) # count the number of 30s in the list"
   ]
  },
  {
   "cell_type": "code",
   "execution_count": 98,
   "metadata": {
    "slideshow": {
     "slide_type": "fragment"
    }
   },
   "outputs": [
    {
     "data": {
      "text/plain": [
       "0"
      ]
     },
     "execution_count": 98,
     "metadata": {},
     "output_type": "execute_result"
    }
   ],
   "source": [
    "z.count(40) # count the number of 40s in the list"
   ]
  },
  {
   "cell_type": "code",
   "execution_count": 99,
   "metadata": {
    "slideshow": {
     "slide_type": "fragment"
    }
   },
   "outputs": [
    {
     "data": {
      "text/plain": [
       "2"
      ]
     },
     "execution_count": 99,
     "metadata": {},
     "output_type": "execute_result"
    }
   ],
   "source": [
    "z.index(30) # Get the index of the first 30 in the list"
   ]
  },
  {
   "cell_type": "code",
   "execution_count": 100,
   "metadata": {
    "slideshow": {
     "slide_type": "fragment"
    }
   },
   "outputs": [
    {
     "ename": "ValueError",
     "evalue": "tuple.index(x): x not in tuple",
     "output_type": "error",
     "traceback": [
      "\u001b[0;31m---------------------------------------------------------------------------\u001b[0m",
      "\u001b[0;31mValueError\u001b[0m                                Traceback (most recent call last)",
      "\u001b[0;32m<ipython-input-100-b2ac0e156d8a>\u001b[0m in \u001b[0;36m<module>\u001b[0;34m\u001b[0m\n\u001b[0;32m----> 1\u001b[0;31m \u001b[0mz\u001b[0m\u001b[0;34m.\u001b[0m\u001b[0mindex\u001b[0m\u001b[0;34m(\u001b[0m\u001b[0;36m40\u001b[0m\u001b[0;34m)\u001b[0m \u001b[0;31m# Get the index of the first 40 in the list\u001b[0m\u001b[0;34m\u001b[0m\u001b[0;34m\u001b[0m\u001b[0m\n\u001b[0m",
      "\u001b[0;31mValueError\u001b[0m: tuple.index(x): x not in tuple"
     ]
    }
   ],
   "source": [
    "z.index(40) # Get the index of the first 40 in the list"
   ]
  },
  {
   "cell_type": "markdown",
   "metadata": {
    "slideshow": {
     "slide_type": "fragment"
    }
   },
   "source": [
    "#### membership test"
   ]
  },
  {
   "cell_type": "code",
   "execution_count": 101,
   "metadata": {
    "slideshow": {
     "slide_type": "fragment"
    }
   },
   "outputs": [
    {
     "name": "stdout",
     "output_type": "stream",
     "text": [
      "(100, 'Python', 80, 'R')\n",
      "True\n",
      "True\n",
      "True\n"
     ]
    }
   ],
   "source": [
    "z = 100, 'Python', 80, 'R'\n",
    "print(z)\n",
    "\n",
    "print(80 in z)\n",
    "print('Python' in z)\n",
    "print('Java' not in z)\n",
    "\n"
   ]
  },
  {
   "cell_type": "markdown",
   "metadata": {
    "slideshow": {
     "slide_type": "subslide"
    }
   },
   "source": [
    "#### Iterating over a tuple"
   ]
  },
  {
   "cell_type": "code",
   "execution_count": 102,
   "metadata": {
    "slideshow": {
     "slide_type": "subslide"
    }
   },
   "outputs": [
    {
     "name": "stdout",
     "output_type": "stream",
     "text": [
      "10 100\n",
      "20 400\n",
      "30 900\n"
     ]
    }
   ],
   "source": [
    "x = (10, 20, 30)\n",
    "\n",
    "for value in x:\n",
    "    print(value, value*value)"
   ]
  },
  {
   "cell_type": "code",
   "execution_count": 104,
   "metadata": {
    "slideshow": {
     "slide_type": "fragment"
    }
   },
   "outputs": [
    {
     "name": "stdout",
     "output_type": "stream",
     "text": [
      "0 10\n",
      "1 20\n",
      "2 30\n"
     ]
    }
   ],
   "source": [
    "for index, value in enumerate(x):  # Neat way to get the index & element on each iteration\n",
    "    print(index, value)"
   ]
  },
  {
   "cell_type": "markdown",
   "metadata": {
    "slideshow": {
     "slide_type": "subslide"
    }
   },
   "source": [
    "### other built-in functions with tuple"
   ]
  },
  {
   "cell_type": "code",
   "execution_count": 105,
   "metadata": {
    "slideshow": {
     "slide_type": "fragment"
    }
   },
   "outputs": [],
   "source": [
    "x = (10, 20, 30)\n",
    "y = ('R', 'Java', 'Python')"
   ]
  },
  {
   "cell_type": "code",
   "execution_count": 106,
   "metadata": {
    "slideshow": {
     "slide_type": "fragment"
    }
   },
   "outputs": [
    {
     "data": {
      "text/plain": [
       "(10, 30, 60)"
      ]
     },
     "execution_count": 106,
     "metadata": {},
     "output_type": "execute_result"
    }
   ],
   "source": [
    "(min(x), max(x), sum(x))"
   ]
  },
  {
   "cell_type": "code",
   "execution_count": 108,
   "metadata": {
    "slideshow": {
     "slide_type": "fragment"
    }
   },
   "outputs": [
    {
     "data": {
      "text/plain": [
       "('Java', 'R')"
      ]
     },
     "execution_count": 108,
     "metadata": {},
     "output_type": "execute_result"
    }
   ],
   "source": [
    "# Python compares string lexicographically i.e using ASCII value of the characters.\n",
    "\n",
    "min(y), max(y)"
   ]
  },
  {
   "cell_type": "code",
   "execution_count": 109,
   "metadata": {
    "slideshow": {
     "slide_type": "fragment"
    }
   },
   "outputs": [
    {
     "data": {
      "text/plain": [
       "[30, 20, 10]"
      ]
     },
     "execution_count": 109,
     "metadata": {},
     "output_type": "execute_result"
    }
   ],
   "source": [
    "sorted(x, reverse = True)  # Non-inplace sort"
   ]
  },
  {
   "cell_type": "code",
   "execution_count": 110,
   "metadata": {},
   "outputs": [
    {
     "data": {
      "text/plain": [
       "['Java', 'Python', 'R']"
      ]
     },
     "execution_count": 110,
     "metadata": {},
     "output_type": "execute_result"
    }
   ],
   "source": [
    "sorted(y)"
   ]
  },
  {
   "cell_type": "code",
   "execution_count": 119,
   "metadata": {
    "slideshow": {
     "slide_type": "fragment"
    }
   },
   "outputs": [
    {
     "name": "stdout",
     "output_type": "stream",
     "text": [
      "all(x) = True\n",
      "all(y) = True\n",
      "all(y) = False\n"
     ]
    }
   ],
   "source": [
    "# The all() function returns True if all items in an iterable are true, \n",
    "# otherwise it returns False. If the iterable object is empty, the all() \n",
    "# function also returns True.\n",
    "print(\"all(x) =\", all(x))\n",
    "\n",
    "y = list(x)\n",
    "print(\"all(y) =\", all(y))\n",
    "\n",
    "y.append(False)\n",
    "print(\"all(y) =\", all(y))"
   ]
  },
  {
   "cell_type": "code",
   "execution_count": 122,
   "metadata": {
    "slideshow": {
     "slide_type": "fragment"
    }
   },
   "outputs": [
    {
     "name": "stdout",
     "output_type": "stream",
     "text": [
      "y = (True, False, True)\n",
      "all(y) = False\n",
      "any(y) = True\n"
     ]
    }
   ],
   "source": [
    "y = (True, False, True)\n",
    "\n",
    "# The any() function returns True if any item(s) in an iterable are true, \n",
    "# otherwise it returns False. If the iterable object is empty, the any() \n",
    "# function will return False.\n",
    "print(\"y =\", y)\n",
    "print(\"all(y) =\", all(y))\n",
    "print(\"any(y) =\", any(y))\n"
   ]
  },
  {
   "cell_type": "markdown",
   "metadata": {},
   "source": [
    "### Lists versus Tuples"
   ]
  },
  {
   "cell_type": "code",
   "execution_count": 123,
   "metadata": {
    "slideshow": {
     "slide_type": "subslide"
    }
   },
   "outputs": [
    {
     "name": "stdout",
     "output_type": "stream",
     "text": [
      "[10, 20, 30, 40]\n",
      "(10, 20, 30, 40)\n"
     ]
    }
   ],
   "source": [
    "list_values  = [10, 20, 30, 40]\n",
    "tuple_values = (10, 20, 30, 40)\n",
    "\n",
    "print(list_values)\n",
    "print(tuple_values)"
   ]
  },
  {
   "cell_type": "code",
   "execution_count": 124,
   "metadata": {
    "slideshow": {
     "slide_type": "fragment"
    }
   },
   "outputs": [
    {
     "name": "stdout",
     "output_type": "stream",
     "text": [
      "4\n",
      "4\n"
     ]
    }
   ],
   "source": [
    "print(len(list_values))\n",
    "print(len(tuple_values))"
   ]
  },
  {
   "cell_type": "code",
   "execution_count": 129,
   "metadata": {
    "slideshow": {
     "slide_type": "fragment"
    }
   },
   "outputs": [
    {
     "name": "stdout",
     "output_type": "stream",
     "text": [
      "72\n",
      "56\n",
      "list uses 18.0 bytes per element\n",
      "tuple uses 14.0 bytes per element\n"
     ]
    }
   ],
   "source": [
    "# It takes more memory to store list elements than tuple elements\n",
    "print(list_values.__sizeof__())\n",
    "print(tuple_values.__sizeof__())\n",
    "\n",
    "print(\"list uses {} bytes per element\".format(list_values.__sizeof__() / len(list_values)))\n",
    "print(\"tuple uses {} bytes per element\".format(tuple_values.__sizeof__() / len(tuple_values)))\n",
    "\n"
   ]
  },
  {
   "cell_type": "code",
   "execution_count": 130,
   "metadata": {
    "slideshow": {
     "slide_type": "fragment"
    }
   },
   "outputs": [
    {
     "name": "stdout",
     "output_type": "stream",
     "text": [
      "[10, 20, 30, 400]\n"
     ]
    }
   ],
   "source": [
    "# Mutable versus Immutable\n",
    "\n",
    "list_values[-1] = 400\n",
    "print(list_values)"
   ]
  },
  {
   "cell_type": "code",
   "execution_count": 132,
   "metadata": {
    "slideshow": {
     "slide_type": "fragment"
    }
   },
   "outputs": [
    {
     "ename": "TypeError",
     "evalue": "'tuple' object does not support item assignment",
     "output_type": "error",
     "traceback": [
      "\u001b[0;31m---------------------------------------------------------------------------\u001b[0m",
      "\u001b[0;31mTypeError\u001b[0m                                 Traceback (most recent call last)",
      "\u001b[0;32m<ipython-input-132-28b10135fe75>\u001b[0m in \u001b[0;36m<module>\u001b[0;34m\u001b[0m\n\u001b[0;32m----> 1\u001b[0;31m \u001b[0mtuple_values\u001b[0m\u001b[0;34m[\u001b[0m\u001b[0;34m-\u001b[0m\u001b[0;36m1\u001b[0m\u001b[0;34m]\u001b[0m \u001b[0;34m=\u001b[0m \u001b[0;36m400\u001b[0m \u001b[0;31m# Produces an exception\u001b[0m\u001b[0;34m\u001b[0m\u001b[0;34m\u001b[0m\u001b[0m\n\u001b[0m",
      "\u001b[0;31mTypeError\u001b[0m: 'tuple' object does not support item assignment"
     ]
    }
   ],
   "source": [
    "tuple_values[-1] = 400 # Produces an exception"
   ]
  },
  {
   "cell_type": "code",
   "execution_count": 133,
   "metadata": {
    "slideshow": {
     "slide_type": "fragment"
    }
   },
   "outputs": [
    {
     "name": "stdout",
     "output_type": "stream",
     "text": [
      "[10, 20, 30, 400, 50]\n"
     ]
    }
   ],
   "source": [
    "list_values.append(50)\n",
    "print(list_values)"
   ]
  },
  {
   "cell_type": "code",
   "execution_count": 134,
   "metadata": {
    "slideshow": {
     "slide_type": "fragment"
    }
   },
   "outputs": [
    {
     "ename": "AttributeError",
     "evalue": "'tuple' object has no attribute 'append'",
     "output_type": "error",
     "traceback": [
      "\u001b[0;31m---------------------------------------------------------------------------\u001b[0m",
      "\u001b[0;31mAttributeError\u001b[0m                            Traceback (most recent call last)",
      "\u001b[0;32m<ipython-input-134-821316f2950c>\u001b[0m in \u001b[0;36m<module>\u001b[0;34m\u001b[0m\n\u001b[0;32m----> 1\u001b[0;31m \u001b[0mtuple_values\u001b[0m\u001b[0;34m.\u001b[0m\u001b[0mappend\u001b[0m\u001b[0;34m(\u001b[0m\u001b[0;36m50\u001b[0m\u001b[0;34m)\u001b[0m\u001b[0;34m\u001b[0m\u001b[0;34m\u001b[0m\u001b[0m\n\u001b[0m",
      "\u001b[0;31mAttributeError\u001b[0m: 'tuple' object has no attribute 'append'"
     ]
    }
   ],
   "source": [
    "tuple_values.append(50) # Produces an exception"
   ]
  },
  {
   "cell_type": "code",
   "execution_count": 135,
   "metadata": {
    "slideshow": {
     "slide_type": "subslide"
    }
   },
   "outputs": [
    {
     "name": "stdout",
     "output_type": "stream",
     "text": [
      "('Alice', (10, 20), [300, 40], (50, 60))\n"
     ]
    }
   ],
   "source": [
    "y = ('Alice', (10, 20), [30, 40], (50, 60))\n",
    "y[2][0] = 300\n",
    "print(y)"
   ]
  },
  {
   "cell_type": "markdown",
   "metadata": {
    "slideshow": {
     "slide_type": "subslide"
    }
   },
   "source": [
    "### Lists and List Comprehensions"
   ]
  },
  {
   "cell_type": "code",
   "execution_count": 136,
   "metadata": {
    "slideshow": {
     "slide_type": "fragment"
    }
   },
   "outputs": [
    {
     "name": "stdout",
     "output_type": "stream",
     "text": [
      "['D', 'a', 't', 'a', ' ', 'S', 'c', 'i', 'e', 'n', 'c', 'e']\n"
     ]
    }
   ],
   "source": [
    "# Using loop\n",
    "\n",
    "word = 'Data Science'\n",
    "letters = []\n",
    "\n",
    "for letter in word:\n",
    "    letters.append(letter)\n",
    "    \n",
    "print(letters)"
   ]
  },
  {
   "cell_type": "code",
   "execution_count": 137,
   "metadata": {
    "slideshow": {
     "slide_type": "fragment"
    }
   },
   "outputs": [
    {
     "name": "stdout",
     "output_type": "stream",
     "text": [
      "['D', 'a', 't', 'a', ' ', 'S', 'c', 'i', 'e', 'n', 'c', 'e']\n"
     ]
    }
   ],
   "source": [
    "# Using list comprehension\n",
    "\n",
    "word = 'Data Science'\n",
    "\n",
    "letters = [letter for letter in word]\n",
    "\n",
    "print(letters)\n"
   ]
  },
  {
   "cell_type": "code",
   "execution_count": 143,
   "metadata": {
    "slideshow": {
     "slide_type": "fragment"
    }
   },
   "outputs": [
    {
     "name": "stdout",
     "output_type": "stream",
     "text": [
      "['D', 'A', 'T', 'A', ' ', 'S', 'C', 'I', 'E', 'N', 'C', 'E']\n"
     ]
    }
   ],
   "source": [
    "# Using Lambda function\n",
    "\n",
    "word = 'Data Science'\n",
    "\n",
    "# In the lambda function the to the left of the colon are the parameters and\n",
    "# to the right of the colon is the function to be executed.\n",
    "\n",
    "# map() is a function which takes two arguments:\n",
    "# r = map(func, seq)\n",
    "\n",
    "# The first argument func is the name of a function and the second a \n",
    "# sequence (e.g. a list) seq. map() applies the function func to all \n",
    "# the elements of the sequence seq. The function map() returns an iterator.\n",
    "\n",
    "# func = lambda x: x.upper()\n",
    "# seq = word\n",
    "letters = list(map(lambda x: x.upper(), word))\n",
    "\n",
    "print(letters)"
   ]
  },
  {
   "cell_type": "code",
   "execution_count": 146,
   "metadata": {
    "slideshow": {
     "slide_type": "subslide"
    }
   },
   "outputs": [
    {
     "name": "stdout",
     "output_type": "stream",
     "text": [
      "['D', 't', ' ', 'S', 'c', 'n', 'c']\n"
     ]
    }
   ],
   "source": [
    "# Conditions in List Comprehension, remove all vowels\n",
    "\n",
    "word = 'Data Science'\n",
    "\n",
    "letters = [letter for letter in word if letter not in 'aeiou']\n",
    "\n",
    "print(letters)"
   ]
  },
  {
   "cell_type": "code",
   "execution_count": 147,
   "metadata": {},
   "outputs": [
    {
     "name": "stdout",
     "output_type": "stream",
     "text": [
      "[70, 80, 90]\n"
     ]
    }
   ],
   "source": [
    "data = [70, 30, 50, 80, 40, 90]\n",
    "result = [score for score in data if score > 50]\n",
    "print(result)"
   ]
  },
  {
   "cell_type": "code",
   "execution_count": 149,
   "metadata": {
    "slideshow": {
     "slide_type": "fragment"
    }
   },
   "outputs": [
    {
     "name": "stdout",
     "output_type": "stream",
     "text": [
      "['C', 'V', 'C', 'V', 'C', 'C', 'C', 'V', 'V', 'C', 'C', 'V']\n"
     ]
    }
   ],
   "source": [
    "# if-else\n",
    "\n",
    "word = 'Data Science'\n",
    "\n",
    "# Use V for vowel and C for consonant\n",
    "vowel_or_consonant = ['V' if letter in 'aeiou' else 'C' for letter in word]\n",
    "\n",
    "print(vowel_or_consonant)"
   ]
  },
  {
   "cell_type": "markdown",
   "metadata": {
    "slideshow": {
     "slide_type": "subslide"
    }
   },
   "source": [
    "#### Nested Lists"
   ]
  },
  {
   "cell_type": "code",
   "execution_count": 150,
   "metadata": {
    "slideshow": {
     "slide_type": "subslide"
    }
   },
   "outputs": [
    {
     "name": "stdout",
     "output_type": "stream",
     "text": [
      "[[(1, 1), (1, 2), (1, 3), (1, 4), (1, 5)], [(2, 1), (2, 2), (2, 3), (2, 4), (2, 5)], [(3, 1), (3, 2), (3, 3), (3, 4), (3, 5)], [(4, 1), (4, 2), (4, 3), (4, 4), (4, 5)], [(5, 1), (5, 2), (5, 3), (5, 4), (5, 5)]]\n"
     ]
    }
   ],
   "source": [
    "# Using loops\n",
    "\n",
    "result = []\n",
    "for i in range(1,6):\n",
    "    new_row = []\n",
    "    for j in range(1,6):\n",
    "        new_row.append((i,j))\n",
    "    result.append(new_row)\n",
    "    \n",
    "print(result)"
   ]
  },
  {
   "cell_type": "code",
   "execution_count": 151,
   "metadata": {
    "slideshow": {
     "slide_type": "subslide"
    }
   },
   "outputs": [
    {
     "data": {
      "text/plain": [
       "[[(1, 1), (1, 2), (1, 3), (1, 4), (1, 5)],\n",
       " [(2, 1), (2, 2), (2, 3), (2, 4), (2, 5)],\n",
       " [(3, 1), (3, 2), (3, 3), (3, 4), (3, 5)],\n",
       " [(4, 1), (4, 2), (4, 3), (4, 4), (4, 5)],\n",
       " [(5, 1), (5, 2), (5, 3), (5, 4), (5, 5)]]"
      ]
     },
     "execution_count": 151,
     "metadata": {},
     "output_type": "execute_result"
    }
   ],
   "source": [
    "# Using list comprehension\n",
    "\n",
    "[[(i,j) for j in range(1, 6)] for i in range(1, 6)]"
   ]
  },
  {
   "cell_type": "code",
   "execution_count": 152,
   "metadata": {
    "slideshow": {
     "slide_type": "subslide"
    }
   },
   "outputs": [
    {
     "data": {
      "text/plain": [
       "[[(1, 1)],\n",
       " [(2, 1), (2, 2)],\n",
       " [(3, 1), (3, 2), (3, 3)],\n",
       " [(4, 1), (4, 2), (4, 3), (4, 4)],\n",
       " [(5, 1), (5, 2), (5, 3), (5, 4), (5, 5)]]"
      ]
     },
     "execution_count": 152,
     "metadata": {},
     "output_type": "execute_result"
    }
   ],
   "source": [
    "[[(i,j) for j in range(1, i+1)] for i in range(1, 6)]"
   ]
  },
  {
   "cell_type": "code",
   "execution_count": 153,
   "metadata": {
    "slideshow": {
     "slide_type": "subslide"
    }
   },
   "outputs": [
    {
     "data": {
      "text/plain": [
       "[1, 2, 3, 4, 5, 6]"
      ]
     },
     "execution_count": 153,
     "metadata": {},
     "output_type": "execute_result"
    }
   ],
   "source": [
    "# flatten list\n",
    "\n",
    "data = [[1,2,3], [4], [5,6]]\n",
    "[val for row in data for val in row]"
   ]
  },
  {
   "cell_type": "code",
   "execution_count": null,
   "metadata": {},
   "outputs": [],
   "source": []
  },
  {
   "cell_type": "code",
   "execution_count": 154,
   "metadata": {
    "slideshow": {
     "slide_type": "subslide"
    }
   },
   "outputs": [],
   "source": [
    "# print 2D lists\n",
    "\n",
    "def print2D(x):\n",
    "    for row in x:\n",
    "        for value in row:\n",
    "            print('{:4}'.format(value),  end = '')\n",
    "        print()"
   ]
  },
  {
   "cell_type": "code",
   "execution_count": 155,
   "metadata": {
    "slideshow": {
     "slide_type": "subslide"
    }
   },
   "outputs": [
    {
     "name": "stdout",
     "output_type": "stream",
     "text": [
      "   1   2   3\n",
      "   4   5   6\n",
      "Transpose is [[1, 4], [2, 5], [3, 6]]\n",
      "   1   4\n",
      "   2   5\n",
      "   3   6\n"
     ]
    }
   ],
   "source": [
    "# Nested loops - matrix transpose using loops\n",
    "\n",
    "data = [[1,2,3], [4,5,6]]\n",
    "print2D(data)\n",
    "\n",
    "result = []\n",
    "\n",
    "for col in range(len(data[0])):\n",
    "    new_row = []\n",
    "    \n",
    "    for row in data:\n",
    "        new_row.append(row[col])\n",
    "    \n",
    "    result.append(new_row)\n",
    "    \n",
    "print(\"Transpose is\", result)\n",
    "print2D(result)"
   ]
  },
  {
   "cell_type": "code",
   "execution_count": 156,
   "metadata": {
    "slideshow": {
     "slide_type": "fragment"
    }
   },
   "outputs": [
    {
     "name": "stdout",
     "output_type": "stream",
     "text": [
      "[[1, 4], [2, 5], [3, 6]]\n"
     ]
    }
   ],
   "source": [
    "# Using list comprehension\n",
    "\n",
    "data = [[1,2,3], [4,5,6]]\n",
    "\n",
    "result = [ [row[col] for row in data] for col in range(len(data[0]))]\n",
    "\n",
    "print(result)"
   ]
  },
  {
   "cell_type": "code",
   "execution_count": 157,
   "metadata": {},
   "outputs": [
    {
     "name": "stdout",
     "output_type": "stream",
     "text": [
      "   1   2   3\n",
      "   4   5   6\n",
      "Transpose is\n",
      "   1   4\n",
      "   2   5\n",
      "   3   6\n"
     ]
    }
   ],
   "source": [
    "# Using list comprehension\n",
    "\n",
    "def print2D(x):\n",
    "    print('\\n'.join([''.join(['{:4}'.format(item) for item in row]) \n",
    "      for row in x]))\n",
    "    \n",
    "print2D(data)\n",
    "\n",
    "print(\"Transpose is\")\n",
    "print2D(result)\n"
   ]
  },
  {
   "cell_type": "code",
   "execution_count": 158,
   "metadata": {},
   "outputs": [
    {
     "name": "stdout",
     "output_type": "stream",
     "text": [
      "   1   2   3   4   5   6   7   8   9  10\n",
      "   2   4   6   8  10  12  14  16  18  20\n",
      "   3   6   9  12  15  18  21  24  27  30\n",
      "   4   8  12  16  20  24  28  32  36  40\n",
      "   5  10  15  20  25  30  35  40  45  50\n",
      "   6  12  18  24  30  36  42  48  54  60\n",
      "   7  14  21  28  35  42  49  56  63  70\n",
      "   8  16  24  32  40  48  56  64  72  80\n",
      "   9  18  27  36  45  54  63  72  81  90\n",
      "  10  20  30  40  50  60  70  80  90 100\n"
     ]
    }
   ],
   "source": [
    "print2D([[i*j for j in range(1, 11)] for i in range(1, 11)])"
   ]
  },
  {
   "cell_type": "markdown",
   "metadata": {
    "slideshow": {
     "slide_type": "subslide"
    }
   },
   "source": [
    "## Dictionary"
   ]
  },
  {
   "cell_type": "markdown",
   "metadata": {
    "slideshow": {
     "slide_type": "fragment"
    }
   },
   "source": [
    "- unordered collection of key-value pairs\n",
    "- indexed by keys \n",
    " - can be any immutable type - strings, numbers, tuples with only strings and numbers\n",
    "- empty dictionary - {}\n"
   ]
  },
  {
   "cell_type": "code",
   "execution_count": 159,
   "metadata": {
    "slideshow": {
     "slide_type": "fragment"
    }
   },
   "outputs": [
    {
     "name": "stdout",
     "output_type": "stream",
     "text": [
      "{}\n",
      "{1: 'Python', 2: 'Java'}\n",
      "{'Java': ['CS520', 'CS526'], 'Python': ['CS521', 'CS677', 'CS767']}\n"
     ]
    }
   ],
   "source": [
    "d1 = {}\n",
    "d2 = {1: 'Python', 2: 'Java'}\n",
    "d3 = {'Java': ['CS520', 'CS526'], 'Python': ['CS521', 'CS677', 'CS767'] }\n",
    "\n",
    "print(d1)\n",
    "print(d2)\n",
    "print(d3)"
   ]
  },
  {
   "cell_type": "markdown",
   "metadata": {},
   "source": [
    "**The dict() constructor builds dictionaries directly from sequences of key-value pairs**"
   ]
  },
  {
   "cell_type": "code",
   "execution_count": 160,
   "metadata": {
    "slideshow": {
     "slide_type": "fragment"
    }
   },
   "outputs": [
    {
     "name": "stdout",
     "output_type": "stream",
     "text": [
      "{1: 'Python', 2: 'Java'}\n",
      "{'Java': ['CS520', 'CS526'], 'Python': ['CS521', 'CS677', 'CS767']}\n"
     ]
    }
   ],
   "source": [
    "d2 = dict({1: 'Python', 2: 'Java'})\n",
    "d3 = dict([ ('Java', ['CS520', 'CS526']), ('Python', ['CS521', 'CS677', 'CS767'])])\n",
    "\n",
    "print(d2)\n",
    "print(d3)"
   ]
  },
  {
   "cell_type": "code",
   "execution_count": 161,
   "metadata": {
    "slideshow": {
     "slide_type": "fragment"
    }
   },
   "outputs": [
    {
     "name": "stdout",
     "output_type": "stream",
     "text": [
      "Python\n",
      "['CS521', 'CS677', 'CS767']\n",
      "['CS521', 'CS677', 'CS767']\n"
     ]
    }
   ],
   "source": [
    "print(d2[1])\n",
    "print(d3['Python'])\n",
    "print(d3[d2[1]])"
   ]
  },
  {
   "cell_type": "code",
   "execution_count": 162,
   "metadata": {
    "slideshow": {
     "slide_type": "fragment"
    }
   },
   "outputs": [
    {
     "ename": "KeyError",
     "evalue": "'R'",
     "output_type": "error",
     "traceback": [
      "\u001b[0;31m---------------------------------------------------------------------------\u001b[0m",
      "\u001b[0;31mKeyError\u001b[0m                                  Traceback (most recent call last)",
      "\u001b[0;32m<ipython-input-162-1860c03d820e>\u001b[0m in \u001b[0;36m<module>\u001b[0;34m\u001b[0m\n\u001b[0;32m----> 1\u001b[0;31m \u001b[0md3\u001b[0m\u001b[0;34m[\u001b[0m\u001b[0;34m'R'\u001b[0m\u001b[0;34m]\u001b[0m\u001b[0;34m\u001b[0m\u001b[0;34m\u001b[0m\u001b[0m\n\u001b[0m",
      "\u001b[0;31mKeyError\u001b[0m: 'R'"
     ]
    }
   ],
   "source": [
    "d3['R'] # Throws an exception because R is not a key in d3, see also get below."
   ]
  },
  {
   "cell_type": "code",
   "execution_count": 163,
   "metadata": {
    "slideshow": {
     "slide_type": "fragment"
    }
   },
   "outputs": [
    {
     "name": "stdout",
     "output_type": "stream",
     "text": [
      "Python\n",
      "['CS521', 'CS677', 'CS767']\n",
      "['CS521', 'CS677', 'CS767']\n"
     ]
    }
   ],
   "source": [
    "print(d2.get(1))\n",
    "print(d3.get('Python'))\n",
    "print(d3.get(d2.get(1)))"
   ]
  },
  {
   "cell_type": "code",
   "execution_count": 164,
   "metadata": {
    "slideshow": {
     "slide_type": "fragment"
    }
   },
   "outputs": [
    {
     "name": "stdout",
     "output_type": "stream",
     "text": [
      "None\n"
     ]
    }
   ],
   "source": [
    "print(d3.get('R'))  # get on a dictionary returns None instead of throwing an exception"
   ]
  },
  {
   "cell_type": "markdown",
   "metadata": {},
   "source": [
    "**Alternative ways of creating dictionaries**"
   ]
  },
  {
   "cell_type": "code",
   "execution_count": 165,
   "metadata": {},
   "outputs": [
    {
     "name": "stdout",
     "output_type": "stream",
     "text": [
      "{'one': 1, 'two': 2, 'three': 3}\n",
      "True\n"
     ]
    }
   ],
   "source": [
    "a = dict(one=1, two=2, three=3)\n",
    "b = {'one': 1, 'two': 2, 'three': 3}\n",
    "c = dict(zip(['one', 'two', 'three'], [1, 2, 3]))\n",
    "d = dict([('two', 2), ('one', 1), ('three', 3)])\n",
    "e = dict({'three': 3, 'one': 1, 'two': 2})\n",
    "\n",
    "print(a)\n",
    "\n",
    "print(a == b == c == d == e)"
   ]
  },
  {
   "cell_type": "markdown",
   "metadata": {
    "slideshow": {
     "slide_type": "subslide"
    }
   },
   "source": [
    "**Modifying and adding items in a dictionary**"
   ]
  },
  {
   "cell_type": "code",
   "execution_count": 166,
   "metadata": {
    "slideshow": {
     "slide_type": "subslide"
    }
   },
   "outputs": [
    {
     "name": "stdout",
     "output_type": "stream",
     "text": [
      "{1: 'Python', 2: 'Java'}\n",
      "{1: 'Python', 2: 'C++', 5: 'R', 'a': 'Go'}\n"
     ]
    }
   ],
   "source": [
    "d2 = dict({1: 'Python', 2: 'Java'})\n",
    "print(d2)\n",
    "\n",
    "d2[2] = 'C++'\n",
    "d2[5] = 'R'\n",
    "d2['a'] = 'Go'\n",
    "\n",
    "print(d2)"
   ]
  },
  {
   "cell_type": "markdown",
   "metadata": {
    "slideshow": {
     "slide_type": "fragment"
    }
   },
   "source": [
    "**deleting items from a dictionary**"
   ]
  },
  {
   "cell_type": "code",
   "execution_count": 167,
   "metadata": {
    "slideshow": {
     "slide_type": "fragment"
    }
   },
   "outputs": [
    {
     "name": "stdout",
     "output_type": "stream",
     "text": [
      "{1: 'Python', 2: 'C++', 5: 'R', 'a': 'Go'}\n",
      "{1: 'Python', 2: 'C++', 'a': 'Go'}\n",
      "{1: 'Python', 2: 'C++'}\n"
     ]
    }
   ],
   "source": [
    "print(d2)\n",
    "\n",
    "d2.pop(5)\n",
    "print(d2)\n",
    "\n",
    "del d2['a']\n",
    "print(d2)"
   ]
  },
  {
   "cell_type": "markdown",
   "metadata": {
    "slideshow": {
     "slide_type": "subslide"
    }
   },
   "source": [
    "**membership in a dictionary**"
   ]
  },
  {
   "cell_type": "code",
   "execution_count": 168,
   "metadata": {
    "slideshow": {
     "slide_type": "subslide"
    }
   },
   "outputs": [
    {
     "name": "stdout",
     "output_type": "stream",
     "text": [
      "{'Java': ['CS520', 'CS526'], 'Python': ['CS521', 'CS677', 'CS767']}\n",
      "True\n",
      "True\n",
      "False\n"
     ]
    }
   ],
   "source": [
    "d3 = dict([ ('Java', ['CS520', 'CS526']), ('Python', ['CS521', 'CS677', 'CS767'])])\n",
    "print(d3)\n",
    "\n",
    "print('Java' in d3)\n",
    "print('R' not in d3)\n",
    "print('C++' in d3)"
   ]
  },
  {
   "cell_type": "markdown",
   "metadata": {
    "slideshow": {
     "slide_type": "subslide"
    }
   },
   "source": [
    "#### Other dictionary methods\n",
    " **keys**"
   ]
  },
  {
   "cell_type": "code",
   "execution_count": 169,
   "metadata": {
    "slideshow": {
     "slide_type": "subslide"
    }
   },
   "outputs": [
    {
     "name": "stdout",
     "output_type": "stream",
     "text": [
      "{'Java': ['CS520', 'CS526'], 'Python': ['CS521', 'CS677', 'CS767']}\n",
      "dict_keys(['Java', 'Python'])\n"
     ]
    }
   ],
   "source": [
    "print(d3)\n",
    "print(d3.keys())"
   ]
  },
  {
   "cell_type": "code",
   "execution_count": 170,
   "metadata": {
    "slideshow": {
     "slide_type": "fragment"
    }
   },
   "outputs": [
    {
     "name": "stdout",
     "output_type": "stream",
     "text": [
      "Java\n",
      "Python\n"
     ]
    }
   ],
   "source": [
    "for item in d3:  # iterate through the keys\n",
    "    print(item)"
   ]
  },
  {
   "cell_type": "code",
   "execution_count": 171,
   "metadata": {
    "slideshow": {
     "slide_type": "fragment"
    }
   },
   "outputs": [
    {
     "name": "stdout",
     "output_type": "stream",
     "text": [
      "Java\n",
      "Python\n"
     ]
    }
   ],
   "source": [
    "for item in d3.keys():\n",
    "    print(item)"
   ]
  },
  {
   "cell_type": "code",
   "execution_count": 172,
   "metadata": {},
   "outputs": [
    {
     "name": "stdout",
     "output_type": "stream",
     "text": [
      "0 Java\n",
      "1 Python\n"
     ]
    }
   ],
   "source": [
    "for index, item in enumerate(d3):\n",
    "    print(index, item)"
   ]
  },
  {
   "cell_type": "markdown",
   "metadata": {
    "slideshow": {
     "slide_type": "subslide"
    }
   },
   "source": [
    "**values**"
   ]
  },
  {
   "cell_type": "code",
   "execution_count": 173,
   "metadata": {
    "slideshow": {
     "slide_type": "subslide"
    }
   },
   "outputs": [
    {
     "name": "stdout",
     "output_type": "stream",
     "text": [
      "dict_values([['CS520', 'CS526'], ['CS521', 'CS677', 'CS767']])\n"
     ]
    }
   ],
   "source": [
    "print(d3.values())"
   ]
  },
  {
   "cell_type": "code",
   "execution_count": 174,
   "metadata": {
    "slideshow": {
     "slide_type": "fragment"
    }
   },
   "outputs": [
    {
     "name": "stdout",
     "output_type": "stream",
     "text": [
      "['CS520', 'CS526']\n",
      "['CS521', 'CS677', 'CS767']\n"
     ]
    }
   ],
   "source": [
    "for item in d3.values():\n",
    "    print(item)"
   ]
  },
  {
   "cell_type": "markdown",
   "metadata": {
    "slideshow": {
     "slide_type": "subslide"
    }
   },
   "source": [
    "**items**"
   ]
  },
  {
   "cell_type": "code",
   "execution_count": 175,
   "metadata": {
    "slideshow": {
     "slide_type": "subslide"
    }
   },
   "outputs": [
    {
     "name": "stdout",
     "output_type": "stream",
     "text": [
      "dict_items([('Java', ['CS520', 'CS526']), ('Python', ['CS521', 'CS677', 'CS767'])])\n"
     ]
    }
   ],
   "source": [
    "print(d3.items())"
   ]
  },
  {
   "cell_type": "code",
   "execution_count": 176,
   "metadata": {
    "slideshow": {
     "slide_type": "fragment"
    }
   },
   "outputs": [
    {
     "name": "stdout",
     "output_type": "stream",
     "text": [
      "    Java --> ['CS520', 'CS526']\n",
      "  Python --> ['CS521', 'CS677', 'CS767']\n"
     ]
    }
   ],
   "source": [
    "for key, value in d3.items():\n",
    "    print('{:>8} --> {}'.format(key, value))"
   ]
  },
  {
   "cell_type": "markdown",
   "metadata": {
    "slideshow": {
     "slide_type": "subslide"
    }
   },
   "source": [
    "### Dictionary comprehension"
   ]
  },
  {
   "cell_type": "code",
   "execution_count": 177,
   "metadata": {
    "slideshow": {
     "slide_type": "fragment"
    }
   },
   "outputs": [
    {
     "name": "stdout",
     "output_type": "stream",
     "text": [
      "{0: 1, 1: 2, 2: 4, 3: 8, 4: 16, 5: 32, 6: 64, 7: 128, 8: 256, 9: 512}\n",
      "256\n"
     ]
    }
   ],
   "source": [
    "powers = {i: 2**i for i in range(10)}\n",
    "print(powers)\n",
    "print(powers[8])"
   ]
  },
  {
   "cell_type": "code",
   "execution_count": 178,
   "metadata": {
    "slideshow": {
     "slide_type": "fragment"
    }
   },
   "outputs": [
    {
     "name": "stdout",
     "output_type": "stream",
     "text": [
      "{0: 1, 1: 2, 2: 4, 3: 8, 4: 16, 5: 32, 6: 64, 7: 128, 8: 256, 9: 512}\n"
     ]
    }
   ],
   "source": [
    "# Without comprehension\n",
    "\n",
    "powers = {}\n",
    "for i in range(10):\n",
    "    powers[i] = 2**i\n",
    "\n",
    "print(powers)"
   ]
  },
  {
   "cell_type": "code",
   "execution_count": 179,
   "metadata": {
    "slideshow": {
     "slide_type": "fragment"
    }
   },
   "outputs": [
    {
     "name": "stdout",
     "output_type": "stream",
     "text": [
      "{1: 2, 3: 8, 5: 32, 7: 128, 9: 512}\n"
     ]
    }
   ],
   "source": [
    "# filtering with if\n",
    "\n",
    "odd_powers = {i: 2**i for i in range(10) if i%2 == 1}\n",
    "print(odd_powers)"
   ]
  },
  {
   "cell_type": "markdown",
   "metadata": {
    "slideshow": {
     "slide_type": "subslide"
    }
   },
   "source": [
    "### Sets\n",
    " - unordered collection of items\n",
    " - every item is unique\n",
    " - every item is immutable"
   ]
  },
  {
   "cell_type": "code",
   "execution_count": 180,
   "metadata": {
    "slideshow": {
     "slide_type": "fragment"
    }
   },
   "outputs": [
    {
     "name": "stdout",
     "output_type": "stream",
     "text": [
      "set()\n",
      "{10, 20, 30}\n",
      "{10, 20, 30}\n"
     ]
    }
   ],
   "source": [
    "\n",
    "\n",
    "s1 = set()   # {} is an empty dictionary\n",
    "s2 = {10, 20, 10, 30}\n",
    "s3 = set([10, 20, 30, 10, 20])\n",
    "print(s1)\n",
    "print(s2)\n",
    "print(s3)"
   ]
  },
  {
   "cell_type": "markdown",
   "metadata": {
    "slideshow": {
     "slide_type": "fragment"
    }
   },
   "source": [
    "**no mutable items in a set**"
   ]
  },
  {
   "cell_type": "code",
   "execution_count": 181,
   "metadata": {
    "slideshow": {
     "slide_type": "fragment"
    }
   },
   "outputs": [
    {
     "ename": "TypeError",
     "evalue": "unhashable type: 'list'",
     "output_type": "error",
     "traceback": [
      "\u001b[0;31m---------------------------------------------------------------------------\u001b[0m",
      "\u001b[0;31mTypeError\u001b[0m                                 Traceback (most recent call last)",
      "\u001b[0;32m<ipython-input-181-139e283bd3ac>\u001b[0m in \u001b[0;36m<module>\u001b[0;34m\u001b[0m\n\u001b[0;32m----> 1\u001b[0;31m \u001b[0ms3\u001b[0m \u001b[0;34m=\u001b[0m \u001b[0;34m{\u001b[0m\u001b[0;36m10\u001b[0m\u001b[0;34m,\u001b[0m \u001b[0;36m20\u001b[0m\u001b[0;34m,\u001b[0m \u001b[0;34m[\u001b[0m\u001b[0;36m10\u001b[0m\u001b[0;34m,\u001b[0m \u001b[0;36m30\u001b[0m\u001b[0;34m]\u001b[0m\u001b[0;34m}\u001b[0m\u001b[0;34m\u001b[0m\u001b[0;34m\u001b[0m\u001b[0m\n\u001b[0m",
      "\u001b[0;31mTypeError\u001b[0m: unhashable type: 'list'"
     ]
    }
   ],
   "source": [
    "s3 = {10, 20, [10, 30]}"
   ]
  },
  {
   "cell_type": "markdown",
   "metadata": {
    "slideshow": {
     "slide_type": "fragment"
    }
   },
   "source": [
    "**no indexing support**"
   ]
  },
  {
   "cell_type": "code",
   "execution_count": 182,
   "metadata": {
    "slideshow": {
     "slide_type": "fragment"
    }
   },
   "outputs": [
    {
     "name": "stdout",
     "output_type": "stream",
     "text": [
      "{10, 20, 30}\n"
     ]
    },
    {
     "ename": "TypeError",
     "evalue": "'set' object is not subscriptable",
     "output_type": "error",
     "traceback": [
      "\u001b[0;31m---------------------------------------------------------------------------\u001b[0m",
      "\u001b[0;31mTypeError\u001b[0m                                 Traceback (most recent call last)",
      "\u001b[0;32m<ipython-input-182-68ce638a5d92>\u001b[0m in \u001b[0;36m<module>\u001b[0;34m\u001b[0m\n\u001b[1;32m      1\u001b[0m \u001b[0mprint\u001b[0m\u001b[0;34m(\u001b[0m\u001b[0ms2\u001b[0m\u001b[0;34m)\u001b[0m\u001b[0;34m\u001b[0m\u001b[0;34m\u001b[0m\u001b[0m\n\u001b[0;32m----> 2\u001b[0;31m \u001b[0ms2\u001b[0m\u001b[0;34m[\u001b[0m\u001b[0;36m0\u001b[0m\u001b[0;34m]\u001b[0m\u001b[0;34m\u001b[0m\u001b[0;34m\u001b[0m\u001b[0m\n\u001b[0m",
      "\u001b[0;31mTypeError\u001b[0m: 'set' object is not subscriptable"
     ]
    }
   ],
   "source": [
    "print(s2)\n",
    "s2[0]"
   ]
  },
  {
   "cell_type": "markdown",
   "metadata": {
    "slideshow": {
     "slide_type": "subslide"
    }
   },
   "source": [
    "**Adding elements to a set**"
   ]
  },
  {
   "cell_type": "code",
   "execution_count": 183,
   "metadata": {
    "slideshow": {
     "slide_type": "subslide"
    }
   },
   "outputs": [
    {
     "name": "stdout",
     "output_type": "stream",
     "text": [
      "{10, 20, 30}\n",
      "{40, 10, 20, 30}\n",
      "{(40, 45), 40, 10, 20, 30}\n"
     ]
    }
   ],
   "source": [
    "s2 = {10, 20, 10, 30}\n",
    "print(s2)\n",
    "\n",
    "s2.add(40)\n",
    "print(s2)\n",
    "\n",
    "s2.add((40, 45)) # adds the actual tuple to the set\n",
    "print(s2)"
   ]
  },
  {
   "cell_type": "code",
   "execution_count": 184,
   "metadata": {
    "slideshow": {
     "slide_type": "subslide"
    }
   },
   "outputs": [
    {
     "name": "stdout",
     "output_type": "stream",
     "text": [
      "{10, 20, 30}\n",
      "{40, 10, 50, 20, 30}\n"
     ]
    }
   ],
   "source": [
    "s2 = {10, 20, 10, 30}\n",
    "print(s2)\n",
    "\n",
    "s2.update([20,30,40,50]) # adds elements of the list to the set\n",
    "print(s2)"
   ]
  },
  {
   "cell_type": "code",
   "execution_count": 185,
   "metadata": {
    "slideshow": {
     "slide_type": "fragment"
    }
   },
   "outputs": [
    {
     "name": "stdout",
     "output_type": "stream",
     "text": [
      "{10, 20, 30}\n",
      "{50, 20, 40, 25, 10, 30, 15}\n"
     ]
    }
   ],
   "source": [
    "s2 = {10, 20, 10, 30}\n",
    "print(s2)\n",
    "\n",
    "s2.update({10, 15, 25}, [20,30,40,50]) # add elements of another set and a list to the set\n",
    "print(s2)"
   ]
  },
  {
   "cell_type": "markdown",
   "metadata": {
    "slideshow": {
     "slide_type": "subslide"
    }
   },
   "source": [
    "**Removing items from a set**"
   ]
  },
  {
   "cell_type": "code",
   "execution_count": 186,
   "metadata": {
    "slideshow": {
     "slide_type": "subslide"
    }
   },
   "outputs": [
    {
     "name": "stdout",
     "output_type": "stream",
     "text": [
      "{10, 20, 30}\n",
      "{20, 30}\n"
     ]
    }
   ],
   "source": [
    "s2 = {10, 20, 10, 30}\n",
    "print(s2)\n",
    "\n",
    "s2.remove(10)\n",
    "print(s2)"
   ]
  },
  {
   "cell_type": "markdown",
   "metadata": {
    "slideshow": {
     "slide_type": "subslide"
    }
   },
   "source": [
    "**Membership in a set**"
   ]
  },
  {
   "cell_type": "code",
   "execution_count": 187,
   "metadata": {
    "slideshow": {
     "slide_type": "subslide"
    }
   },
   "outputs": [
    {
     "name": "stdout",
     "output_type": "stream",
     "text": [
      "{10, 20, 30}\n",
      "True\n",
      "False\n",
      "True\n"
     ]
    }
   ],
   "source": [
    "s2 = {10, 20, 10, 30}\n",
    "print(s2)\n",
    "\n",
    "print(10 in s2)\n",
    "print(40 in s2)\n",
    "print(50 not in s2)"
   ]
  },
  {
   "cell_type": "markdown",
   "metadata": {
    "slideshow": {
     "slide_type": "subslide"
    }
   },
   "source": [
    "**Set Union**"
   ]
  },
  {
   "cell_type": "code",
   "execution_count": 188,
   "metadata": {
    "slideshow": {
     "slide_type": "subslide"
    }
   },
   "outputs": [
    {
     "name": "stdout",
     "output_type": "stream",
     "text": [
      "{50, 20, 40, 10, 30}\n",
      "{50, 20, 40, 10, 30}\n",
      "{50, 20, 40, 10, 30}\n"
     ]
    }
   ],
   "source": [
    "a = {10, 20, 30, 40}\n",
    "b = {30, 40, 50}\n",
    "\n",
    "# Union\n",
    "\n",
    "print(a | b)\n",
    "\n",
    "print(a.union(b))\n",
    "\n",
    "print(b.union(a))"
   ]
  },
  {
   "cell_type": "markdown",
   "metadata": {
    "slideshow": {
     "slide_type": "fragment"
    }
   },
   "source": [
    "**Set Intersection**"
   ]
  },
  {
   "cell_type": "code",
   "execution_count": 189,
   "metadata": {
    "slideshow": {
     "slide_type": "fragment"
    }
   },
   "outputs": [
    {
     "name": "stdout",
     "output_type": "stream",
     "text": [
      "{40, 30}\n",
      "{40, 30}\n",
      "{40, 30}\n"
     ]
    }
   ],
   "source": [
    "a = {10, 20, 30, 40}\n",
    "b = {30, 40, 50}\n",
    "\n",
    "# Intersection\n",
    "\n",
    "print(a & b)\n",
    "\n",
    "print(a.intersection(b))\n",
    "\n",
    "print(b.intersection(a))"
   ]
  },
  {
   "cell_type": "markdown",
   "metadata": {
    "slideshow": {
     "slide_type": "subslide"
    }
   },
   "source": [
    "**Set Difference**"
   ]
  },
  {
   "cell_type": "code",
   "execution_count": 190,
   "metadata": {
    "slideshow": {
     "slide_type": "subslide"
    }
   },
   "outputs": [
    {
     "name": "stdout",
     "output_type": "stream",
     "text": [
      "{10, 20}\n",
      "{10, 20}\n",
      "{50}\n",
      "{50}\n"
     ]
    }
   ],
   "source": [
    "a = {10, 20, 30, 40}\n",
    "b = {30, 40, 50}\n",
    "\n",
    "# Difference\n",
    "\n",
    "print(a - b)\n",
    "print(a.difference(b))\n",
    "\n",
    "print(b - a)\n",
    "print(b.difference(a))"
   ]
  },
  {
   "cell_type": "markdown",
   "metadata": {
    "slideshow": {
     "slide_type": "fragment"
    }
   },
   "source": [
    "**Symmetric difference (except those that are common in both)**"
   ]
  },
  {
   "cell_type": "code",
   "execution_count": null,
   "metadata": {
    "slideshow": {
     "slide_type": "fragment"
    }
   },
   "outputs": [],
   "source": [
    "a = {10, 20, 30, 40}\n",
    "b = {30, 40, 50}\n",
    "\n",
    "# Symmetric Difference\n",
    "\n",
    "print(a ^ b)\n",
    "print(a.symmetric_difference(b))"
   ]
  },
  {
   "cell_type": "markdown",
   "metadata": {
    "slideshow": {
     "slide_type": "subslide"
    }
   },
   "source": [
    "**Set Comparison**"
   ]
  },
  {
   "cell_type": "code",
   "execution_count": null,
   "metadata": {
    "slideshow": {
     "slide_type": "subslide"
    }
   },
   "outputs": [],
   "source": [
    "a = {10, 20, 30, 40}\n",
    "b = {30, 40, 50}\n",
    "\n",
    "print(a.isdisjoint(b))"
   ]
  },
  {
   "cell_type": "code",
   "execution_count": null,
   "metadata": {
    "slideshow": {
     "slide_type": "fragment"
    }
   },
   "outputs": [],
   "source": [
    "a = {10, 20, 30, 40}\n",
    "b = {50, 60}\n",
    "\n",
    "print(a.isdisjoint(b))"
   ]
  },
  {
   "cell_type": "code",
   "execution_count": null,
   "metadata": {
    "slideshow": {
     "slide_type": "fragment"
    }
   },
   "outputs": [],
   "source": [
    "a = {10, 20}\n",
    "b = {10, 15, 20, 25}\n",
    "\n",
    "print(a.issubset(b))"
   ]
  },
  {
   "cell_type": "markdown",
   "metadata": {
    "slideshow": {
     "slide_type": "subslide"
    }
   },
   "source": [
    "**Iterating over sets**"
   ]
  },
  {
   "cell_type": "code",
   "execution_count": null,
   "metadata": {
    "slideshow": {
     "slide_type": "subslide"
    }
   },
   "outputs": [],
   "source": [
    "a = {10, 20, 30, 40}\n",
    "b = {30, 40, 50}\n",
    "c = a | b\n",
    "print(c)\n",
    "\n",
    "for item in c:\n",
    "    print (item)"
   ]
  },
  {
   "cell_type": "code",
   "execution_count": null,
   "metadata": {
    "slideshow": {
     "slide_type": "subslide"
    }
   },
   "outputs": [],
   "source": [
    "for item in enumerate(c):\n",
    "    print (item)"
   ]
  },
  {
   "cell_type": "markdown",
   "metadata": {},
   "source": [
    "## Functions ... continued"
   ]
  },
  {
   "cell_type": "markdown",
   "metadata": {},
   "source": [
    "### Functions with default arguments"
   ]
  },
  {
   "cell_type": "code",
   "execution_count": null,
   "metadata": {},
   "outputs": [],
   "source": [
    "def greet(name, className = 'CS677'):\n",
    "    return (\"Hello \" + name + \", Welcome to \" + className)"
   ]
  },
  {
   "cell_type": "code",
   "execution_count": null,
   "metadata": {},
   "outputs": [],
   "source": [
    "print(greet('John'))"
   ]
  },
  {
   "cell_type": "code",
   "execution_count": null,
   "metadata": {},
   "outputs": [],
   "source": [
    "print(greet('John', 'CS777'))"
   ]
  },
  {
   "cell_type": "code",
   "execution_count": null,
   "metadata": {},
   "outputs": [],
   "source": [
    "def greet(name, className = 'CS677', instructor):\n",
    "    return (\"Hello \" + name + \", Welcome to \" + className)"
   ]
  },
  {
   "cell_type": "code",
   "execution_count": null,
   "metadata": {},
   "outputs": [],
   "source": [
    "def greet(name, className = 'CS677', instructor = 'Suresh'):\n",
    "    return (\"Hello \" + name + \", Welcome to \" + className + \" - \" + instructor)"
   ]
  },
  {
   "cell_type": "code",
   "execution_count": null,
   "metadata": {},
   "outputs": [],
   "source": [
    "print(greet('John'))"
   ]
  },
  {
   "cell_type": "code",
   "execution_count": null,
   "metadata": {},
   "outputs": [],
   "source": [
    "print(greet('John', 'CS546'))"
   ]
  },
  {
   "cell_type": "code",
   "execution_count": null,
   "metadata": {},
   "outputs": [],
   "source": [
    "print(greet('John', 'CS546', 'Anatoly' ))"
   ]
  },
  {
   "cell_type": "code",
   "execution_count": null,
   "metadata": {},
   "outputs": [],
   "source": [
    "print(greet('John', instructor = 'Anatoly' ))"
   ]
  },
  {
   "cell_type": "markdown",
   "metadata": {
    "slideshow": {
     "slide_type": "subslide"
    }
   },
   "source": [
    "### Functions with variable arguments"
   ]
  },
  {
   "cell_type": "code",
   "execution_count": null,
   "metadata": {
    "slideshow": {
     "slide_type": "fragment"
    }
   },
   "outputs": [],
   "source": [
    "def my_sum(name, *args):\n",
    "    print(name, args)\n",
    "    result = 0\n",
    "    for n in args:\n",
    "        result += n\n",
    "    return (result)"
   ]
  },
  {
   "cell_type": "code",
   "execution_count": null,
   "metadata": {
    "slideshow": {
     "slide_type": "fragment"
    }
   },
   "outputs": [],
   "source": [
    "my_sum('John', 1, 2, 3)"
   ]
  },
  {
   "cell_type": "markdown",
   "metadata": {
    "slideshow": {
     "slide_type": "fragment"
    }
   },
   "source": [
    "### Functions with keyword arguments"
   ]
  },
  {
   "cell_type": "code",
   "execution_count": null,
   "metadata": {
    "slideshow": {
     "slide_type": "fragment"
    }
   },
   "outputs": [],
   "source": [
    "def my_average(name, **kwargs):\n",
    "    print(name, kwargs)\n",
    "    result = 0\n",
    "    \n",
    "    if (len(kwargs) == 0):\n",
    "        return result\n",
    "    \n",
    "    for key, value in kwargs.items():\n",
    "        print('Score in {} = {}'.format(key, value))\n",
    "        result += value\n",
    "    \n",
    "    return (result / len(kwargs))"
   ]
  },
  {
   "cell_type": "code",
   "execution_count": null,
   "metadata": {
    "slideshow": {
     "slide_type": "fragment"
    }
   },
   "outputs": [],
   "source": [
    "my_average('John', cs1=70, cs2=80, cs3=90)"
   ]
  },
  {
   "cell_type": "code",
   "execution_count": null,
   "metadata": {},
   "outputs": [],
   "source": [
    "my_average('abc')"
   ]
  },
  {
   "cell_type": "markdown",
   "metadata": {
    "slideshow": {
     "slide_type": "subslide"
    }
   },
   "source": [
    "### Anonymous (Lambda) Functions"
   ]
  },
  {
   "cell_type": "code",
   "execution_count": null,
   "metadata": {
    "slideshow": {
     "slide_type": "fragment"
    }
   },
   "outputs": [],
   "source": [
    "double = lambda x: 2 * x"
   ]
  },
  {
   "cell_type": "code",
   "execution_count": null,
   "metadata": {
    "slideshow": {
     "slide_type": "fragment"
    }
   },
   "outputs": [],
   "source": [
    "print(double(5))"
   ]
  },
  {
   "cell_type": "code",
   "execution_count": null,
   "metadata": {
    "slideshow": {
     "slide_type": "fragment"
    }
   },
   "outputs": [],
   "source": [
    "print(double([10,20]))"
   ]
  },
  {
   "cell_type": "code",
   "execution_count": null,
   "metadata": {
    "slideshow": {
     "slide_type": "subslide"
    }
   },
   "outputs": [],
   "source": [
    "# generally used as argument for higher order functions\n",
    "\n",
    "data = [10, 13, 15, 18, 20, 23, 26]\n",
    "\n",
    "list(filter(lambda x: (x %2 == 1), data))"
   ]
  },
  {
   "cell_type": "code",
   "execution_count": null,
   "metadata": {
    "slideshow": {
     "slide_type": "subslide"
    }
   },
   "outputs": [],
   "source": [
    "list(map(double, data))"
   ]
  },
  {
   "cell_type": "code",
   "execution_count": null,
   "metadata": {
    "slideshow": {
     "slide_type": "fragment"
    }
   },
   "outputs": [],
   "source": [
    "list(map(lambda x: x * x, data))"
   ]
  },
  {
   "cell_type": "markdown",
   "metadata": {
    "slideshow": {
     "slide_type": "subslide"
    }
   },
   "source": [
    "### Indirect references"
   ]
  },
  {
   "cell_type": "code",
   "execution_count": null,
   "metadata": {
    "slideshow": {
     "slide_type": "fragment"
    }
   },
   "outputs": [],
   "source": [
    "a = (10, 20, [30,40], 50)\n",
    "print(a)\n",
    "\n",
    "b = a[2]\n",
    "b[0] = 300\n",
    "\n",
    "print(b)\n",
    "print(a)"
   ]
  },
  {
   "cell_type": "code",
   "execution_count": null,
   "metadata": {
    "slideshow": {
     "slide_type": "fragment"
    }
   },
   "outputs": [],
   "source": [
    "# Caution - list references\n",
    "\n",
    "lists = [[]] * 3\n",
    "\n",
    "lists[0].append(3)\n",
    "lists[1].append(5)\n",
    "lists[2].append(7)\n",
    "\n",
    "print(lists)"
   ]
  },
  {
   "cell_type": "code",
   "execution_count": null,
   "metadata": {
    "slideshow": {
     "slide_type": "fragment"
    }
   },
   "outputs": [],
   "source": [
    "# correct approach\n",
    "\n",
    "lists = [[] for i in range(3)]\n",
    "\n",
    "lists[0].append(3)\n",
    "lists[1].append(5)\n",
    "lists[2].append(7)\n",
    "\n",
    "print(lists)"
   ]
  },
  {
   "cell_type": "code",
   "execution_count": null,
   "metadata": {
    "slideshow": {
     "slide_type": "skip"
    }
   },
   "outputs": [],
   "source": []
  }
 ],
 "metadata": {
  "kernelspec": {
   "display_name": "Python 3",
   "language": "python",
   "name": "python3"
  },
  "language_info": {
   "codemirror_mode": {
    "name": "ipython",
    "version": 3
   },
   "file_extension": ".py",
   "mimetype": "text/x-python",
   "name": "python",
   "nbconvert_exporter": "python",
   "pygments_lexer": "ipython3",
   "version": "3.7.3"
  }
 },
 "nbformat": 4,
 "nbformat_minor": 2
}
