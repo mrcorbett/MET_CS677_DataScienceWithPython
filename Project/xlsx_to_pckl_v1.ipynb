{
 "cells": [
  {
   "cell_type": "code",
   "execution_count": 1,
   "metadata": {},
   "outputs": [],
   "source": [
    "import numpy as np\n",
    "import os\n",
    "import pandas as pd\n",
    "import pickle\n",
    "import re"
   ]
  },
  {
   "cell_type": "markdown",
   "metadata": {},
   "source": [
    "- If Neiss_data.pckl exists read it into the dataframe.  Otherwise, read all the neiss1999 ... neiss2018 files into a dataframe and save that dataframe as neiss_data.pckl"
   ]
  },
  {
   "cell_type": "code",
   "execution_count": null,
   "metadata": {},
   "outputs": [
    {
     "name": "stdout",
     "output_type": "stream",
     "text": [
      "Reading /Users/mcorbett/Boston University/MET CS677 - Data Science with Python/Project/data/NEISS/neiss1999.xlsx  ... \n",
      "Reading /Users/mcorbett/Boston University/MET CS677 - Data Science with Python/Project/data/NEISS/neiss2000.xlsx  ... \n",
      "Reading /Users/mcorbett/Boston University/MET CS677 - Data Science with Python/Project/data/NEISS/neiss2001.xlsx  ... \n"
     ]
    }
   ],
   "source": [
    "neiss_pathname = os.getcwd() + '/data/NEISS'\n",
    "\n",
    "def readNeissPcklFile(pckl_fname):\n",
    "    if False:  # os.path.exists(pckl_fname):\n",
    "        print(\"Reading {}  ... \".format(pckl_fname), end=\"\")\n",
    "        neiss_df = pickle.load( open( pckl_fname, \"rb\" ) )\n",
    "        print(\"done!\")\n",
    "        return neiss_df\n",
    "    return None\n",
    "\n",
    "def readNeissOriginalData(neiss_pathname, expression):\n",
    "    neiss_df = pd.DataFrame()\n",
    "    for subdir, dirs, files in os.walk(neiss_pathname):\n",
    "        files.sort()\n",
    "        filtered_fnames = filter(lambda fname: re.search(expression, fname), files)\n",
    "\n",
    "        for index, file in enumerate(filtered_fnames):\n",
    "            fname = '{}/{}'.format(subdir, file)\n",
    "            print(\"Reading {}  ... \".format(fname))\n",
    "\n",
    "            neiss_df1 = pd.read_excel(fname)\n",
    "            neiss_df = pd.concat([neiss_df, neiss_df1])\n",
    "    return neiss_df1\n",
    "\n",
    "def saveNeissOriginalDataToPcklFile(df, pckl_fname):\n",
    "    with open(pckl_fname, 'wb') as f:\n",
    "        pickle.dump(df, f)\n",
    "        print(\"Saved\", pckl_fname)\n",
    "        \n",
    "pckl_fname = neiss_pathname + '/neiss_data.pckl'\n",
    "neiss_df = readNeissPcklFile(pckl_fname)\n",
    "if True:  # not neiss_df:\n",
    "    neiss_df = readNeissOriginalData(neiss_pathname, '^neiss\\d{4}.xlsx$')\n",
    "    saveNeissOriginalDataToPcklFile(neiss_df, pckl_fname)\n",
    "neiss_df\n",
    "\n",
    "# "
   ]
  }
 ],
 "metadata": {
  "kernelspec": {
   "display_name": "Python 3",
   "language": "python",
   "name": "python3"
  },
  "language_info": {
   "codemirror_mode": {
    "name": "ipython",
    "version": 3
   },
   "file_extension": ".py",
   "mimetype": "text/x-python",
   "name": "python",
   "nbconvert_exporter": "python",
   "pygments_lexer": "ipython3",
   "version": "3.6.6"
  }
 },
 "nbformat": 4,
 "nbformat_minor": 2
}
