{
 "cells": [
  {
   "cell_type": "markdown",
   "metadata": {},
   "source": [
    "# Bicycle Crash analysis NEISS data 1999 to 2018\n",
    "## National Electronic Injury Surveillance System\n",
    "\n",
    "\"CPSC’s National Electronic Injury Surveillance System (NEISS) is a national probability sample of hospitals in the U.S. and its territories. Patient information is collected from each NEISS hospital for every emergency visit involving an injury associated with consumer products.\"\n",
    "\n",
    "https://catalog.data.gov/dataset/cpscs-national-electronic-injury-surveillance-system-neiss\n",
    "https://www.cpsc.gov/cgibin/NEISSQuery/home.aspx\n",
    "\n"
   ]
  },
  {
   "cell_type": "code",
   "execution_count": 1,
   "metadata": {},
   "outputs": [],
   "source": [
    "# Imports\n",
    "\n",
    "import calendar\n",
    "from datetime import datetime\n",
    "from matplotlib.lines import Line2D\n",
    "import matplotlib.pyplot as plt\n",
    "import numpy as np\n",
    "import os\n",
    "import pandas as pd\n",
    "import pickle\n",
    "import re\n",
    "import seaborn as sns\n",
    "import sys\n",
    "import xlrd"
   ]
  },
  {
   "cell_type": "markdown",
   "metadata": {},
   "source": [
    "- Selection of geographic areas called primary sampling units (PSU) that are defined within sampling strata. \n",
    "\n",
    "https://www.cdc.gov/nchs/nhis/singleton_psu.htm"
   ]
  },
  {
   "cell_type": "code",
   "execution_count": null,
   "metadata": {},
   "outputs": [],
   "source": []
  },
  {
   "cell_type": "code",
   "execution_count": 2,
   "metadata": {},
   "outputs": [],
   "source": [
    "class Neiss:\n",
    "    DICT_CATEGORY_TRANSLATOR = {}\n",
    "\n",
    "    def __init__(self, df):\n",
    "        self.df = df\n",
    "        #self.df['Age'] = self.translateAge(self.df['Age'])\n",
    "\n",
    "    def setColumnCodeDictionary(column_dictionary):\n",
    "        Neiss.DICT_CATEGORY_TRANSLATOR = column_dictionary\n",
    "        \n",
    "    def getDataFrame(self):\n",
    "        return self.df\n",
    "\n",
    "    def getColumnDictionary(column_name):\n",
    "        return Neiss.DICT_CATEGORY_TRANSLATOR[column_name]\n",
    "\n",
    "\n",
    "    def extractRowsWhereColumnContainsString(self, column_name, search_values, case=False, translate_codes=False):\n",
    "        '''\n",
    "        Search the column specified by column_name for the strings listed in search_values.\n",
    "        Args:\n",
    "            column_name (str): The name of the column to search for the strings\n",
    "            search_values (list): A list containing the strings to search for\n",
    "            \n",
    "        Return:\n",
    "            A dataframe containing the rows where the search was successful\n",
    "        '''\n",
    "        # https://kanoki.org/2019/03/27/pandas-select-rows-by-condition-and-string-operations/\n",
    "        \n",
    "        \n",
    "        df = self.df[self.df[column_name].str.contains('|'.join(search_values), case=case)]\n",
    "        if True == translate_codes:\n",
    "            df = Neiss.translateCodes(df)\n",
    "        return df\n",
    "    \n",
    "    def extractRowsWhereColumnsContainCode(self, column_names, search_values, translate_codes=False):\n",
    "        '''\n",
    "        Search the column specified by column_name for the strings listed in search_values.\n",
    "        Args:\n",
    "            column_names (list(str)): Alist containing the names of columns to search for the strings\n",
    "            search_values (list): A list containing the codes to search for\n",
    "            \n",
    "        Return:\n",
    "            A dataframe containing the rows where the search was successful\n",
    "        '''\n",
    "        df = pd.DataFrame()\n",
    "        for column_name in column_names:\n",
    "            df_filter = self.df[column_name].isin(search_values)\n",
    "            if df.empty:\n",
    "                df = self.df[df_filter]\n",
    "            else:\n",
    "                df.append(self.df[df_filter])\n",
    "\n",
    "        if True == translate_codes:\n",
    "            df = Neiss.translateCodes(df)\n",
    "        return df\n",
    "\n",
    "    def lookupCodeFor(category, lookup_name):\n",
    "        inverse = {v: k for k, v in Neiss.DICT_CATEGORY_TRANSLATOR[category].items()}\n",
    "        return inverse[lookup_name]\n",
    "    \n",
    "    def translateAge(self, df):\n",
    "        return [age if age < 200 else (age - 200)/12 for age in df['Age']]\n",
    "\n",
    "    def translateCodes(df):\n",
    "        return df.replace( Neiss.DICT_CATEGORY_TRANSLATOR)\n",
    "\n"
   ]
  },
  {
   "cell_type": "markdown",
   "metadata": {},
   "source": [
    "## Read the pickled neissYYYY.xlsx file\n",
    "\n",
    "xlsx_to_pckl.ipynb is used to create the pickled file"
   ]
  },
  {
   "cell_type": "raw",
   "metadata": {},
   "source": [
    "- If the neiss_data.pckl file exists read it as the data file.\n",
    "- Otherwise, raise an exception."
   ]
  },
  {
   "cell_type": "code",
   "execution_count": 3,
   "metadata": {},
   "outputs": [
    {
     "name": "stdout",
     "output_type": "stream",
     "text": [
      "Reading /Users/mcorbett/Boston University/MET CS677 - Data Science with Python/Project/data/NEISS/neiss_data.pckl  ... done!\n"
     ]
    }
   ],
   "source": [
    "neiss_pathname = os.getcwd() + '/data/NEISS'\n",
    "\n",
    "pckl_fname = neiss_pathname + '/neiss_data.pckl'\n",
    "if os.path.exists(pckl_fname):\n",
    "    print(\"Reading {}  ... \".format(pckl_fname), end=\"\")\n",
    "    neiss_df = pickle.load( open( pckl_fname, \"rb\" ) )\n",
    "    print(\"done!\")\n",
    "else:\n",
    "    raise Exception('ERROR:  {} does not exist'.format(pckl_fname))\n"
   ]
  },
  {
   "cell_type": "code",
   "execution_count": 4,
   "metadata": {},
   "outputs": [
    {
     "data": {
      "text/plain": [
       "(7352927, 19)"
      ]
     },
     "execution_count": 4,
     "metadata": {},
     "output_type": "execute_result"
    }
   ],
   "source": [
    "neiss_df.shape\n"
   ]
  },
  {
   "cell_type": "code",
   "execution_count": 5,
   "metadata": {},
   "outputs": [
    {
     "data": {
      "text/html": [
       "<div>\n",
       "<style scoped>\n",
       "    .dataframe tbody tr th:only-of-type {\n",
       "        vertical-align: middle;\n",
       "    }\n",
       "\n",
       "    .dataframe tbody tr th {\n",
       "        vertical-align: top;\n",
       "    }\n",
       "\n",
       "    .dataframe thead th {\n",
       "        text-align: right;\n",
       "    }\n",
       "</style>\n",
       "<table border=\"1\" class=\"dataframe\">\n",
       "  <thead>\n",
       "    <tr style=\"text-align: right;\">\n",
       "      <th></th>\n",
       "      <th>CPSC_Case_Number</th>\n",
       "      <th>Treatment_Date</th>\n",
       "      <th>Age</th>\n",
       "      <th>Sex</th>\n",
       "      <th>Race</th>\n",
       "      <th>Other_Race</th>\n",
       "      <th>Body_Part</th>\n",
       "      <th>Diagnosis</th>\n",
       "      <th>Other_Diagnosis</th>\n",
       "      <th>Disposition</th>\n",
       "      <th>Location</th>\n",
       "      <th>Fire_Involvement</th>\n",
       "      <th>Product_1</th>\n",
       "      <th>Product_2</th>\n",
       "      <th>Narrative_1</th>\n",
       "      <th>Narrative_2</th>\n",
       "      <th>Stratum</th>\n",
       "      <th>PSU</th>\n",
       "      <th>Weight</th>\n",
       "    </tr>\n",
       "  </thead>\n",
       "  <tbody>\n",
       "    <tr>\n",
       "      <td>0</td>\n",
       "      <td>100001</td>\n",
       "      <td>1999-12-24</td>\n",
       "      <td>41</td>\n",
       "      <td>2</td>\n",
       "      <td>1.0</td>\n",
       "      <td>0</td>\n",
       "      <td>31</td>\n",
       "      <td>71</td>\n",
       "      <td>NaN</td>\n",
       "      <td>1</td>\n",
       "      <td>0</td>\n",
       "      <td>0</td>\n",
       "      <td>3299</td>\n",
       "      <td>0</td>\n",
       "      <td>41 YR FEMALE FELL WHILE WALKING. DX: SEVERE MU...</td>\n",
       "      <td>/RIGHT BUTTOCKS &amp; BACK.</td>\n",
       "      <td>S</td>\n",
       "      <td>71</td>\n",
       "      <td>68.1086</td>\n",
       "    </tr>\n",
       "    <tr>\n",
       "      <td>1</td>\n",
       "      <td>100002</td>\n",
       "      <td>1999-12-27</td>\n",
       "      <td>80</td>\n",
       "      <td>1</td>\n",
       "      <td>2.0</td>\n",
       "      <td>0</td>\n",
       "      <td>31</td>\n",
       "      <td>57</td>\n",
       "      <td>NaN</td>\n",
       "      <td>1</td>\n",
       "      <td>0</td>\n",
       "      <td>0</td>\n",
       "      <td>611</td>\n",
       "      <td>0</td>\n",
       "      <td>80 YR MALE FELL IN BATHROOM/HE HIT RIGHT RIBS ...</td>\n",
       "      <td>DX: FRACTURED RIGHT RIBS-UPPER TRUNK</td>\n",
       "      <td>S</td>\n",
       "      <td>71</td>\n",
       "      <td>68.1086</td>\n",
       "    </tr>\n",
       "    <tr>\n",
       "      <td>2</td>\n",
       "      <td>100003</td>\n",
       "      <td>1999-12-27</td>\n",
       "      <td>4</td>\n",
       "      <td>1</td>\n",
       "      <td>1.0</td>\n",
       "      <td>0</td>\n",
       "      <td>75</td>\n",
       "      <td>53</td>\n",
       "      <td>NaN</td>\n",
       "      <td>1</td>\n",
       "      <td>0</td>\n",
       "      <td>0</td>\n",
       "      <td>1328</td>\n",
       "      <td>0</td>\n",
       "      <td>4 YR MALE HAD METAL LARGE WAGON WHEEL FALL &amp; H...</td>\n",
       "      <td>DX: CONTUSIN ON HEAD/NO LOC.</td>\n",
       "      <td>S</td>\n",
       "      <td>71</td>\n",
       "      <td>68.1086</td>\n",
       "    </tr>\n",
       "    <tr>\n",
       "      <td>3</td>\n",
       "      <td>100005</td>\n",
       "      <td>1999-12-28</td>\n",
       "      <td>18</td>\n",
       "      <td>1</td>\n",
       "      <td>0.0</td>\n",
       "      <td>NaN</td>\n",
       "      <td>94</td>\n",
       "      <td>53</td>\n",
       "      <td>NaN</td>\n",
       "      <td>1</td>\n",
       "      <td>0</td>\n",
       "      <td>0</td>\n",
       "      <td>1205</td>\n",
       "      <td>0</td>\n",
       "      <td>CONTUSION EAR - STRUCK IN RIGHT EAR WITH BASKE...</td>\n",
       "      <td>NaN</td>\n",
       "      <td>S</td>\n",
       "      <td>7</td>\n",
       "      <td>68.1086</td>\n",
       "    </tr>\n",
       "    <tr>\n",
       "      <td>4</td>\n",
       "      <td>100009</td>\n",
       "      <td>1999-12-28</td>\n",
       "      <td>19</td>\n",
       "      <td>2</td>\n",
       "      <td>0.0</td>\n",
       "      <td>NaN</td>\n",
       "      <td>92</td>\n",
       "      <td>64</td>\n",
       "      <td>NaN</td>\n",
       "      <td>1</td>\n",
       "      <td>0</td>\n",
       "      <td>0</td>\n",
       "      <td>5031</td>\n",
       "      <td>0</td>\n",
       "      <td>SPRAIN THUMB - INJURED THUMB WHEN SNOWBOARDING</td>\n",
       "      <td>NaN</td>\n",
       "      <td>S</td>\n",
       "      <td>7</td>\n",
       "      <td>68.1086</td>\n",
       "    </tr>\n",
       "  </tbody>\n",
       "</table>\n",
       "</div>"
      ],
      "text/plain": [
       "   CPSC_Case_Number Treatment_Date  Age  Sex  Race Other_Race  Body_Part  \\\n",
       "0            100001     1999-12-24   41    2   1.0          0         31   \n",
       "1            100002     1999-12-27   80    1   2.0          0         31   \n",
       "2            100003     1999-12-27    4    1   1.0          0         75   \n",
       "3            100005     1999-12-28   18    1   0.0        NaN         94   \n",
       "4            100009     1999-12-28   19    2   0.0        NaN         92   \n",
       "\n",
       "   Diagnosis Other_Diagnosis  Disposition  Location  Fire_Involvement  \\\n",
       "0         71             NaN            1         0                 0   \n",
       "1         57             NaN            1         0                 0   \n",
       "2         53             NaN            1         0                 0   \n",
       "3         53             NaN            1         0                 0   \n",
       "4         64             NaN            1         0                 0   \n",
       "\n",
       "   Product_1  Product_2                                        Narrative_1  \\\n",
       "0       3299          0  41 YR FEMALE FELL WHILE WALKING. DX: SEVERE MU...   \n",
       "1        611          0  80 YR MALE FELL IN BATHROOM/HE HIT RIGHT RIBS ...   \n",
       "2       1328          0  4 YR MALE HAD METAL LARGE WAGON WHEEL FALL & H...   \n",
       "3       1205          0  CONTUSION EAR - STRUCK IN RIGHT EAR WITH BASKE...   \n",
       "4       5031          0     SPRAIN THUMB - INJURED THUMB WHEN SNOWBOARDING   \n",
       "\n",
       "                            Narrative_2 Stratum  PSU   Weight  \n",
       "0               /RIGHT BUTTOCKS & BACK.       S   71  68.1086  \n",
       "1  DX: FRACTURED RIGHT RIBS-UPPER TRUNK       S   71  68.1086  \n",
       "2          DX: CONTUSIN ON HEAD/NO LOC.       S   71  68.1086  \n",
       "3                                   NaN       S    7  68.1086  \n",
       "4                                   NaN       S    7  68.1086  "
      ]
     },
     "execution_count": 5,
     "metadata": {},
     "output_type": "execute_result"
    }
   ],
   "source": [
    "neiss_df.head()"
   ]
  },
  {
   "cell_type": "code",
   "execution_count": 6,
   "metadata": {},
   "outputs": [],
   "source": [
    "def getColumnCodeDictionary(fname):\n",
    "    d1 = {}\n",
    "    with xlrd.open_workbook(fname) as workbook:\n",
    "        sheet_names = workbook.sheet_names()\n",
    "\n",
    "        for sheet in sheet_names:\n",
    "            xl_sheet = workbook.sheet_by_name(sheet)\n",
    "\n",
    "            d2 = {}\n",
    "            for row_idx in range(0, xl_sheet.nrows):\n",
    "                code = int(xl_sheet.cell_value(row_idx, 0))\n",
    "                value = xl_sheet.cell_value(row_idx, 1)\n",
    "                d2[code] = value\n",
    "            d1[sheet] = d2\n",
    "    return d1\n",
    "\n",
    "column_codes_fname = neiss_pathname + '/column_codes.xlsx'\n",
    "column_dictionary = getColumnCodeDictionary(column_codes_fname)\n",
    "Neiss.setColumnCodeDictionary(column_dictionary)"
   ]
  },
  {
   "cell_type": "markdown",
   "metadata": {},
   "source": [
    "- Code to take the Neiss dictionaries for column codes and write them out to the column_codes.xlsx file."
   ]
  },
  {
   "cell_type": "code",
   "execution_count": 7,
   "metadata": {},
   "outputs": [],
   "source": [
    "neiss = Neiss(neiss_df)"
   ]
  },
  {
   "cell_type": "markdown",
   "metadata": {},
   "source": [
    "## Generates a graph showing injuries per year"
   ]
  },
  {
   "cell_type": "code",
   "execution_count": 8,
   "metadata": {},
   "outputs": [],
   "source": [
    "def showInjuriesPerYear(df, date_name, stat_name, sup_title):\n",
    "    '''\n",
    "    Show the accumulated number of injuries per year\n",
    "    \n",
    "    Args:\n",
    "        date_name (str): The name of the column containing the datetime instances\n",
    "        stat_name (str): The name of the column to include in the graph (one line per unique item will be displayed)\n",
    "        sup_title (str): The super position title to display\n",
    "    \n",
    "    Returns:\n",
    "        None\n",
    "    '''\n",
    "    stat_dict = Neiss.getColumnDictionary(stat_name)\n",
    "\n",
    "    df1 = df.xs([stat_name, date_name], axis='columns')\n",
    "    df2 = df1.copy()\n",
    "    df2['_count'] = 1\n",
    "    df2['_year'] = [t.year for t in df2[date_name]]\n",
    "\n",
    "    df3 = pd.pivot_table(\n",
    "        df2, values='_count', index=['_year'], columns=[stat_name],\n",
    "        aggfunc=np.sum, fill_value=0)\n",
    "\n",
    "    fig, ax = plt.subplots(figsize=(18,6))\n",
    "    fig.suptitle(sup_title)\n",
    "    df3.columns=[stat_dict[key] for key in sorted(stat_dict.keys(), reverse=False)]\n",
    "    df3.plot(ax=ax, lw=2)\n",
    "    ax.set_ylabel('Injuries')\n",
    "    ax.set_xlabel('Year')"
   ]
  },
  {
   "cell_type": "markdown",
   "metadata": {},
   "source": [
    "## Generates a graph showing injuries per week (1 ... 52) of the year"
   ]
  },
  {
   "cell_type": "code",
   "execution_count": 9,
   "metadata": {},
   "outputs": [],
   "source": [
    "def showInjuriesPerWeekOfTheYear(df, date_name, stat_name, sup_title):\n",
    "    '''\n",
    "    Show the accumulated number of injuries week within the year\n",
    "    \n",
    "    Args:\n",
    "        date_name (str): The name of the column containing the datetime instances\n",
    "        stat_name (str): The name of the column to include in the graph (one line per unique item will be displayed)\n",
    "        sup_title (str): The super position title to display\n",
    "    \n",
    "    Returns:\n",
    "        None\n",
    "    '''\n",
    "    stat_dict = Neiss.getColumnDictionary(stat_name)\n",
    "\n",
    "    df1 = df.xs([stat_name, date_name], axis='columns')\n",
    "    df2 = df1.copy()\n",
    "    df2['_count'] = 1\n",
    "    df2['_week'] = [t.week for t in df2[date_name]]\n",
    "\n",
    "    df3 = pd.pivot_table(\n",
    "        df2, values='_count', index=['_week'], columns=[stat_name],\n",
    "        aggfunc=np.sum, fill_value=0)\n",
    "\n",
    "    fig, ax = plt.subplots(figsize=(18,6))\n",
    "    fig.suptitle(sup_title)\n",
    "    df3.columns=[stat_dict[key] for key in sorted(stat_dict.keys(), reverse=False)]\n",
    "    df3.plot(ax=ax, lw=2)\n",
    "    ax.set_ylabel('Injuries')\n",
    "    ax.set_xlabel('Week Of The Year')\n",
    "    ax.set_xticks(range(1,52))\n"
   ]
  },
  {
   "cell_type": "markdown",
   "metadata": {},
   "source": [
    "## Generates a graph of aggregated injuries per month"
   ]
  },
  {
   "cell_type": "code",
   "execution_count": 10,
   "metadata": {},
   "outputs": [],
   "source": [
    "def showInjuriesPerMonthOfTheYear(df, date_name, stat_name, sup_title):\n",
    "    '''\n",
    "    Show the accumulated number per month\n",
    "    \n",
    "    Args:\n",
    "        date_name (str): The name of the column containing the datetime instances\n",
    "        stat_name (str): The name of the column to include in the graph (one line per unique item will be displayed)\n",
    "        sup_title (str): The super position title to display\n",
    "    \n",
    "    Returns:\n",
    "        None\n",
    "    '''\n",
    "    stat_dict = Neiss.getColumnDictionary(stat_name)\n",
    "\n",
    "    df1 = df.xs([stat_name, date_name], axis='columns')\n",
    "    df2 = df1.copy()\n",
    "    df2['_count'] = 1\n",
    "    df2['_month'] = [t.month for t in df2[date_name]]\n",
    "    \n",
    "    \n",
    "    df3 = pd.pivot_table(\n",
    "        df2, values='_count', index=['_month'], columns=[stat_name],\n",
    "        aggfunc=np.sum, fill_value=0)\n",
    "    df3.index = calendar.month_name[1:]\n",
    "\n",
    "    fig, ax = plt.subplots(figsize=(18,6))\n",
    "    fig.suptitle(sup_title)\n",
    "    df3.columns=[stat_dict[key] for key in sorted(stat_dict.keys(), reverse=False)]\n",
    "    df3.plot(ax=ax, lw=2)\n",
    "    ax.set_ylabel('Injuries')\n",
    "    ax.set_xlabel('Month')"
   ]
  },
  {
   "cell_type": "markdown",
   "metadata": {},
   "source": [
    "## Generates a graph a graph of aggregated injuries per weekday"
   ]
  },
  {
   "cell_type": "code",
   "execution_count": 11,
   "metadata": {},
   "outputs": [],
   "source": [
    "def showInjuriesPerWeekOfTheYear(df, date_name, stat_name, sup_title):\n",
    "    '''\n",
    "    Show the accumulated number per weekday\n",
    "    \n",
    "    Args:\n",
    "        date_name (str): The name of the column containing the datetime instances\n",
    "        stat_name (str): The name of the column to include in the graph (one line per unique item will be displayed)\n",
    "        sup_title (str): The super position title to display\n",
    "    \n",
    "    Returns:\n",
    "        None\n",
    "    '''\n",
    "    stat_dict = Neiss.getColumnDictionary(stat_name)\n",
    "\n",
    "    df1 = df.xs([stat_name, date_name], axis='columns')\n",
    "    df2 = df1.copy()\n",
    "    df2['_count'] = 1\n",
    "    df2['_week_day'] = [t.weekday() for t in df2[date_name]]\n",
    "\n",
    "    df3 = pd.pivot_table(\n",
    "        df2, values='_count', index=['_week_day'], columns=[stat_name],\n",
    "        aggfunc=np.sum, fill_value=0)\n",
    "\n",
    "    #df3.index = ['Mon', 'Tue', 'Wed', 'Thur', 'Fri', 'Sat', 'Sun']\n",
    "    df3.index = calendar.day_name\n",
    "    \n",
    "    fig, ax = plt.subplots(figsize=(18,6))\n",
    "    fig.suptitle(sup_title)\n",
    "    df3.columns=[stat_dict[key] for key in sorted(stat_dict.keys(), reverse=False)]\n",
    "    df3.plot(ax=ax, lw=2)\n",
    "    ax.set_ylabel('Injuries')\n",
    "    ax.set_xlabel('Weekday')\n"
   ]
  },
  {
   "cell_type": "code",
   "execution_count": 12,
   "metadata": {},
   "outputs": [
    {
     "ename": "NameError",
     "evalue": "name 'showInjuriesPerMonthlyOfTheYear' is not defined",
     "output_type": "error",
     "traceback": [
      "\u001b[0;31m---------------------------------------------------------------------------\u001b[0m",
      "\u001b[0;31mNameError\u001b[0m                                 Traceback (most recent call last)",
      "\u001b[0;32m<ipython-input-12-22d374480edf>\u001b[0m in \u001b[0;36m<module>\u001b[0;34m\u001b[0m\n\u001b[1;32m      4\u001b[0m \u001b[0mshowInjuriesPerYear\u001b[0m\u001b[0;34m(\u001b[0m\u001b[0mdf\u001b[0m\u001b[0;34m,\u001b[0m \u001b[0mdate_name\u001b[0m\u001b[0;34m,\u001b[0m \u001b[0mstat_name\u001b[0m\u001b[0;34m,\u001b[0m \u001b[0;34m'Injuries Per Year'\u001b[0m\u001b[0;34m)\u001b[0m\u001b[0;34m\u001b[0m\u001b[0m\n\u001b[1;32m      5\u001b[0m \u001b[0mshowInjuriesPerWeekOfTheYear\u001b[0m\u001b[0;34m(\u001b[0m\u001b[0mdf\u001b[0m\u001b[0;34m,\u001b[0m \u001b[0mdate_name\u001b[0m\u001b[0;34m,\u001b[0m \u001b[0mstat_name\u001b[0m\u001b[0;34m,\u001b[0m \u001b[0;34m'Injuries Per 52 Weeks of the Year'\u001b[0m\u001b[0;34m)\u001b[0m\u001b[0;34m\u001b[0m\u001b[0m\n\u001b[0;32m----> 6\u001b[0;31m \u001b[0mshowInjuriesPerMonthlyOfTheYear\u001b[0m\u001b[0;34m(\u001b[0m\u001b[0mdf\u001b[0m\u001b[0;34m,\u001b[0m \u001b[0mdate_name\u001b[0m\u001b[0;34m,\u001b[0m \u001b[0mstat_name\u001b[0m\u001b[0;34m,\u001b[0m \u001b[0;34m'Injuries Per Month of the Year'\u001b[0m\u001b[0;34m)\u001b[0m\u001b[0;34m\u001b[0m\u001b[0m\n\u001b[0m\u001b[1;32m      7\u001b[0m \u001b[0mshowInjuriesPerWeekOfTheYear\u001b[0m\u001b[0;34m(\u001b[0m\u001b[0mdf\u001b[0m\u001b[0;34m,\u001b[0m \u001b[0mdate_name\u001b[0m\u001b[0;34m,\u001b[0m \u001b[0mstat_name\u001b[0m\u001b[0;34m,\u001b[0m \u001b[0;34m'Injuries Per Week of the Year'\u001b[0m\u001b[0;34m)\u001b[0m\u001b[0;34m\u001b[0m\u001b[0m\n",
      "\u001b[0;31mNameError\u001b[0m: name 'showInjuriesPerMonthlyOfTheYear' is not defined"
     ]
    },
    {
     "data": {
      "image/png": "[encoded data removed]",
      "text/plain": [
       "<Figure size 1296x432 with 1 Axes>"
      ]
     },
     "metadata": {
      "needs_background": "light"
     },
     "output_type": "display_data"
    },
    {
     "data": {
      "image/png": "[encoded data removed]",
      "text/plain": [
       "<Figure size 1296x432 with 1 Axes>"
      ]
     },
     "metadata": {
      "needs_background": "light"
     },
     "output_type": "display_data"
    }
   ],
   "source": [
    "df = neiss.getDataFrame()\n",
    "date_name, stat_name = 'Treatment_Date', 'Sex'\n",
    "\n",
    "showInjuriesPerYear(df, date_name, stat_name, 'Injuries Per Year')\n",
    "showInjuriesPerWeekOfTheYear(df, date_name, stat_name, 'Injuries Per 52 Weeks of the Year')\n",
    "showInjuriesPerMonthOfTheYear(df, date_name, stat_name, 'Injuries Per Month of the Year')\n",
    "showInjuriesPerWeekOfTheYear(df, date_name, stat_name, 'Injuries Per Week of the Year')\n"
   ]
  }
 ],
 "metadata": {
  "kernelspec": {
   "display_name": "Python 3",
   "language": "python",
   "name": "python3"
  },
  "language_info": {
   "codemirror_mode": {
    "name": "ipython",
    "version": 3
   },
   "file_extension": ".py",
   "mimetype": "text/x-python",
   "name": "python",
   "nbconvert_exporter": "python",
   "pygments_lexer": "ipython3",
   "version": "3.6.6"
  }
 },
 "nbformat": 4,
 "nbformat_minor": 2
}
