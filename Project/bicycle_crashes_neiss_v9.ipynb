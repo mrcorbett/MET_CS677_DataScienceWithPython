{
 "cells": [
  {
   "cell_type": "markdown",
   "metadata": {},
   "source": [
    "# Bicycle Crash analysis NEISS data 1999 to 2018\n",
    "## National Electronic Injury Surveillance System\n",
    "\n",
    "\"CPSC’s National Electronic Injury Surveillance System (NEISS) is a national probability sample of hospitals in the U.S. and its territories. Patient information is collected from each NEISS hospital for every emergency visit involving an injury associated with consumer products.\"\n",
    "\n",
    "https://catalog.data.gov/dataset/cpscs-national-electronic-injury-surveillance-system-neiss\n",
    "https://www.cpsc.gov/cgibin/NEISSQuery/home.aspx\n",
    "\n"
   ]
  },
  {
   "cell_type": "code",
   "execution_count": 1,
   "metadata": {},
   "outputs": [],
   "source": [
    "# Imports\n",
    "\n",
    "import calendar\n",
    "from datetime import datetime\n",
    "import ipywidgets as widgets\n",
    "from ipywidgets import interact, fixed\n",
    "from matplotlib.lines import Line2D\n",
    "import matplotlib.pyplot as plt\n",
    "from neiss_backend_v8 import *\n",
    "import numpy as np\n",
    "import os\n",
    "import pandas as pd\n",
    "import pickle\n",
    "import re\n",
    "from scipy.stats import chi2_contingency\n",
    "from scipy.stats import chi2\n",
    "import seaborn as sns\n",
    "import sys\n",
    "import xlrd\n",
    "\n"
   ]
  },
  {
   "cell_type": "code",
   "execution_count": 2,
   "metadata": {},
   "outputs": [],
   "source": [
    "%matplotlib inline\n",
    "plt.style.use('seaborn-whitegrid')"
   ]
  },
  {
   "cell_type": "markdown",
   "metadata": {},
   "source": [
    "- Selection of geographic areas called primary sampling units (PSU) that are defined within sampling strata. \n",
    "\n",
    "https://www.cdc.gov/nchs/nhis/singleton_psu.htm"
   ]
  },
  {
   "cell_type": "markdown",
   "metadata": {},
   "source": [
    "## Read the pickled neissYYYY.xlsx file\n",
    "\n",
    "xlsx_to_pckl.ipynb is used to create the pickled file"
   ]
  },
  {
   "cell_type": "raw",
   "metadata": {},
   "source": [
    "- If the neiss_data.pckl file exists read it as the data file.\n",
    "- Otherwise, raise an exception.\n",
    "\n",
    "See xlsx_to_pckl.ipynb for the creation of the file"
   ]
  },
  {
   "cell_type": "code",
   "execution_count": 3,
   "metadata": {},
   "outputs": [
    {
     "name": "stdout",
     "output_type": "stream",
     "text": [
      "Reading /Users/mcorbett/Boston University/MET CS677 - Data Science with Python/Project/data/NEISS/neiss_data.pckl  ... done!\n"
     ]
    }
   ],
   "source": [
    "neiss_pathname = os.getcwd() + '/data/NEISS'\n",
    "\n",
    "pckl_fname = neiss_pathname + '/neiss_data.pckl'\n",
    "if os.path.exists(pckl_fname):\n",
    "    print(\"Reading {}  ... \".format(pckl_fname), end=\"\")\n",
    "    neiss_df = pickle.load( open( pckl_fname, \"rb\" ) )\n",
    "    print(\"done!\")\n",
    "else:\n",
    "    raise Exception('ERROR:  {} does not exist'.format(pckl_fname))\n"
   ]
  },
  {
   "cell_type": "code",
   "execution_count": 4,
   "metadata": {},
   "outputs": [
    {
     "data": {
      "text/plain": [
       "(361667, 19)"
      ]
     },
     "execution_count": 4,
     "metadata": {},
     "output_type": "execute_result"
    }
   ],
   "source": [
    "neiss_df.shape"
   ]
  },
  {
   "cell_type": "code",
   "execution_count": 5,
   "metadata": {},
   "outputs": [
    {
     "data": {
      "text/html": [
       "<div>\n",
       "<style scoped>\n",
       "    .dataframe tbody tr th:only-of-type {\n",
       "        vertical-align: middle;\n",
       "    }\n",
       "\n",
       "    .dataframe tbody tr th {\n",
       "        vertical-align: top;\n",
       "    }\n",
       "\n",
       "    .dataframe thead th {\n",
       "        text-align: right;\n",
       "    }\n",
       "</style>\n",
       "<table border=\"1\" class=\"dataframe\">\n",
       "  <thead>\n",
       "    <tr style=\"text-align: right;\">\n",
       "      <th></th>\n",
       "      <th>CPSC_Case_Number</th>\n",
       "      <th>Treatment_Date</th>\n",
       "      <th>Age</th>\n",
       "      <th>Sex</th>\n",
       "      <th>Race</th>\n",
       "      <th>Other_Race</th>\n",
       "      <th>Body_Part</th>\n",
       "      <th>Diagnosis</th>\n",
       "      <th>Other_Diagnosis</th>\n",
       "      <th>Disposition</th>\n",
       "      <th>Location</th>\n",
       "      <th>Fire_Involvement</th>\n",
       "      <th>Product_1</th>\n",
       "      <th>Product_2</th>\n",
       "      <th>Narrative_1</th>\n",
       "      <th>Narrative_2</th>\n",
       "      <th>Stratum</th>\n",
       "      <th>PSU</th>\n",
       "      <th>Weight</th>\n",
       "    </tr>\n",
       "  </thead>\n",
       "  <tbody>\n",
       "    <tr>\n",
       "      <td>0</td>\n",
       "      <td>180106119</td>\n",
       "      <td>2018-01-01</td>\n",
       "      <td>57</td>\n",
       "      <td>2</td>\n",
       "      <td>2</td>\n",
       "      <td>NaN</td>\n",
       "      <td>79</td>\n",
       "      <td>53</td>\n",
       "      <td>NaN</td>\n",
       "      <td>1</td>\n",
       "      <td>1</td>\n",
       "      <td>0</td>\n",
       "      <td>4074</td>\n",
       "      <td>611</td>\n",
       "      <td>57 YO F CAREGIVER WAS BATHING PT WHEN PT SLID ...</td>\n",
       "      <td>NaN</td>\n",
       "      <td>S</td>\n",
       "      <td>71</td>\n",
       "      <td>70.9703</td>\n",
       "    </tr>\n",
       "    <tr>\n",
       "      <td>1</td>\n",
       "      <td>180106122</td>\n",
       "      <td>2018-01-01</td>\n",
       "      <td>70</td>\n",
       "      <td>1</td>\n",
       "      <td>1</td>\n",
       "      <td>NaN</td>\n",
       "      <td>76</td>\n",
       "      <td>59</td>\n",
       "      <td>NaN</td>\n",
       "      <td>1</td>\n",
       "      <td>0</td>\n",
       "      <td>0</td>\n",
       "      <td>4057</td>\n",
       "      <td>0</td>\n",
       "      <td>70 YO M VOMITTING AND PASSED OUT HITTING HEAD ...</td>\n",
       "      <td>NaN</td>\n",
       "      <td>S</td>\n",
       "      <td>71</td>\n",
       "      <td>70.9703</td>\n",
       "    </tr>\n",
       "    <tr>\n",
       "      <td>2</td>\n",
       "      <td>180106156</td>\n",
       "      <td>2018-01-01</td>\n",
       "      <td>75</td>\n",
       "      <td>1</td>\n",
       "      <td>1</td>\n",
       "      <td>NaN</td>\n",
       "      <td>75</td>\n",
       "      <td>59</td>\n",
       "      <td>NaN</td>\n",
       "      <td>1</td>\n",
       "      <td>1</td>\n",
       "      <td>0</td>\n",
       "      <td>1807</td>\n",
       "      <td>0</td>\n",
       "      <td>75YOM-SCALP LAC-FELL HITTING HEAD ON CONCRETE ...</td>\n",
       "      <td>NaN</td>\n",
       "      <td>S</td>\n",
       "      <td>11</td>\n",
       "      <td>70.9703</td>\n",
       "    </tr>\n",
       "    <tr>\n",
       "      <td>3</td>\n",
       "      <td>180106157</td>\n",
       "      <td>2018-01-01</td>\n",
       "      <td>34</td>\n",
       "      <td>1</td>\n",
       "      <td>1</td>\n",
       "      <td>NaN</td>\n",
       "      <td>92</td>\n",
       "      <td>59</td>\n",
       "      <td>NaN</td>\n",
       "      <td>1</td>\n",
       "      <td>1</td>\n",
       "      <td>0</td>\n",
       "      <td>474</td>\n",
       "      <td>0</td>\n",
       "      <td>34YOM-FINGER LAC-CUT ON A BROKEN COFFEE MUG-@ ...</td>\n",
       "      <td>NaN</td>\n",
       "      <td>S</td>\n",
       "      <td>11</td>\n",
       "      <td>70.9703</td>\n",
       "    </tr>\n",
       "    <tr>\n",
       "      <td>4</td>\n",
       "      <td>180106178</td>\n",
       "      <td>2018-01-01</td>\n",
       "      <td>33</td>\n",
       "      <td>1</td>\n",
       "      <td>3</td>\n",
       "      <td>HISPANIC</td>\n",
       "      <td>92</td>\n",
       "      <td>59</td>\n",
       "      <td>NaN</td>\n",
       "      <td>1</td>\n",
       "      <td>1</td>\n",
       "      <td>0</td>\n",
       "      <td>464</td>\n",
       "      <td>0</td>\n",
       "      <td>33YOM WAS CUTTING LIMES WITH A KNIFE AND CUT L...</td>\n",
       "      <td>NaN</td>\n",
       "      <td>S</td>\n",
       "      <td>46</td>\n",
       "      <td>70.9703</td>\n",
       "    </tr>\n",
       "  </tbody>\n",
       "</table>\n",
       "</div>"
      ],
      "text/plain": [
       "   CPSC_Case_Number Treatment_Date  Age  Sex  Race Other_Race  Body_Part  \\\n",
       "0         180106119     2018-01-01   57    2     2        NaN         79   \n",
       "1         180106122     2018-01-01   70    1     1        NaN         76   \n",
       "2         180106156     2018-01-01   75    1     1        NaN         75   \n",
       "3         180106157     2018-01-01   34    1     1        NaN         92   \n",
       "4         180106178     2018-01-01   33    1     3   HISPANIC         92   \n",
       "\n",
       "   Diagnosis Other_Diagnosis  Disposition  Location  Fire_Involvement  \\\n",
       "0         53             NaN            1         1                 0   \n",
       "1         59             NaN            1         0                 0   \n",
       "2         59             NaN            1         1                 0   \n",
       "3         59             NaN            1         1                 0   \n",
       "4         59             NaN            1         1                 0   \n",
       "\n",
       "   Product_1  Product_2                                        Narrative_1  \\\n",
       "0       4074        611  57 YO F CAREGIVER WAS BATHING PT WHEN PT SLID ...   \n",
       "1       4057          0  70 YO M VOMITTING AND PASSED OUT HITTING HEAD ...   \n",
       "2       1807          0  75YOM-SCALP LAC-FELL HITTING HEAD ON CONCRETE ...   \n",
       "3        474          0  34YOM-FINGER LAC-CUT ON A BROKEN COFFEE MUG-@ ...   \n",
       "4        464          0  33YOM WAS CUTTING LIMES WITH A KNIFE AND CUT L...   \n",
       "\n",
       "   Narrative_2 Stratum  PSU   Weight  \n",
       "0          NaN       S   71  70.9703  \n",
       "1          NaN       S   71  70.9703  \n",
       "2          NaN       S   11  70.9703  \n",
       "3          NaN       S   11  70.9703  \n",
       "4          NaN       S   46  70.9703  "
      ]
     },
     "execution_count": 5,
     "metadata": {},
     "output_type": "execute_result"
    }
   ],
   "source": [
    "neiss_df.head()"
   ]
  },
  {
   "cell_type": "code",
   "execution_count": null,
   "metadata": {},
   "outputs": [],
   "source": []
  },
  {
   "cell_type": "markdown",
   "metadata": {},
   "source": [
    "- Read the column code dictionary from the Excel file and add it to the Neiss object"
   ]
  },
  {
   "cell_type": "code",
   "execution_count": 6,
   "metadata": {},
   "outputs": [],
   "source": [
    "column_codes_fname = neiss_pathname + '/column_codes.xlsx'\n",
    "column_dictionary = getColumnCodeDictionary(column_codes_fname)\n",
    "Neiss.setColumnCodeDictionary(column_dictionary)"
   ]
  },
  {
   "cell_type": "markdown",
   "metadata": {},
   "source": [
    "- Code to take the Neiss dictionaries for column codes and write them out to the column_codes.xlsx file."
   ]
  },
  {
   "cell_type": "code",
   "execution_count": 7,
   "metadata": {},
   "outputs": [],
   "source": [
    "neiss = Neiss(neiss_df)"
   ]
  },
  {
   "cell_type": "code",
   "execution_count": 8,
   "metadata": {},
   "outputs": [
    {
     "data": {
      "text/plain": [
       "(361667, 19)"
      ]
     },
     "execution_count": 8,
     "metadata": {},
     "output_type": "execute_result"
    }
   ],
   "source": [
    "neiss_df.shape"
   ]
  },
  {
   "cell_type": "code",
   "execution_count": 9,
   "metadata": {},
   "outputs": [],
   "source": [
    "df = neiss.getDataFrame()\n",
    "date_name, stat_name = 'Treatment_Date', 'Sex'\n",
    "\n",
    "#showInjuriesPerYear(df, date_name, stat_name, 'Injuries Per Year')\n",
    "#showInjuriesPerWeekOfTheYear(df, date_name, stat_name, 'Injuries Per 52 Weeks of the Year')\n",
    "#showInjuriesPerMonthOfTheYear(df, date_name, stat_name, 'Injuries Per Month of the Year')\n",
    "#showInjuriesPerWeekOfTheYear(df, date_name, stat_name, 'Injuries Per Week of the Year')\n"
   ]
  },
  {
   "cell_type": "code",
   "execution_count": 10,
   "metadata": {},
   "outputs": [
    {
     "name": "stdout",
     "output_type": "stream",
     "text": [
      "     Sex  Race  Body_Part  Diagnosis  Disposition  Location  Fire_Involvement  \\\n",
      "0      2     2         79         53            1         1                 0   \n",
      "1      1     1         76         59            1         0                 0   \n",
      "2      1     1         75         59            1         1                 0   \n",
      "3      1     1         92         59            1         1                 0   \n",
      "4      1     3         92         59            1         1                 0   \n",
      "..   ...   ...        ...        ...          ...       ...               ...   \n",
      "495    1     0         36         58            1         1                 0   \n",
      "496    2     0         93         57            1         1                 0   \n",
      "497    2     0         80         57            2         1                 0   \n",
      "498    2     0         31         71            1         1                 0   \n",
      "499    1     0         34         57            1         9                 0   \n",
      "\n",
      "     Product_1  Product_2  PSU  Stratum_id  \n",
      "0         4074        611   71           3  \n",
      "1         4057          0   71           3  \n",
      "2         1807          0   11           3  \n",
      "3          474          0   11           3  \n",
      "4          464          0   46           3  \n",
      "..         ...        ...  ...         ...  \n",
      "495       1123          0   14           2  \n",
      "496       4057          0   14           2  \n",
      "497       4080        620   14           2  \n",
      "498        927       1807   14           2  \n",
      "499       3216          0   14           2  \n",
      "\n",
      "[500 rows x 11 columns]\n",
      "['Sex', 'Race', 'Body_Part', 'Diagnosis', 'Disposition', 'Location', 'Fire_Involvement', 'Product_1', 'Product_2', 'PSU', 'Stratum_id']\n"
     ]
    },
    {
     "data": {
      "image/png": "[encoded data removed]",
      "text/plain": [
       "<Figure size 720x720 with 2 Axes>"
      ]
     },
     "metadata": {},
     "output_type": "display_data"
    }
   ],
   "source": [
    "# contingency table\n",
    "df = neiss_df.copy()\n",
    "categorical = ['Sex', 'Race', 'Body_Part', 'Diagnosis', 'Disposition', 'Location',\n",
    "               'Fire_Involvement', 'Product_1', 'Product_2', 'PSU', 'Stratum']\n",
    "df = df.xs(categorical, axis=1)\n",
    "df.dropna(inplace=True)\n",
    "df['Race'] = [int(x) for x in df['Race']]\n",
    "df = df[0:500]\n",
    "UniqueId.addIdColumn(df, 'Stratum')\n",
    "#df.rename(columns={'Stratum_id':'Stratum_code'}, inplace=True)\n",
    "categorical[categorical.index('Stratum')] = 'Stratum_id'\n",
    "df.drop('Stratum', inplace=True, axis='columns')\n",
    "print(df)\n",
    "print(categorical)\n",
    "\n",
    "pcs1 = PearsonChiSquared(df)\n",
    "dfCorrMatrix = pcs1.getCorrMatrixDataframe(categorical)\n",
    "#print(dfCorrMatrix)\n",
    "\n",
    "# Mask Upper triangle\n",
    "# np.triu_indices_from(arr):  Return the indices for the upper-triangle of arr.\n",
    "#mask = np.zeros_like(dfCorrMatrix)\n",
    "#mask[np.triu_indices_from(mask)] = True\n",
    "#mask\n",
    "\n",
    "fig, ax = plt.subplots(figsize=(10, 10))\n",
    "\n",
    "#sns.heatmap(dfCorrMatrix, annot=True, mask=mask, fmt=\"d\", linewidths=0.4, ax=ax)\n",
    "sns.heatmap(dfCorrMatrix, annot=True, linewidths=0.4, ax=ax)\n",
    "\n",
    "# Fix the top and bottom margins of the heatmap\n",
    "bottom_y, top_y = plt.ylim() \n",
    "bottom_y += 0.5 \n",
    "top_y -= 0.5 \n",
    "plt.ylim(bottom_y, top_y)\n",
    "\n",
    "plt.show() \n",
    "\n"
   ]
  },
  {
   "cell_type": "code",
   "execution_count": 11,
   "metadata": {},
   "outputs": [],
   "source": [
    "# sns.pairplot(df)"
   ]
  },
  {
   "cell_type": "code",
   "execution_count": 25,
   "metadata": {},
   "outputs": [
    {
     "name": "stdout",
     "output_type": "stream",
     "text": [
      "None\n"
     ]
    }
   ],
   "source": [
    "def getHighCorrelations(df, dfCorrMatrix, minValue):\n",
    "    high_correlations = []\n",
    "    for y in dfCorrMatrix.index:\n",
    "        for x in dfCorrMatrix.columns:\n",
    "            if (x != y) and (dfCorrMatrix[y][x] > minValue):\n",
    "                Y = y\n",
    "                X = x\n",
    "                if len(df[x]) > len(df[y]):\n",
    "                    # Keep the smallest item on the X axis\n",
    "                    Y = x\n",
    "                    X = y\n",
    "\n",
    "                high_correlations.insert(-1, (Y, X))\n",
    "    high_correlations.sort()\n",
    "    return high_correlations\n",
    "\n",
    "high_correlations = getHighCorrelations(df, dfCorrMatrix, 0.95)\n",
    "print(high_correlations)"
   ]
  },
  {
   "cell_type": "code",
   "execution_count": null,
   "metadata": {},
   "outputs": [],
   "source": [
    "from IPython.display import display\n",
    "button = widgets.Button(description=\"Click Me!\")\n",
    "output = widgets.Output()\n",
    "\n",
    "#print(high_correlations.values)\n",
    "select = high_correlations.values[0]\n",
    "#print(select)\n",
    "lCorrelations = ['{}, {}'.format(y, x) for y, x in high_correlations.values]\n",
    "correlationDropDownSel = widgets.Dropdown(\n",
    "    options=lCorrelations,\n",
    "    value=lCorrelations[0],\n",
    "    description='correlations',\n",
    "    disabled=False,\n",
    ")\n",
    "\n",
    "typeDropDownSel = widgets.Dropdown(\n",
    "    options=['swarm', 'scatter'],\n",
    "    value='swarm',\n",
    "    description='plot_type',\n",
    "    disabled=False,\n",
    ")\n",
    "\n",
    "wHBox = widgets.HBox([correlationDropDownSel, typeDropDownSel])\n",
    "wVBox = widgets.VBox([wHBox, button, output])\n",
    "\n",
    "display(wVBox)\n",
    "\n",
    "def on_button_clicked(b):\n",
    "    with output:\n",
    "        sel = correlationDropDownSel.value\n",
    "        (xSel, ySel) = [x.strip() for x in sel.split(',')]\n",
    "        print('-{}-, -{}-'.format(ySel, xSel))\n",
    "        correlations(df, xSel, ySel, typeDropDownSel.value)\n",
    "\n",
    "button.on_click(on_button_clicked)"
   ]
  },
  {
   "cell_type": "code",
   "execution_count": null,
   "metadata": {},
   "outputs": [],
   "source": []
  },
  {
   "cell_type": "code",
   "execution_count": null,
   "metadata": {},
   "outputs": [],
   "source": [
    "from IPython.display import display\n",
    "button = widgets.Button(description=\"Click Me!\")\n",
    "output = widgets.Output()\n",
    "\n",
    "xDropDownSel1 = widgets.Dropdown(\n",
    "    options=categorical,\n",
    "    value=categorical[0],\n",
    "    description='xCategory',\n",
    "    disabled=False,\n",
    ")\n",
    "\n",
    "yDropDownSel2 = widgets.Dropdown(\n",
    "    options=categorical,\n",
    "    value=categorical[1],\n",
    "    description='yCategory',\n",
    "    disabled=False,\n",
    ")\n",
    "\n",
    "typeDropDownSel3 = widgets.Dropdown(\n",
    "    options=['swarm', 'scatter'],\n",
    "    value='swarm',\n",
    "    description='plot_type',\n",
    "    disabled=False,\n",
    ")\n",
    "\n",
    "wHBox = widgets.HBox([xDropDownSel1, yDropDownSel2, typeDropDownSel3])\n",
    "wVBox = widgets.VBox([wHBox, button, output])\n",
    "\n",
    "display(wVBox)\n",
    "\n",
    "def on_button_clicked(b):\n",
    "    with output:\n",
    "        correlations(df, xDropDownSel1.value, yDropDownSel2.value, typeDropDownSel3.value)\n",
    "\n",
    "button.on_click(on_button_clicked)"
   ]
  },
  {
   "cell_type": "code",
   "execution_count": null,
   "metadata": {},
   "outputs": [],
   "source": []
  },
  {
   "cell_type": "code",
   "execution_count": null,
   "metadata": {},
   "outputs": [],
   "source": []
  }
 ],
 "metadata": {
  "kernelspec": {
   "display_name": "Python 3",
   "language": "python",
   "name": "python3"
  },
  "language_info": {
   "codemirror_mode": {
    "name": "ipython",
    "version": 3
   },
   "file_extension": ".py",
   "mimetype": "text/x-python",
   "name": "python",
   "nbconvert_exporter": "python",
   "pygments_lexer": "ipython3",
   "version": "3.6.6"
  }
 },
 "nbformat": 4,
 "nbformat_minor": 2
}
